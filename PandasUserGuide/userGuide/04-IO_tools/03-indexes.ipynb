{
 "cells": [
  {
   "cell_type": "code",
   "execution_count": 45,
   "metadata": {},
   "outputs": [],
   "source": [
    "import numpy as np\n",
    "import pandas as pd"
   ]
  },
  {
   "cell_type": "code",
   "execution_count": 46,
   "metadata": {},
   "outputs": [
    {
     "name": "stdout",
     "output_type": "stream",
     "text": [
      "A,B,C\n",
      "20090101,a,1,2\n",
      "20090102,b,3,4\n",
      "20090103,c,4,5\n"
     ]
    }
   ],
   "source": [
    "# Indexes\n",
    "# Files with an \"implicit\" index column\n",
    "data = \"A,B,C\\n20090101,a,1,2\\n20090102,b,3,4\\n20090103,c,4,5\"\n",
    "\n",
    "print(data)"
   ]
  },
  {
   "cell_type": "code",
   "execution_count": 47,
   "metadata": {},
   "outputs": [],
   "source": [
    "with open('foo.csv', 'w') as f:\n",
    "    f.write(data)"
   ]
  },
  {
   "cell_type": "code",
   "execution_count": 48,
   "metadata": {},
   "outputs": [
    {
     "data": {
      "text/html": [
       "<div>\n",
       "<style scoped>\n",
       "    .dataframe tbody tr th:only-of-type {\n",
       "        vertical-align: middle;\n",
       "    }\n",
       "\n",
       "    .dataframe tbody tr th {\n",
       "        vertical-align: top;\n",
       "    }\n",
       "\n",
       "    .dataframe thead th {\n",
       "        text-align: right;\n",
       "    }\n",
       "</style>\n",
       "<table border=\"1\" class=\"dataframe\">\n",
       "  <thead>\n",
       "    <tr style=\"text-align: right;\">\n",
       "      <th></th>\n",
       "      <th>A</th>\n",
       "      <th>B</th>\n",
       "      <th>C</th>\n",
       "    </tr>\n",
       "  </thead>\n",
       "  <tbody>\n",
       "    <tr>\n",
       "      <th>20090101</th>\n",
       "      <td>a</td>\n",
       "      <td>1</td>\n",
       "      <td>2</td>\n",
       "    </tr>\n",
       "    <tr>\n",
       "      <th>20090102</th>\n",
       "      <td>b</td>\n",
       "      <td>3</td>\n",
       "      <td>4</td>\n",
       "    </tr>\n",
       "    <tr>\n",
       "      <th>20090103</th>\n",
       "      <td>c</td>\n",
       "      <td>4</td>\n",
       "      <td>5</td>\n",
       "    </tr>\n",
       "  </tbody>\n",
       "</table>\n",
       "</div>"
      ],
      "text/plain": [
       "          A  B  C\n",
       "20090101  a  1  2\n",
       "20090102  b  3  4\n",
       "20090103  c  4  5"
      ]
     },
     "execution_count": 48,
     "metadata": {},
     "output_type": "execute_result"
    }
   ],
   "source": [
    "pd.read_csv('foo.csv')"
   ]
  },
  {
   "cell_type": "code",
   "execution_count": 49,
   "metadata": {},
   "outputs": [
    {
     "data": {
      "text/plain": [
       "DatetimeIndex(['2009-01-01', '2009-01-02', '2009-01-03'], dtype='datetime64[ns]', freq=None)"
      ]
     },
     "execution_count": 49,
     "metadata": {},
     "output_type": "execute_result"
    }
   ],
   "source": [
    "# data를 parsing하기 위해\n",
    "df = pd.read_csv('foo.csv', parse_dates=True)\n",
    "df.index"
   ]
  },
  {
   "cell_type": "code",
   "execution_count": 50,
   "metadata": {},
   "outputs": [
    {
     "name": "stdout",
     "output_type": "stream",
     "text": [
      "year,indiv,zit,xit\n",
      "1977,\"A\",1.2,.6\n",
      "1977,\"B\",1.5,.5\n"
     ]
    }
   ],
   "source": [
    "# Reading an index with a MultiIndex\n",
    "data = 'year,indiv,zit,xit\\n1977,\"A\",1.2,.6\\n1977,\"B\",1.5,.5'\n",
    "print(data)"
   ]
  },
  {
   "cell_type": "code",
   "execution_count": 51,
   "metadata": {},
   "outputs": [],
   "source": [
    "with open('multi_ex.csv', 'w') as f:\n",
    "    f.write(data)"
   ]
  },
  {
   "cell_type": "code",
   "execution_count": 52,
   "metadata": {},
   "outputs": [
    {
     "data": {
      "text/html": [
       "<div>\n",
       "<style scoped>\n",
       "    .dataframe tbody tr th:only-of-type {\n",
       "        vertical-align: middle;\n",
       "    }\n",
       "\n",
       "    .dataframe tbody tr th {\n",
       "        vertical-align: top;\n",
       "    }\n",
       "\n",
       "    .dataframe thead th {\n",
       "        text-align: right;\n",
       "    }\n",
       "</style>\n",
       "<table border=\"1\" class=\"dataframe\">\n",
       "  <thead>\n",
       "    <tr style=\"text-align: right;\">\n",
       "      <th></th>\n",
       "      <th></th>\n",
       "      <th>zit</th>\n",
       "      <th>xit</th>\n",
       "    </tr>\n",
       "    <tr>\n",
       "      <th>year</th>\n",
       "      <th>indiv</th>\n",
       "      <th></th>\n",
       "      <th></th>\n",
       "    </tr>\n",
       "  </thead>\n",
       "  <tbody>\n",
       "    <tr>\n",
       "      <th rowspan=\"2\" valign=\"top\">1977</th>\n",
       "      <th>A</th>\n",
       "      <td>1.2</td>\n",
       "      <td>0.6</td>\n",
       "    </tr>\n",
       "    <tr>\n",
       "      <th>B</th>\n",
       "      <td>1.5</td>\n",
       "      <td>0.5</td>\n",
       "    </tr>\n",
       "  </tbody>\n",
       "</table>\n",
       "</div>"
      ],
      "text/plain": [
       "            zit  xit\n",
       "year indiv          \n",
       "1977 A      1.2  0.6\n",
       "     B      1.5  0.5"
      ]
     },
     "execution_count": 52,
     "metadata": {},
     "output_type": "execute_result"
    }
   ],
   "source": [
    "df = pd.read_csv('multi_ex.csv', index_col=[0, 1])\n",
    "df"
   ]
  },
  {
   "cell_type": "code",
   "execution_count": 53,
   "metadata": {},
   "outputs": [
    {
     "data": {
      "text/html": [
       "<div>\n",
       "<style scoped>\n",
       "    .dataframe tbody tr th:only-of-type {\n",
       "        vertical-align: middle;\n",
       "    }\n",
       "\n",
       "    .dataframe tbody tr th {\n",
       "        vertical-align: top;\n",
       "    }\n",
       "\n",
       "    .dataframe thead th {\n",
       "        text-align: right;\n",
       "    }\n",
       "</style>\n",
       "<table border=\"1\" class=\"dataframe\">\n",
       "  <thead>\n",
       "    <tr style=\"text-align: right;\">\n",
       "      <th></th>\n",
       "      <th>zit</th>\n",
       "      <th>xit</th>\n",
       "    </tr>\n",
       "    <tr>\n",
       "      <th>indiv</th>\n",
       "      <th></th>\n",
       "      <th></th>\n",
       "    </tr>\n",
       "  </thead>\n",
       "  <tbody>\n",
       "    <tr>\n",
       "      <th>A</th>\n",
       "      <td>1.2</td>\n",
       "      <td>0.6</td>\n",
       "    </tr>\n",
       "    <tr>\n",
       "      <th>B</th>\n",
       "      <td>1.5</td>\n",
       "      <td>0.5</td>\n",
       "    </tr>\n",
       "  </tbody>\n",
       "</table>\n",
       "</div>"
      ],
      "text/plain": [
       "       zit  xit\n",
       "indiv          \n",
       "A      1.2  0.6\n",
       "B      1.5  0.5"
      ]
     },
     "execution_count": 53,
     "metadata": {},
     "output_type": "execute_result"
    }
   ],
   "source": [
    "df.loc[1977]"
   ]
  },
  {
   "cell_type": "code",
   "execution_count": 54,
   "metadata": {},
   "outputs": [
    {
     "name": "stdout",
     "output_type": "stream",
     "text": [
      "C0,,C_l0_g0,C_l0_g1,C_l0_g2\n",
      "C1,,C_l1_g0,C_l1_g1,C_l1_g2\n",
      "C2,,C_l2_g0,C_l2_g1,C_l2_g2\n",
      "C3,,C_l3_g0,C_l3_g1,C_l3_g2\n",
      "R0,R1,,,\n",
      "R_l0_g0,R_l1_g0,R0C0,R0C1,R0C2\n",
      "R_l0_g1,R_l1_g1,R1C0,R1C1,R1C2\n",
      "R_l0_g2,R_l1_g2,R2C0,R2C1,R2C2\n",
      "R_l0_g3,R_l1_g3,R3C0,R3C1,R3C2\n",
      "R_l0_g4,R_l1_g4,R4C0,R4C1,R4C2\n",
      "\n"
     ]
    }
   ],
   "source": [
    "# Reading columns with Multindex\n",
    "from pandas._testing import makeCustomDataframe as mkdf\n",
    "df = mkdf(5, 3, r_idx_nlevels=2, c_idx_nlevels=4)\n",
    "df.to_csv('mi.csv')\n",
    "print(open('mi.csv').read())"
   ]
  },
  {
   "cell_type": "code",
   "execution_count": 55,
   "metadata": {},
   "outputs": [
    {
     "data": {
      "text/html": [
       "<div>\n",
       "<style scoped>\n",
       "    .dataframe tbody tr th:only-of-type {\n",
       "        vertical-align: middle;\n",
       "    }\n",
       "\n",
       "    .dataframe tbody tr th {\n",
       "        vertical-align: top;\n",
       "    }\n",
       "\n",
       "    .dataframe thead tr th {\n",
       "        text-align: left;\n",
       "    }\n",
       "\n",
       "    .dataframe thead tr:last-of-type th {\n",
       "        text-align: right;\n",
       "    }\n",
       "</style>\n",
       "<table border=\"1\" class=\"dataframe\">\n",
       "  <thead>\n",
       "    <tr>\n",
       "      <th></th>\n",
       "      <th>C0</th>\n",
       "      <th>C_l0_g0</th>\n",
       "      <th>C_l0_g1</th>\n",
       "      <th>C_l0_g2</th>\n",
       "    </tr>\n",
       "    <tr>\n",
       "      <th></th>\n",
       "      <th>C1</th>\n",
       "      <th>C_l1_g0</th>\n",
       "      <th>C_l1_g1</th>\n",
       "      <th>C_l1_g2</th>\n",
       "    </tr>\n",
       "    <tr>\n",
       "      <th></th>\n",
       "      <th>C2</th>\n",
       "      <th>C_l2_g0</th>\n",
       "      <th>C_l2_g1</th>\n",
       "      <th>C_l2_g2</th>\n",
       "    </tr>\n",
       "    <tr>\n",
       "      <th></th>\n",
       "      <th>C3</th>\n",
       "      <th>C_l3_g0</th>\n",
       "      <th>C_l3_g1</th>\n",
       "      <th>C_l3_g2</th>\n",
       "    </tr>\n",
       "    <tr>\n",
       "      <th>R0</th>\n",
       "      <th>R1</th>\n",
       "      <th></th>\n",
       "      <th></th>\n",
       "      <th></th>\n",
       "    </tr>\n",
       "  </thead>\n",
       "  <tbody>\n",
       "    <tr>\n",
       "      <th>R_l0_g0</th>\n",
       "      <th>R_l1_g0</th>\n",
       "      <td>R0C0</td>\n",
       "      <td>R0C1</td>\n",
       "      <td>R0C2</td>\n",
       "    </tr>\n",
       "    <tr>\n",
       "      <th>R_l0_g1</th>\n",
       "      <th>R_l1_g1</th>\n",
       "      <td>R1C0</td>\n",
       "      <td>R1C1</td>\n",
       "      <td>R1C2</td>\n",
       "    </tr>\n",
       "    <tr>\n",
       "      <th>R_l0_g2</th>\n",
       "      <th>R_l1_g2</th>\n",
       "      <td>R2C0</td>\n",
       "      <td>R2C1</td>\n",
       "      <td>R2C2</td>\n",
       "    </tr>\n",
       "    <tr>\n",
       "      <th>R_l0_g3</th>\n",
       "      <th>R_l1_g3</th>\n",
       "      <td>R3C0</td>\n",
       "      <td>R3C1</td>\n",
       "      <td>R3C2</td>\n",
       "    </tr>\n",
       "    <tr>\n",
       "      <th>R_l0_g4</th>\n",
       "      <th>R_l1_g4</th>\n",
       "      <td>R4C0</td>\n",
       "      <td>R4C1</td>\n",
       "      <td>R4C2</td>\n",
       "    </tr>\n",
       "  </tbody>\n",
       "</table>\n",
       "</div>"
      ],
      "text/plain": [
       "C0              C_l0_g0 C_l0_g1 C_l0_g2\n",
       "C1              C_l1_g0 C_l1_g1 C_l1_g2\n",
       "C2              C_l2_g0 C_l2_g1 C_l2_g2\n",
       "C3              C_l3_g0 C_l3_g1 C_l3_g2\n",
       "R0      R1                             \n",
       "R_l0_g0 R_l1_g0    R0C0    R0C1    R0C2\n",
       "R_l0_g1 R_l1_g1    R1C0    R1C1    R1C2\n",
       "R_l0_g2 R_l1_g2    R2C0    R2C1    R2C2\n",
       "R_l0_g3 R_l1_g3    R3C0    R3C1    R3C2\n",
       "R_l0_g4 R_l1_g4    R4C0    R4C1    R4C2"
      ]
     },
     "execution_count": 55,
     "metadata": {},
     "output_type": "execute_result"
    }
   ],
   "source": [
    "pd.read_csv('mi.csv', header=[0, 1, 2, 3], index_col=[0, 1])"
   ]
  },
  {
   "cell_type": "code",
   "execution_count": 56,
   "metadata": {},
   "outputs": [
    {
     "name": "stdout",
     "output_type": "stream",
     "text": [
      ",a,a,a,b,c,c\n",
      ",q,r,s,t,u,v\n",
      "one,1,2,3,4,5,6\n",
      "two,7,8,9,10,11,12\n"
     ]
    }
   ],
   "source": [
    "data = \",a,a,a,b,c,c\\n,q,r,s,t,u,v\\none,1,2,3,4,5,6\\ntwo,7,8,9,10,11,12\"\n",
    "\n",
    "print(data)"
   ]
  },
  {
   "cell_type": "code",
   "execution_count": 57,
   "metadata": {},
   "outputs": [],
   "source": [
    "with open('mi2.csv', 'w') as f:\n",
    "    f.write(data)"
   ]
  },
  {
   "cell_type": "code",
   "execution_count": 58,
   "metadata": {},
   "outputs": [
    {
     "data": {
      "text/html": [
       "<div>\n",
       "<style scoped>\n",
       "    .dataframe tbody tr th:only-of-type {\n",
       "        vertical-align: middle;\n",
       "    }\n",
       "\n",
       "    .dataframe tbody tr th {\n",
       "        vertical-align: top;\n",
       "    }\n",
       "\n",
       "    .dataframe thead tr th {\n",
       "        text-align: left;\n",
       "    }\n",
       "</style>\n",
       "<table border=\"1\" class=\"dataframe\">\n",
       "  <thead>\n",
       "    <tr>\n",
       "      <th></th>\n",
       "      <th colspan=\"3\" halign=\"left\">a</th>\n",
       "      <th>b</th>\n",
       "      <th colspan=\"2\" halign=\"left\">c</th>\n",
       "    </tr>\n",
       "    <tr>\n",
       "      <th></th>\n",
       "      <th>q</th>\n",
       "      <th>r</th>\n",
       "      <th>s</th>\n",
       "      <th>t</th>\n",
       "      <th>u</th>\n",
       "      <th>v</th>\n",
       "    </tr>\n",
       "  </thead>\n",
       "  <tbody>\n",
       "    <tr>\n",
       "      <th>one</th>\n",
       "      <td>1</td>\n",
       "      <td>2</td>\n",
       "      <td>3</td>\n",
       "      <td>4</td>\n",
       "      <td>5</td>\n",
       "      <td>6</td>\n",
       "    </tr>\n",
       "    <tr>\n",
       "      <th>two</th>\n",
       "      <td>7</td>\n",
       "      <td>8</td>\n",
       "      <td>9</td>\n",
       "      <td>10</td>\n",
       "      <td>11</td>\n",
       "      <td>12</td>\n",
       "    </tr>\n",
       "  </tbody>\n",
       "</table>\n",
       "</div>"
      ],
      "text/plain": [
       "     a         b   c    \n",
       "     q  r  s   t   u   v\n",
       "one  1  2  3   4   5   6\n",
       "two  7  8  9  10  11  12"
      ]
     },
     "execution_count": 58,
     "metadata": {},
     "output_type": "execute_result"
    }
   ],
   "source": [
    "df = pd.read_csv('mi2.csv', header=[0, 1], index_col=0)\n",
    "df"
   ]
  },
  {
   "cell_type": "code",
   "execution_count": 59,
   "metadata": {},
   "outputs": [
    {
     "data": {
      "text/plain": [
       "MultiIndex([('a', 'q'),\n",
       "            ('a', 'r'),\n",
       "            ('a', 's'),\n",
       "            ('b', 't'),\n",
       "            ('c', 'u'),\n",
       "            ('c', 'v')],\n",
       "           )"
      ]
     },
     "execution_count": 59,
     "metadata": {},
     "output_type": "execute_result"
    }
   ],
   "source": [
    "pd.read_csv('mi2.csv', header=[0, 1], index_col=0).columns"
   ]
  },
  {
   "cell_type": "code",
   "execution_count": 60,
   "metadata": {},
   "outputs": [
    {
     "data": {
      "text/plain": [
       "Index(['one', 'two'], dtype='object')"
      ]
     },
     "execution_count": 60,
     "metadata": {},
     "output_type": "execute_result"
    }
   ],
   "source": [
    "pd.read_csv('mi2.csv', header=[0, 1], index_col=0).index"
   ]
  },
  {
   "cell_type": "code",
   "execution_count": 61,
   "metadata": {},
   "outputs": [],
   "source": [
    "df.to_csv('mi2_1.csv', index=False)"
   ]
  },
  {
   "cell_type": "code",
   "execution_count": 62,
   "metadata": {},
   "outputs": [],
   "source": [
    "# Automatically 'sniffing' the delimiter\n",
    "df = pd.DataFrame(np.random.randn(10,4))\n",
    "df.to_csv('temp1.csv', sep=' ')\n",
    "df.to_csv('temp2.csv', sep='/')"
   ]
  },
  {
   "cell_type": "code",
   "execution_count": 63,
   "metadata": {},
   "outputs": [
    {
     "data": {
      "text/html": [
       "<div>\n",
       "<style scoped>\n",
       "    .dataframe tbody tr th:only-of-type {\n",
       "        vertical-align: middle;\n",
       "    }\n",
       "\n",
       "    .dataframe tbody tr th {\n",
       "        vertical-align: top;\n",
       "    }\n",
       "\n",
       "    .dataframe thead th {\n",
       "        text-align: right;\n",
       "    }\n",
       "</style>\n",
       "<table border=\"1\" class=\"dataframe\">\n",
       "  <thead>\n",
       "    <tr style=\"text-align: right;\">\n",
       "      <th></th>\n",
       "      <th>Unnamed: 0</th>\n",
       "      <th>0</th>\n",
       "      <th>1</th>\n",
       "      <th>2</th>\n",
       "      <th>3</th>\n",
       "    </tr>\n",
       "  </thead>\n",
       "  <tbody>\n",
       "    <tr>\n",
       "      <th>0</th>\n",
       "      <td>0</td>\n",
       "      <td>-0.936759</td>\n",
       "      <td>-1.035322</td>\n",
       "      <td>0.350667</td>\n",
       "      <td>-1.916628</td>\n",
       "    </tr>\n",
       "    <tr>\n",
       "      <th>1</th>\n",
       "      <td>1</td>\n",
       "      <td>-2.138034</td>\n",
       "      <td>-0.944415</td>\n",
       "      <td>-1.614262</td>\n",
       "      <td>-0.827492</td>\n",
       "    </tr>\n",
       "    <tr>\n",
       "      <th>2</th>\n",
       "      <td>2</td>\n",
       "      <td>-0.164965</td>\n",
       "      <td>1.554801</td>\n",
       "      <td>0.798699</td>\n",
       "      <td>0.020841</td>\n",
       "    </tr>\n",
       "    <tr>\n",
       "      <th>3</th>\n",
       "      <td>3</td>\n",
       "      <td>-0.000243</td>\n",
       "      <td>1.752495</td>\n",
       "      <td>-1.016497</td>\n",
       "      <td>-0.194266</td>\n",
       "    </tr>\n",
       "    <tr>\n",
       "      <th>4</th>\n",
       "      <td>4</td>\n",
       "      <td>-0.200088</td>\n",
       "      <td>0.520354</td>\n",
       "      <td>0.644823</td>\n",
       "      <td>0.943044</td>\n",
       "    </tr>\n",
       "    <tr>\n",
       "      <th>5</th>\n",
       "      <td>5</td>\n",
       "      <td>-0.680628</td>\n",
       "      <td>-0.098918</td>\n",
       "      <td>-1.252221</td>\n",
       "      <td>0.449551</td>\n",
       "    </tr>\n",
       "    <tr>\n",
       "      <th>6</th>\n",
       "      <td>6</td>\n",
       "      <td>0.008098</td>\n",
       "      <td>0.942639</td>\n",
       "      <td>-1.157703</td>\n",
       "      <td>-0.476416</td>\n",
       "    </tr>\n",
       "    <tr>\n",
       "      <th>7</th>\n",
       "      <td>7</td>\n",
       "      <td>1.214201</td>\n",
       "      <td>-0.945534</td>\n",
       "      <td>1.122962</td>\n",
       "      <td>-0.292270</td>\n",
       "    </tr>\n",
       "    <tr>\n",
       "      <th>8</th>\n",
       "      <td>8</td>\n",
       "      <td>0.605066</td>\n",
       "      <td>-0.597052</td>\n",
       "      <td>0.230812</td>\n",
       "      <td>-0.452598</td>\n",
       "    </tr>\n",
       "    <tr>\n",
       "      <th>9</th>\n",
       "      <td>9</td>\n",
       "      <td>-1.730847</td>\n",
       "      <td>-0.338147</td>\n",
       "      <td>-0.145000</td>\n",
       "      <td>-0.108395</td>\n",
       "    </tr>\n",
       "  </tbody>\n",
       "</table>\n",
       "</div>"
      ],
      "text/plain": [
       "   Unnamed: 0         0         1         2         3\n",
       "0           0 -0.936759 -1.035322  0.350667 -1.916628\n",
       "1           1 -2.138034 -0.944415 -1.614262 -0.827492\n",
       "2           2 -0.164965  1.554801  0.798699  0.020841\n",
       "3           3 -0.000243  1.752495 -1.016497 -0.194266\n",
       "4           4 -0.200088  0.520354  0.644823  0.943044\n",
       "5           5 -0.680628 -0.098918 -1.252221  0.449551\n",
       "6           6  0.008098  0.942639 -1.157703 -0.476416\n",
       "7           7  1.214201 -0.945534  1.122962 -0.292270\n",
       "8           8  0.605066 -0.597052  0.230812 -0.452598\n",
       "9           9 -1.730847 -0.338147 -0.145000 -0.108395"
      ]
     },
     "execution_count": 63,
     "metadata": {},
     "output_type": "execute_result"
    }
   ],
   "source": [
    "# sep=None으로 명시하면, read_csv()가 delimiter를 추정한다.\n",
    "# 이는 실제 csv file이 delimiter로 무엇을 쓰고 있는지 와는 상관없다.   😵‍💫 \n",
    "pd.read_csv('temp2.csv', sep=None, engine='python')"
   ]
  },
  {
   "cell_type": "code",
   "execution_count": 64,
   "metadata": {},
   "outputs": [],
   "source": [
    "# Reading multiple files to create a single DataFrame (use concat())"
   ]
  },
  {
   "cell_type": "code",
   "execution_count": 65,
   "metadata": {},
   "outputs": [
    {
     "name": "stdout",
     "output_type": "stream",
     "text": [
      "   Unnamed: 0         0         1         2         3\n",
      "0           0 -0.936759 -1.035322  0.350667 -1.916628\n",
      "1           1 -2.138034 -0.944415 -1.614262 -0.827492\n",
      "2           2 -0.164965  1.554801  0.798699  0.020841\n",
      "3           3 -0.000243  1.752495 -1.016497 -0.194266\n",
      "   Unnamed: 0         0         1         2         3\n",
      "4           4 -0.200088  0.520354  0.644823  0.943044\n",
      "5           5 -0.680628 -0.098918 -1.252221  0.449551\n",
      "6           6  0.008098  0.942639 -1.157703 -0.476416\n",
      "7           7  1.214201 -0.945534  1.122962 -0.292270\n",
      "   Unnamed: 0         0         1         2         3\n",
      "8           8  0.605066 -0.597052  0.230812 -0.452598\n",
      "9           9 -1.730847 -0.338147 -0.145000 -0.108395\n"
     ]
    }
   ],
   "source": [
    "# Iterating through files chunk by chunk\n",
    "with pd.read_csv('temp1.csv', sep=\" \", chunksize=4) as reader:\n",
    "    reader\n",
    "    for chunk in reader:\n",
    "        print(chunk)\n",
    "\n",
    "# \"sep=  \"을 명시해야한다."
   ]
  },
  {
   "cell_type": "code",
   "execution_count": 72,
   "metadata": {},
   "outputs": [
    {
     "name": "stdout",
     "output_type": "stream",
     "text": [
      "   Unnamed: 0         0         1         2         3\n",
      "0           0 -0.936759 -1.035322  0.350667 -1.916628\n",
      "1           1 -2.138034 -0.944415 -1.614262 -0.827492\n",
      "2           2 -0.164965  1.554801  0.798699  0.020841\n",
      "3           3 -0.000243  1.752495 -1.016497 -0.194266\n",
      "4           4 -0.200088  0.520354  0.644823  0.943044\n",
      "5           5 -0.680628 -0.098918 -1.252221  0.449551\n",
      "6           6  0.008098  0.942639 -1.157703 -0.476416\n",
      "7           7  1.214201 -0.945534  1.122962 -0.292270\n",
      "8           8  0.605066 -0.597052  0.230812 -0.452598\n",
      "9           9 -1.730847 -0.338147 -0.145000 -0.108395\n"
     ]
    }
   ],
   "source": [
    "with pd.read_csv('temp2.csv', sep='/', iterator=True) as reader:\n",
    "    # reader.get_chunk(5)\n",
    "    for chunk in reader:\n",
    "        print(chunk)\n"
   ]
  },
  {
   "cell_type": "code",
   "execution_count": 78,
   "metadata": {},
   "outputs": [
    {
     "data": {
      "text/html": [
       "<div>\n",
       "<style scoped>\n",
       "    .dataframe tbody tr th:only-of-type {\n",
       "        vertical-align: middle;\n",
       "    }\n",
       "\n",
       "    .dataframe tbody tr th {\n",
       "        vertical-align: top;\n",
       "    }\n",
       "\n",
       "    .dataframe thead th {\n",
       "        text-align: right;\n",
       "    }\n",
       "</style>\n",
       "<table border=\"1\" class=\"dataframe\">\n",
       "  <thead>\n",
       "    <tr style=\"text-align: right;\">\n",
       "      <th></th>\n",
       "      <th>item_code</th>\n",
       "      <th>item_name</th>\n",
       "      <th>display_level</th>\n",
       "      <th>selectable</th>\n",
       "      <th>sort_sequence</th>\n",
       "    </tr>\n",
       "  </thead>\n",
       "  <tbody>\n",
       "    <tr>\n",
       "      <th>0</th>\n",
       "      <td>AA0</td>\n",
       "      <td>All items - old base</td>\n",
       "      <td>0</td>\n",
       "      <td>T</td>\n",
       "      <td>2</td>\n",
       "    </tr>\n",
       "    <tr>\n",
       "      <th>1</th>\n",
       "      <td>AA0R</td>\n",
       "      <td>Purchasing power of the consumer dollar - old ...</td>\n",
       "      <td>0</td>\n",
       "      <td>T</td>\n",
       "      <td>400</td>\n",
       "    </tr>\n",
       "    <tr>\n",
       "      <th>2</th>\n",
       "      <td>SA0</td>\n",
       "      <td>All items</td>\n",
       "      <td>0</td>\n",
       "      <td>T</td>\n",
       "      <td>1</td>\n",
       "    </tr>\n",
       "    <tr>\n",
       "      <th>3</th>\n",
       "      <td>SA0E</td>\n",
       "      <td>Energy</td>\n",
       "      <td>1</td>\n",
       "      <td>T</td>\n",
       "      <td>375</td>\n",
       "    </tr>\n",
       "    <tr>\n",
       "      <th>4</th>\n",
       "      <td>SA0L1</td>\n",
       "      <td>All items less food</td>\n",
       "      <td>1</td>\n",
       "      <td>T</td>\n",
       "      <td>359</td>\n",
       "    </tr>\n",
       "    <tr>\n",
       "      <th>5</th>\n",
       "      <td>SA0L12</td>\n",
       "      <td>All items less food and shelter</td>\n",
       "      <td>1</td>\n",
       "      <td>T</td>\n",
       "      <td>362</td>\n",
       "    </tr>\n",
       "    <tr>\n",
       "      <th>6</th>\n",
       "      <td>SA0L12E</td>\n",
       "      <td>All items less food, shelter, and energy</td>\n",
       "      <td>1</td>\n",
       "      <td>T</td>\n",
       "      <td>363</td>\n",
       "    </tr>\n",
       "    <tr>\n",
       "      <th>7</th>\n",
       "      <td>SA0L12E4</td>\n",
       "      <td>All items less food, shelter, energy, and used...</td>\n",
       "      <td>1</td>\n",
       "      <td>T</td>\n",
       "      <td>364</td>\n",
       "    </tr>\n",
       "    <tr>\n",
       "      <th>8</th>\n",
       "      <td>SA0L1E</td>\n",
       "      <td>All items less food and energy</td>\n",
       "      <td>1</td>\n",
       "      <td>T</td>\n",
       "      <td>360</td>\n",
       "    </tr>\n",
       "    <tr>\n",
       "      <th>9</th>\n",
       "      <td>SA0L2</td>\n",
       "      <td>All items less shelter</td>\n",
       "      <td>1</td>\n",
       "      <td>T</td>\n",
       "      <td>361</td>\n",
       "    </tr>\n",
       "    <tr>\n",
       "      <th>10</th>\n",
       "      <td>SA0L5</td>\n",
       "      <td>All items less medical care</td>\n",
       "      <td>1</td>\n",
       "      <td>T</td>\n",
       "      <td>357</td>\n",
       "    </tr>\n",
       "    <tr>\n",
       "      <th>11</th>\n",
       "      <td>SA0LE</td>\n",
       "      <td>All items less energy</td>\n",
       "      <td>1</td>\n",
       "      <td>T</td>\n",
       "      <td>358</td>\n",
       "    </tr>\n",
       "    <tr>\n",
       "      <th>12</th>\n",
       "      <td>SA0R</td>\n",
       "      <td>Purchasing power of the consumer dollar</td>\n",
       "      <td>0</td>\n",
       "      <td>T</td>\n",
       "      <td>399</td>\n",
       "    </tr>\n",
       "    <tr>\n",
       "      <th>13</th>\n",
       "      <td>SA311</td>\n",
       "      <td>Apparel less footwear</td>\n",
       "      <td>1</td>\n",
       "      <td>T</td>\n",
       "      <td>365</td>\n",
       "    </tr>\n",
       "    <tr>\n",
       "      <th>14</th>\n",
       "      <td>SAA</td>\n",
       "      <td>Apparel</td>\n",
       "      <td>0</td>\n",
       "      <td>T</td>\n",
       "      <td>187</td>\n",
       "    </tr>\n",
       "    <tr>\n",
       "      <th>15</th>\n",
       "      <td>SAA1</td>\n",
       "      <td>Men's and boys' apparel</td>\n",
       "      <td>1</td>\n",
       "      <td>T</td>\n",
       "      <td>188</td>\n",
       "    </tr>\n",
       "    <tr>\n",
       "      <th>16</th>\n",
       "      <td>SAA2</td>\n",
       "      <td>Women's and girls' apparel</td>\n",
       "      <td>1</td>\n",
       "      <td>T</td>\n",
       "      <td>195</td>\n",
       "    </tr>\n",
       "    <tr>\n",
       "      <th>17</th>\n",
       "      <td>SAC</td>\n",
       "      <td>Commodities</td>\n",
       "      <td>1</td>\n",
       "      <td>T</td>\n",
       "      <td>366</td>\n",
       "    </tr>\n",
       "    <tr>\n",
       "      <th>18</th>\n",
       "      <td>SACE</td>\n",
       "      <td>Energy commodities</td>\n",
       "      <td>1</td>\n",
       "      <td>T</td>\n",
       "      <td>376</td>\n",
       "    </tr>\n",
       "    <tr>\n",
       "      <th>19</th>\n",
       "      <td>SACL1</td>\n",
       "      <td>Commodities less food</td>\n",
       "      <td>1</td>\n",
       "      <td>T</td>\n",
       "      <td>367</td>\n",
       "    </tr>\n",
       "  </tbody>\n",
       "</table>\n",
       "</div>"
      ],
      "text/plain": [
       "   item_code                                          item_name  \\\n",
       "0        AA0                               All items - old base   \n",
       "1       AA0R  Purchasing power of the consumer dollar - old ...   \n",
       "2        SA0                                          All items   \n",
       "3       SA0E                                             Energy   \n",
       "4      SA0L1                                All items less food   \n",
       "5     SA0L12                    All items less food and shelter   \n",
       "6    SA0L12E           All items less food, shelter, and energy   \n",
       "7   SA0L12E4  All items less food, shelter, energy, and used...   \n",
       "8     SA0L1E                     All items less food and energy   \n",
       "9      SA0L2                             All items less shelter   \n",
       "10     SA0L5                        All items less medical care   \n",
       "11     SA0LE                              All items less energy   \n",
       "12      SA0R            Purchasing power of the consumer dollar   \n",
       "13     SA311                              Apparel less footwear   \n",
       "14       SAA                                            Apparel   \n",
       "15      SAA1                            Men's and boys' apparel   \n",
       "16      SAA2                         Women's and girls' apparel   \n",
       "17       SAC                                        Commodities   \n",
       "18      SACE                                 Energy commodities   \n",
       "19     SACL1                              Commodities less food   \n",
       "\n",
       "    display_level selectable  sort_sequence  \n",
       "0               0          T              2  \n",
       "1               0          T            400  \n",
       "2               0          T              1  \n",
       "3               1          T            375  \n",
       "4               1          T            359  \n",
       "5               1          T            362  \n",
       "6               1          T            363  \n",
       "7               1          T            364  \n",
       "8               1          T            360  \n",
       "9               1          T            361  \n",
       "10              1          T            357  \n",
       "11              1          T            358  \n",
       "12              0          T            399  \n",
       "13              1          T            365  \n",
       "14              0          T            187  \n",
       "15              1          T            188  \n",
       "16              1          T            195  \n",
       "17              1          T            366  \n",
       "18              1          T            376  \n",
       "19              1          T            367  "
      ]
     },
     "execution_count": 78,
     "metadata": {},
     "output_type": "execute_result"
    }
   ],
   "source": [
    "df = pd.read_csv(\"cu.item\", sep=\"\\t\")\n",
    "df.head(20)"
   ]
  },
  {
   "cell_type": "code",
   "execution_count": 80,
   "metadata": {},
   "outputs": [
    {
     "ename": "ValueError",
     "evalue": "storage_options passed with file object or non-fsspec file path",
     "output_type": "error",
     "traceback": [
      "\u001b[0;31m---------------------------------------------------------------------------\u001b[0m",
      "\u001b[0;31mValueError\u001b[0m                                Traceback (most recent call last)",
      "Cell \u001b[0;32mIn[80], line 2\u001b[0m\n\u001b[1;32m      1\u001b[0m headers \u001b[39m=\u001b[39m {\u001b[39m\"\u001b[39m\u001b[39mUser-Agent\u001b[39m\u001b[39m\"\u001b[39m:\u001b[39m'\u001b[39m\u001b[39mpandas\u001b[39m\u001b[39m'\u001b[39m}\n\u001b[0;32m----> 2\u001b[0m df \u001b[39m=\u001b[39m pd\u001b[39m.\u001b[39;49mread_csv(\u001b[39m'\u001b[39;49m\u001b[39mcu.item\u001b[39;49m\u001b[39m'\u001b[39;49m, sep\u001b[39m=\u001b[39;49m\u001b[39m'\u001b[39;49m\u001b[39m\\t\u001b[39;49;00m\u001b[39m'\u001b[39;49m, storage_options\u001b[39m=\u001b[39;49mheaders)\n",
      "File \u001b[0;32m~/.local/lib/python3.10/site-packages/pandas/io/parsers/readers.py:912\u001b[0m, in \u001b[0;36mread_csv\u001b[0;34m(filepath_or_buffer, sep, delimiter, header, names, index_col, usecols, dtype, engine, converters, true_values, false_values, skipinitialspace, skiprows, skipfooter, nrows, na_values, keep_default_na, na_filter, verbose, skip_blank_lines, parse_dates, infer_datetime_format, keep_date_col, date_parser, date_format, dayfirst, cache_dates, iterator, chunksize, compression, thousands, decimal, lineterminator, quotechar, quoting, doublequote, escapechar, comment, encoding, encoding_errors, dialect, on_bad_lines, delim_whitespace, low_memory, memory_map, float_precision, storage_options, dtype_backend)\u001b[0m\n\u001b[1;32m    899\u001b[0m kwds_defaults \u001b[39m=\u001b[39m _refine_defaults_read(\n\u001b[1;32m    900\u001b[0m     dialect,\n\u001b[1;32m    901\u001b[0m     delimiter,\n\u001b[0;32m   (...)\u001b[0m\n\u001b[1;32m    908\u001b[0m     dtype_backend\u001b[39m=\u001b[39mdtype_backend,\n\u001b[1;32m    909\u001b[0m )\n\u001b[1;32m    910\u001b[0m kwds\u001b[39m.\u001b[39mupdate(kwds_defaults)\n\u001b[0;32m--> 912\u001b[0m \u001b[39mreturn\u001b[39;00m _read(filepath_or_buffer, kwds)\n",
      "File \u001b[0;32m~/.local/lib/python3.10/site-packages/pandas/io/parsers/readers.py:577\u001b[0m, in \u001b[0;36m_read\u001b[0;34m(filepath_or_buffer, kwds)\u001b[0m\n\u001b[1;32m    574\u001b[0m _validate_names(kwds\u001b[39m.\u001b[39mget(\u001b[39m\"\u001b[39m\u001b[39mnames\u001b[39m\u001b[39m\"\u001b[39m, \u001b[39mNone\u001b[39;00m))\n\u001b[1;32m    576\u001b[0m \u001b[39m# Create the parser.\u001b[39;00m\n\u001b[0;32m--> 577\u001b[0m parser \u001b[39m=\u001b[39m TextFileReader(filepath_or_buffer, \u001b[39m*\u001b[39;49m\u001b[39m*\u001b[39;49mkwds)\n\u001b[1;32m    579\u001b[0m \u001b[39mif\u001b[39;00m chunksize \u001b[39mor\u001b[39;00m iterator:\n\u001b[1;32m    580\u001b[0m     \u001b[39mreturn\u001b[39;00m parser\n",
      "File \u001b[0;32m~/.local/lib/python3.10/site-packages/pandas/io/parsers/readers.py:1407\u001b[0m, in \u001b[0;36mTextFileReader.__init__\u001b[0;34m(self, f, engine, **kwds)\u001b[0m\n\u001b[1;32m   1404\u001b[0m     \u001b[39mself\u001b[39m\u001b[39m.\u001b[39moptions[\u001b[39m\"\u001b[39m\u001b[39mhas_index_names\u001b[39m\u001b[39m\"\u001b[39m] \u001b[39m=\u001b[39m kwds[\u001b[39m\"\u001b[39m\u001b[39mhas_index_names\u001b[39m\u001b[39m\"\u001b[39m]\n\u001b[1;32m   1406\u001b[0m \u001b[39mself\u001b[39m\u001b[39m.\u001b[39mhandles: IOHandles \u001b[39m|\u001b[39m \u001b[39mNone\u001b[39;00m \u001b[39m=\u001b[39m \u001b[39mNone\u001b[39;00m\n\u001b[0;32m-> 1407\u001b[0m \u001b[39mself\u001b[39m\u001b[39m.\u001b[39m_engine \u001b[39m=\u001b[39m \u001b[39mself\u001b[39;49m\u001b[39m.\u001b[39;49m_make_engine(f, \u001b[39mself\u001b[39;49m\u001b[39m.\u001b[39;49mengine)\n",
      "File \u001b[0;32m~/.local/lib/python3.10/site-packages/pandas/io/parsers/readers.py:1661\u001b[0m, in \u001b[0;36mTextFileReader._make_engine\u001b[0;34m(self, f, engine)\u001b[0m\n\u001b[1;32m   1659\u001b[0m     \u001b[39mif\u001b[39;00m \u001b[39m\"\u001b[39m\u001b[39mb\u001b[39m\u001b[39m\"\u001b[39m \u001b[39mnot\u001b[39;00m \u001b[39min\u001b[39;00m mode:\n\u001b[1;32m   1660\u001b[0m         mode \u001b[39m+\u001b[39m\u001b[39m=\u001b[39m \u001b[39m\"\u001b[39m\u001b[39mb\u001b[39m\u001b[39m\"\u001b[39m\n\u001b[0;32m-> 1661\u001b[0m \u001b[39mself\u001b[39m\u001b[39m.\u001b[39mhandles \u001b[39m=\u001b[39m get_handle(\n\u001b[1;32m   1662\u001b[0m     f,\n\u001b[1;32m   1663\u001b[0m     mode,\n\u001b[1;32m   1664\u001b[0m     encoding\u001b[39m=\u001b[39;49m\u001b[39mself\u001b[39;49m\u001b[39m.\u001b[39;49moptions\u001b[39m.\u001b[39;49mget(\u001b[39m\"\u001b[39;49m\u001b[39mencoding\u001b[39;49m\u001b[39m\"\u001b[39;49m, \u001b[39mNone\u001b[39;49;00m),\n\u001b[1;32m   1665\u001b[0m     compression\u001b[39m=\u001b[39;49m\u001b[39mself\u001b[39;49m\u001b[39m.\u001b[39;49moptions\u001b[39m.\u001b[39;49mget(\u001b[39m\"\u001b[39;49m\u001b[39mcompression\u001b[39;49m\u001b[39m\"\u001b[39;49m, \u001b[39mNone\u001b[39;49;00m),\n\u001b[1;32m   1666\u001b[0m     memory_map\u001b[39m=\u001b[39;49m\u001b[39mself\u001b[39;49m\u001b[39m.\u001b[39;49moptions\u001b[39m.\u001b[39;49mget(\u001b[39m\"\u001b[39;49m\u001b[39mmemory_map\u001b[39;49m\u001b[39m\"\u001b[39;49m, \u001b[39mFalse\u001b[39;49;00m),\n\u001b[1;32m   1667\u001b[0m     is_text\u001b[39m=\u001b[39;49mis_text,\n\u001b[1;32m   1668\u001b[0m     errors\u001b[39m=\u001b[39;49m\u001b[39mself\u001b[39;49m\u001b[39m.\u001b[39;49moptions\u001b[39m.\u001b[39;49mget(\u001b[39m\"\u001b[39;49m\u001b[39mencoding_errors\u001b[39;49m\u001b[39m\"\u001b[39;49m, \u001b[39m\"\u001b[39;49m\u001b[39mstrict\u001b[39;49m\u001b[39m\"\u001b[39;49m),\n\u001b[1;32m   1669\u001b[0m     storage_options\u001b[39m=\u001b[39;49m\u001b[39mself\u001b[39;49m\u001b[39m.\u001b[39;49moptions\u001b[39m.\u001b[39;49mget(\u001b[39m\"\u001b[39;49m\u001b[39mstorage_options\u001b[39;49m\u001b[39m\"\u001b[39;49m, \u001b[39mNone\u001b[39;49;00m),\n\u001b[1;32m   1670\u001b[0m )\n\u001b[1;32m   1671\u001b[0m \u001b[39massert\u001b[39;00m \u001b[39mself\u001b[39m\u001b[39m.\u001b[39mhandles \u001b[39mis\u001b[39;00m \u001b[39mnot\u001b[39;00m \u001b[39mNone\u001b[39;00m\n\u001b[1;32m   1672\u001b[0m f \u001b[39m=\u001b[39m \u001b[39mself\u001b[39m\u001b[39m.\u001b[39mhandles\u001b[39m.\u001b[39mhandle\n",
      "File \u001b[0;32m~/.local/lib/python3.10/site-packages/pandas/io/common.py:716\u001b[0m, in \u001b[0;36mget_handle\u001b[0;34m(path_or_buf, mode, encoding, compression, memory_map, is_text, errors, storage_options)\u001b[0m\n\u001b[1;32m    713\u001b[0m     codecs\u001b[39m.\u001b[39mlookup_error(errors)\n\u001b[1;32m    715\u001b[0m \u001b[39m# open URLs\u001b[39;00m\n\u001b[0;32m--> 716\u001b[0m ioargs \u001b[39m=\u001b[39m _get_filepath_or_buffer(\n\u001b[1;32m    717\u001b[0m     path_or_buf,\n\u001b[1;32m    718\u001b[0m     encoding\u001b[39m=\u001b[39;49mencoding,\n\u001b[1;32m    719\u001b[0m     compression\u001b[39m=\u001b[39;49mcompression,\n\u001b[1;32m    720\u001b[0m     mode\u001b[39m=\u001b[39;49mmode,\n\u001b[1;32m    721\u001b[0m     storage_options\u001b[39m=\u001b[39;49mstorage_options,\n\u001b[1;32m    722\u001b[0m )\n\u001b[1;32m    724\u001b[0m handle \u001b[39m=\u001b[39m ioargs\u001b[39m.\u001b[39mfilepath_or_buffer\n\u001b[1;32m    725\u001b[0m handles: \u001b[39mlist\u001b[39m[BaseBuffer]\n",
      "File \u001b[0;32m~/.local/lib/python3.10/site-packages/pandas/io/common.py:437\u001b[0m, in \u001b[0;36m_get_filepath_or_buffer\u001b[0;34m(filepath_or_buffer, encoding, compression, mode, storage_options)\u001b[0m\n\u001b[1;32m    429\u001b[0m     \u001b[39mreturn\u001b[39;00m IOArgs(\n\u001b[1;32m    430\u001b[0m         filepath_or_buffer\u001b[39m=\u001b[39mfile_obj,\n\u001b[1;32m    431\u001b[0m         encoding\u001b[39m=\u001b[39mencoding,\n\u001b[0;32m   (...)\u001b[0m\n\u001b[1;32m    434\u001b[0m         mode\u001b[39m=\u001b[39mfsspec_mode,\n\u001b[1;32m    435\u001b[0m     )\n\u001b[1;32m    436\u001b[0m \u001b[39melif\u001b[39;00m storage_options:\n\u001b[0;32m--> 437\u001b[0m     \u001b[39mraise\u001b[39;00m \u001b[39mValueError\u001b[39;00m(\n\u001b[1;32m    438\u001b[0m         \u001b[39m\"\u001b[39m\u001b[39mstorage_options passed with file object or non-fsspec file path\u001b[39m\u001b[39m\"\u001b[39m\n\u001b[1;32m    439\u001b[0m     )\n\u001b[1;32m    441\u001b[0m \u001b[39mif\u001b[39;00m \u001b[39misinstance\u001b[39m(filepath_or_buffer, (\u001b[39mstr\u001b[39m, \u001b[39mbytes\u001b[39m, mmap\u001b[39m.\u001b[39mmmap)):\n\u001b[1;32m    442\u001b[0m     \u001b[39mreturn\u001b[39;00m IOArgs(\n\u001b[1;32m    443\u001b[0m         filepath_or_buffer\u001b[39m=\u001b[39m_expand_user(filepath_or_buffer),\n\u001b[1;32m    444\u001b[0m         encoding\u001b[39m=\u001b[39mencoding,\n\u001b[0;32m   (...)\u001b[0m\n\u001b[1;32m    447\u001b[0m         mode\u001b[39m=\u001b[39mmode,\n\u001b[1;32m    448\u001b[0m     )\n",
      "\u001b[0;31mValueError\u001b[0m: storage_options passed with file object or non-fsspec file path"
     ]
    }
   ],
   "source": [
    "headers = {\"User-Agent\":'pandas'}\n",
    "df = pd.read_csv('cu.item', sep='\\t', storage_options=headers)"
   ]
  },
  {
   "cell_type": "code",
   "execution_count": 81,
   "metadata": {},
   "outputs": [
    {
     "ename": "FileNotFoundError",
     "evalue": "The specified bucket does not exist",
     "output_type": "error",
     "traceback": [
      "\u001b[0;31m---------------------------------------------------------------------------\u001b[0m",
      "\u001b[0;31mNoSuchBucket\u001b[0m                              Traceback (most recent call last)",
      "File \u001b[0;32m~/.local/lib/python3.10/site-packages/s3fs/core.py:113\u001b[0m, in \u001b[0;36m_error_wrapper\u001b[0;34m(func, args, kwargs, retries)\u001b[0m\n\u001b[1;32m    112\u001b[0m \u001b[39mtry\u001b[39;00m:\n\u001b[0;32m--> 113\u001b[0m     \u001b[39mreturn\u001b[39;00m \u001b[39mawait\u001b[39;00m func(\u001b[39m*\u001b[39margs, \u001b[39m*\u001b[39m\u001b[39m*\u001b[39mkwargs)\n\u001b[1;32m    114\u001b[0m \u001b[39mexcept\u001b[39;00m S3_RETRYABLE_ERRORS \u001b[39mas\u001b[39;00m e:\n",
      "File \u001b[0;32m~/.local/lib/python3.10/site-packages/aiobotocore/client.py:383\u001b[0m, in \u001b[0;36mAioBaseClient._make_api_call\u001b[0;34m(self, operation_name, api_params)\u001b[0m\n\u001b[1;32m    382\u001b[0m     error_class \u001b[39m=\u001b[39m \u001b[39mself\u001b[39m\u001b[39m.\u001b[39mexceptions\u001b[39m.\u001b[39mfrom_code(error_code)\n\u001b[0;32m--> 383\u001b[0m     \u001b[39mraise\u001b[39;00m error_class(parsed_response, operation_name)\n\u001b[1;32m    384\u001b[0m \u001b[39melse\u001b[39;00m:\n",
      "\u001b[0;31mNoSuchBucket\u001b[0m: An error occurred (NoSuchBucket) when calling the ListObjectsV2 operation: The specified bucket does not exist",
      "\nThe above exception was the direct cause of the following exception:\n",
      "\u001b[0;31mFileNotFoundError\u001b[0m                         Traceback (most recent call last)",
      "Cell \u001b[0;32mIn[81], line 1\u001b[0m\n\u001b[0;32m----> 1\u001b[0m df \u001b[39m=\u001b[39m pd\u001b[39m.\u001b[39;49mread_json(\u001b[39m\"\u001b[39;49m\u001b[39ms3://pandas-test/adatafile.json\u001b[39;49m\u001b[39m\"\u001b[39;49m)\n",
      "File \u001b[0;32m~/.local/lib/python3.10/site-packages/pandas/io/json/_json.py:760\u001b[0m, in \u001b[0;36mread_json\u001b[0;34m(path_or_buf, orient, typ, dtype, convert_axes, convert_dates, keep_default_dates, precise_float, date_unit, encoding, encoding_errors, lines, chunksize, compression, nrows, storage_options, dtype_backend, engine)\u001b[0m\n\u001b[1;32m    757\u001b[0m \u001b[39mif\u001b[39;00m convert_axes \u001b[39mis\u001b[39;00m \u001b[39mNone\u001b[39;00m \u001b[39mand\u001b[39;00m orient \u001b[39m!=\u001b[39m \u001b[39m\"\u001b[39m\u001b[39mtable\u001b[39m\u001b[39m\"\u001b[39m:\n\u001b[1;32m    758\u001b[0m     convert_axes \u001b[39m=\u001b[39m \u001b[39mTrue\u001b[39;00m\n\u001b[0;32m--> 760\u001b[0m json_reader \u001b[39m=\u001b[39m JsonReader(\n\u001b[1;32m    761\u001b[0m     path_or_buf,\n\u001b[1;32m    762\u001b[0m     orient\u001b[39m=\u001b[39;49morient,\n\u001b[1;32m    763\u001b[0m     typ\u001b[39m=\u001b[39;49mtyp,\n\u001b[1;32m    764\u001b[0m     dtype\u001b[39m=\u001b[39;49mdtype,\n\u001b[1;32m    765\u001b[0m     convert_axes\u001b[39m=\u001b[39;49mconvert_axes,\n\u001b[1;32m    766\u001b[0m     convert_dates\u001b[39m=\u001b[39;49mconvert_dates,\n\u001b[1;32m    767\u001b[0m     keep_default_dates\u001b[39m=\u001b[39;49mkeep_default_dates,\n\u001b[1;32m    768\u001b[0m     precise_float\u001b[39m=\u001b[39;49mprecise_float,\n\u001b[1;32m    769\u001b[0m     date_unit\u001b[39m=\u001b[39;49mdate_unit,\n\u001b[1;32m    770\u001b[0m     encoding\u001b[39m=\u001b[39;49mencoding,\n\u001b[1;32m    771\u001b[0m     lines\u001b[39m=\u001b[39;49mlines,\n\u001b[1;32m    772\u001b[0m     chunksize\u001b[39m=\u001b[39;49mchunksize,\n\u001b[1;32m    773\u001b[0m     compression\u001b[39m=\u001b[39;49mcompression,\n\u001b[1;32m    774\u001b[0m     nrows\u001b[39m=\u001b[39;49mnrows,\n\u001b[1;32m    775\u001b[0m     storage_options\u001b[39m=\u001b[39;49mstorage_options,\n\u001b[1;32m    776\u001b[0m     encoding_errors\u001b[39m=\u001b[39;49mencoding_errors,\n\u001b[1;32m    777\u001b[0m     dtype_backend\u001b[39m=\u001b[39;49mdtype_backend,\n\u001b[1;32m    778\u001b[0m     engine\u001b[39m=\u001b[39;49mengine,\n\u001b[1;32m    779\u001b[0m )\n\u001b[1;32m    781\u001b[0m \u001b[39mif\u001b[39;00m chunksize:\n\u001b[1;32m    782\u001b[0m     \u001b[39mreturn\u001b[39;00m json_reader\n",
      "File \u001b[0;32m~/.local/lib/python3.10/site-packages/pandas/io/json/_json.py:861\u001b[0m, in \u001b[0;36mJsonReader.__init__\u001b[0;34m(self, filepath_or_buffer, orient, typ, dtype, convert_axes, convert_dates, keep_default_dates, precise_float, date_unit, encoding, lines, chunksize, compression, nrows, storage_options, encoding_errors, dtype_backend, engine)\u001b[0m\n\u001b[1;32m    859\u001b[0m     \u001b[39mself\u001b[39m\u001b[39m.\u001b[39mdata \u001b[39m=\u001b[39m filepath_or_buffer\n\u001b[1;32m    860\u001b[0m \u001b[39melif\u001b[39;00m \u001b[39mself\u001b[39m\u001b[39m.\u001b[39mengine \u001b[39m==\u001b[39m \u001b[39m\"\u001b[39m\u001b[39mujson\u001b[39m\u001b[39m\"\u001b[39m:\n\u001b[0;32m--> 861\u001b[0m     data \u001b[39m=\u001b[39m \u001b[39mself\u001b[39;49m\u001b[39m.\u001b[39;49m_get_data_from_filepath(filepath_or_buffer)\n\u001b[1;32m    862\u001b[0m     \u001b[39mself\u001b[39m\u001b[39m.\u001b[39mdata \u001b[39m=\u001b[39m \u001b[39mself\u001b[39m\u001b[39m.\u001b[39m_preprocess_data(data)\n",
      "File \u001b[0;32m~/.local/lib/python3.10/site-packages/pandas/io/json/_json.py:901\u001b[0m, in \u001b[0;36mJsonReader._get_data_from_filepath\u001b[0;34m(self, filepath_or_buffer)\u001b[0m\n\u001b[1;32m    894\u001b[0m filepath_or_buffer \u001b[39m=\u001b[39m stringify_path(filepath_or_buffer)\n\u001b[1;32m    895\u001b[0m \u001b[39mif\u001b[39;00m (\n\u001b[1;32m    896\u001b[0m     \u001b[39mnot\u001b[39;00m \u001b[39misinstance\u001b[39m(filepath_or_buffer, \u001b[39mstr\u001b[39m)\n\u001b[1;32m    897\u001b[0m     \u001b[39mor\u001b[39;00m is_url(filepath_or_buffer)\n\u001b[1;32m    898\u001b[0m     \u001b[39mor\u001b[39;00m is_fsspec_url(filepath_or_buffer)\n\u001b[1;32m    899\u001b[0m     \u001b[39mor\u001b[39;00m file_exists(filepath_or_buffer)\n\u001b[1;32m    900\u001b[0m ):\n\u001b[0;32m--> 901\u001b[0m     \u001b[39mself\u001b[39m\u001b[39m.\u001b[39mhandles \u001b[39m=\u001b[39m get_handle(\n\u001b[1;32m    902\u001b[0m         filepath_or_buffer,\n\u001b[1;32m    903\u001b[0m         \u001b[39m\"\u001b[39;49m\u001b[39mr\u001b[39;49m\u001b[39m\"\u001b[39;49m,\n\u001b[1;32m    904\u001b[0m         encoding\u001b[39m=\u001b[39;49m\u001b[39mself\u001b[39;49m\u001b[39m.\u001b[39;49mencoding,\n\u001b[1;32m    905\u001b[0m         compression\u001b[39m=\u001b[39;49m\u001b[39mself\u001b[39;49m\u001b[39m.\u001b[39;49mcompression,\n\u001b[1;32m    906\u001b[0m         storage_options\u001b[39m=\u001b[39;49m\u001b[39mself\u001b[39;49m\u001b[39m.\u001b[39;49mstorage_options,\n\u001b[1;32m    907\u001b[0m         errors\u001b[39m=\u001b[39;49m\u001b[39mself\u001b[39;49m\u001b[39m.\u001b[39;49mencoding_errors,\n\u001b[1;32m    908\u001b[0m     )\n\u001b[1;32m    909\u001b[0m     filepath_or_buffer \u001b[39m=\u001b[39m \u001b[39mself\u001b[39m\u001b[39m.\u001b[39mhandles\u001b[39m.\u001b[39mhandle\n\u001b[1;32m    910\u001b[0m \u001b[39melif\u001b[39;00m (\n\u001b[1;32m    911\u001b[0m     \u001b[39misinstance\u001b[39m(filepath_or_buffer, \u001b[39mstr\u001b[39m)\n\u001b[1;32m    912\u001b[0m     \u001b[39mand\u001b[39;00m filepath_or_buffer\u001b[39m.\u001b[39mlower()\u001b[39m.\u001b[39mendswith(\n\u001b[0;32m   (...)\u001b[0m\n\u001b[1;32m    915\u001b[0m     \u001b[39mand\u001b[39;00m \u001b[39mnot\u001b[39;00m file_exists(filepath_or_buffer)\n\u001b[1;32m    916\u001b[0m ):\n",
      "File \u001b[0;32m~/.local/lib/python3.10/site-packages/pandas/io/common.py:716\u001b[0m, in \u001b[0;36mget_handle\u001b[0;34m(path_or_buf, mode, encoding, compression, memory_map, is_text, errors, storage_options)\u001b[0m\n\u001b[1;32m    713\u001b[0m     codecs\u001b[39m.\u001b[39mlookup_error(errors)\n\u001b[1;32m    715\u001b[0m \u001b[39m# open URLs\u001b[39;00m\n\u001b[0;32m--> 716\u001b[0m ioargs \u001b[39m=\u001b[39m _get_filepath_or_buffer(\n\u001b[1;32m    717\u001b[0m     path_or_buf,\n\u001b[1;32m    718\u001b[0m     encoding\u001b[39m=\u001b[39;49mencoding,\n\u001b[1;32m    719\u001b[0m     compression\u001b[39m=\u001b[39;49mcompression,\n\u001b[1;32m    720\u001b[0m     mode\u001b[39m=\u001b[39;49mmode,\n\u001b[1;32m    721\u001b[0m     storage_options\u001b[39m=\u001b[39;49mstorage_options,\n\u001b[1;32m    722\u001b[0m )\n\u001b[1;32m    724\u001b[0m handle \u001b[39m=\u001b[39m ioargs\u001b[39m.\u001b[39mfilepath_or_buffer\n\u001b[1;32m    725\u001b[0m handles: \u001b[39mlist\u001b[39m[BaseBuffer]\n",
      "File \u001b[0;32m~/.local/lib/python3.10/site-packages/pandas/io/common.py:427\u001b[0m, in \u001b[0;36m_get_filepath_or_buffer\u001b[0;34m(filepath_or_buffer, encoding, compression, mode, storage_options)\u001b[0m\n\u001b[1;32m    423\u001b[0m             storage_options \u001b[39m=\u001b[39m \u001b[39mdict\u001b[39m(storage_options)\n\u001b[1;32m    424\u001b[0m             storage_options[\u001b[39m\"\u001b[39m\u001b[39manon\u001b[39m\u001b[39m\"\u001b[39m] \u001b[39m=\u001b[39m \u001b[39mTrue\u001b[39;00m\n\u001b[1;32m    425\u001b[0m         file_obj \u001b[39m=\u001b[39m fsspec\u001b[39m.\u001b[39;49mopen(\n\u001b[1;32m    426\u001b[0m             filepath_or_buffer, mode\u001b[39m=\u001b[39;49mfsspec_mode, \u001b[39m*\u001b[39;49m\u001b[39m*\u001b[39;49m(storage_options \u001b[39mor\u001b[39;49;00m {})\n\u001b[0;32m--> 427\u001b[0m         )\u001b[39m.\u001b[39;49mopen()\n\u001b[1;32m    429\u001b[0m     \u001b[39mreturn\u001b[39;00m IOArgs(\n\u001b[1;32m    430\u001b[0m         filepath_or_buffer\u001b[39m=\u001b[39mfile_obj,\n\u001b[1;32m    431\u001b[0m         encoding\u001b[39m=\u001b[39mencoding,\n\u001b[0;32m   (...)\u001b[0m\n\u001b[1;32m    434\u001b[0m         mode\u001b[39m=\u001b[39mfsspec_mode,\n\u001b[1;32m    435\u001b[0m     )\n\u001b[1;32m    436\u001b[0m \u001b[39melif\u001b[39;00m storage_options:\n",
      "File \u001b[0;32m~/.local/lib/python3.10/site-packages/fsspec/core.py:134\u001b[0m, in \u001b[0;36mOpenFile.open\u001b[0;34m(self)\u001b[0m\n\u001b[1;32m    127\u001b[0m \u001b[39mdef\u001b[39;00m \u001b[39mopen\u001b[39m(\u001b[39mself\u001b[39m):\n\u001b[1;32m    128\u001b[0m     \u001b[39m\"\"\"Materialise this as a real open file without context\u001b[39;00m\n\u001b[1;32m    129\u001b[0m \n\u001b[1;32m    130\u001b[0m \u001b[39m    The OpenFile object should be explicitly closed to avoid enclosed file\u001b[39;00m\n\u001b[1;32m    131\u001b[0m \u001b[39m    instances persisting. You must, therefore, keep a reference to the OpenFile\u001b[39;00m\n\u001b[1;32m    132\u001b[0m \u001b[39m    during the life of the file-like it generates.\u001b[39;00m\n\u001b[1;32m    133\u001b[0m \u001b[39m    \"\"\"\u001b[39;00m\n\u001b[0;32m--> 134\u001b[0m     \u001b[39mreturn\u001b[39;00m \u001b[39mself\u001b[39;49m\u001b[39m.\u001b[39;49m\u001b[39m__enter__\u001b[39;49m()\n",
      "File \u001b[0;32m~/.local/lib/python3.10/site-packages/fsspec/core.py:102\u001b[0m, in \u001b[0;36mOpenFile.__enter__\u001b[0;34m(self)\u001b[0m\n\u001b[1;32m     99\u001b[0m \u001b[39mdef\u001b[39;00m \u001b[39m__enter__\u001b[39m(\u001b[39mself\u001b[39m):\n\u001b[1;32m    100\u001b[0m     mode \u001b[39m=\u001b[39m \u001b[39mself\u001b[39m\u001b[39m.\u001b[39mmode\u001b[39m.\u001b[39mreplace(\u001b[39m\"\u001b[39m\u001b[39mt\u001b[39m\u001b[39m\"\u001b[39m, \u001b[39m\"\u001b[39m\u001b[39m\"\u001b[39m)\u001b[39m.\u001b[39mreplace(\u001b[39m\"\u001b[39m\u001b[39mb\u001b[39m\u001b[39m\"\u001b[39m, \u001b[39m\"\u001b[39m\u001b[39m\"\u001b[39m) \u001b[39m+\u001b[39m \u001b[39m\"\u001b[39m\u001b[39mb\u001b[39m\u001b[39m\"\u001b[39m\n\u001b[0;32m--> 102\u001b[0m     f \u001b[39m=\u001b[39m \u001b[39mself\u001b[39;49m\u001b[39m.\u001b[39;49mfs\u001b[39m.\u001b[39;49mopen(\u001b[39mself\u001b[39;49m\u001b[39m.\u001b[39;49mpath, mode\u001b[39m=\u001b[39;49mmode)\n\u001b[1;32m    104\u001b[0m     \u001b[39mself\u001b[39m\u001b[39m.\u001b[39mfobjects \u001b[39m=\u001b[39m [f]\n\u001b[1;32m    106\u001b[0m     \u001b[39mif\u001b[39;00m \u001b[39mself\u001b[39m\u001b[39m.\u001b[39mcompression \u001b[39mis\u001b[39;00m \u001b[39mnot\u001b[39;00m \u001b[39mNone\u001b[39;00m:\n",
      "File \u001b[0;32m~/.local/lib/python3.10/site-packages/fsspec/spec.py:1241\u001b[0m, in \u001b[0;36mAbstractFileSystem.open\u001b[0;34m(self, path, mode, block_size, cache_options, compression, **kwargs)\u001b[0m\n\u001b[1;32m   1239\u001b[0m \u001b[39melse\u001b[39;00m:\n\u001b[1;32m   1240\u001b[0m     ac \u001b[39m=\u001b[39m kwargs\u001b[39m.\u001b[39mpop(\u001b[39m\"\u001b[39m\u001b[39mautocommit\u001b[39m\u001b[39m\"\u001b[39m, \u001b[39mnot\u001b[39;00m \u001b[39mself\u001b[39m\u001b[39m.\u001b[39m_intrans)\n\u001b[0;32m-> 1241\u001b[0m     f \u001b[39m=\u001b[39m \u001b[39mself\u001b[39;49m\u001b[39m.\u001b[39;49m_open(\n\u001b[1;32m   1242\u001b[0m         path,\n\u001b[1;32m   1243\u001b[0m         mode\u001b[39m=\u001b[39;49mmode,\n\u001b[1;32m   1244\u001b[0m         block_size\u001b[39m=\u001b[39;49mblock_size,\n\u001b[1;32m   1245\u001b[0m         autocommit\u001b[39m=\u001b[39;49mac,\n\u001b[1;32m   1246\u001b[0m         cache_options\u001b[39m=\u001b[39;49mcache_options,\n\u001b[1;32m   1247\u001b[0m         \u001b[39m*\u001b[39;49m\u001b[39m*\u001b[39;49mkwargs,\n\u001b[1;32m   1248\u001b[0m     )\n\u001b[1;32m   1249\u001b[0m     \u001b[39mif\u001b[39;00m compression \u001b[39mis\u001b[39;00m \u001b[39mnot\u001b[39;00m \u001b[39mNone\u001b[39;00m:\n\u001b[1;32m   1250\u001b[0m         \u001b[39mfrom\u001b[39;00m \u001b[39mfsspec\u001b[39;00m\u001b[39m.\u001b[39;00m\u001b[39mcompression\u001b[39;00m \u001b[39mimport\u001b[39;00m compr\n",
      "File \u001b[0;32m~/.local/lib/python3.10/site-packages/s3fs/core.py:659\u001b[0m, in \u001b[0;36mS3FileSystem._open\u001b[0;34m(self, path, mode, block_size, acl, version_id, fill_cache, cache_type, autocommit, requester_pays, cache_options, **kwargs)\u001b[0m\n\u001b[1;32m    656\u001b[0m \u001b[39mif\u001b[39;00m cache_type \u001b[39mis\u001b[39;00m \u001b[39mNone\u001b[39;00m:\n\u001b[1;32m    657\u001b[0m     cache_type \u001b[39m=\u001b[39m \u001b[39mself\u001b[39m\u001b[39m.\u001b[39mdefault_cache_type\n\u001b[0;32m--> 659\u001b[0m \u001b[39mreturn\u001b[39;00m S3File(\n\u001b[1;32m    660\u001b[0m     \u001b[39mself\u001b[39;49m,\n\u001b[1;32m    661\u001b[0m     path,\n\u001b[1;32m    662\u001b[0m     mode,\n\u001b[1;32m    663\u001b[0m     block_size\u001b[39m=\u001b[39;49mblock_size,\n\u001b[1;32m    664\u001b[0m     acl\u001b[39m=\u001b[39;49macl,\n\u001b[1;32m    665\u001b[0m     version_id\u001b[39m=\u001b[39;49mversion_id,\n\u001b[1;32m    666\u001b[0m     fill_cache\u001b[39m=\u001b[39;49mfill_cache,\n\u001b[1;32m    667\u001b[0m     s3_additional_kwargs\u001b[39m=\u001b[39;49mkw,\n\u001b[1;32m    668\u001b[0m     cache_type\u001b[39m=\u001b[39;49mcache_type,\n\u001b[1;32m    669\u001b[0m     autocommit\u001b[39m=\u001b[39;49mautocommit,\n\u001b[1;32m    670\u001b[0m     requester_pays\u001b[39m=\u001b[39;49mrequester_pays,\n\u001b[1;32m    671\u001b[0m     cache_options\u001b[39m=\u001b[39;49mcache_options,\n\u001b[1;32m    672\u001b[0m )\n",
      "File \u001b[0;32m~/.local/lib/python3.10/site-packages/s3fs/core.py:2066\u001b[0m, in \u001b[0;36mS3File.__init__\u001b[0;34m(self, s3, path, mode, block_size, acl, version_id, fill_cache, s3_additional_kwargs, autocommit, cache_type, requester_pays, cache_options)\u001b[0m\n\u001b[1;32m   2064\u001b[0m         \u001b[39mself\u001b[39m\u001b[39m.\u001b[39mdetails \u001b[39m=\u001b[39m s3\u001b[39m.\u001b[39minfo(path)\n\u001b[1;32m   2065\u001b[0m         \u001b[39mself\u001b[39m\u001b[39m.\u001b[39mversion_id \u001b[39m=\u001b[39m \u001b[39mself\u001b[39m\u001b[39m.\u001b[39mdetails\u001b[39m.\u001b[39mget(\u001b[39m\"\u001b[39m\u001b[39mVersionId\u001b[39m\u001b[39m\"\u001b[39m)\n\u001b[0;32m-> 2066\u001b[0m \u001b[39msuper\u001b[39;49m()\u001b[39m.\u001b[39;49m\u001b[39m__init__\u001b[39;49m(\n\u001b[1;32m   2067\u001b[0m     s3,\n\u001b[1;32m   2068\u001b[0m     path,\n\u001b[1;32m   2069\u001b[0m     mode,\n\u001b[1;32m   2070\u001b[0m     block_size,\n\u001b[1;32m   2071\u001b[0m     autocommit\u001b[39m=\u001b[39;49mautocommit,\n\u001b[1;32m   2072\u001b[0m     cache_type\u001b[39m=\u001b[39;49mcache_type,\n\u001b[1;32m   2073\u001b[0m     cache_options\u001b[39m=\u001b[39;49mcache_options,\n\u001b[1;32m   2074\u001b[0m )\n\u001b[1;32m   2075\u001b[0m \u001b[39mself\u001b[39m\u001b[39m.\u001b[39ms3 \u001b[39m=\u001b[39m \u001b[39mself\u001b[39m\u001b[39m.\u001b[39mfs  \u001b[39m# compatibility\u001b[39;00m\n\u001b[1;32m   2077\u001b[0m \u001b[39m# when not using autocommit we want to have transactional state to manage\u001b[39;00m\n",
      "File \u001b[0;32m~/.local/lib/python3.10/site-packages/fsspec/spec.py:1597\u001b[0m, in \u001b[0;36mAbstractBufferedFile.__init__\u001b[0;34m(self, fs, path, mode, block_size, autocommit, cache_type, cache_options, size, **kwargs)\u001b[0m\n\u001b[1;32m   1595\u001b[0m         \u001b[39mself\u001b[39m\u001b[39m.\u001b[39msize \u001b[39m=\u001b[39m size\n\u001b[1;32m   1596\u001b[0m     \u001b[39melse\u001b[39;00m:\n\u001b[0;32m-> 1597\u001b[0m         \u001b[39mself\u001b[39m\u001b[39m.\u001b[39msize \u001b[39m=\u001b[39m \u001b[39mself\u001b[39;49m\u001b[39m.\u001b[39;49mdetails[\u001b[39m\"\u001b[39m\u001b[39msize\u001b[39m\u001b[39m\"\u001b[39m]\n\u001b[1;32m   1598\u001b[0m     \u001b[39mself\u001b[39m\u001b[39m.\u001b[39mcache \u001b[39m=\u001b[39m caches[cache_type](\n\u001b[1;32m   1599\u001b[0m         \u001b[39mself\u001b[39m\u001b[39m.\u001b[39mblocksize, \u001b[39mself\u001b[39m\u001b[39m.\u001b[39m_fetch_range, \u001b[39mself\u001b[39m\u001b[39m.\u001b[39msize, \u001b[39m*\u001b[39m\u001b[39m*\u001b[39mcache_options\n\u001b[1;32m   1600\u001b[0m     )\n\u001b[1;32m   1601\u001b[0m \u001b[39melse\u001b[39;00m:\n",
      "File \u001b[0;32m~/.local/lib/python3.10/site-packages/fsspec/spec.py:1610\u001b[0m, in \u001b[0;36mAbstractBufferedFile.details\u001b[0;34m(self)\u001b[0m\n\u001b[1;32m   1607\u001b[0m \u001b[39m@property\u001b[39m\n\u001b[1;32m   1608\u001b[0m \u001b[39mdef\u001b[39;00m \u001b[39mdetails\u001b[39m(\u001b[39mself\u001b[39m):\n\u001b[1;32m   1609\u001b[0m     \u001b[39mif\u001b[39;00m \u001b[39mself\u001b[39m\u001b[39m.\u001b[39m_details \u001b[39mis\u001b[39;00m \u001b[39mNone\u001b[39;00m:\n\u001b[0;32m-> 1610\u001b[0m         \u001b[39mself\u001b[39m\u001b[39m.\u001b[39m_details \u001b[39m=\u001b[39m \u001b[39mself\u001b[39;49m\u001b[39m.\u001b[39;49mfs\u001b[39m.\u001b[39;49minfo(\u001b[39mself\u001b[39;49m\u001b[39m.\u001b[39;49mpath)\n\u001b[1;32m   1611\u001b[0m     \u001b[39mreturn\u001b[39;00m \u001b[39mself\u001b[39m\u001b[39m.\u001b[39m_details\n",
      "File \u001b[0;32m~/.local/lib/python3.10/site-packages/fsspec/asyn.py:121\u001b[0m, in \u001b[0;36msync_wrapper.<locals>.wrapper\u001b[0;34m(*args, **kwargs)\u001b[0m\n\u001b[1;32m    118\u001b[0m \u001b[39m@functools\u001b[39m\u001b[39m.\u001b[39mwraps(func)\n\u001b[1;32m    119\u001b[0m \u001b[39mdef\u001b[39;00m \u001b[39mwrapper\u001b[39m(\u001b[39m*\u001b[39margs, \u001b[39m*\u001b[39m\u001b[39m*\u001b[39mkwargs):\n\u001b[1;32m    120\u001b[0m     \u001b[39mself\u001b[39m \u001b[39m=\u001b[39m obj \u001b[39mor\u001b[39;00m args[\u001b[39m0\u001b[39m]\n\u001b[0;32m--> 121\u001b[0m     \u001b[39mreturn\u001b[39;00m sync(\u001b[39mself\u001b[39;49m\u001b[39m.\u001b[39;49mloop, func, \u001b[39m*\u001b[39;49margs, \u001b[39m*\u001b[39;49m\u001b[39m*\u001b[39;49mkwargs)\n",
      "File \u001b[0;32m~/.local/lib/python3.10/site-packages/fsspec/asyn.py:106\u001b[0m, in \u001b[0;36msync\u001b[0;34m(loop, func, timeout, *args, **kwargs)\u001b[0m\n\u001b[1;32m    104\u001b[0m     \u001b[39mraise\u001b[39;00m FSTimeoutError \u001b[39mfrom\u001b[39;00m \u001b[39mreturn_result\u001b[39;00m\n\u001b[1;32m    105\u001b[0m \u001b[39melif\u001b[39;00m \u001b[39misinstance\u001b[39m(return_result, \u001b[39mBaseException\u001b[39;00m):\n\u001b[0;32m--> 106\u001b[0m     \u001b[39mraise\u001b[39;00m return_result\n\u001b[1;32m    107\u001b[0m \u001b[39melse\u001b[39;00m:\n\u001b[1;32m    108\u001b[0m     \u001b[39mreturn\u001b[39;00m return_result\n",
      "File \u001b[0;32m~/.local/lib/python3.10/site-packages/fsspec/asyn.py:61\u001b[0m, in \u001b[0;36m_runner\u001b[0;34m(event, coro, result, timeout)\u001b[0m\n\u001b[1;32m     59\u001b[0m     coro \u001b[39m=\u001b[39m asyncio\u001b[39m.\u001b[39mwait_for(coro, timeout\u001b[39m=\u001b[39mtimeout)\n\u001b[1;32m     60\u001b[0m \u001b[39mtry\u001b[39;00m:\n\u001b[0;32m---> 61\u001b[0m     result[\u001b[39m0\u001b[39m] \u001b[39m=\u001b[39m \u001b[39mawait\u001b[39;00m coro\n\u001b[1;32m     62\u001b[0m \u001b[39mexcept\u001b[39;00m \u001b[39mException\u001b[39;00m \u001b[39mas\u001b[39;00m ex:\n\u001b[1;32m     63\u001b[0m     result[\u001b[39m0\u001b[39m] \u001b[39m=\u001b[39m ex\n",
      "File \u001b[0;32m~/.local/lib/python3.10/site-packages/s3fs/core.py:1297\u001b[0m, in \u001b[0;36mS3FileSystem._info\u001b[0;34m(self, path, bucket, key, refresh, version_id)\u001b[0m\n\u001b[1;32m   1292\u001b[0m         \u001b[39mraise\u001b[39;00m translate_boto_error(e, set_cause\u001b[39m=\u001b[39m\u001b[39mFalse\u001b[39;00m)\n\u001b[1;32m   1294\u001b[0m \u001b[39mtry\u001b[39;00m:\n\u001b[1;32m   1295\u001b[0m     \u001b[39m# We check to see if the path is a directory by attempting to list its\u001b[39;00m\n\u001b[1;32m   1296\u001b[0m     \u001b[39m# contexts. If anything is found, it is indeed a directory\u001b[39;00m\n\u001b[0;32m-> 1297\u001b[0m     out \u001b[39m=\u001b[39m \u001b[39mawait\u001b[39;00m \u001b[39mself\u001b[39m\u001b[39m.\u001b[39m_call_s3(\n\u001b[1;32m   1298\u001b[0m         \u001b[39m\"\u001b[39m\u001b[39mlist_objects_v2\u001b[39m\u001b[39m\"\u001b[39m,\n\u001b[1;32m   1299\u001b[0m         \u001b[39mself\u001b[39m\u001b[39m.\u001b[39mkwargs,\n\u001b[1;32m   1300\u001b[0m         Bucket\u001b[39m=\u001b[39mbucket,\n\u001b[1;32m   1301\u001b[0m         Prefix\u001b[39m=\u001b[39mkey\u001b[39m.\u001b[39mrstrip(\u001b[39m\"\u001b[39m\u001b[39m/\u001b[39m\u001b[39m\"\u001b[39m) \u001b[39m+\u001b[39m \u001b[39m\"\u001b[39m\u001b[39m/\u001b[39m\u001b[39m\"\u001b[39m \u001b[39mif\u001b[39;00m key \u001b[39melse\u001b[39;00m \u001b[39m\"\u001b[39m\u001b[39m\"\u001b[39m,\n\u001b[1;32m   1302\u001b[0m         Delimiter\u001b[39m=\u001b[39m\u001b[39m\"\u001b[39m\u001b[39m/\u001b[39m\u001b[39m\"\u001b[39m,\n\u001b[1;32m   1303\u001b[0m         MaxKeys\u001b[39m=\u001b[39m\u001b[39m1\u001b[39m,\n\u001b[1;32m   1304\u001b[0m         \u001b[39m*\u001b[39m\u001b[39m*\u001b[39m\u001b[39mself\u001b[39m\u001b[39m.\u001b[39mreq_kw,\n\u001b[1;32m   1305\u001b[0m     )\n\u001b[1;32m   1306\u001b[0m     \u001b[39mif\u001b[39;00m (\n\u001b[1;32m   1307\u001b[0m         out\u001b[39m.\u001b[39mget(\u001b[39m\"\u001b[39m\u001b[39mKeyCount\u001b[39m\u001b[39m\"\u001b[39m, \u001b[39m0\u001b[39m) \u001b[39m>\u001b[39m \u001b[39m0\u001b[39m\n\u001b[1;32m   1308\u001b[0m         \u001b[39mor\u001b[39;00m out\u001b[39m.\u001b[39mget(\u001b[39m\"\u001b[39m\u001b[39mContents\u001b[39m\u001b[39m\"\u001b[39m, [])\n\u001b[1;32m   1309\u001b[0m         \u001b[39mor\u001b[39;00m out\u001b[39m.\u001b[39mget(\u001b[39m\"\u001b[39m\u001b[39mCommonPrefixes\u001b[39m\u001b[39m\"\u001b[39m, [])\n\u001b[1;32m   1310\u001b[0m     ):\n\u001b[1;32m   1311\u001b[0m         \u001b[39mreturn\u001b[39;00m {\n\u001b[1;32m   1312\u001b[0m             \u001b[39m\"\u001b[39m\u001b[39mname\u001b[39m\u001b[39m\"\u001b[39m: \u001b[39m\"\u001b[39m\u001b[39m/\u001b[39m\u001b[39m\"\u001b[39m\u001b[39m.\u001b[39mjoin([bucket, key]),\n\u001b[1;32m   1313\u001b[0m             \u001b[39m\"\u001b[39m\u001b[39mtype\u001b[39m\u001b[39m\"\u001b[39m: \u001b[39m\"\u001b[39m\u001b[39mdirectory\u001b[39m\u001b[39m\"\u001b[39m,\n\u001b[1;32m   1314\u001b[0m             \u001b[39m\"\u001b[39m\u001b[39msize\u001b[39m\u001b[39m\"\u001b[39m: \u001b[39m0\u001b[39m,\n\u001b[1;32m   1315\u001b[0m             \u001b[39m\"\u001b[39m\u001b[39mStorageClass\u001b[39m\u001b[39m\"\u001b[39m: \u001b[39m\"\u001b[39m\u001b[39mDIRECTORY\u001b[39m\u001b[39m\"\u001b[39m,\n\u001b[1;32m   1316\u001b[0m         }\n",
      "File \u001b[0;32m~/.local/lib/python3.10/site-packages/s3fs/core.py:348\u001b[0m, in \u001b[0;36mS3FileSystem._call_s3\u001b[0;34m(self, method, *akwarglist, **kwargs)\u001b[0m\n\u001b[1;32m    346\u001b[0m logger\u001b[39m.\u001b[39mdebug(\u001b[39m\"\u001b[39m\u001b[39mCALL: \u001b[39m\u001b[39m%s\u001b[39;00m\u001b[39m - \u001b[39m\u001b[39m%s\u001b[39;00m\u001b[39m - \u001b[39m\u001b[39m%s\u001b[39;00m\u001b[39m\"\u001b[39m, method\u001b[39m.\u001b[39m\u001b[39m__name__\u001b[39m, akwarglist, kw2)\n\u001b[1;32m    347\u001b[0m additional_kwargs \u001b[39m=\u001b[39m \u001b[39mself\u001b[39m\u001b[39m.\u001b[39m_get_s3_method_kwargs(method, \u001b[39m*\u001b[39makwarglist, \u001b[39m*\u001b[39m\u001b[39m*\u001b[39mkwargs)\n\u001b[0;32m--> 348\u001b[0m \u001b[39mreturn\u001b[39;00m \u001b[39mawait\u001b[39;00m _error_wrapper(\n\u001b[1;32m    349\u001b[0m     method, kwargs\u001b[39m=\u001b[39madditional_kwargs, retries\u001b[39m=\u001b[39m\u001b[39mself\u001b[39m\u001b[39m.\u001b[39mretries\n\u001b[1;32m    350\u001b[0m )\n",
      "File \u001b[0;32m~/.local/lib/python3.10/site-packages/s3fs/core.py:140\u001b[0m, in \u001b[0;36m_error_wrapper\u001b[0;34m(func, args, kwargs, retries)\u001b[0m\n\u001b[1;32m    138\u001b[0m         err \u001b[39m=\u001b[39m e\n\u001b[1;32m    139\u001b[0m err \u001b[39m=\u001b[39m translate_boto_error(err)\n\u001b[0;32m--> 140\u001b[0m \u001b[39mraise\u001b[39;00m err\n",
      "\u001b[0;31mFileNotFoundError\u001b[0m: The specified bucket does not exist"
     ]
    }
   ],
   "source": [
    "df = pd.read_json(\"s3://pandas-test/adatafile.json\")"
   ]
  },
  {
   "cell_type": "code",
   "execution_count": 84,
   "metadata": {},
   "outputs": [],
   "source": [
    "pd.read_csv(\n",
    "    \"s3://ncei-wcsd-archive/data/processed/SH1305/18kHz/SaKe2013\"\n",
    "    \"-D20130523-T080854_to_SaKe2013-D20130523-T085643.csv\",\n",
    "    storage_options={\"anon\": True},\n",
    ").to_csv(\"T085643.csv\")"
   ]
  },
  {
   "cell_type": "code",
   "execution_count": null,
   "metadata": {},
   "outputs": [],
   "source": [
    "# Writing out data\n",
    "# Writing to CSV format\n",
    "# https://pandas.pydata.org/docs/user_guide/io.html#writing-out-data\n",
    "\n",
    "# Writing a formatted string\n",
    "# https://pandas.pydata.org/docs/user_guide/io.html#writing-a-formatted-string"
   ]
  }
 ],
 "metadata": {
  "kernelspec": {
   "display_name": "Python 3",
   "language": "python",
   "name": "python3"
  },
  "language_info": {
   "codemirror_mode": {
    "name": "ipython",
    "version": 3
   },
   "file_extension": ".py",
   "mimetype": "text/x-python",
   "name": "python",
   "nbconvert_exporter": "python",
   "pygments_lexer": "ipython3",
   "version": "3.10.12"
  },
  "orig_nbformat": 4
 },
 "nbformat": 4,
 "nbformat_minor": 2
}
