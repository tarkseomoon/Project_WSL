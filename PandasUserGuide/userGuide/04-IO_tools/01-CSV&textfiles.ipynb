{
 "cells": [
  {
   "cell_type": "code",
   "execution_count": null,
   "metadata": {},
   "outputs": [],
   "source": [
    "import io\n",
    "import numpy as pd \n",
    "import pandas as pd\n",
    "from io import StringIO"
   ]
  },
  {
   "cell_type": "markdown",
   "metadata": {},
   "source": [
    "* delimiter white space: `sep='\\s+'` (e.g. ' ' or '\\t')\n",
    "* `index_col = False`"
   ]
  },
  {
   "cell_type": "code",
   "execution_count": null,
   "metadata": {},
   "outputs": [],
   "source": [
    "import pandas as pd\n",
    "from io import StringIO\n",
    "# file대신에 string을 사용하는 경우\n",
    "\n",
    "data = \"col1,col2,col3\\na,b,1\\na,b,2\\nc,d,3\"\n",
    "\n",
    "pd.read_csv(StringIO(data))"
   ]
  },
  {
   "cell_type": "code",
   "execution_count": null,
   "metadata": {},
   "outputs": [],
   "source": [
    "pd.read_csv(StringIO(data), usecols=lambda x: x.upper() in [\"COL1\", \"COL3\"])"
   ]
  },
  {
   "cell_type": "code",
   "execution_count": null,
   "metadata": {},
   "outputs": [],
   "source": [
    "pd.read_csv(StringIO(data), skiprows=lambda x: x % 2 != 0)\n",
    "# index번호는 무의미하다. col label이 0 그다름부터 1,2,3"
   ]
  },
  {
   "cell_type": "code",
   "execution_count": null,
   "metadata": {},
   "outputs": [],
   "source": [
    "# Specifying column data types\n",
    "import numpy as np\n",
    "\n",
    "data = \"a,b,c,d\\n1,2,3,4\\n5,6,7,8\\n9,10,11\"\n",
    "\n",
    "print(data)"
   ]
  },
  {
   "cell_type": "code",
   "execution_count": null,
   "metadata": {},
   "outputs": [],
   "source": [
    "df = pd.read_csv(StringIO(data), dtype=object)\n",
    "df"
   ]
  },
  {
   "cell_type": "code",
   "execution_count": null,
   "metadata": {},
   "outputs": [],
   "source": [
    "df['a'][0]"
   ]
  },
  {
   "cell_type": "code",
   "execution_count": null,
   "metadata": {},
   "outputs": [],
   "source": [
    "df = pd.read_csv(StringIO(data), dtype= {'b': object, 'c': np.float64, 'd': 'Int64'})\n",
    "df.dtypes"
   ]
  },
  {
   "cell_type": "code",
   "execution_count": null,
   "metadata": {},
   "outputs": [],
   "source": [
    "data = \"col_1\\n1\\n2\\n'A'\\n4.22\"\n",
    "df = pd.read_csv(StringIO(data), converters={\"col_1\": str})\n",
    "df"
   ]
  },
  {
   "cell_type": "code",
   "execution_count": null,
   "metadata": {},
   "outputs": [],
   "source": [
    "df[\"col_1\"].apply(type).value_counts()"
   ]
  },
  {
   "cell_type": "code",
   "execution_count": null,
   "metadata": {},
   "outputs": [],
   "source": [
    "df2 = pd.read_csv(StringIO(data))\n",
    "df2['col_1'] = pd.to_numeric(df2['col_1'], errors='coerce')\n",
    "df2"
   ]
  },
  {
   "cell_type": "code",
   "execution_count": null,
   "metadata": {},
   "outputs": [],
   "source": [
    "data = \"\"\"a,b,c,d,e,f,g,h,i,j\n",
    "1,2.5,True,a,,,,,12-31-2019,\n",
    "3,4.5,False,b,6,7.5,True,a,12-31-2019,\n",
    "\"\"\"\n",
    "# delimiter로 \\n을 사용한다.\n",
    "df = pd.read_csv(StringIO(data), dtype_backend=\"numpy_nullable\", parse_dates=[\"i\"])\n",
    "df"
   ]
  },
  {
   "cell_type": "code",
   "execution_count": null,
   "metadata": {},
   "outputs": [],
   "source": [
    "df.dtypes"
   ]
  },
  {
   "cell_type": "code",
   "execution_count": null,
   "metadata": {},
   "outputs": [],
   "source": [
    "data = \"col1,col2,col3\\na,b,1\\na,b,2\\nc,d,3\"\n",
    "\n",
    "pd.read_csv(StringIO(data))"
   ]
  },
  {
   "cell_type": "code",
   "execution_count": null,
   "metadata": {},
   "outputs": [],
   "source": [
    "pd.read_csv(StringIO(data)).dtypes"
   ]
  },
  {
   "cell_type": "code",
   "execution_count": null,
   "metadata": {},
   "outputs": [],
   "source": [
    "pd.read_csv(StringIO(data), dtype=\"category\").dtypes"
   ]
  },
  {
   "cell_type": "code",
   "execution_count": null,
   "metadata": {},
   "outputs": [],
   "source": [
    "# Unordered Categorical\n",
    "pd.read_csv(StringIO(data), dtype={'col1': 'category'}).dtypes\n"
   ]
  },
  {
   "cell_type": "code",
   "execution_count": null,
   "metadata": {},
   "outputs": [],
   "source": [
    "# CategoricalDtype을 먼저 설정하면서, order를 줄 수 있다.\n",
    "from pandas.api.types import CategoricalDtype\n",
    "dtype = CategoricalDtype(['d', 'c', 'b', 'a'], ordered=True)\n",
    "pd.read_csv(StringIO(data), dtype={'col1': dtype}).dtypes"
   ]
  },
  {
   "cell_type": "code",
   "execution_count": null,
   "metadata": {},
   "outputs": [],
   "source": [
    "dtype = CategoricalDtype(['a', 'b', 'd'])\n",
    "pd.read_csv(StringIO(data), dtype={'col1': dtype}).col1\n",
    "# category에 없는 요소는 missing values로 본다. 그래서 NaN"
   ]
  },
  {
   "cell_type": "code",
   "execution_count": null,
   "metadata": {},
   "outputs": [],
   "source": [
    "df = pd.read_csv(StringIO(data), dtype='category')\n",
    "df.dtypes"
   ]
  },
  {
   "cell_type": "code",
   "execution_count": null,
   "metadata": {},
   "outputs": [],
   "source": [
    "df.col3"
   ]
  },
  {
   "cell_type": "code",
   "execution_count": null,
   "metadata": {},
   "outputs": [],
   "source": [
    "new_categories = pd.to_numeric(df.col3.cat.categories)\n",
    "# category의 구성 요소들인 categories를 numeric으로 형변환한다.\n",
    "df.col3 = df.col3.cat.rename_categories(new_categories)\n",
    "\n",
    "df.col3"
   ]
  },
  {
   "cell_type": "code",
   "execution_count": null,
   "metadata": {},
   "outputs": [],
   "source": [
    "df.col3.cat.categories"
   ]
  },
  {
   "cell_type": "code",
   "execution_count": null,
   "metadata": {},
   "outputs": [],
   "source": [
    "# Naming and using columns\n",
    "data = \"a,b,c\\n1,2,3\\n4,5,6\\n7,8,9\"\n",
    "print(data)"
   ]
  },
  {
   "cell_type": "code",
   "execution_count": null,
   "metadata": {},
   "outputs": [],
   "source": [
    "pd.read_csv(StringIO(data), names=['foo', 'bar', 'baz'], header=0)"
   ]
  },
  {
   "cell_type": "code",
   "execution_count": null,
   "metadata": {},
   "outputs": [],
   "source": [
    "pd.read_csv(StringIO(data), names=['foo', 'bar', 'baz'], header=None)"
   ]
  },
  {
   "cell_type": "code",
   "execution_count": null,
   "metadata": {},
   "outputs": [],
   "source": [
    "data = \"skip this skip it\\na,b,c\\n1,2,3\\n4,5,6\\n7,8,9\"\n",
    "\n",
    "pd.read_csv(StringIO(data), header=1)\n",
    "# header가 1로 지정되어 그 이전에 있는 애들은 없는 자식이 되었다."
   ]
  },
  {
   "cell_type": "code",
   "execution_count": null,
   "metadata": {},
   "outputs": [],
   "source": [
    "# Duplcate names parsing.\n",
    "data = \"a,b,a\\n0,1,2\\n3,4,5\"\n",
    "pd.read_csv(StringIO(data))\n",
    "# 중복된 column name에대한 처리"
   ]
  },
  {
   "cell_type": "code",
   "execution_count": null,
   "metadata": {},
   "outputs": [],
   "source": [
    "# Filtering columns(usecol)\n",
    "data = \"a,b,c,d\\n1,2,3,foo\\n4,5,6,bar\\n7,8,9,baz\"\n",
    "pd.read_csv(StringIO(data))"
   ]
  },
  {
   "cell_type": "code",
   "execution_count": null,
   "metadata": {},
   "outputs": [],
   "source": [
    "pd.read_csv(StringIO(data), usecols=['b', 'd'])"
   ]
  },
  {
   "cell_type": "code",
   "execution_count": null,
   "metadata": {},
   "outputs": [],
   "source": [
    "pd.read_csv(StringIO(data), usecols=[1, 2, 3])"
   ]
  },
  {
   "cell_type": "code",
   "execution_count": null,
   "metadata": {},
   "outputs": [],
   "source": [
    "pd.read_csv(StringIO(data), usecols=lambda x: x.upper() in ['A', 'B'])\n",
    "# lambda가 받는 x는 usecols가 받은 list의 요소들이 된다.   💮\n",
    "# 이거이 boolean indexing이라니!!"
   ]
  },
  {
   "cell_type": "code",
   "execution_count": null,
   "metadata": {},
   "outputs": [],
   "source": [
    "pd.read_csv(StringIO(data), usecols=lambda x: x not in ['a', 'c'])"
   ]
  },
  {
   "cell_type": "code",
   "execution_count": null,
   "metadata": {},
   "outputs": [],
   "source": [
    "# Comments and Empty lines\n",
    "# ignoring line comments and empty lines\n",
    "data = '\\na,b,c\\n \\n# commented line\\n1, 2 , 3\\n\\n4, 5, 6'\n",
    "print(data)"
   ]
  },
  {
   "cell_type": "code",
   "execution_count": null,
   "metadata": {},
   "outputs": [],
   "source": [
    "pd.read_csv(StringIO(data), comment='#')\n",
    "# completely commented lines and completely blank lines will be ignored."
   ]
  },
  {
   "cell_type": "code",
   "execution_count": null,
   "metadata": {},
   "outputs": [],
   "source": [
    "data = \"a,b,c\\n\\n1,2,3\\n\\n\\n4,5,6\"\n",
    "# pd.read_csv(StringIO(data), skip_blank_lines=False)\n",
    "pd.read_csv(StringIO(data))\n"
   ]
  },
  {
   "cell_type": "code",
   "execution_count": null,
   "metadata": {},
   "outputs": [],
   "source": [
    "data = \"#comment\\na,b,c\\nA,B,C\\n1,2,3\"\n",
    "print(data)"
   ]
  },
  {
   "cell_type": "code",
   "execution_count": null,
   "metadata": {},
   "outputs": [],
   "source": [
    "pd.read_csv(StringIO(data), comment='#', header=1)\n",
    "# header는 comment를 제외하고 row count한다."
   ]
  },
  {
   "cell_type": "code",
   "execution_count": null,
   "metadata": {},
   "outputs": [],
   "source": [
    "data = \"A,B,C\\n#comment\\na,b,c\\n1,2,3\"\n",
    "pd.read_csv(StringIO(data), comment='#', skiprows=2)\n",
    "# 2개의 row를 제외한다(comment포함해서)"
   ]
  },
  {
   "cell_type": "code",
   "execution_count": null,
   "metadata": {},
   "outputs": [],
   "source": [
    "data = (\n",
    "    \"# empty\\n\"\n",
    "    \"# second empty line\\n\"\n",
    "    \"# third emptyline\\n\"\n",
    "    \"X,Y,Z\\n\"\n",
    "    \"1,2,3\\n\"\n",
    "    \"A,B,C\\n\"\n",
    "    \"1,2.,4.\\n\"\n",
    "    \"5.,NaN,10.0\\n\"\n",
    ")\n",
    "\n",
    "print(data)"
   ]
  },
  {
   "cell_type": "code",
   "execution_count": null,
   "metadata": {},
   "outputs": [],
   "source": [
    "pd.read_csv(StringIO(data), comment='#', skiprows=4, header=1)"
   ]
  },
  {
   "cell_type": "code",
   "execution_count": null,
   "metadata": {},
   "outputs": [],
   "source": [
    "# Comments\n",
    "print(open('temp.csv').read())"
   ]
  },
  {
   "cell_type": "code",
   "execution_count": null,
   "metadata": {},
   "outputs": [],
   "source": [
    "df = pd.read_csv('temp.csv')\n",
    "df"
   ]
  },
  {
   "cell_type": "code",
   "execution_count": null,
   "metadata": {},
   "outputs": [],
   "source": [
    "df = pd.read_csv('temp.csv', comment='#')\n",
    "df"
   ]
  },
  {
   "cell_type": "code",
   "execution_count": null,
   "metadata": {},
   "outputs": [],
   "source": [
    "from io import BytesIO\n",
    "data = b\"word,length\\n\" b\"Tr\\xc3\\xa4umen,7\\n\" b\"Gr\\xc3\\xbc\\xc3\\x9fe,5\"\n",
    "data = data.decode('utf8').encode('latin-1')\n",
    "df = pd.read_csv(BytesIO(data), encoding='latin-1')\n",
    "df"
   ]
  },
  {
   "cell_type": "code",
   "execution_count": null,
   "metadata": {},
   "outputs": [],
   "source": [
    "df['word'][1]"
   ]
  },
  {
   "cell_type": "code",
   "execution_count": null,
   "metadata": {},
   "outputs": [],
   "source": [
    "# Index columns and \"trailing delimiters\"\n",
    "data = \"a,b,c\\n4,apple,bat,5.7\\n8,orange,cow,10\"\n",
    "pd.read_csv(StringIO(data))\n",
    "# column label의 수보다 data의 수가 많은 경우"
   ]
  },
  {
   "cell_type": "code",
   "execution_count": null,
   "metadata": {},
   "outputs": [],
   "source": [
    "data = \"index, a,b,c\\n4,apple,bat,5.7\\n8,orange,cow,10\"\n",
    "pd.read_csv(StringIO(data), index_col=0)\n",
    "# pd.read_csv(StringIO(data))"
   ]
  },
  {
   "cell_type": "code",
   "execution_count": null,
   "metadata": {},
   "outputs": [],
   "source": [
    "data = \"a,b,c\\n4,apple,bat,\\n8,orange,cow,\"\n",
    "# 첫줄은 3개, 그 다음부터는 4개(끝에 붙은 , 으로 인해 제4요소가 NaN으로 추가)\n",
    "print(data)"
   ]
  },
  {
   "cell_type": "code",
   "execution_count": null,
   "metadata": {},
   "outputs": [],
   "source": [
    "pd.read_csv(StringIO(data))\n",
    "# 수가 모자라 뒤에서 부터 채워나갔늗데"
   ]
  },
  {
   "cell_type": "code",
   "execution_count": null,
   "metadata": {},
   "outputs": [],
   "source": [
    "pd.read_csv(StringIO(data), index_col=False)\n",
    "# index를 아예 쓰지 않겠다 명시해서 앞에서 부터 채워나간다.   💢"
   ]
  },
  {
   "cell_type": "code",
   "execution_count": null,
   "metadata": {},
   "outputs": [],
   "source": [
    "data = \"a,b,c\\n4,apple,bat,\\n8,orange,cow,\"\n",
    "print(data)"
   ]
  },
  {
   "cell_type": "code",
   "execution_count": null,
   "metadata": {},
   "outputs": [],
   "source": [
    "pd.read_csv(StringIO(data))"
   ]
  },
  {
   "cell_type": "code",
   "execution_count": null,
   "metadata": {},
   "outputs": [],
   "source": [
    "pd.read_csv(StringIO(data), usecols=['b', 'c'] )"
   ]
  },
  {
   "cell_type": "code",
   "execution_count": null,
   "metadata": {},
   "outputs": [],
   "source": [
    "pd.read_csv(StringIO(data), usecols=['b', 'c'], index_col=0 )"
   ]
  },
  {
   "cell_type": "code",
   "execution_count": null,
   "metadata": {},
   "outputs": [],
   "source": [
    "# Data Handling\n",
    "import datetime\n",
    "with open(\"foo.csv\", mode=\"w\") as f:\n",
    "    f.write(\"date,A,B,C\\n20090101,a,1,2\\n20090102,b,3,4\\n20090103,c,4,5\")"
   ]
  },
  {
   "cell_type": "code",
   "execution_count": null,
   "metadata": {},
   "outputs": [],
   "source": [
    "data = \"date,A,B,C\\n20090101,a,1,2\\n20090102,b,3,4\\n20090103,c,4,5\"\n",
    "df = pd.read_csv('foo.csv', index_col=0, parse_dates=True)\n",
    "# 'parse_dates = True' 하나로 복잡한 과정을 모두 생략한다.\n",
    "df"
   ]
  },
  {
   "cell_type": "code",
   "execution_count": null,
   "metadata": {},
   "outputs": [],
   "source": [
    "df.index"
   ]
  },
  {
   "cell_type": "code",
   "execution_count": null,
   "metadata": {},
   "outputs": [],
   "source": [
    "df.columns"
   ]
  },
  {
   "cell_type": "code",
   "execution_count": null,
   "metadata": {},
   "outputs": [],
   "source": [
    "data = (\n",
    "    \"KORD,19990127, 19:00:00, 18:56:00, 0.8100\\n\"\n",
    "    \"KORD,19990127, 20:00:00, 19:56:00, 0.0100\\n\"\n",
    "    \"KORD,19990127, 21:00:00, 20:56:00, -0.5900\\n\"\n",
    "    \"KORD,19990127, 21:00:00, 21:18:00, -0.9900\\n\"\n",
    "    \"KORD,19990127, 22:00:00, 21:56:00, -0.5900\\n\"\n",
    "    \"KORD,19990127, 23:00:00, 22:56:00, -0.5900\"\n",
    ")\n",
    "with open('temp.csv', mode='w') as fh:\n",
    "    fh.write(data)\n",
    "\n",
    "df = pd.read_csv('temp.csv', header=None, parse_dates=[[1, 2], [1, 3]])\n",
    "df\n"
   ]
  },
  {
   "cell_type": "code",
   "execution_count": null,
   "metadata": {},
   "outputs": [],
   "source": [
    "df = pd.read_csv('temp.csv', header=None, parse_dates=[[1, 2], [1, 3]], keep_date_col=True)\n",
    "df"
   ]
  },
  {
   "cell_type": "code",
   "execution_count": null,
   "metadata": {},
   "outputs": [],
   "source": [
    "df = pd.read_csv('temp.csv', index_col=None, parse_dates={'Nominal':[1, 2], 'Actual':[1, 3]})\n",
    "df\n",
    "\n",
    "# 이 경우, header=None을 명시하지 않아, row 0가 column명을 제공하였고 data row수도 5으로 줄어 들었다."
   ]
  },
  {
   "cell_type": "code",
   "execution_count": null,
   "metadata": {},
   "outputs": [],
   "source": [
    "date_spec = {'Nominal':[1, 2], 'Actual':[1, 3]}\n",
    "df = pd.read_csv('temp.csv', header=None, index_col=0, parse_dates=date_spec)\n",
    "df"
   ]
  },
  {
   "cell_type": "code",
   "execution_count": null,
   "metadata": {},
   "outputs": [],
   "source": [
    "# Date parsing functions\n",
    "content = \"\"\"\\\n",
    "a\n",
    "2000-01-01T00:00:00+05:00\n",
    "2000-01-01T00:00:00+06:00\"\"\"\n",
    "\n",
    "df = pd.read_csv(StringIO(content), parse_dates=['a'])\n",
    "df.a"
   ]
  },
  {
   "cell_type": "code",
   "execution_count": null,
   "metadata": {},
   "outputs": [],
   "source": [
    "# 각기 다른 timezone을 갖는 datatime data를 불러 들일 때는 object dtype으로 불러 들이고 to_datetime() with utc = True로 불러 들인다.\n",
    "df = pd.read_csv(StringIO(content))\n",
    "df.a = pd.to_datetime(df.a, utc = True)\n",
    "df.a"
   ]
  },
  {
   "cell_type": "code",
   "execution_count": null,
   "metadata": {},
   "outputs": [],
   "source": [
    "# Inferring datetime format\n",
    "df = pd.read_csv(\n",
    "    \"foo.csv\",\n",
    "    index_col=0,\n",
    "    parse_dates=True,\n",
    ")\n",
    "df"
   ]
  },
  {
   "cell_type": "code",
   "execution_count": null,
   "metadata": {},
   "outputs": [],
   "source": [
    "data = io.StringIO(\"date\\n12 Jan 2000\\n2000-01-13\\n\")\n",
    "df = pd.read_csv(data)\n",
    "df"
   ]
  },
  {
   "cell_type": "code",
   "execution_count": null,
   "metadata": {},
   "outputs": [],
   "source": [
    "df['date'] = pd.to_datetime(df['date'], format='mixed')\n",
    "df"
   ]
  },
  {
   "cell_type": "code",
   "execution_count": null,
   "metadata": {},
   "outputs": [],
   "source": [
    "data = io.StringIO(\"date\\n2020-01-01\\n2020-01-01 03:00\\n\")\n",
    "df = pd.read_csv(data)\n",
    "df['date'] = pd.to_datetime(df['date'], format='ISO8601')\n",
    "# df.date\n",
    "df"
   ]
  },
  {
   "cell_type": "code",
   "execution_count": null,
   "metadata": {},
   "outputs": [],
   "source": [
    "data = \"date,value,cat\\n1/6/2000,5,a\\n2/6/2000,10,b\\n3/6/2000,15,c\"\n",
    "print(data)"
   ]
  },
  {
   "cell_type": "code",
   "execution_count": null,
   "metadata": {},
   "outputs": [],
   "source": [
    "with open(\"tmp.csv\", \"w\") as fh:\n",
    "    fh.write(data)\n",
    "pd.read_csv(\"tmp.csv\", parse_dates=[0])"
   ]
  },
  {
   "cell_type": "code",
   "execution_count": null,
   "metadata": {},
   "outputs": [],
   "source": [
    "pd.read_csv(\"tmp.csv\", dayfirst=True, parse_dates=[0])\n",
    "# 'dayfirst = True'는 읽어 들일때,  DD/MM/YYYY format, 출력은 YYY-MM-DD"
   ]
  },
  {
   "cell_type": "code",
   "execution_count": null,
   "metadata": {},
   "outputs": [],
   "source": [
    "# Writing CSVs to binary file objects     💢\n",
    "import io\n",
    "data = pd.DataFrame([0, 1, 2])\n",
    "buffer = io.BytesIO()\n",
    "data.to_csv(buffer, encoding='utf-8', compression='gzip')\n",
    "buffer"
   ]
  }
 ],
 "metadata": {
  "kernelspec": {
   "display_name": "Python 3",
   "language": "python",
   "name": "python3"
  },
  "language_info": {
   "codemirror_mode": {
    "name": "ipython",
    "version": 3
   },
   "file_extension": ".py",
   "mimetype": "text/x-python",
   "name": "python",
   "nbconvert_exporter": "python",
   "pygments_lexer": "ipython3",
   "version": "3.10.12"
  },
  "orig_nbformat": 4
 },
 "nbformat": 4,
 "nbformat_minor": 2
}
