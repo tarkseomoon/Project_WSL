{
 "cells": [
  {
   "cell_type": "code",
   "execution_count": 34,
   "metadata": {},
   "outputs": [],
   "source": [
    "import numpy as np\n",
    "import pandas as pd"
   ]
  },
  {
   "cell_type": "code",
   "execution_count": 35,
   "metadata": {},
   "outputs": [
    {
     "name": "stdout",
     "output_type": "stream",
     "text": [
      "<class 'pandas.io.pytables.HDFStore'>\n",
      "File path: hdf.h5\n",
      "\n"
     ]
    }
   ],
   "source": [
    "# HDF5(PyTables)\n",
    "pd.set_option('io.hdf.default_format', 'table')\n",
    "\n",
    "store = pd.HDFStore(\"hdf.h5\")\n",
    "# 기존에 hdf.h5라는 file이 존재 한다면, error발생\n",
    "# in advance, to create a empty file.\n",
    "print(store)"
   ]
  },
  {
   "cell_type": "code",
   "execution_count": 36,
   "metadata": {},
   "outputs": [
    {
     "data": {
      "text/plain": [
       "['/df', '/s', '/foo/bar/bah']"
      ]
     },
     "execution_count": 36,
     "metadata": {},
     "output_type": "execute_result"
    }
   ],
   "source": [
    "index = pd.date_range('01/01/2023', periods=8)\n",
    "s = pd.Series(np.random.randn(5), index=['a', 'b', 'c', 'd', 'e'])\n",
    "df = pd.DataFrame(np.random.randn(8, 3), index = index, columns=['A', 'B', 'C'])\n",
    "\n",
    "store.put('s', s)\n",
    "store.put('df', df)\n",
    "# \"store['s'] = s\" -> dictionary key value assigning과 같은 형태.\n",
    "\n",
    "store.keys()\n",
    "# hdf file에 들어 있는 내용물을 확인     🌸"
   ]
  },
  {
   "cell_type": "code",
   "execution_count": 37,
   "metadata": {},
   "outputs": [
    {
     "data": {
      "text/html": [
       "<div>\n",
       "<style scoped>\n",
       "    .dataframe tbody tr th:only-of-type {\n",
       "        vertical-align: middle;\n",
       "    }\n",
       "\n",
       "    .dataframe tbody tr th {\n",
       "        vertical-align: top;\n",
       "    }\n",
       "\n",
       "    .dataframe thead th {\n",
       "        text-align: right;\n",
       "    }\n",
       "</style>\n",
       "<table border=\"1\" class=\"dataframe\">\n",
       "  <thead>\n",
       "    <tr style=\"text-align: right;\">\n",
       "      <th></th>\n",
       "      <th>A</th>\n",
       "      <th>B</th>\n",
       "      <th>C</th>\n",
       "    </tr>\n",
       "  </thead>\n",
       "  <tbody>\n",
       "    <tr>\n",
       "      <th>2023-01-01</th>\n",
       "      <td>1.702872</td>\n",
       "      <td>0.308839</td>\n",
       "      <td>-0.365917</td>\n",
       "    </tr>\n",
       "    <tr>\n",
       "      <th>2023-01-02</th>\n",
       "      <td>0.851215</td>\n",
       "      <td>0.448810</td>\n",
       "      <td>0.165340</td>\n",
       "    </tr>\n",
       "    <tr>\n",
       "      <th>2023-01-03</th>\n",
       "      <td>-1.498664</td>\n",
       "      <td>-0.233697</td>\n",
       "      <td>-0.462251</td>\n",
       "    </tr>\n",
       "    <tr>\n",
       "      <th>2023-01-04</th>\n",
       "      <td>-0.259856</td>\n",
       "      <td>1.271397</td>\n",
       "      <td>-0.256739</td>\n",
       "    </tr>\n",
       "    <tr>\n",
       "      <th>2023-01-05</th>\n",
       "      <td>-1.474300</td>\n",
       "      <td>1.368424</td>\n",
       "      <td>-0.037265</td>\n",
       "    </tr>\n",
       "    <tr>\n",
       "      <th>2023-01-06</th>\n",
       "      <td>-0.054277</td>\n",
       "      <td>1.684516</td>\n",
       "      <td>1.270398</td>\n",
       "    </tr>\n",
       "    <tr>\n",
       "      <th>2023-01-07</th>\n",
       "      <td>-0.274158</td>\n",
       "      <td>0.875411</td>\n",
       "      <td>-0.446735</td>\n",
       "    </tr>\n",
       "    <tr>\n",
       "      <th>2023-01-08</th>\n",
       "      <td>-1.383003</td>\n",
       "      <td>1.533008</td>\n",
       "      <td>-2.200317</td>\n",
       "    </tr>\n",
       "  </tbody>\n",
       "</table>\n",
       "</div>"
      ],
      "text/plain": [
       "                   A         B         C\n",
       "2023-01-01  1.702872  0.308839 -0.365917\n",
       "2023-01-02  0.851215  0.448810  0.165340\n",
       "2023-01-03 -1.498664 -0.233697 -0.462251\n",
       "2023-01-04 -0.259856  1.271397 -0.256739\n",
       "2023-01-05 -1.474300  1.368424 -0.037265\n",
       "2023-01-06 -0.054277  1.684516  1.270398\n",
       "2023-01-07 -0.274158  0.875411 -0.446735\n",
       "2023-01-08 -1.383003  1.533008 -2.200317"
      ]
     },
     "execution_count": 37,
     "metadata": {},
     "output_type": "execute_result"
    }
   ],
   "source": [
    "store['df']\n",
    "# equivalent to \"store.df\""
   ]
  },
  {
   "cell_type": "code",
   "execution_count": 38,
   "metadata": {},
   "outputs": [],
   "source": [
    "del store['df']\n",
    "# deletion of the object specified by key"
   ]
  },
  {
   "cell_type": "code",
   "execution_count": 39,
   "metadata": {},
   "outputs": [
    {
     "data": {
      "text/plain": [
       "<class 'pandas.io.pytables.HDFStore'>\n",
       "File path: hdf.h5"
      ]
     },
     "execution_count": 39,
     "metadata": {},
     "output_type": "execute_result"
    }
   ],
   "source": [
    "# closing a store \n",
    "store.close()\n",
    "store"
   ]
  },
  {
   "cell_type": "code",
   "execution_count": 40,
   "metadata": {},
   "outputs": [
    {
     "name": "stdout",
     "output_type": "stream",
     "text": [
      "True\n"
     ]
    },
    {
     "data": {
      "text/plain": [
       "False"
      ]
     },
     "execution_count": 40,
     "metadata": {},
     "output_type": "execute_result"
    }
   ],
   "source": [
    "print('is_open' in dir(store))\n",
    "# to check 'is_open' in store's attributes\n",
    "store.is_open"
   ]
  },
  {
   "cell_type": "code",
   "execution_count": 41,
   "metadata": {},
   "outputs": [
    {
     "name": "stdout",
     "output_type": "stream",
     "text": [
      "['/s', '/foo/bar/bah']\n"
     ]
    }
   ],
   "source": [
    "with pd.HDFStore('hdf.h5') as store:\n",
    "    print(store.keys())"
   ]
  },
  {
   "cell_type": "code",
   "execution_count": 42,
   "metadata": {},
   "outputs": [],
   "source": [
    "# Read/write API\n",
    "df_tl = pd.DataFrame({'A': list(range(5)), 'B': list(range(5))})"
   ]
  },
  {
   "cell_type": "code",
   "execution_count": 43,
   "metadata": {},
   "outputs": [
    {
     "data": {
      "text/html": [
       "<div>\n",
       "<style scoped>\n",
       "    .dataframe tbody tr th:only-of-type {\n",
       "        vertical-align: middle;\n",
       "    }\n",
       "\n",
       "    .dataframe tbody tr th {\n",
       "        vertical-align: top;\n",
       "    }\n",
       "\n",
       "    .dataframe thead th {\n",
       "        text-align: right;\n",
       "    }\n",
       "</style>\n",
       "<table border=\"1\" class=\"dataframe\">\n",
       "  <thead>\n",
       "    <tr style=\"text-align: right;\">\n",
       "      <th></th>\n",
       "      <th>A</th>\n",
       "      <th>B</th>\n",
       "    </tr>\n",
       "  </thead>\n",
       "  <tbody>\n",
       "    <tr>\n",
       "      <th>3</th>\n",
       "      <td>3</td>\n",
       "      <td>3</td>\n",
       "    </tr>\n",
       "    <tr>\n",
       "      <th>4</th>\n",
       "      <td>4</td>\n",
       "      <td>4</td>\n",
       "    </tr>\n",
       "  </tbody>\n",
       "</table>\n",
       "</div>"
      ],
      "text/plain": [
       "   A  B\n",
       "3  3  3\n",
       "4  4  4"
      ]
     },
     "execution_count": 43,
     "metadata": {},
     "output_type": "execute_result"
    }
   ],
   "source": [
    "df_tl.to_hdf('store_tl.h5', 'table', append=True)\n",
    "pd.read_hdf('store_tl.h5', 'table', where=['index>2'])"
   ]
  },
  {
   "cell_type": "code",
   "execution_count": 44,
   "metadata": {},
   "outputs": [
    {
     "data": {
      "text/html": [
       "<div>\n",
       "<style scoped>\n",
       "    .dataframe tbody tr th:only-of-type {\n",
       "        vertical-align: middle;\n",
       "    }\n",
       "\n",
       "    .dataframe tbody tr th {\n",
       "        vertical-align: top;\n",
       "    }\n",
       "\n",
       "    .dataframe thead th {\n",
       "        text-align: right;\n",
       "    }\n",
       "</style>\n",
       "<table border=\"1\" class=\"dataframe\">\n",
       "  <thead>\n",
       "    <tr style=\"text-align: right;\">\n",
       "      <th></th>\n",
       "      <th>col1</th>\n",
       "      <th>col2</th>\n",
       "    </tr>\n",
       "  </thead>\n",
       "  <tbody>\n",
       "    <tr>\n",
       "      <th>0</th>\n",
       "      <td>0.0</td>\n",
       "      <td>1.0</td>\n",
       "    </tr>\n",
       "    <tr>\n",
       "      <th>1</th>\n",
       "      <td>NaN</td>\n",
       "      <td>NaN</td>\n",
       "    </tr>\n",
       "    <tr>\n",
       "      <th>2</th>\n",
       "      <td>2.0</td>\n",
       "      <td>NaN</td>\n",
       "    </tr>\n",
       "  </tbody>\n",
       "</table>\n",
       "</div>"
      ],
      "text/plain": [
       "   col1  col2\n",
       "0   0.0   1.0\n",
       "1   NaN   NaN\n",
       "2   2.0   NaN"
      ]
     },
     "execution_count": 44,
     "metadata": {},
     "output_type": "execute_result"
    }
   ],
   "source": [
    "df_with_missing = pd.DataFrame(\n",
    "    {'col1': [0, np.nan, 2], \n",
    "     'col2': [1, np.nan, np.nan] \n",
    "    }\n",
    ")\n",
    "df_with_missing"
   ]
  },
  {
   "cell_type": "code",
   "execution_count": 45,
   "metadata": {},
   "outputs": [
    {
     "data": {
      "text/html": [
       "<div>\n",
       "<style scoped>\n",
       "    .dataframe tbody tr th:only-of-type {\n",
       "        vertical-align: middle;\n",
       "    }\n",
       "\n",
       "    .dataframe tbody tr th {\n",
       "        vertical-align: top;\n",
       "    }\n",
       "\n",
       "    .dataframe thead th {\n",
       "        text-align: right;\n",
       "    }\n",
       "</style>\n",
       "<table border=\"1\" class=\"dataframe\">\n",
       "  <thead>\n",
       "    <tr style=\"text-align: right;\">\n",
       "      <th></th>\n",
       "      <th>col1</th>\n",
       "      <th>col2</th>\n",
       "    </tr>\n",
       "  </thead>\n",
       "  <tbody>\n",
       "    <tr>\n",
       "      <th>0</th>\n",
       "      <td>0.0</td>\n",
       "      <td>1.0</td>\n",
       "    </tr>\n",
       "    <tr>\n",
       "      <th>1</th>\n",
       "      <td>NaN</td>\n",
       "      <td>NaN</td>\n",
       "    </tr>\n",
       "    <tr>\n",
       "      <th>2</th>\n",
       "      <td>2.0</td>\n",
       "      <td>NaN</td>\n",
       "    </tr>\n",
       "  </tbody>\n",
       "</table>\n",
       "</div>"
      ],
      "text/plain": [
       "   col1  col2\n",
       "0   0.0   1.0\n",
       "1   NaN   NaN\n",
       "2   2.0   NaN"
      ]
     },
     "execution_count": 45,
     "metadata": {},
     "output_type": "execute_result"
    }
   ],
   "source": [
    "df_with_missing.to_hdf('file.h5', 'df_with_missing', format='table', mode='w')\n",
    "pd.read_hdf('file.h5', 'df_with_missing')"
   ]
  },
  {
   "cell_type": "code",
   "execution_count": 46,
   "metadata": {},
   "outputs": [
    {
     "data": {
      "text/html": [
       "<div>\n",
       "<style scoped>\n",
       "    .dataframe tbody tr th:only-of-type {\n",
       "        vertical-align: middle;\n",
       "    }\n",
       "\n",
       "    .dataframe tbody tr th {\n",
       "        vertical-align: top;\n",
       "    }\n",
       "\n",
       "    .dataframe thead th {\n",
       "        text-align: right;\n",
       "    }\n",
       "</style>\n",
       "<table border=\"1\" class=\"dataframe\">\n",
       "  <thead>\n",
       "    <tr style=\"text-align: right;\">\n",
       "      <th></th>\n",
       "      <th>col1</th>\n",
       "      <th>col2</th>\n",
       "    </tr>\n",
       "  </thead>\n",
       "  <tbody>\n",
       "    <tr>\n",
       "      <th>0</th>\n",
       "      <td>0.0</td>\n",
       "      <td>1.0</td>\n",
       "    </tr>\n",
       "    <tr>\n",
       "      <th>2</th>\n",
       "      <td>2.0</td>\n",
       "      <td>NaN</td>\n",
       "    </tr>\n",
       "  </tbody>\n",
       "</table>\n",
       "</div>"
      ],
      "text/plain": [
       "   col1  col2\n",
       "0   0.0   1.0\n",
       "2   2.0   NaN"
      ]
     },
     "execution_count": 46,
     "metadata": {},
     "output_type": "execute_result"
    }
   ],
   "source": [
    "# \"dropna = True\"\n",
    "df_with_missing.to_hdf(\n",
    "    'file.h5', 'df_with_missing', mode='w', dropna=True\n",
    "    )\n",
    "pd.read_hdf('file.h5', 'df_with_missing')"
   ]
  },
  {
   "cell_type": "code",
   "execution_count": 47,
   "metadata": {},
   "outputs": [],
   "source": [
    "# Fixed format"
   ]
  },
  {
   "cell_type": "code",
   "execution_count": 48,
   "metadata": {},
   "outputs": [],
   "source": [
    "# Table format\n",
    "store = pd.HDFStore('hdf.h5')\n",
    "df1 = df[0:4]\n",
    "df2 = df[4:]"
   ]
  },
  {
   "cell_type": "code",
   "execution_count": 49,
   "metadata": {},
   "outputs": [
    {
     "data": {
      "text/plain": [
       "['/s', '/foo/bar/bah']"
      ]
     },
     "execution_count": 49,
     "metadata": {},
     "output_type": "execute_result"
    }
   ],
   "source": [
    "store.keys()"
   ]
  },
  {
   "cell_type": "code",
   "execution_count": 50,
   "metadata": {},
   "outputs": [
    {
     "data": {
      "text/plain": [
       "<class 'pandas.io.pytables.HDFStore'>\n",
       "File path: hdf.h5"
      ]
     },
     "execution_count": 50,
     "metadata": {},
     "output_type": "execute_result"
    }
   ],
   "source": [
    "store.append('df', df1, format='table')\n",
    "store.append('df', df2, format='table')\n",
    "store"
   ]
  },
  {
   "cell_type": "code",
   "execution_count": 51,
   "metadata": {},
   "outputs": [
    {
     "data": {
      "text/html": [
       "<div>\n",
       "<style scoped>\n",
       "    .dataframe tbody tr th:only-of-type {\n",
       "        vertical-align: middle;\n",
       "    }\n",
       "\n",
       "    .dataframe tbody tr th {\n",
       "        vertical-align: top;\n",
       "    }\n",
       "\n",
       "    .dataframe thead th {\n",
       "        text-align: right;\n",
       "    }\n",
       "</style>\n",
       "<table border=\"1\" class=\"dataframe\">\n",
       "  <thead>\n",
       "    <tr style=\"text-align: right;\">\n",
       "      <th></th>\n",
       "      <th>A</th>\n",
       "      <th>B</th>\n",
       "      <th>C</th>\n",
       "    </tr>\n",
       "  </thead>\n",
       "  <tbody>\n",
       "    <tr>\n",
       "      <th>2023-01-01</th>\n",
       "      <td>1.702872</td>\n",
       "      <td>0.308839</td>\n",
       "      <td>-0.365917</td>\n",
       "    </tr>\n",
       "    <tr>\n",
       "      <th>2023-01-02</th>\n",
       "      <td>0.851215</td>\n",
       "      <td>0.448810</td>\n",
       "      <td>0.165340</td>\n",
       "    </tr>\n",
       "    <tr>\n",
       "      <th>2023-01-03</th>\n",
       "      <td>-1.498664</td>\n",
       "      <td>-0.233697</td>\n",
       "      <td>-0.462251</td>\n",
       "    </tr>\n",
       "    <tr>\n",
       "      <th>2023-01-04</th>\n",
       "      <td>-0.259856</td>\n",
       "      <td>1.271397</td>\n",
       "      <td>-0.256739</td>\n",
       "    </tr>\n",
       "    <tr>\n",
       "      <th>2023-01-05</th>\n",
       "      <td>-1.474300</td>\n",
       "      <td>1.368424</td>\n",
       "      <td>-0.037265</td>\n",
       "    </tr>\n",
       "    <tr>\n",
       "      <th>2023-01-06</th>\n",
       "      <td>-0.054277</td>\n",
       "      <td>1.684516</td>\n",
       "      <td>1.270398</td>\n",
       "    </tr>\n",
       "    <tr>\n",
       "      <th>2023-01-07</th>\n",
       "      <td>-0.274158</td>\n",
       "      <td>0.875411</td>\n",
       "      <td>-0.446735</td>\n",
       "    </tr>\n",
       "    <tr>\n",
       "      <th>2023-01-08</th>\n",
       "      <td>-1.383003</td>\n",
       "      <td>1.533008</td>\n",
       "      <td>-2.200317</td>\n",
       "    </tr>\n",
       "  </tbody>\n",
       "</table>\n",
       "</div>"
      ],
      "text/plain": [
       "                   A         B         C\n",
       "2023-01-01  1.702872  0.308839 -0.365917\n",
       "2023-01-02  0.851215  0.448810  0.165340\n",
       "2023-01-03 -1.498664 -0.233697 -0.462251\n",
       "2023-01-04 -0.259856  1.271397 -0.256739\n",
       "2023-01-05 -1.474300  1.368424 -0.037265\n",
       "2023-01-06 -0.054277  1.684516  1.270398\n",
       "2023-01-07 -0.274158  0.875411 -0.446735\n",
       "2023-01-08 -1.383003  1.533008 -2.200317"
      ]
     },
     "execution_count": 51,
     "metadata": {},
     "output_type": "execute_result"
    }
   ],
   "source": [
    "# select the entire object\n",
    "store.select('df')"
   ]
  },
  {
   "cell_type": "code",
   "execution_count": 52,
   "metadata": {},
   "outputs": [
    {
     "data": {
      "text/plain": [
       "'frame_table'"
      ]
     },
     "execution_count": 52,
     "metadata": {},
     "output_type": "execute_result"
    }
   ],
   "source": [
    "store.root.df._v_attrs.pandas_type"
   ]
  },
  {
   "cell_type": "code",
   "execution_count": 53,
   "metadata": {},
   "outputs": [],
   "source": [
    "# Hierarchical keys"
   ]
  },
  {
   "cell_type": "code",
   "execution_count": 54,
   "metadata": {},
   "outputs": [
    {
     "data": {
      "text/plain": [
       "<class 'pandas.io.pytables.HDFStore'>\n",
       "File path: hdf.h5"
      ]
     },
     "execution_count": 54,
     "metadata": {},
     "output_type": "execute_result"
    }
   ],
   "source": [
    "store.put(\"foo/bar/bah\", df)\n",
    "store.append(\"food/orange\", df)\n",
    "store.append(\"food/apple\", df)\n",
    "store"
   ]
  },
  {
   "cell_type": "code",
   "execution_count": 55,
   "metadata": {},
   "outputs": [
    {
     "data": {
      "text/plain": [
       "['/df', '/s', '/food/apple', '/food/orange', '/foo/bar/bah']"
      ]
     },
     "execution_count": 55,
     "metadata": {},
     "output_type": "execute_result"
    }
   ],
   "source": [
    "store.keys()"
   ]
  },
  {
   "cell_type": "code",
   "execution_count": 56,
   "metadata": {},
   "outputs": [
    {
     "data": {
      "text/plain": [
       "['/df', '/s', '/foo/bar/bah']"
      ]
     },
     "execution_count": 56,
     "metadata": {},
     "output_type": "execute_result"
    }
   ],
   "source": [
    "store.remove(\"food\")\n",
    "# \"/\"없이 지정할 수 있고, 지정된 지점을 포함하여 이하 모든 것을 삭제한다.(.remove(...))\n",
    "store.keys()"
   ]
  },
  {
   "cell_type": "code",
   "execution_count": 57,
   "metadata": {},
   "outputs": [],
   "source": [
    "# store['/foo/bar']\n",
    "# 해당 지점에 data가 없으면 짜증(?, 혹시 Error?)을 낸다. "
   ]
  },
  {
   "cell_type": "code",
   "execution_count": 58,
   "metadata": {},
   "outputs": [
    {
     "name": "stdout",
     "output_type": "stream",
     "text": [
      "Group:/foo\n",
      "KEY:/s\n",
      "a    0.266915\n",
      "b   -0.573617\n",
      "c    0.686586\n",
      "d   -1.429270\n",
      "e   -0.088349\n",
      "dtype: float64\n",
      "KEY:/df\n",
      "                   A         B         C\n",
      "2023-01-01  1.702872  0.308839 -0.365917\n",
      "2023-01-02  0.851215  0.448810  0.165340\n",
      "2023-01-03 -1.498664 -0.233697 -0.462251\n",
      "2023-01-04 -0.259856  1.271397 -0.256739\n",
      "2023-01-05 -1.474300  1.368424 -0.037265\n",
      "2023-01-06 -0.054277  1.684516  1.270398\n",
      "2023-01-07 -0.274158  0.875411 -0.446735\n",
      "2023-01-08 -1.383003  1.533008 -2.200317\n",
      "Group:/foo/bar\n",
      "KEY:/foo/bar/bah\n",
      "                   A         B         C\n",
      "2023-01-01  1.702872  0.308839 -0.365917\n",
      "2023-01-02  0.851215  0.448810  0.165340\n",
      "2023-01-03 -1.498664 -0.233697 -0.462251\n",
      "2023-01-04 -0.259856  1.271397 -0.256739\n",
      "2023-01-05 -1.474300  1.368424 -0.037265\n",
      "2023-01-06 -0.054277  1.684516  1.270398\n",
      "2023-01-07 -0.274158  0.875411 -0.446735\n",
      "2023-01-08 -1.383003  1.533008 -2.200317\n"
     ]
    }
   ],
   "source": [
    "# Walk through     🌸🪷🏵️💮😵‍💫\n",
    "for (path, subgroups, subkeys) in store.walk():\n",
    "    for subgroup in subgroups:\n",
    "      print(f\"Group:{path}/{subgroup}\")\n",
    "    for subkey in subkeys:\n",
    "      key = \"/\".join([path, subkey])\n",
    "      print(f\"KEY:{key}\")\n",
    "      print(store.get(key))"
   ]
  },
  {
   "cell_type": "code",
   "execution_count": 59,
   "metadata": {},
   "outputs": [
    {
     "data": {
      "text/plain": [
       "['/df', '/s', '/foo/bar/bah']"
      ]
     },
     "execution_count": 59,
     "metadata": {},
     "output_type": "execute_result"
    }
   ],
   "source": [
    "store.keys()\n"
   ]
  },
  {
   "cell_type": "code",
   "execution_count": 60,
   "metadata": {},
   "outputs": [
    {
     "data": {
      "text/plain": [
       "[/df (Group) ''\n",
       "   children := ['table' (Table)],\n",
       " /s (Group) ''\n",
       "   children := ['table' (Table)],\n",
       " /foo/bar/bah (Group) ''\n",
       "   children := ['table' (Table)]]"
      ]
     },
     "execution_count": 60,
     "metadata": {},
     "output_type": "execute_result"
    }
   ],
   "source": [
    "store.groups()"
   ]
  },
  {
   "cell_type": "code",
   "execution_count": 61,
   "metadata": {},
   "outputs": [
    {
     "name": "stdout",
     "output_type": "stream",
     "text": [
      "KEY:/df\n",
      "                   A         B         C\n",
      "2023-01-01  1.702872  0.308839 -0.365917\n",
      "2023-01-02  0.851215  0.448810  0.165340\n",
      "2023-01-03 -1.498664 -0.233697 -0.462251\n",
      "2023-01-04 -0.259856  1.271397 -0.256739\n",
      "2023-01-05 -1.474300  1.368424 -0.037265\n",
      "2023-01-06 -0.054277  1.684516  1.270398\n",
      "2023-01-07 -0.274158  0.875411 -0.446735\n",
      "2023-01-08 -1.383003  1.533008 -2.200317\n",
      "KEY:/s\n",
      "a    0.266915\n",
      "b   -0.573617\n",
      "c    0.686586\n",
      "d   -1.429270\n",
      "e   -0.088349\n",
      "dtype: float64\n",
      "KEY:/foo/bar/bah\n",
      "                   A         B         C\n",
      "2023-01-01  1.702872  0.308839 -0.365917\n",
      "2023-01-02  0.851215  0.448810  0.165340\n",
      "2023-01-03 -1.498664 -0.233697 -0.462251\n",
      "2023-01-04 -0.259856  1.271397 -0.256739\n",
      "2023-01-05 -1.474300  1.368424 -0.037265\n",
      "2023-01-06 -0.054277  1.684516  1.270398\n",
      "2023-01-07 -0.274158  0.875411 -0.446735\n",
      "2023-01-08 -1.383003  1.533008 -2.200317\n"
     ]
    }
   ],
   "source": [
    "# \n",
    "\n",
    "for key in store.keys():\n",
    "    print(f\"KEY:{key}\")\n",
    "    print(store.get(key))"
   ]
  },
  {
   "cell_type": "code",
   "execution_count": 62,
   "metadata": {},
   "outputs": [
    {
     "data": {
      "text/html": [
       "<div>\n",
       "<style scoped>\n",
       "    .dataframe tbody tr th:only-of-type {\n",
       "        vertical-align: middle;\n",
       "    }\n",
       "\n",
       "    .dataframe tbody tr th {\n",
       "        vertical-align: top;\n",
       "    }\n",
       "\n",
       "    .dataframe thead th {\n",
       "        text-align: right;\n",
       "    }\n",
       "</style>\n",
       "<table border=\"1\" class=\"dataframe\">\n",
       "  <thead>\n",
       "    <tr style=\"text-align: right;\">\n",
       "      <th></th>\n",
       "      <th>A</th>\n",
       "      <th>B</th>\n",
       "      <th>C</th>\n",
       "    </tr>\n",
       "  </thead>\n",
       "  <tbody>\n",
       "    <tr>\n",
       "      <th>2023-01-01</th>\n",
       "      <td>1.702872</td>\n",
       "      <td>0.308839</td>\n",
       "      <td>-0.365917</td>\n",
       "    </tr>\n",
       "    <tr>\n",
       "      <th>2023-01-02</th>\n",
       "      <td>0.851215</td>\n",
       "      <td>0.448810</td>\n",
       "      <td>0.165340</td>\n",
       "    </tr>\n",
       "    <tr>\n",
       "      <th>2023-01-03</th>\n",
       "      <td>-1.498664</td>\n",
       "      <td>-0.233697</td>\n",
       "      <td>-0.462251</td>\n",
       "    </tr>\n",
       "    <tr>\n",
       "      <th>2023-01-04</th>\n",
       "      <td>-0.259856</td>\n",
       "      <td>1.271397</td>\n",
       "      <td>-0.256739</td>\n",
       "    </tr>\n",
       "    <tr>\n",
       "      <th>2023-01-05</th>\n",
       "      <td>-1.474300</td>\n",
       "      <td>1.368424</td>\n",
       "      <td>-0.037265</td>\n",
       "    </tr>\n",
       "    <tr>\n",
       "      <th>2023-01-06</th>\n",
       "      <td>-0.054277</td>\n",
       "      <td>1.684516</td>\n",
       "      <td>1.270398</td>\n",
       "    </tr>\n",
       "    <tr>\n",
       "      <th>2023-01-07</th>\n",
       "      <td>-0.274158</td>\n",
       "      <td>0.875411</td>\n",
       "      <td>-0.446735</td>\n",
       "    </tr>\n",
       "    <tr>\n",
       "      <th>2023-01-08</th>\n",
       "      <td>-1.383003</td>\n",
       "      <td>1.533008</td>\n",
       "      <td>-2.200317</td>\n",
       "    </tr>\n",
       "  </tbody>\n",
       "</table>\n",
       "</div>"
      ],
      "text/plain": [
       "                   A         B         C\n",
       "2023-01-01  1.702872  0.308839 -0.365917\n",
       "2023-01-02  0.851215  0.448810  0.165340\n",
       "2023-01-03 -1.498664 -0.233697 -0.462251\n",
       "2023-01-04 -0.259856  1.271397 -0.256739\n",
       "2023-01-05 -1.474300  1.368424 -0.037265\n",
       "2023-01-06 -0.054277  1.684516  1.270398\n",
       "2023-01-07 -0.274158  0.875411 -0.446735\n",
       "2023-01-08 -1.383003  1.533008 -2.200317"
      ]
     },
     "execution_count": 62,
     "metadata": {},
     "output_type": "execute_result"
    }
   ],
   "source": [
    "store.get('/df')"
   ]
  },
  {
   "cell_type": "code",
   "execution_count": 64,
   "metadata": {},
   "outputs": [
    {
     "ename": "KeyError",
     "evalue": "'No object named df_mixed in the file'",
     "output_type": "error",
     "traceback": [
      "\u001b[0;31m---------------------------------------------------------------------------\u001b[0m",
      "\u001b[0;31mKeyError\u001b[0m                                  Traceback (most recent call last)",
      "Cell \u001b[0;32mIn[64], line 1\u001b[0m\n\u001b[0;32m----> 1\u001b[0m \u001b[39mdel\u001b[39;00m store[\u001b[39m'\u001b[39m\u001b[39mdf_mixed\u001b[39m\u001b[39m'\u001b[39m]\n",
      "File \u001b[0;32m~/.local/lib/python3.10/site-packages/pandas/io/pytables.py:602\u001b[0m, in \u001b[0;36mHDFStore.__delitem__\u001b[0;34m(self, key)\u001b[0m\n\u001b[1;32m    601\u001b[0m \u001b[39mdef\u001b[39;00m \u001b[39m__delitem__\u001b[39m(\u001b[39mself\u001b[39m, key: \u001b[39mstr\u001b[39m) \u001b[39m-\u001b[39m\u001b[39m>\u001b[39m \u001b[39mNone\u001b[39;00m:\n\u001b[0;32m--> 602\u001b[0m     \u001b[39mreturn\u001b[39;00m \u001b[39mself\u001b[39;49m\u001b[39m.\u001b[39;49mremove(key)\n",
      "File \u001b[0;32m~/.local/lib/python3.10/site-packages/pandas/io/pytables.py:1156\u001b[0m, in \u001b[0;36mHDFStore.remove\u001b[0;34m(self, key, where, start, stop)\u001b[0m\n\u001b[1;32m   1154\u001b[0m where \u001b[39m=\u001b[39m _ensure_term(where, scope_level\u001b[39m=\u001b[39m\u001b[39m1\u001b[39m)\n\u001b[1;32m   1155\u001b[0m \u001b[39mtry\u001b[39;00m:\n\u001b[0;32m-> 1156\u001b[0m     s \u001b[39m=\u001b[39m \u001b[39mself\u001b[39;49m\u001b[39m.\u001b[39;49mget_storer(key)\n\u001b[1;32m   1157\u001b[0m \u001b[39mexcept\u001b[39;00m \u001b[39mKeyError\u001b[39;00m:\n\u001b[1;32m   1158\u001b[0m     \u001b[39m# the key is not a valid store, re-raising KeyError\u001b[39;00m\n\u001b[1;32m   1159\u001b[0m     \u001b[39mraise\u001b[39;00m\n",
      "File \u001b[0;32m~/.local/lib/python3.10/site-packages/pandas/io/pytables.py:1511\u001b[0m, in \u001b[0;36mHDFStore.get_storer\u001b[0;34m(self, key)\u001b[0m\n\u001b[1;32m   1509\u001b[0m group \u001b[39m=\u001b[39m \u001b[39mself\u001b[39m\u001b[39m.\u001b[39mget_node(key)\n\u001b[1;32m   1510\u001b[0m \u001b[39mif\u001b[39;00m group \u001b[39mis\u001b[39;00m \u001b[39mNone\u001b[39;00m:\n\u001b[0;32m-> 1511\u001b[0m     \u001b[39mraise\u001b[39;00m \u001b[39mKeyError\u001b[39;00m(\u001b[39mf\u001b[39m\u001b[39m\"\u001b[39m\u001b[39mNo object named \u001b[39m\u001b[39m{\u001b[39;00mkey\u001b[39m}\u001b[39;00m\u001b[39m in the file\u001b[39m\u001b[39m\"\u001b[39m)\n\u001b[1;32m   1513\u001b[0m s \u001b[39m=\u001b[39m \u001b[39mself\u001b[39m\u001b[39m.\u001b[39m_create_storer(group)\n\u001b[1;32m   1514\u001b[0m s\u001b[39m.\u001b[39minfer_axes()\n",
      "\u001b[0;31mKeyError\u001b[0m: 'No object named df_mixed in the file'"
     ]
    }
   ],
   "source": [
    "del store['df_mixed']"
   ]
  },
  {
   "cell_type": "code",
   "execution_count": 65,
   "metadata": {},
   "outputs": [],
   "source": [
    "# Storing types \n",
    "# storing mixed types in a table\n",
    "\n",
    "df_mixed = pd.DataFrame(\n",
    "    {\n",
    "        'A': np.random.randn(8),\n",
    "        'B': np.random.randn(8),\n",
    "        'C': np.array(np.random.randn(8), dtype='float32'),\n",
    "        'string': 'string',\n",
    "        'int': 1,\n",
    "        'bool': True,\n",
    "        'datetime64':pd.Timestamp('20230102')\n",
    "    },\n",
    "    index=list(range(8)),\n",
    ")"
   ]
  },
  {
   "cell_type": "code",
   "execution_count": 66,
   "metadata": {},
   "outputs": [],
   "source": [
    "df_mixed.loc[df_mixed.index[3:5], ['A', 'B', 'string', 'datetime64']] = np.nan"
   ]
  },
  {
   "cell_type": "code",
   "execution_count": 67,
   "metadata": {},
   "outputs": [],
   "source": [
    "store.append(\"df_mixed\", df_mixed, min_itemsize={'values':50})"
   ]
  },
  {
   "cell_type": "code",
   "execution_count": 68,
   "metadata": {},
   "outputs": [
    {
     "data": {
      "text/html": [
       "<div>\n",
       "<style scoped>\n",
       "    .dataframe tbody tr th:only-of-type {\n",
       "        vertical-align: middle;\n",
       "    }\n",
       "\n",
       "    .dataframe tbody tr th {\n",
       "        vertical-align: top;\n",
       "    }\n",
       "\n",
       "    .dataframe thead th {\n",
       "        text-align: right;\n",
       "    }\n",
       "</style>\n",
       "<table border=\"1\" class=\"dataframe\">\n",
       "  <thead>\n",
       "    <tr style=\"text-align: right;\">\n",
       "      <th></th>\n",
       "      <th>A</th>\n",
       "      <th>B</th>\n",
       "      <th>C</th>\n",
       "      <th>string</th>\n",
       "      <th>int</th>\n",
       "      <th>bool</th>\n",
       "      <th>datetime64</th>\n",
       "    </tr>\n",
       "  </thead>\n",
       "  <tbody>\n",
       "    <tr>\n",
       "      <th>0</th>\n",
       "      <td>0.289198</td>\n",
       "      <td>-1.149931</td>\n",
       "      <td>-0.698533</td>\n",
       "      <td>string</td>\n",
       "      <td>1</td>\n",
       "      <td>True</td>\n",
       "      <td>2023-01-02</td>\n",
       "    </tr>\n",
       "    <tr>\n",
       "      <th>1</th>\n",
       "      <td>1.972578</td>\n",
       "      <td>0.985096</td>\n",
       "      <td>2.040026</td>\n",
       "      <td>string</td>\n",
       "      <td>1</td>\n",
       "      <td>True</td>\n",
       "      <td>2023-01-02</td>\n",
       "    </tr>\n",
       "    <tr>\n",
       "      <th>2</th>\n",
       "      <td>-0.032942</td>\n",
       "      <td>0.347309</td>\n",
       "      <td>1.292510</td>\n",
       "      <td>string</td>\n",
       "      <td>1</td>\n",
       "      <td>True</td>\n",
       "      <td>2023-01-02</td>\n",
       "    </tr>\n",
       "    <tr>\n",
       "      <th>3</th>\n",
       "      <td>NaN</td>\n",
       "      <td>NaN</td>\n",
       "      <td>0.827232</td>\n",
       "      <td>NaN</td>\n",
       "      <td>1</td>\n",
       "      <td>True</td>\n",
       "      <td>NaT</td>\n",
       "    </tr>\n",
       "    <tr>\n",
       "      <th>4</th>\n",
       "      <td>NaN</td>\n",
       "      <td>NaN</td>\n",
       "      <td>-1.028917</td>\n",
       "      <td>NaN</td>\n",
       "      <td>1</td>\n",
       "      <td>True</td>\n",
       "      <td>NaT</td>\n",
       "    </tr>\n",
       "    <tr>\n",
       "      <th>5</th>\n",
       "      <td>-2.334176</td>\n",
       "      <td>-0.696779</td>\n",
       "      <td>0.409770</td>\n",
       "      <td>string</td>\n",
       "      <td>1</td>\n",
       "      <td>True</td>\n",
       "      <td>2023-01-02</td>\n",
       "    </tr>\n",
       "    <tr>\n",
       "      <th>6</th>\n",
       "      <td>-1.239585</td>\n",
       "      <td>1.307702</td>\n",
       "      <td>-0.424616</td>\n",
       "      <td>string</td>\n",
       "      <td>1</td>\n",
       "      <td>True</td>\n",
       "      <td>2023-01-02</td>\n",
       "    </tr>\n",
       "    <tr>\n",
       "      <th>7</th>\n",
       "      <td>-1.714415</td>\n",
       "      <td>0.327557</td>\n",
       "      <td>0.118833</td>\n",
       "      <td>string</td>\n",
       "      <td>1</td>\n",
       "      <td>True</td>\n",
       "      <td>2023-01-02</td>\n",
       "    </tr>\n",
       "  </tbody>\n",
       "</table>\n",
       "</div>"
      ],
      "text/plain": [
       "          A         B         C  string  int  bool datetime64\n",
       "0  0.289198 -1.149931 -0.698533  string    1  True 2023-01-02\n",
       "1  1.972578  0.985096  2.040026  string    1  True 2023-01-02\n",
       "2 -0.032942  0.347309  1.292510  string    1  True 2023-01-02\n",
       "3       NaN       NaN  0.827232     NaN    1  True        NaT\n",
       "4       NaN       NaN -1.028917     NaN    1  True        NaT\n",
       "5 -2.334176 -0.696779  0.409770  string    1  True 2023-01-02\n",
       "6 -1.239585  1.307702 -0.424616  string    1  True 2023-01-02\n",
       "7 -1.714415  0.327557  0.118833  string    1  True 2023-01-02"
      ]
     },
     "execution_count": 68,
     "metadata": {},
     "output_type": "execute_result"
    }
   ],
   "source": [
    "df_mixed1 = store.select('df_mixed')\n",
    "df_mixed1"
   ]
  },
  {
   "cell_type": "code",
   "execution_count": 69,
   "metadata": {},
   "outputs": [
    {
     "data": {
      "text/plain": [
       "float64           2\n",
       "float32           1\n",
       "object            1\n",
       "int64             1\n",
       "bool              1\n",
       "datetime64[ns]    1\n",
       "Name: count, dtype: int64"
      ]
     },
     "execution_count": 69,
     "metadata": {},
     "output_type": "execute_result"
    }
   ],
   "source": [
    "df_mixed1.dtypes.value_counts()"
   ]
  },
  {
   "cell_type": "code",
   "execution_count": 70,
   "metadata": {},
   "outputs": [
    {
     "data": {
      "text/plain": [
       "/df_mixed/table (Table(8,)) ''\n",
       "  description := {\n",
       "  \"index\": Int64Col(shape=(), dflt=0, pos=0),\n",
       "  \"values_block_0\": Float64Col(shape=(2,), dflt=0.0, pos=1),\n",
       "  \"values_block_1\": Float32Col(shape=(1,), dflt=0.0, pos=2),\n",
       "  \"values_block_2\": StringCol(itemsize=50, shape=(1,), dflt=b'', pos=3),\n",
       "  \"values_block_3\": Int64Col(shape=(1,), dflt=0, pos=4),\n",
       "  \"values_block_4\": BoolCol(shape=(1,), dflt=False, pos=5),\n",
       "  \"values_block_5\": Int64Col(shape=(1,), dflt=0, pos=6)}\n",
       "  byteorder := 'little'\n",
       "  chunkshape := (689,)\n",
       "  autoindex := True\n",
       "  colindexes := {\n",
       "    \"index\": Index(6, mediumshuffle, zlib(1)).is_csi=False}"
      ]
     },
     "execution_count": 70,
     "metadata": {},
     "output_type": "execute_result"
    }
   ],
   "source": [
    "# We have provided a minimun string column size\n",
    "store.root.df_mixed.table"
   ]
  },
  {
   "cell_type": "code",
   "execution_count": 71,
   "metadata": {},
   "outputs": [
    {
     "data": {
      "text/html": [
       "<div>\n",
       "<style scoped>\n",
       "    .dataframe tbody tr th:only-of-type {\n",
       "        vertical-align: middle;\n",
       "    }\n",
       "\n",
       "    .dataframe tbody tr th {\n",
       "        vertical-align: top;\n",
       "    }\n",
       "\n",
       "    .dataframe thead th {\n",
       "        text-align: right;\n",
       "    }\n",
       "</style>\n",
       "<table border=\"1\" class=\"dataframe\">\n",
       "  <thead>\n",
       "    <tr style=\"text-align: right;\">\n",
       "      <th></th>\n",
       "      <th></th>\n",
       "      <th>A</th>\n",
       "      <th>B</th>\n",
       "      <th>C</th>\n",
       "    </tr>\n",
       "    <tr>\n",
       "      <th>foo</th>\n",
       "      <th>bar</th>\n",
       "      <th></th>\n",
       "      <th></th>\n",
       "      <th></th>\n",
       "    </tr>\n",
       "  </thead>\n",
       "  <tbody>\n",
       "    <tr>\n",
       "      <th rowspan=\"3\" valign=\"top\">foo</th>\n",
       "      <th>one</th>\n",
       "      <td>-0.446079</td>\n",
       "      <td>-0.925904</td>\n",
       "      <td>-1.931547</td>\n",
       "    </tr>\n",
       "    <tr>\n",
       "      <th>two</th>\n",
       "      <td>-0.110306</td>\n",
       "      <td>-0.090154</td>\n",
       "      <td>0.166987</td>\n",
       "    </tr>\n",
       "    <tr>\n",
       "      <th>three</th>\n",
       "      <td>-0.424137</td>\n",
       "      <td>-0.220232</td>\n",
       "      <td>-0.012431</td>\n",
       "    </tr>\n",
       "    <tr>\n",
       "      <th rowspan=\"2\" valign=\"top\">bar</th>\n",
       "      <th>one</th>\n",
       "      <td>-0.592825</td>\n",
       "      <td>0.385448</td>\n",
       "      <td>-0.214493</td>\n",
       "    </tr>\n",
       "    <tr>\n",
       "      <th>two</th>\n",
       "      <td>1.099544</td>\n",
       "      <td>0.364129</td>\n",
       "      <td>0.121549</td>\n",
       "    </tr>\n",
       "    <tr>\n",
       "      <th rowspan=\"2\" valign=\"top\">baz</th>\n",
       "      <th>two</th>\n",
       "      <td>-1.799170</td>\n",
       "      <td>0.811012</td>\n",
       "      <td>-0.199961</td>\n",
       "    </tr>\n",
       "    <tr>\n",
       "      <th>three</th>\n",
       "      <td>-1.503668</td>\n",
       "      <td>-0.087434</td>\n",
       "      <td>-1.053881</td>\n",
       "    </tr>\n",
       "    <tr>\n",
       "      <th rowspan=\"3\" valign=\"top\">qux</th>\n",
       "      <th>one</th>\n",
       "      <td>-0.253864</td>\n",
       "      <td>-1.291565</td>\n",
       "      <td>0.468244</td>\n",
       "    </tr>\n",
       "    <tr>\n",
       "      <th>two</th>\n",
       "      <td>0.255753</td>\n",
       "      <td>1.135225</td>\n",
       "      <td>0.314302</td>\n",
       "    </tr>\n",
       "    <tr>\n",
       "      <th>three</th>\n",
       "      <td>1.100850</td>\n",
       "      <td>0.539631</td>\n",
       "      <td>-0.358576</td>\n",
       "    </tr>\n",
       "  </tbody>\n",
       "</table>\n",
       "</div>"
      ],
      "text/plain": [
       "                  A         B         C\n",
       "foo bar                                \n",
       "foo one   -0.446079 -0.925904 -1.931547\n",
       "    two   -0.110306 -0.090154  0.166987\n",
       "    three -0.424137 -0.220232 -0.012431\n",
       "bar one   -0.592825  0.385448 -0.214493\n",
       "    two    1.099544  0.364129  0.121549\n",
       "baz two   -1.799170  0.811012 -0.199961\n",
       "    three -1.503668 -0.087434 -1.053881\n",
       "qux one   -0.253864 -1.291565  0.468244\n",
       "    two    0.255753  1.135225  0.314302\n",
       "    three  1.100850  0.539631 -0.358576"
      ]
     },
     "execution_count": 71,
     "metadata": {},
     "output_type": "execute_result"
    }
   ],
   "source": [
    "# Storing MultiIndex DataFrames\n",
    "index = pd.MultiIndex(\n",
    "    levels=[['foo', 'bar', 'baz', 'qux'], ['one', 'two', 'three']],\n",
    "    codes=[[0, 0, 0, 1, 1, 2, 2, 3, 3, 3], [0, 1, 2, 0, 1, 1, 2, 0, 1, 2]],\n",
    "    names=['foo', 'bar'],\n",
    ")\n",
    "df_mi = pd.DataFrame(np.random.randn(10,3), index = index, columns=['A', 'B', 'C'])\n",
    "df_mi"
   ]
  },
  {
   "cell_type": "code",
   "execution_count": 72,
   "metadata": {},
   "outputs": [
    {
     "data": {
      "text/html": [
       "<div>\n",
       "<style scoped>\n",
       "    .dataframe tbody tr th:only-of-type {\n",
       "        vertical-align: middle;\n",
       "    }\n",
       "\n",
       "    .dataframe tbody tr th {\n",
       "        vertical-align: top;\n",
       "    }\n",
       "\n",
       "    .dataframe thead th {\n",
       "        text-align: right;\n",
       "    }\n",
       "</style>\n",
       "<table border=\"1\" class=\"dataframe\">\n",
       "  <thead>\n",
       "    <tr style=\"text-align: right;\">\n",
       "      <th></th>\n",
       "      <th></th>\n",
       "      <th>A</th>\n",
       "      <th>B</th>\n",
       "      <th>C</th>\n",
       "    </tr>\n",
       "    <tr>\n",
       "      <th>foo</th>\n",
       "      <th>bar</th>\n",
       "      <th></th>\n",
       "      <th></th>\n",
       "      <th></th>\n",
       "    </tr>\n",
       "  </thead>\n",
       "  <tbody>\n",
       "    <tr>\n",
       "      <th rowspan=\"3\" valign=\"top\">foo</th>\n",
       "      <th>one</th>\n",
       "      <td>-0.446079</td>\n",
       "      <td>-0.925904</td>\n",
       "      <td>-1.931547</td>\n",
       "    </tr>\n",
       "    <tr>\n",
       "      <th>two</th>\n",
       "      <td>-0.110306</td>\n",
       "      <td>-0.090154</td>\n",
       "      <td>0.166987</td>\n",
       "    </tr>\n",
       "    <tr>\n",
       "      <th>three</th>\n",
       "      <td>-0.424137</td>\n",
       "      <td>-0.220232</td>\n",
       "      <td>-0.012431</td>\n",
       "    </tr>\n",
       "    <tr>\n",
       "      <th rowspan=\"2\" valign=\"top\">bar</th>\n",
       "      <th>one</th>\n",
       "      <td>-0.592825</td>\n",
       "      <td>0.385448</td>\n",
       "      <td>-0.214493</td>\n",
       "    </tr>\n",
       "    <tr>\n",
       "      <th>two</th>\n",
       "      <td>1.099544</td>\n",
       "      <td>0.364129</td>\n",
       "      <td>0.121549</td>\n",
       "    </tr>\n",
       "    <tr>\n",
       "      <th rowspan=\"2\" valign=\"top\">baz</th>\n",
       "      <th>two</th>\n",
       "      <td>-1.799170</td>\n",
       "      <td>0.811012</td>\n",
       "      <td>-0.199961</td>\n",
       "    </tr>\n",
       "    <tr>\n",
       "      <th>three</th>\n",
       "      <td>-1.503668</td>\n",
       "      <td>-0.087434</td>\n",
       "      <td>-1.053881</td>\n",
       "    </tr>\n",
       "    <tr>\n",
       "      <th rowspan=\"3\" valign=\"top\">qux</th>\n",
       "      <th>one</th>\n",
       "      <td>-0.253864</td>\n",
       "      <td>-1.291565</td>\n",
       "      <td>0.468244</td>\n",
       "    </tr>\n",
       "    <tr>\n",
       "      <th>two</th>\n",
       "      <td>0.255753</td>\n",
       "      <td>1.135225</td>\n",
       "      <td>0.314302</td>\n",
       "    </tr>\n",
       "    <tr>\n",
       "      <th>three</th>\n",
       "      <td>1.100850</td>\n",
       "      <td>0.539631</td>\n",
       "      <td>-0.358576</td>\n",
       "    </tr>\n",
       "  </tbody>\n",
       "</table>\n",
       "</div>"
      ],
      "text/plain": [
       "                  A         B         C\n",
       "foo bar                                \n",
       "foo one   -0.446079 -0.925904 -1.931547\n",
       "    two   -0.110306 -0.090154  0.166987\n",
       "    three -0.424137 -0.220232 -0.012431\n",
       "bar one   -0.592825  0.385448 -0.214493\n",
       "    two    1.099544  0.364129  0.121549\n",
       "baz two   -1.799170  0.811012 -0.199961\n",
       "    three -1.503668 -0.087434 -1.053881\n",
       "qux one   -0.253864 -1.291565  0.468244\n",
       "    two    0.255753  1.135225  0.314302\n",
       "    three  1.100850  0.539631 -0.358576"
      ]
     },
     "execution_count": 72,
     "metadata": {},
     "output_type": "execute_result"
    }
   ],
   "source": [
    "store.append('df_mi', df_mi)\n",
    "store.select('df_mi')"
   ]
  },
  {
   "cell_type": "code",
   "execution_count": 73,
   "metadata": {},
   "outputs": [
    {
     "data": {
      "text/html": [
       "<div>\n",
       "<style scoped>\n",
       "    .dataframe tbody tr th:only-of-type {\n",
       "        vertical-align: middle;\n",
       "    }\n",
       "\n",
       "    .dataframe tbody tr th {\n",
       "        vertical-align: top;\n",
       "    }\n",
       "\n",
       "    .dataframe thead th {\n",
       "        text-align: right;\n",
       "    }\n",
       "</style>\n",
       "<table border=\"1\" class=\"dataframe\">\n",
       "  <thead>\n",
       "    <tr style=\"text-align: right;\">\n",
       "      <th></th>\n",
       "      <th></th>\n",
       "      <th>A</th>\n",
       "      <th>B</th>\n",
       "      <th>C</th>\n",
       "    </tr>\n",
       "    <tr>\n",
       "      <th>foo</th>\n",
       "      <th>bar</th>\n",
       "      <th></th>\n",
       "      <th></th>\n",
       "      <th></th>\n",
       "    </tr>\n",
       "  </thead>\n",
       "  <tbody>\n",
       "    <tr>\n",
       "      <th rowspan=\"2\" valign=\"top\">bar</th>\n",
       "      <th>one</th>\n",
       "      <td>-0.592825</td>\n",
       "      <td>0.385448</td>\n",
       "      <td>-0.214493</td>\n",
       "    </tr>\n",
       "    <tr>\n",
       "      <th>two</th>\n",
       "      <td>1.099544</td>\n",
       "      <td>0.364129</td>\n",
       "      <td>0.121549</td>\n",
       "    </tr>\n",
       "  </tbody>\n",
       "</table>\n",
       "</div>"
      ],
      "text/plain": [
       "                A         B         C\n",
       "foo bar                              \n",
       "bar one -0.592825  0.385448 -0.214493\n",
       "    two  1.099544  0.364129  0.121549"
      ]
     },
     "execution_count": 73,
     "metadata": {},
     "output_type": "execute_result"
    }
   ],
   "source": [
    "# the Levels are automatically included as data columns\n",
    "store.select('df_mi', \"foo=bar\")"
   ]
  },
  {
   "cell_type": "code",
   "execution_count": 74,
   "metadata": {},
   "outputs": [
    {
     "data": {
      "text/plain": [
       "['/df', '/df_mi', '/df_mixed', '/s', '/foo/bar/bah']"
      ]
     },
     "execution_count": 74,
     "metadata": {},
     "output_type": "execute_result"
    }
   ],
   "source": [
    "store.keys()"
   ]
  },
  {
   "cell_type": "code",
   "execution_count": 75,
   "metadata": {},
   "outputs": [
    {
     "data": {
      "text/html": [
       "<div>\n",
       "<style scoped>\n",
       "    .dataframe tbody tr th:only-of-type {\n",
       "        vertical-align: middle;\n",
       "    }\n",
       "\n",
       "    .dataframe tbody tr th {\n",
       "        vertical-align: top;\n",
       "    }\n",
       "\n",
       "    .dataframe thead th {\n",
       "        text-align: right;\n",
       "    }\n",
       "</style>\n",
       "<table border=\"1\" class=\"dataframe\">\n",
       "  <thead>\n",
       "    <tr style=\"text-align: right;\">\n",
       "      <th></th>\n",
       "      <th>A</th>\n",
       "      <th>B</th>\n",
       "      <th>C</th>\n",
       "    </tr>\n",
       "  </thead>\n",
       "  <tbody>\n",
       "    <tr>\n",
       "      <th>2023-01-01</th>\n",
       "      <td>1.702872</td>\n",
       "      <td>0.308839</td>\n",
       "      <td>-0.365917</td>\n",
       "    </tr>\n",
       "    <tr>\n",
       "      <th>2023-01-02</th>\n",
       "      <td>0.851215</td>\n",
       "      <td>0.448810</td>\n",
       "      <td>0.165340</td>\n",
       "    </tr>\n",
       "    <tr>\n",
       "      <th>2023-01-03</th>\n",
       "      <td>-1.498664</td>\n",
       "      <td>-0.233697</td>\n",
       "      <td>-0.462251</td>\n",
       "    </tr>\n",
       "    <tr>\n",
       "      <th>2023-01-04</th>\n",
       "      <td>-0.259856</td>\n",
       "      <td>1.271397</td>\n",
       "      <td>-0.256739</td>\n",
       "    </tr>\n",
       "    <tr>\n",
       "      <th>2023-01-05</th>\n",
       "      <td>-1.474300</td>\n",
       "      <td>1.368424</td>\n",
       "      <td>-0.037265</td>\n",
       "    </tr>\n",
       "    <tr>\n",
       "      <th>2023-01-06</th>\n",
       "      <td>-0.054277</td>\n",
       "      <td>1.684516</td>\n",
       "      <td>1.270398</td>\n",
       "    </tr>\n",
       "    <tr>\n",
       "      <th>2023-01-07</th>\n",
       "      <td>-0.274158</td>\n",
       "      <td>0.875411</td>\n",
       "      <td>-0.446735</td>\n",
       "    </tr>\n",
       "    <tr>\n",
       "      <th>2023-01-08</th>\n",
       "      <td>-1.383003</td>\n",
       "      <td>1.533008</td>\n",
       "      <td>-2.200317</td>\n",
       "    </tr>\n",
       "  </tbody>\n",
       "</table>\n",
       "</div>"
      ],
      "text/plain": [
       "                   A         B         C\n",
       "2023-01-01  1.702872  0.308839 -0.365917\n",
       "2023-01-02  0.851215  0.448810  0.165340\n",
       "2023-01-03 -1.498664 -0.233697 -0.462251\n",
       "2023-01-04 -0.259856  1.271397 -0.256739\n",
       "2023-01-05 -1.474300  1.368424 -0.037265\n",
       "2023-01-06 -0.054277  1.684516  1.270398\n",
       "2023-01-07 -0.274158  0.875411 -0.446735\n",
       "2023-01-08 -1.383003  1.533008 -2.200317"
      ]
     },
     "execution_count": 75,
     "metadata": {},
     "output_type": "execute_result"
    }
   ],
   "source": [
    "store['df']"
   ]
  },
  {
   "cell_type": "code",
   "execution_count": 76,
   "metadata": {},
   "outputs": [
    {
     "ename": "DateParseError",
     "evalue": "Unknown datetime string format, unable to parse: HolyMoly",
     "output_type": "error",
     "traceback": [
      "\u001b[0;31m---------------------------------------------------------------------------\u001b[0m",
      "\u001b[0;31mDateParseError\u001b[0m                            Traceback (most recent call last)",
      "Cell \u001b[0;32mIn[76], line 3\u001b[0m\n\u001b[1;32m      1\u001b[0m \u001b[39m# Querying\u001b[39;00m\n\u001b[1;32m      2\u001b[0m string \u001b[39m=\u001b[39m \u001b[39m\"\u001b[39m\u001b[39mHolyMoly\u001b[39m\u001b[39m\"\u001b[39m\n\u001b[0;32m----> 3\u001b[0m store\u001b[39m.\u001b[39;49mselect(\u001b[39m'\u001b[39;49m\u001b[39mdf\u001b[39;49m\u001b[39m'\u001b[39;49m, \u001b[39m'\u001b[39;49m\u001b[39mindex == string\u001b[39;49m\u001b[39m'\u001b[39;49m)\n",
      "File \u001b[0;32m~/.local/lib/python3.10/site-packages/pandas/io/pytables.py:866\u001b[0m, in \u001b[0;36mHDFStore.select\u001b[0;34m(self, key, where, start, stop, columns, iterator, chunksize, auto_close)\u001b[0m\n\u001b[1;32m    852\u001b[0m \u001b[39m# create the iterator\u001b[39;00m\n\u001b[1;32m    853\u001b[0m it \u001b[39m=\u001b[39m TableIterator(\n\u001b[1;32m    854\u001b[0m     \u001b[39mself\u001b[39m,\n\u001b[1;32m    855\u001b[0m     s,\n\u001b[0;32m   (...)\u001b[0m\n\u001b[1;32m    863\u001b[0m     auto_close\u001b[39m=\u001b[39mauto_close,\n\u001b[1;32m    864\u001b[0m )\n\u001b[0;32m--> 866\u001b[0m \u001b[39mreturn\u001b[39;00m it\u001b[39m.\u001b[39;49mget_result()\n",
      "File \u001b[0;32m~/.local/lib/python3.10/site-packages/pandas/io/pytables.py:1937\u001b[0m, in \u001b[0;36mTableIterator.get_result\u001b[0;34m(self, coordinates)\u001b[0m\n\u001b[1;32m   1934\u001b[0m     where \u001b[39m=\u001b[39m \u001b[39mself\u001b[39m\u001b[39m.\u001b[39mwhere\n\u001b[1;32m   1936\u001b[0m \u001b[39m# directly return the result\u001b[39;00m\n\u001b[0;32m-> 1937\u001b[0m results \u001b[39m=\u001b[39m \u001b[39mself\u001b[39;49m\u001b[39m.\u001b[39;49mfunc(\u001b[39mself\u001b[39;49m\u001b[39m.\u001b[39;49mstart, \u001b[39mself\u001b[39;49m\u001b[39m.\u001b[39;49mstop, where)\n\u001b[1;32m   1938\u001b[0m \u001b[39mself\u001b[39m\u001b[39m.\u001b[39mclose()\n\u001b[1;32m   1939\u001b[0m \u001b[39mreturn\u001b[39;00m results\n",
      "File \u001b[0;32m~/.local/lib/python3.10/site-packages/pandas/io/pytables.py:850\u001b[0m, in \u001b[0;36mHDFStore.select.<locals>.func\u001b[0;34m(_start, _stop, _where)\u001b[0m\n\u001b[1;32m    849\u001b[0m \u001b[39mdef\u001b[39;00m \u001b[39mfunc\u001b[39m(_start, _stop, _where):\n\u001b[0;32m--> 850\u001b[0m     \u001b[39mreturn\u001b[39;00m s\u001b[39m.\u001b[39;49mread(start\u001b[39m=\u001b[39;49m_start, stop\u001b[39m=\u001b[39;49m_stop, where\u001b[39m=\u001b[39;49m_where, columns\u001b[39m=\u001b[39;49mcolumns)\n",
      "File \u001b[0;32m~/.local/lib/python3.10/site-packages/pandas/io/pytables.py:4518\u001b[0m, in \u001b[0;36mAppendableFrameTable.read\u001b[0;34m(self, where, columns, start, stop)\u001b[0m\n\u001b[1;32m   4515\u001b[0m \u001b[39mif\u001b[39;00m \u001b[39mnot\u001b[39;00m \u001b[39mself\u001b[39m\u001b[39m.\u001b[39minfer_axes():\n\u001b[1;32m   4516\u001b[0m     \u001b[39mreturn\u001b[39;00m \u001b[39mNone\u001b[39;00m\n\u001b[0;32m-> 4518\u001b[0m result \u001b[39m=\u001b[39m \u001b[39mself\u001b[39;49m\u001b[39m.\u001b[39;49m_read_axes(where\u001b[39m=\u001b[39;49mwhere, start\u001b[39m=\u001b[39;49mstart, stop\u001b[39m=\u001b[39;49mstop)\n\u001b[1;32m   4520\u001b[0m info \u001b[39m=\u001b[39m (\n\u001b[1;32m   4521\u001b[0m     \u001b[39mself\u001b[39m\u001b[39m.\u001b[39minfo\u001b[39m.\u001b[39mget(\u001b[39mself\u001b[39m\u001b[39m.\u001b[39mnon_index_axes[\u001b[39m0\u001b[39m][\u001b[39m0\u001b[39m], {})\n\u001b[1;32m   4522\u001b[0m     \u001b[39mif\u001b[39;00m \u001b[39mlen\u001b[39m(\u001b[39mself\u001b[39m\u001b[39m.\u001b[39mnon_index_axes)\n\u001b[1;32m   4523\u001b[0m     \u001b[39melse\u001b[39;00m {}\n\u001b[1;32m   4524\u001b[0m )\n\u001b[1;32m   4526\u001b[0m inds \u001b[39m=\u001b[39m [i \u001b[39mfor\u001b[39;00m i, ax \u001b[39min\u001b[39;00m \u001b[39menumerate\u001b[39m(\u001b[39mself\u001b[39m\u001b[39m.\u001b[39maxes) \u001b[39mif\u001b[39;00m ax \u001b[39mis\u001b[39;00m \u001b[39mself\u001b[39m\u001b[39m.\u001b[39mindex_axes[\u001b[39m0\u001b[39m]]\n",
      "File \u001b[0;32m~/.local/lib/python3.10/site-packages/pandas/io/pytables.py:3712\u001b[0m, in \u001b[0;36mTable._read_axes\u001b[0;34m(self, where, start, stop)\u001b[0m\n\u001b[1;32m   3698\u001b[0m \u001b[39m\"\"\"\u001b[39;00m\n\u001b[1;32m   3699\u001b[0m \u001b[39mCreate the axes sniffed from the table.\u001b[39;00m\n\u001b[1;32m   3700\u001b[0m \n\u001b[0;32m   (...)\u001b[0m\n\u001b[1;32m   3709\u001b[0m \u001b[39mList[Tuple[index_values, column_values]]\u001b[39;00m\n\u001b[1;32m   3710\u001b[0m \u001b[39m\"\"\"\u001b[39;00m\n\u001b[1;32m   3711\u001b[0m \u001b[39m# create the selection\u001b[39;00m\n\u001b[0;32m-> 3712\u001b[0m selection \u001b[39m=\u001b[39m Selection(\u001b[39mself\u001b[39;49m, where\u001b[39m=\u001b[39;49mwhere, start\u001b[39m=\u001b[39;49mstart, stop\u001b[39m=\u001b[39;49mstop)\n\u001b[1;32m   3713\u001b[0m values \u001b[39m=\u001b[39m selection\u001b[39m.\u001b[39mselect()\n\u001b[1;32m   3715\u001b[0m results \u001b[39m=\u001b[39m []\n",
      "File \u001b[0;32m~/.local/lib/python3.10/site-packages/pandas/io/pytables.py:5230\u001b[0m, in \u001b[0;36mSelection.__init__\u001b[0;34m(self, table, where, start, stop)\u001b[0m\n\u001b[1;32m   5228\u001b[0m \u001b[39m# create the numexpr & the filter\u001b[39;00m\n\u001b[1;32m   5229\u001b[0m \u001b[39mif\u001b[39;00m \u001b[39mself\u001b[39m\u001b[39m.\u001b[39mterms \u001b[39mis\u001b[39;00m \u001b[39mnot\u001b[39;00m \u001b[39mNone\u001b[39;00m:\n\u001b[0;32m-> 5230\u001b[0m     \u001b[39mself\u001b[39m\u001b[39m.\u001b[39mcondition, \u001b[39mself\u001b[39m\u001b[39m.\u001b[39mfilter \u001b[39m=\u001b[39m \u001b[39mself\u001b[39;49m\u001b[39m.\u001b[39;49mterms\u001b[39m.\u001b[39;49mevaluate()\n",
      "File \u001b[0;32m~/.local/lib/python3.10/site-packages/pandas/core/computation/pytables.py:595\u001b[0m, in \u001b[0;36mPyTablesExpr.evaluate\u001b[0;34m(self)\u001b[0m\n\u001b[1;32m    593\u001b[0m \u001b[39m\"\"\"create and return the numexpr condition and filter\"\"\"\u001b[39;00m\n\u001b[1;32m    594\u001b[0m \u001b[39mtry\u001b[39;00m:\n\u001b[0;32m--> 595\u001b[0m     \u001b[39mself\u001b[39m\u001b[39m.\u001b[39mcondition \u001b[39m=\u001b[39m \u001b[39mself\u001b[39;49m\u001b[39m.\u001b[39;49mterms\u001b[39m.\u001b[39;49mprune(ConditionBinOp)\n\u001b[1;32m    596\u001b[0m \u001b[39mexcept\u001b[39;00m \u001b[39mAttributeError\u001b[39;00m \u001b[39mas\u001b[39;00m err:\n\u001b[1;32m    597\u001b[0m     \u001b[39mraise\u001b[39;00m \u001b[39mValueError\u001b[39;00m(\n\u001b[1;32m    598\u001b[0m         \u001b[39mf\u001b[39m\u001b[39m\"\u001b[39m\u001b[39mcannot process expression [\u001b[39m\u001b[39m{\u001b[39;00m\u001b[39mself\u001b[39m\u001b[39m.\u001b[39mexpr\u001b[39m}\u001b[39;00m\u001b[39m], [\u001b[39m\u001b[39m{\u001b[39;00m\u001b[39mself\u001b[39m\u001b[39m}\u001b[39;00m\u001b[39m] \u001b[39m\u001b[39m\"\u001b[39m\n\u001b[1;32m    599\u001b[0m         \u001b[39m\"\u001b[39m\u001b[39mis not a valid condition\u001b[39m\u001b[39m\"\u001b[39m\n\u001b[1;32m    600\u001b[0m     ) \u001b[39mfrom\u001b[39;00m \u001b[39merr\u001b[39;00m\n",
      "File \u001b[0;32m~/.local/lib/python3.10/site-packages/pandas/core/computation/pytables.py:143\u001b[0m, in \u001b[0;36mBinOp.prune\u001b[0;34m(self, klass)\u001b[0m\n\u001b[1;32m    140\u001b[0m left, right \u001b[39m=\u001b[39m \u001b[39mself\u001b[39m\u001b[39m.\u001b[39mlhs, \u001b[39mself\u001b[39m\u001b[39m.\u001b[39mrhs\n\u001b[1;32m    142\u001b[0m \u001b[39mif\u001b[39;00m is_term(left) \u001b[39mand\u001b[39;00m is_term(right):\n\u001b[0;32m--> 143\u001b[0m     res \u001b[39m=\u001b[39m pr(left\u001b[39m.\u001b[39;49mvalue, right\u001b[39m.\u001b[39;49mvalue)\n\u001b[1;32m    144\u001b[0m \u001b[39melif\u001b[39;00m \u001b[39mnot\u001b[39;00m is_term(left) \u001b[39mand\u001b[39;00m is_term(right):\n\u001b[1;32m    145\u001b[0m     res \u001b[39m=\u001b[39m pr(left\u001b[39m.\u001b[39mprune(klass), right\u001b[39m.\u001b[39mvalue)\n",
      "File \u001b[0;32m~/.local/lib/python3.10/site-packages/pandas/core/computation/pytables.py:138\u001b[0m, in \u001b[0;36mBinOp.prune.<locals>.pr\u001b[0;34m(left, right)\u001b[0m\n\u001b[1;32m    133\u001b[0m     \u001b[39melif\u001b[39;00m \u001b[39misinstance\u001b[39m(right, k):\n\u001b[1;32m    134\u001b[0m         \u001b[39mreturn\u001b[39;00m right\n\u001b[1;32m    136\u001b[0m \u001b[39mreturn\u001b[39;00m k(\n\u001b[1;32m    137\u001b[0m     \u001b[39mself\u001b[39;49m\u001b[39m.\u001b[39;49mop, left, right, queryables\u001b[39m=\u001b[39;49m\u001b[39mself\u001b[39;49m\u001b[39m.\u001b[39;49mqueryables, encoding\u001b[39m=\u001b[39;49m\u001b[39mself\u001b[39;49m\u001b[39m.\u001b[39;49mencoding\n\u001b[0;32m--> 138\u001b[0m )\u001b[39m.\u001b[39;49mevaluate()\n",
      "File \u001b[0;32m~/.local/lib/python3.10/site-packages/pandas/core/computation/pytables.py:353\u001b[0m, in \u001b[0;36mConditionBinOp.evaluate\u001b[0;34m(self)\u001b[0m\n\u001b[1;32m    350\u001b[0m     \u001b[39mreturn\u001b[39;00m \u001b[39mNone\u001b[39;00m\n\u001b[1;32m    352\u001b[0m rhs \u001b[39m=\u001b[39m \u001b[39mself\u001b[39m\u001b[39m.\u001b[39mconform(\u001b[39mself\u001b[39m\u001b[39m.\u001b[39mrhs)\n\u001b[0;32m--> 353\u001b[0m values \u001b[39m=\u001b[39m [\u001b[39mself\u001b[39m\u001b[39m.\u001b[39mconvert_value(v) \u001b[39mfor\u001b[39;00m v \u001b[39min\u001b[39;00m rhs]\n\u001b[1;32m    355\u001b[0m \u001b[39m# equality conditions\u001b[39;00m\n\u001b[1;32m    356\u001b[0m \u001b[39mif\u001b[39;00m \u001b[39mself\u001b[39m\u001b[39m.\u001b[39mop \u001b[39min\u001b[39;00m [\u001b[39m\"\u001b[39m\u001b[39m==\u001b[39m\u001b[39m\"\u001b[39m, \u001b[39m\"\u001b[39m\u001b[39m!=\u001b[39m\u001b[39m\"\u001b[39m]:\n\u001b[1;32m    357\u001b[0m     \u001b[39m# too many values to create the expression?\u001b[39;00m\n",
      "File \u001b[0;32m~/.local/lib/python3.10/site-packages/pandas/core/computation/pytables.py:353\u001b[0m, in \u001b[0;36m<listcomp>\u001b[0;34m(.0)\u001b[0m\n\u001b[1;32m    350\u001b[0m     \u001b[39mreturn\u001b[39;00m \u001b[39mNone\u001b[39;00m\n\u001b[1;32m    352\u001b[0m rhs \u001b[39m=\u001b[39m \u001b[39mself\u001b[39m\u001b[39m.\u001b[39mconform(\u001b[39mself\u001b[39m\u001b[39m.\u001b[39mrhs)\n\u001b[0;32m--> 353\u001b[0m values \u001b[39m=\u001b[39m [\u001b[39mself\u001b[39;49m\u001b[39m.\u001b[39;49mconvert_value(v) \u001b[39mfor\u001b[39;00m v \u001b[39min\u001b[39;00m rhs]\n\u001b[1;32m    355\u001b[0m \u001b[39m# equality conditions\u001b[39;00m\n\u001b[1;32m    356\u001b[0m \u001b[39mif\u001b[39;00m \u001b[39mself\u001b[39m\u001b[39m.\u001b[39mop \u001b[39min\u001b[39;00m [\u001b[39m\"\u001b[39m\u001b[39m==\u001b[39m\u001b[39m\"\u001b[39m, \u001b[39m\"\u001b[39m\u001b[39m!=\u001b[39m\u001b[39m\"\u001b[39m]:\n\u001b[1;32m    357\u001b[0m     \u001b[39m# too many values to create the expression?\u001b[39;00m\n",
      "File \u001b[0;32m~/.local/lib/python3.10/site-packages/pandas/core/computation/pytables.py:211\u001b[0m, in \u001b[0;36mBinOp.convert_value\u001b[0;34m(self, v)\u001b[0m\n\u001b[1;32m    209\u001b[0m     v \u001b[39m=\u001b[39m stringify(v)\n\u001b[1;32m    210\u001b[0m v \u001b[39m=\u001b[39m ensure_decoded(v)\n\u001b[0;32m--> 211\u001b[0m v \u001b[39m=\u001b[39m Timestamp(v)\u001b[39m.\u001b[39mas_unit(\u001b[39m\"\u001b[39m\u001b[39mns\u001b[39m\u001b[39m\"\u001b[39m)\n\u001b[1;32m    212\u001b[0m \u001b[39mif\u001b[39;00m v\u001b[39m.\u001b[39mtz \u001b[39mis\u001b[39;00m \u001b[39mnot\u001b[39;00m \u001b[39mNone\u001b[39;00m:\n\u001b[1;32m    213\u001b[0m     v \u001b[39m=\u001b[39m v\u001b[39m.\u001b[39mtz_convert(\u001b[39m\"\u001b[39m\u001b[39mUTC\u001b[39m\u001b[39m\"\u001b[39m)\n",
      "File \u001b[0;32m~/.local/lib/python3.10/site-packages/pandas/_libs/tslibs/timestamps.pyx:1667\u001b[0m, in \u001b[0;36mpandas._libs.tslibs.timestamps.Timestamp.__new__\u001b[0;34m()\u001b[0m\n",
      "File \u001b[0;32m~/.local/lib/python3.10/site-packages/pandas/_libs/tslibs/conversion.pyx:280\u001b[0m, in \u001b[0;36mpandas._libs.tslibs.conversion.convert_to_tsobject\u001b[0;34m()\u001b[0m\n",
      "File \u001b[0;32m~/.local/lib/python3.10/site-packages/pandas/_libs/tslibs/conversion.pyx:557\u001b[0m, in \u001b[0;36mpandas._libs.tslibs.conversion.convert_str_to_tsobject\u001b[0;34m()\u001b[0m\n",
      "File \u001b[0;32m~/.local/lib/python3.10/site-packages/pandas/_libs/tslibs/parsing.pyx:329\u001b[0m, in \u001b[0;36mpandas._libs.tslibs.parsing.parse_datetime_string\u001b[0;34m()\u001b[0m\n",
      "File \u001b[0;32m~/.local/lib/python3.10/site-packages/pandas/_libs/tslibs/parsing.pyx:658\u001b[0m, in \u001b[0;36mpandas._libs.tslibs.parsing.dateutil_parse\u001b[0;34m()\u001b[0m\n",
      "\u001b[0;31mDateParseError\u001b[0m: Unknown datetime string format, unable to parse: HolyMoly"
     ]
    }
   ],
   "source": [
    "# Querying\n",
    "string = \"HolyMoly\"\n",
    "store.select('df', 'index == string')"
   ]
  },
  {
   "cell_type": "code",
   "execution_count": null,
   "metadata": {},
   "outputs": [],
   "source": [
    "# Querying\n",
    "string = \"HolyMoly\"\n",
    "store.select('df', f'index == {string}')"
   ]
  },
  {
   "cell_type": "code",
   "execution_count": null,
   "metadata": {},
   "outputs": [],
   "source": [
    "store.select('df', 'index == %r' % string)"
   ]
  },
  {
   "cell_type": "code",
   "execution_count": 77,
   "metadata": {},
   "outputs": [],
   "source": [
    "dfq = pd.DataFrame(\n",
    "    np.random.randn(10, 4),\n",
    "    columns=list(\"ABCD\"),\n",
    "    index=pd.date_range(\"20130101\", periods=10),\n",
    ")\n",
    "\n",
    "store.append(\"dfq\", dfq, format=\"table\", data_columns=True)"
   ]
  },
  {
   "cell_type": "code",
   "execution_count": 78,
   "metadata": {},
   "outputs": [
    {
     "data": {
      "text/html": [
       "<div>\n",
       "<style scoped>\n",
       "    .dataframe tbody tr th:only-of-type {\n",
       "        vertical-align: middle;\n",
       "    }\n",
       "\n",
       "    .dataframe tbody tr th {\n",
       "        vertical-align: top;\n",
       "    }\n",
       "\n",
       "    .dataframe thead th {\n",
       "        text-align: right;\n",
       "    }\n",
       "</style>\n",
       "<table border=\"1\" class=\"dataframe\">\n",
       "  <thead>\n",
       "    <tr style=\"text-align: right;\">\n",
       "      <th></th>\n",
       "      <th>A</th>\n",
       "      <th>B</th>\n",
       "    </tr>\n",
       "  </thead>\n",
       "  <tbody>\n",
       "    <tr>\n",
       "      <th>2013-01-05</th>\n",
       "      <td>0.011684</td>\n",
       "      <td>-0.368062</td>\n",
       "    </tr>\n",
       "    <tr>\n",
       "      <th>2013-01-06</th>\n",
       "      <td>1.528019</td>\n",
       "      <td>1.326785</td>\n",
       "    </tr>\n",
       "    <tr>\n",
       "      <th>2013-01-07</th>\n",
       "      <td>0.788208</td>\n",
       "      <td>0.705659</td>\n",
       "    </tr>\n",
       "    <tr>\n",
       "      <th>2013-01-08</th>\n",
       "      <td>0.642190</td>\n",
       "      <td>0.625035</td>\n",
       "    </tr>\n",
       "    <tr>\n",
       "      <th>2013-01-09</th>\n",
       "      <td>-0.298636</td>\n",
       "      <td>-0.941026</td>\n",
       "    </tr>\n",
       "    <tr>\n",
       "      <th>2013-01-10</th>\n",
       "      <td>-0.224245</td>\n",
       "      <td>-0.240643</td>\n",
       "    </tr>\n",
       "  </tbody>\n",
       "</table>\n",
       "</div>"
      ],
      "text/plain": [
       "                   A         B\n",
       "2013-01-05  0.011684 -0.368062\n",
       "2013-01-06  1.528019  1.326785\n",
       "2013-01-07  0.788208  0.705659\n",
       "2013-01-08  0.642190  0.625035\n",
       "2013-01-09 -0.298636 -0.941026\n",
       "2013-01-10 -0.224245 -0.240643"
      ]
     },
     "execution_count": 78,
     "metadata": {},
     "output_type": "execute_result"
    }
   ],
   "source": [
    "store.select(\"dfq\", \"index>pd.Timestamp('20130104') & columns=['A', 'B']\")"
   ]
  },
  {
   "cell_type": "code",
   "execution_count": 79,
   "metadata": {},
   "outputs": [
    {
     "data": {
      "text/html": [
       "<div>\n",
       "<style scoped>\n",
       "    .dataframe tbody tr th:only-of-type {\n",
       "        vertical-align: middle;\n",
       "    }\n",
       "\n",
       "    .dataframe tbody tr th {\n",
       "        vertical-align: top;\n",
       "    }\n",
       "\n",
       "    .dataframe thead th {\n",
       "        text-align: right;\n",
       "    }\n",
       "</style>\n",
       "<table border=\"1\" class=\"dataframe\">\n",
       "  <thead>\n",
       "    <tr style=\"text-align: right;\">\n",
       "      <th></th>\n",
       "      <th>A</th>\n",
       "      <th>B</th>\n",
       "      <th>C</th>\n",
       "      <th>D</th>\n",
       "    </tr>\n",
       "  </thead>\n",
       "  <tbody>\n",
       "    <tr>\n",
       "      <th>2013-01-01</th>\n",
       "      <td>-1.144049</td>\n",
       "      <td>0.069177</td>\n",
       "      <td>1.469950</td>\n",
       "      <td>0.250053</td>\n",
       "    </tr>\n",
       "    <tr>\n",
       "      <th>2013-01-04</th>\n",
       "      <td>0.001095</td>\n",
       "      <td>1.435721</td>\n",
       "      <td>-0.508630</td>\n",
       "      <td>-1.454968</td>\n",
       "    </tr>\n",
       "    <tr>\n",
       "      <th>2013-01-05</th>\n",
       "      <td>0.011684</td>\n",
       "      <td>-0.368062</td>\n",
       "      <td>-1.399531</td>\n",
       "      <td>0.366433</td>\n",
       "    </tr>\n",
       "    <tr>\n",
       "      <th>2013-01-06</th>\n",
       "      <td>1.528019</td>\n",
       "      <td>1.326785</td>\n",
       "      <td>-0.061721</td>\n",
       "      <td>0.820316</td>\n",
       "    </tr>\n",
       "    <tr>\n",
       "      <th>2013-01-07</th>\n",
       "      <td>0.788208</td>\n",
       "      <td>0.705659</td>\n",
       "      <td>0.184611</td>\n",
       "      <td>-1.790671</td>\n",
       "    </tr>\n",
       "    <tr>\n",
       "      <th>2013-01-08</th>\n",
       "      <td>0.642190</td>\n",
       "      <td>0.625035</td>\n",
       "      <td>1.098240</td>\n",
       "      <td>0.976372</td>\n",
       "    </tr>\n",
       "    <tr>\n",
       "      <th>2013-01-10</th>\n",
       "      <td>-0.224245</td>\n",
       "      <td>-0.240643</td>\n",
       "      <td>0.669240</td>\n",
       "      <td>-0.601939</td>\n",
       "    </tr>\n",
       "  </tbody>\n",
       "</table>\n",
       "</div>"
      ],
      "text/plain": [
       "                   A         B         C         D\n",
       "2013-01-01 -1.144049  0.069177  1.469950  0.250053\n",
       "2013-01-04  0.001095  1.435721 -0.508630 -1.454968\n",
       "2013-01-05  0.011684 -0.368062 -1.399531  0.366433\n",
       "2013-01-06  1.528019  1.326785 -0.061721  0.820316\n",
       "2013-01-07  0.788208  0.705659  0.184611 -1.790671\n",
       "2013-01-08  0.642190  0.625035  1.098240  0.976372\n",
       "2013-01-10 -0.224245 -0.240643  0.669240 -0.601939"
      ]
     },
     "execution_count": 79,
     "metadata": {},
     "output_type": "execute_result"
    }
   ],
   "source": [
    "store.select(\"dfq\", where=\"A>0 or C>0\")"
   ]
  },
  {
   "cell_type": "code",
   "execution_count": 80,
   "metadata": {},
   "outputs": [
    {
     "data": {
      "text/html": [
       "<div>\n",
       "<style scoped>\n",
       "    .dataframe tbody tr th:only-of-type {\n",
       "        vertical-align: middle;\n",
       "    }\n",
       "\n",
       "    .dataframe tbody tr th {\n",
       "        vertical-align: top;\n",
       "    }\n",
       "\n",
       "    .dataframe thead th {\n",
       "        text-align: right;\n",
       "    }\n",
       "</style>\n",
       "<table border=\"1\" class=\"dataframe\">\n",
       "  <thead>\n",
       "    <tr style=\"text-align: right;\">\n",
       "      <th></th>\n",
       "      <th>A</th>\n",
       "      <th>B</th>\n",
       "    </tr>\n",
       "  </thead>\n",
       "  <tbody>\n",
       "    <tr>\n",
       "      <th>2023-01-01</th>\n",
       "      <td>1.702872</td>\n",
       "      <td>0.308839</td>\n",
       "    </tr>\n",
       "    <tr>\n",
       "      <th>2023-01-02</th>\n",
       "      <td>0.851215</td>\n",
       "      <td>0.448810</td>\n",
       "    </tr>\n",
       "    <tr>\n",
       "      <th>2023-01-03</th>\n",
       "      <td>-1.498664</td>\n",
       "      <td>-0.233697</td>\n",
       "    </tr>\n",
       "    <tr>\n",
       "      <th>2023-01-04</th>\n",
       "      <td>-0.259856</td>\n",
       "      <td>1.271397</td>\n",
       "    </tr>\n",
       "    <tr>\n",
       "      <th>2023-01-05</th>\n",
       "      <td>-1.474300</td>\n",
       "      <td>1.368424</td>\n",
       "    </tr>\n",
       "    <tr>\n",
       "      <th>2023-01-06</th>\n",
       "      <td>-0.054277</td>\n",
       "      <td>1.684516</td>\n",
       "    </tr>\n",
       "    <tr>\n",
       "      <th>2023-01-07</th>\n",
       "      <td>-0.274158</td>\n",
       "      <td>0.875411</td>\n",
       "    </tr>\n",
       "    <tr>\n",
       "      <th>2023-01-08</th>\n",
       "      <td>-1.383003</td>\n",
       "      <td>1.533008</td>\n",
       "    </tr>\n",
       "  </tbody>\n",
       "</table>\n",
       "</div>"
      ],
      "text/plain": [
       "                   A         B\n",
       "2023-01-01  1.702872  0.308839\n",
       "2023-01-02  0.851215  0.448810\n",
       "2023-01-03 -1.498664 -0.233697\n",
       "2023-01-04 -0.259856  1.271397\n",
       "2023-01-05 -1.474300  1.368424\n",
       "2023-01-06 -0.054277  1.684516\n",
       "2023-01-07 -0.274158  0.875411\n",
       "2023-01-08 -1.383003  1.533008"
      ]
     },
     "execution_count": 80,
     "metadata": {},
     "output_type": "execute_result"
    }
   ],
   "source": [
    "store.select(\"df\", \"columns=['A', 'B']\")"
   ]
  },
  {
   "cell_type": "code",
   "execution_count": 81,
   "metadata": {},
   "outputs": [],
   "source": [
    "# Query timedelta64[ns]\n",
    "from datetime import timedelta\n",
    "\n",
    "dftd = pd.DataFrame(\n",
    "    {\n",
    "        \"A\": pd.Timestamp(\"20130101\"),\n",
    "        \"B\": [\n",
    "            pd.Timestamp(\"20230101\") + timedelta(days=i, seconds=10) for i in range(10)\n",
    "            ]\n",
    "    }\n",
    ")"
   ]
  },
  {
   "cell_type": "code",
   "execution_count": 82,
   "metadata": {},
   "outputs": [
    {
     "data": {
      "text/html": [
       "<div>\n",
       "<style scoped>\n",
       "    .dataframe tbody tr th:only-of-type {\n",
       "        vertical-align: middle;\n",
       "    }\n",
       "\n",
       "    .dataframe tbody tr th {\n",
       "        vertical-align: top;\n",
       "    }\n",
       "\n",
       "    .dataframe thead th {\n",
       "        text-align: right;\n",
       "    }\n",
       "</style>\n",
       "<table border=\"1\" class=\"dataframe\">\n",
       "  <thead>\n",
       "    <tr style=\"text-align: right;\">\n",
       "      <th></th>\n",
       "      <th>A</th>\n",
       "      <th>B</th>\n",
       "    </tr>\n",
       "  </thead>\n",
       "  <tbody>\n",
       "    <tr>\n",
       "      <th>0</th>\n",
       "      <td>2013-01-01</td>\n",
       "      <td>2023-01-01 00:00:10</td>\n",
       "    </tr>\n",
       "    <tr>\n",
       "      <th>1</th>\n",
       "      <td>2013-01-01</td>\n",
       "      <td>2023-01-02 00:00:10</td>\n",
       "    </tr>\n",
       "    <tr>\n",
       "      <th>2</th>\n",
       "      <td>2013-01-01</td>\n",
       "      <td>2023-01-03 00:00:10</td>\n",
       "    </tr>\n",
       "    <tr>\n",
       "      <th>3</th>\n",
       "      <td>2013-01-01</td>\n",
       "      <td>2023-01-04 00:00:10</td>\n",
       "    </tr>\n",
       "    <tr>\n",
       "      <th>4</th>\n",
       "      <td>2013-01-01</td>\n",
       "      <td>2023-01-05 00:00:10</td>\n",
       "    </tr>\n",
       "    <tr>\n",
       "      <th>5</th>\n",
       "      <td>2013-01-01</td>\n",
       "      <td>2023-01-06 00:00:10</td>\n",
       "    </tr>\n",
       "    <tr>\n",
       "      <th>6</th>\n",
       "      <td>2013-01-01</td>\n",
       "      <td>2023-01-07 00:00:10</td>\n",
       "    </tr>\n",
       "    <tr>\n",
       "      <th>7</th>\n",
       "      <td>2013-01-01</td>\n",
       "      <td>2023-01-08 00:00:10</td>\n",
       "    </tr>\n",
       "    <tr>\n",
       "      <th>8</th>\n",
       "      <td>2013-01-01</td>\n",
       "      <td>2023-01-09 00:00:10</td>\n",
       "    </tr>\n",
       "    <tr>\n",
       "      <th>9</th>\n",
       "      <td>2013-01-01</td>\n",
       "      <td>2023-01-10 00:00:10</td>\n",
       "    </tr>\n",
       "  </tbody>\n",
       "</table>\n",
       "</div>"
      ],
      "text/plain": [
       "           A                   B\n",
       "0 2013-01-01 2023-01-01 00:00:10\n",
       "1 2013-01-01 2023-01-02 00:00:10\n",
       "2 2013-01-01 2023-01-03 00:00:10\n",
       "3 2013-01-01 2023-01-04 00:00:10\n",
       "4 2013-01-01 2023-01-05 00:00:10\n",
       "5 2013-01-01 2023-01-06 00:00:10\n",
       "6 2013-01-01 2023-01-07 00:00:10\n",
       "7 2013-01-01 2023-01-08 00:00:10\n",
       "8 2013-01-01 2023-01-09 00:00:10\n",
       "9 2013-01-01 2023-01-10 00:00:10"
      ]
     },
     "execution_count": 82,
     "metadata": {},
     "output_type": "execute_result"
    }
   ],
   "source": [
    "dftd"
   ]
  },
  {
   "cell_type": "code",
   "execution_count": 83,
   "metadata": {},
   "outputs": [
    {
     "data": {
      "text/html": [
       "<div>\n",
       "<style scoped>\n",
       "    .dataframe tbody tr th:only-of-type {\n",
       "        vertical-align: middle;\n",
       "    }\n",
       "\n",
       "    .dataframe tbody tr th {\n",
       "        vertical-align: top;\n",
       "    }\n",
       "\n",
       "    .dataframe thead th {\n",
       "        text-align: right;\n",
       "    }\n",
       "</style>\n",
       "<table border=\"1\" class=\"dataframe\">\n",
       "  <thead>\n",
       "    <tr style=\"text-align: right;\">\n",
       "      <th></th>\n",
       "      <th>A</th>\n",
       "      <th>B</th>\n",
       "      <th>C</th>\n",
       "    </tr>\n",
       "  </thead>\n",
       "  <tbody>\n",
       "    <tr>\n",
       "      <th>0</th>\n",
       "      <td>2013-01-01</td>\n",
       "      <td>2023-01-01 00:00:10</td>\n",
       "      <td>3652 days 00:00:10</td>\n",
       "    </tr>\n",
       "    <tr>\n",
       "      <th>1</th>\n",
       "      <td>2013-01-01</td>\n",
       "      <td>2023-01-02 00:00:10</td>\n",
       "      <td>3653 days 00:00:10</td>\n",
       "    </tr>\n",
       "    <tr>\n",
       "      <th>2</th>\n",
       "      <td>2013-01-01</td>\n",
       "      <td>2023-01-03 00:00:10</td>\n",
       "      <td>3654 days 00:00:10</td>\n",
       "    </tr>\n",
       "    <tr>\n",
       "      <th>3</th>\n",
       "      <td>2013-01-01</td>\n",
       "      <td>2023-01-04 00:00:10</td>\n",
       "      <td>3655 days 00:00:10</td>\n",
       "    </tr>\n",
       "    <tr>\n",
       "      <th>4</th>\n",
       "      <td>2013-01-01</td>\n",
       "      <td>2023-01-05 00:00:10</td>\n",
       "      <td>3656 days 00:00:10</td>\n",
       "    </tr>\n",
       "    <tr>\n",
       "      <th>5</th>\n",
       "      <td>2013-01-01</td>\n",
       "      <td>2023-01-06 00:00:10</td>\n",
       "      <td>3657 days 00:00:10</td>\n",
       "    </tr>\n",
       "    <tr>\n",
       "      <th>6</th>\n",
       "      <td>2013-01-01</td>\n",
       "      <td>2023-01-07 00:00:10</td>\n",
       "      <td>3658 days 00:00:10</td>\n",
       "    </tr>\n",
       "    <tr>\n",
       "      <th>7</th>\n",
       "      <td>2013-01-01</td>\n",
       "      <td>2023-01-08 00:00:10</td>\n",
       "      <td>3659 days 00:00:10</td>\n",
       "    </tr>\n",
       "    <tr>\n",
       "      <th>8</th>\n",
       "      <td>2013-01-01</td>\n",
       "      <td>2023-01-09 00:00:10</td>\n",
       "      <td>3660 days 00:00:10</td>\n",
       "    </tr>\n",
       "    <tr>\n",
       "      <th>9</th>\n",
       "      <td>2013-01-01</td>\n",
       "      <td>2023-01-10 00:00:10</td>\n",
       "      <td>3661 days 00:00:10</td>\n",
       "    </tr>\n",
       "  </tbody>\n",
       "</table>\n",
       "</div>"
      ],
      "text/plain": [
       "           A                   B                  C\n",
       "0 2013-01-01 2023-01-01 00:00:10 3652 days 00:00:10\n",
       "1 2013-01-01 2023-01-02 00:00:10 3653 days 00:00:10\n",
       "2 2013-01-01 2023-01-03 00:00:10 3654 days 00:00:10\n",
       "3 2013-01-01 2023-01-04 00:00:10 3655 days 00:00:10\n",
       "4 2013-01-01 2023-01-05 00:00:10 3656 days 00:00:10\n",
       "5 2013-01-01 2023-01-06 00:00:10 3657 days 00:00:10\n",
       "6 2013-01-01 2023-01-07 00:00:10 3658 days 00:00:10\n",
       "7 2013-01-01 2023-01-08 00:00:10 3659 days 00:00:10\n",
       "8 2013-01-01 2023-01-09 00:00:10 3660 days 00:00:10\n",
       "9 2013-01-01 2023-01-10 00:00:10 3661 days 00:00:10"
      ]
     },
     "execution_count": 83,
     "metadata": {},
     "output_type": "execute_result"
    }
   ],
   "source": [
    "dftd['C'] = dftd['B'] - dftd['A']\n",
    "dftd"
   ]
  },
  {
   "cell_type": "code",
   "execution_count": 84,
   "metadata": {},
   "outputs": [
    {
     "data": {
      "text/plain": [
       "FrozenList(['foo', 'bar'])"
      ]
     },
     "execution_count": 84,
     "metadata": {},
     "output_type": "execute_result"
    }
   ],
   "source": [
    "# Query MultiIndex\n",
    "df_mi.index.names"
   ]
  },
  {
   "cell_type": "code",
   "execution_count": 85,
   "metadata": {},
   "outputs": [
    {
     "data": {
      "text/html": [
       "<div>\n",
       "<style scoped>\n",
       "    .dataframe tbody tr th:only-of-type {\n",
       "        vertical-align: middle;\n",
       "    }\n",
       "\n",
       "    .dataframe tbody tr th {\n",
       "        vertical-align: top;\n",
       "    }\n",
       "\n",
       "    .dataframe thead th {\n",
       "        text-align: right;\n",
       "    }\n",
       "</style>\n",
       "<table border=\"1\" class=\"dataframe\">\n",
       "  <thead>\n",
       "    <tr style=\"text-align: right;\">\n",
       "      <th></th>\n",
       "      <th></th>\n",
       "      <th>A</th>\n",
       "      <th>B</th>\n",
       "      <th>C</th>\n",
       "    </tr>\n",
       "    <tr>\n",
       "      <th>foo</th>\n",
       "      <th>bar</th>\n",
       "      <th></th>\n",
       "      <th></th>\n",
       "      <th></th>\n",
       "    </tr>\n",
       "  </thead>\n",
       "  <tbody>\n",
       "    <tr>\n",
       "      <th>baz</th>\n",
       "      <th>two</th>\n",
       "      <td>-1.79917</td>\n",
       "      <td>0.811012</td>\n",
       "      <td>-0.199961</td>\n",
       "    </tr>\n",
       "  </tbody>\n",
       "</table>\n",
       "</div>"
      ],
      "text/plain": [
       "               A         B         C\n",
       "foo bar                             \n",
       "baz two -1.79917  0.811012 -0.199961"
      ]
     },
     "execution_count": 85,
     "metadata": {},
     "output_type": "execute_result"
    }
   ],
   "source": [
    "store.select(\"df_mi\", \"foo=baz and bar=two\")"
   ]
  },
  {
   "cell_type": "code",
   "execution_count": 86,
   "metadata": {},
   "outputs": [
    {
     "data": {
      "text/html": [
       "<div>\n",
       "<style scoped>\n",
       "    .dataframe tbody tr th:only-of-type {\n",
       "        vertical-align: middle;\n",
       "    }\n",
       "\n",
       "    .dataframe tbody tr th {\n",
       "        vertical-align: top;\n",
       "    }\n",
       "\n",
       "    .dataframe thead th {\n",
       "        text-align: right;\n",
       "    }\n",
       "</style>\n",
       "<table border=\"1\" class=\"dataframe\">\n",
       "  <thead>\n",
       "    <tr style=\"text-align: right;\">\n",
       "      <th></th>\n",
       "      <th></th>\n",
       "      <th>A</th>\n",
       "      <th>B</th>\n",
       "      <th>C</th>\n",
       "    </tr>\n",
       "  </thead>\n",
       "  <tbody>\n",
       "    <tr>\n",
       "      <th rowspan=\"3\" valign=\"top\">foo</th>\n",
       "      <th>one</th>\n",
       "      <td>-0.329835</td>\n",
       "      <td>-0.292254</td>\n",
       "      <td>-0.052864</td>\n",
       "    </tr>\n",
       "    <tr>\n",
       "      <th>two</th>\n",
       "      <td>0.218845</td>\n",
       "      <td>0.809367</td>\n",
       "      <td>-0.813748</td>\n",
       "    </tr>\n",
       "    <tr>\n",
       "      <th>three</th>\n",
       "      <td>-0.434197</td>\n",
       "      <td>-0.553327</td>\n",
       "      <td>0.324452</td>\n",
       "    </tr>\n",
       "    <tr>\n",
       "      <th rowspan=\"2\" valign=\"top\">bar</th>\n",
       "      <th>one</th>\n",
       "      <td>-0.838166</td>\n",
       "      <td>0.572503</td>\n",
       "      <td>0.494084</td>\n",
       "    </tr>\n",
       "    <tr>\n",
       "      <th>two</th>\n",
       "      <td>1.493548</td>\n",
       "      <td>0.587029</td>\n",
       "      <td>-0.716085</td>\n",
       "    </tr>\n",
       "    <tr>\n",
       "      <th rowspan=\"2\" valign=\"top\">baz</th>\n",
       "      <th>two</th>\n",
       "      <td>0.741200</td>\n",
       "      <td>0.410625</td>\n",
       "      <td>-0.487601</td>\n",
       "    </tr>\n",
       "    <tr>\n",
       "      <th>three</th>\n",
       "      <td>-0.016964</td>\n",
       "      <td>-0.418947</td>\n",
       "      <td>0.713699</td>\n",
       "    </tr>\n",
       "    <tr>\n",
       "      <th rowspan=\"3\" valign=\"top\">qux</th>\n",
       "      <th>one</th>\n",
       "      <td>1.012518</td>\n",
       "      <td>1.757079</td>\n",
       "      <td>-0.573581</td>\n",
       "    </tr>\n",
       "    <tr>\n",
       "      <th>two</th>\n",
       "      <td>-1.087826</td>\n",
       "      <td>-0.067309</td>\n",
       "      <td>0.052423</td>\n",
       "    </tr>\n",
       "    <tr>\n",
       "      <th>three</th>\n",
       "      <td>-1.670873</td>\n",
       "      <td>-0.793680</td>\n",
       "      <td>0.519920</td>\n",
       "    </tr>\n",
       "  </tbody>\n",
       "</table>\n",
       "</div>"
      ],
      "text/plain": [
       "                  A         B         C\n",
       "foo one   -0.329835 -0.292254 -0.052864\n",
       "    two    0.218845  0.809367 -0.813748\n",
       "    three -0.434197 -0.553327  0.324452\n",
       "bar one   -0.838166  0.572503  0.494084\n",
       "    two    1.493548  0.587029 -0.716085\n",
       "baz two    0.741200  0.410625 -0.487601\n",
       "    three -0.016964 -0.418947  0.713699\n",
       "qux one    1.012518  1.757079 -0.573581\n",
       "    two   -1.087826 -0.067309  0.052423\n",
       "    three -1.670873 -0.793680  0.519920"
      ]
     },
     "execution_count": 86,
     "metadata": {},
     "output_type": "execute_result"
    }
   ],
   "source": [
    "index = pd.MultiIndex(\n",
    "    levels=[[\"foo\", \"bar\", \"baz\", \"qux\"], [\"one\", \"two\", \"three\"]],\n",
    "    codes=[[0, 0, 0, 1, 1, 2, 2, 3, 3, 3], [0, 1, 2, 0, 1, 1, 2, 0, 1, 2]],\n",
    ")\n",
    "\n",
    "\n",
    "df_mi_2 = pd.DataFrame(np.random.randn(10, 3), index=index, columns=[\"A\", \"B\", \"C\"])\n",
    "\n",
    "df_mi_2"
   ]
  },
  {
   "cell_type": "code",
   "execution_count": 87,
   "metadata": {},
   "outputs": [
    {
     "data": {
      "text/html": [
       "<div>\n",
       "<style scoped>\n",
       "    .dataframe tbody tr th:only-of-type {\n",
       "        vertical-align: middle;\n",
       "    }\n",
       "\n",
       "    .dataframe tbody tr th {\n",
       "        vertical-align: top;\n",
       "    }\n",
       "\n",
       "    .dataframe thead th {\n",
       "        text-align: right;\n",
       "    }\n",
       "</style>\n",
       "<table border=\"1\" class=\"dataframe\">\n",
       "  <thead>\n",
       "    <tr style=\"text-align: right;\">\n",
       "      <th></th>\n",
       "      <th></th>\n",
       "      <th>A</th>\n",
       "      <th>B</th>\n",
       "      <th>C</th>\n",
       "    </tr>\n",
       "  </thead>\n",
       "  <tbody>\n",
       "    <tr>\n",
       "      <th>foo</th>\n",
       "      <th>two</th>\n",
       "      <td>0.218845</td>\n",
       "      <td>0.809367</td>\n",
       "      <td>-0.813748</td>\n",
       "    </tr>\n",
       "  </tbody>\n",
       "</table>\n",
       "</div>"
      ],
      "text/plain": [
       "                A         B         C\n",
       "foo two  0.218845  0.809367 -0.813748"
      ]
     },
     "execution_count": 87,
     "metadata": {},
     "output_type": "execute_result"
    }
   ],
   "source": [
    "store.append('df_mi_2', df_mi_2)\n",
    "# the levels are automatically included as data columns with keyword level_n\n",
    "store.select('df_mi_2', 'level_0 = foo and level_1 = two')"
   ]
  },
  {
   "cell_type": "code",
   "execution_count": 88,
   "metadata": {},
   "outputs": [],
   "source": [
    "# indexing\n",
    "# indexes are automatically created on the indexables and any data columns you specify. \n",
    "# This behavior can be turned off by passing index=False to append()."
   ]
  },
  {
   "cell_type": "code",
   "execution_count": 89,
   "metadata": {},
   "outputs": [
    {
     "data": {
      "text/plain": [
       "(6, 'medium')"
      ]
     },
     "execution_count": 89,
     "metadata": {},
     "output_type": "execute_result"
    }
   ],
   "source": [
    "i = store.root.df.table.cols.index.index\n",
    "i.optlevel, i.kind"
   ]
  },
  {
   "cell_type": "code",
   "execution_count": 90,
   "metadata": {},
   "outputs": [
    {
     "data": {
      "text/plain": [
       "(9, 'full')"
      ]
     },
     "execution_count": 90,
     "metadata": {},
     "output_type": "execute_result"
    }
   ],
   "source": [
    "# changing an index by passing new parameters\n",
    "store.create_table_index('df', optlevel=9, kind='full')\n",
    "i = store.root.df.table.cols.index.index\n",
    "\n",
    "i.optlevel, i.kind\n"
   ]
  },
  {
   "cell_type": "code",
   "execution_count": 91,
   "metadata": {},
   "outputs": [
    {
     "data": {
      "text/plain": [
       "/df/table (Table(20,)) ''\n",
       "  description := {\n",
       "  \"index\": Int64Col(shape=(), dflt=0, pos=0),\n",
       "  \"values_block_0\": Float64Col(shape=(1,), dflt=0.0, pos=1),\n",
       "  \"B\": Float64Col(shape=(), dflt=0.0, pos=2)}\n",
       "  byteorder := 'little'\n",
       "  chunkshape := (2730,)"
      ]
     },
     "execution_count": 91,
     "metadata": {},
     "output_type": "execute_result"
    }
   ],
   "source": [
    "df_1 = pd.DataFrame(np.random.randn(10,2), columns=list(\"AB\"))\n",
    "df_2 = pd.DataFrame(np.random.randn(10,2), columns=list(\"AB\"))\n",
    "st = pd.HDFStore('appends.ht', mode='w')\n",
    "st.append('df', df_1, data_columns=[\"B\"], index=False)\n",
    "st.append('df', df_2, data_columns=[\"B\"], index=False)\n",
    "st.get_storer('df').table"
   ]
  },
  {
   "cell_type": "code",
   "execution_count": 92,
   "metadata": {},
   "outputs": [
    {
     "data": {
      "text/plain": [
       "/df/table (Table(20,)) ''\n",
       "  description := {\n",
       "  \"index\": Int64Col(shape=(), dflt=0, pos=0),\n",
       "  \"values_block_0\": Float64Col(shape=(1,), dflt=0.0, pos=1),\n",
       "  \"B\": Float64Col(shape=(), dflt=0.0, pos=2)}\n",
       "  byteorder := 'little'\n",
       "  chunkshape := (2730,)\n",
       "  autoindex := True\n",
       "  colindexes := {\n",
       "    \"B\": Index(9, fullshuffle, zlib(1)).is_csi=True}"
      ]
     },
     "execution_count": 92,
     "metadata": {},
     "output_type": "execute_result"
    }
   ],
   "source": [
    "# then create the index when finished appending.\n",
    "st.create_table_index('df', columns=['B'], optlevel=9, kind='full')\n",
    "st.get_storer('df').table"
   ]
  },
  {
   "cell_type": "code",
   "execution_count": 93,
   "metadata": {},
   "outputs": [],
   "source": [
    "st.close()"
   ]
  },
  {
   "cell_type": "code",
   "execution_count": 94,
   "metadata": {},
   "outputs": [
    {
     "data": {
      "text/html": [
       "<div>\n",
       "<style scoped>\n",
       "    .dataframe tbody tr th:only-of-type {\n",
       "        vertical-align: middle;\n",
       "    }\n",
       "\n",
       "    .dataframe tbody tr th {\n",
       "        vertical-align: top;\n",
       "    }\n",
       "\n",
       "    .dataframe thead th {\n",
       "        text-align: right;\n",
       "    }\n",
       "</style>\n",
       "<table border=\"1\" class=\"dataframe\">\n",
       "  <thead>\n",
       "    <tr style=\"text-align: right;\">\n",
       "      <th></th>\n",
       "      <th>A</th>\n",
       "      <th>B</th>\n",
       "      <th>C</th>\n",
       "      <th>string</th>\n",
       "      <th>string2</th>\n",
       "    </tr>\n",
       "  </thead>\n",
       "  <tbody>\n",
       "    <tr>\n",
       "      <th>2023-01-01</th>\n",
       "      <td>1.702872</td>\n",
       "      <td>0.308839</td>\n",
       "      <td>-0.365917</td>\n",
       "      <td>foo</td>\n",
       "      <td>cool</td>\n",
       "    </tr>\n",
       "    <tr>\n",
       "      <th>2023-01-02</th>\n",
       "      <td>0.851215</td>\n",
       "      <td>1.000000</td>\n",
       "      <td>1.000000</td>\n",
       "      <td>foo</td>\n",
       "      <td>cool</td>\n",
       "    </tr>\n",
       "    <tr>\n",
       "      <th>2023-01-03</th>\n",
       "      <td>-1.498664</td>\n",
       "      <td>1.000000</td>\n",
       "      <td>1.000000</td>\n",
       "      <td>foo</td>\n",
       "      <td>cool</td>\n",
       "    </tr>\n",
       "    <tr>\n",
       "      <th>2023-01-04</th>\n",
       "      <td>-0.259856</td>\n",
       "      <td>1.271397</td>\n",
       "      <td>-0.256739</td>\n",
       "      <td>foo</td>\n",
       "      <td>cool</td>\n",
       "    </tr>\n",
       "    <tr>\n",
       "      <th>2023-01-05</th>\n",
       "      <td>-1.474300</td>\n",
       "      <td>1.368424</td>\n",
       "      <td>-0.037265</td>\n",
       "      <td>NaN</td>\n",
       "      <td>cool</td>\n",
       "    </tr>\n",
       "    <tr>\n",
       "      <th>2023-01-06</th>\n",
       "      <td>-0.054277</td>\n",
       "      <td>1.684516</td>\n",
       "      <td>1.270398</td>\n",
       "      <td>NaN</td>\n",
       "      <td>cool</td>\n",
       "    </tr>\n",
       "    <tr>\n",
       "      <th>2023-01-07</th>\n",
       "      <td>-0.274158</td>\n",
       "      <td>0.875411</td>\n",
       "      <td>-0.446735</td>\n",
       "      <td>foo</td>\n",
       "      <td>cool</td>\n",
       "    </tr>\n",
       "    <tr>\n",
       "      <th>2023-01-08</th>\n",
       "      <td>-1.383003</td>\n",
       "      <td>1.533008</td>\n",
       "      <td>-2.200317</td>\n",
       "      <td>bar</td>\n",
       "      <td>cool</td>\n",
       "    </tr>\n",
       "  </tbody>\n",
       "</table>\n",
       "</div>"
      ],
      "text/plain": [
       "                   A         B         C string string2\n",
       "2023-01-01  1.702872  0.308839 -0.365917    foo    cool\n",
       "2023-01-02  0.851215  1.000000  1.000000    foo    cool\n",
       "2023-01-03 -1.498664  1.000000  1.000000    foo    cool\n",
       "2023-01-04 -0.259856  1.271397 -0.256739    foo    cool\n",
       "2023-01-05 -1.474300  1.368424 -0.037265    NaN    cool\n",
       "2023-01-06 -0.054277  1.684516  1.270398    NaN    cool\n",
       "2023-01-07 -0.274158  0.875411 -0.446735    foo    cool\n",
       "2023-01-08 -1.383003  1.533008 -2.200317    bar    cool"
      ]
     },
     "execution_count": 94,
     "metadata": {},
     "output_type": "execute_result"
    }
   ],
   "source": [
    "# Query via data columns\n",
    "df_dc = df.copy()\n",
    "df_dc['string'] = 'foo'\n",
    "df_dc.loc[df_dc.index[4:6], 'string'] = np.nan\n",
    "df_dc.loc[df_dc.index[7:9], 'string'] = 'bar'\n",
    "df_dc['string2'] = 'cool'\n",
    "df_dc.loc[df_dc.index[1:3], ['B', 'C']] = 1.0\n",
    "df_dc"
   ]
  },
  {
   "cell_type": "code",
   "execution_count": 95,
   "metadata": {},
   "outputs": [
    {
     "data": {
      "text/html": [
       "<div>\n",
       "<style scoped>\n",
       "    .dataframe tbody tr th:only-of-type {\n",
       "        vertical-align: middle;\n",
       "    }\n",
       "\n",
       "    .dataframe tbody tr th {\n",
       "        vertical-align: top;\n",
       "    }\n",
       "\n",
       "    .dataframe thead th {\n",
       "        text-align: right;\n",
       "    }\n",
       "</style>\n",
       "<table border=\"1\" class=\"dataframe\">\n",
       "  <thead>\n",
       "    <tr style=\"text-align: right;\">\n",
       "      <th></th>\n",
       "      <th>A</th>\n",
       "      <th>B</th>\n",
       "      <th>C</th>\n",
       "      <th>string</th>\n",
       "      <th>string2</th>\n",
       "    </tr>\n",
       "  </thead>\n",
       "  <tbody>\n",
       "    <tr>\n",
       "      <th>2023-01-01</th>\n",
       "      <td>1.702872</td>\n",
       "      <td>0.308839</td>\n",
       "      <td>-0.365917</td>\n",
       "      <td>foo</td>\n",
       "      <td>cool</td>\n",
       "    </tr>\n",
       "    <tr>\n",
       "      <th>2023-01-02</th>\n",
       "      <td>0.851215</td>\n",
       "      <td>1.000000</td>\n",
       "      <td>1.000000</td>\n",
       "      <td>foo</td>\n",
       "      <td>cool</td>\n",
       "    </tr>\n",
       "    <tr>\n",
       "      <th>2023-01-03</th>\n",
       "      <td>-1.498664</td>\n",
       "      <td>1.000000</td>\n",
       "      <td>1.000000</td>\n",
       "      <td>foo</td>\n",
       "      <td>cool</td>\n",
       "    </tr>\n",
       "    <tr>\n",
       "      <th>2023-01-04</th>\n",
       "      <td>-0.259856</td>\n",
       "      <td>1.271397</td>\n",
       "      <td>-0.256739</td>\n",
       "      <td>foo</td>\n",
       "      <td>cool</td>\n",
       "    </tr>\n",
       "    <tr>\n",
       "      <th>2023-01-05</th>\n",
       "      <td>-1.474300</td>\n",
       "      <td>1.368424</td>\n",
       "      <td>-0.037265</td>\n",
       "      <td>NaN</td>\n",
       "      <td>cool</td>\n",
       "    </tr>\n",
       "    <tr>\n",
       "      <th>2023-01-06</th>\n",
       "      <td>-0.054277</td>\n",
       "      <td>1.684516</td>\n",
       "      <td>1.270398</td>\n",
       "      <td>NaN</td>\n",
       "      <td>cool</td>\n",
       "    </tr>\n",
       "    <tr>\n",
       "      <th>2023-01-07</th>\n",
       "      <td>-0.274158</td>\n",
       "      <td>0.875411</td>\n",
       "      <td>-0.446735</td>\n",
       "      <td>foo</td>\n",
       "      <td>cool</td>\n",
       "    </tr>\n",
       "    <tr>\n",
       "      <th>2023-01-08</th>\n",
       "      <td>-1.383003</td>\n",
       "      <td>1.533008</td>\n",
       "      <td>-2.200317</td>\n",
       "      <td>bar</td>\n",
       "      <td>cool</td>\n",
       "    </tr>\n",
       "  </tbody>\n",
       "</table>\n",
       "</div>"
      ],
      "text/plain": [
       "                   A         B         C string string2\n",
       "2023-01-01  1.702872  0.308839 -0.365917    foo    cool\n",
       "2023-01-02  0.851215  1.000000  1.000000    foo    cool\n",
       "2023-01-03 -1.498664  1.000000  1.000000    foo    cool\n",
       "2023-01-04 -0.259856  1.271397 -0.256739    foo    cool\n",
       "2023-01-05 -1.474300  1.368424 -0.037265    NaN    cool\n",
       "2023-01-06 -0.054277  1.684516  1.270398    NaN    cool\n",
       "2023-01-07 -0.274158  0.875411 -0.446735    foo    cool\n",
       "2023-01-08 -1.383003  1.533008 -2.200317    bar    cool"
      ]
     },
     "execution_count": 95,
     "metadata": {},
     "output_type": "execute_result"
    }
   ],
   "source": [
    "# on-disk operation\n",
    "store.append('df_dc', df_dc, data_columns=['B', 'C', 'string', 'string2'])\n",
    "store.select('df_dc', where=\"B > 0\")"
   ]
  },
  {
   "cell_type": "code",
   "execution_count": 96,
   "metadata": {},
   "outputs": [
    {
     "data": {
      "text/html": [
       "<div>\n",
       "<style scoped>\n",
       "    .dataframe tbody tr th:only-of-type {\n",
       "        vertical-align: middle;\n",
       "    }\n",
       "\n",
       "    .dataframe tbody tr th {\n",
       "        vertical-align: top;\n",
       "    }\n",
       "\n",
       "    .dataframe thead th {\n",
       "        text-align: right;\n",
       "    }\n",
       "</style>\n",
       "<table border=\"1\" class=\"dataframe\">\n",
       "  <thead>\n",
       "    <tr style=\"text-align: right;\">\n",
       "      <th></th>\n",
       "      <th>A</th>\n",
       "      <th>B</th>\n",
       "      <th>C</th>\n",
       "      <th>string</th>\n",
       "      <th>string2</th>\n",
       "    </tr>\n",
       "  </thead>\n",
       "  <tbody>\n",
       "    <tr>\n",
       "      <th>2023-01-02</th>\n",
       "      <td>0.851215</td>\n",
       "      <td>1.0</td>\n",
       "      <td>1.0</td>\n",
       "      <td>foo</td>\n",
       "      <td>cool</td>\n",
       "    </tr>\n",
       "    <tr>\n",
       "      <th>2023-01-03</th>\n",
       "      <td>-1.498664</td>\n",
       "      <td>1.0</td>\n",
       "      <td>1.0</td>\n",
       "      <td>foo</td>\n",
       "      <td>cool</td>\n",
       "    </tr>\n",
       "  </tbody>\n",
       "</table>\n",
       "</div>"
      ],
      "text/plain": [
       "                   A    B    C string string2\n",
       "2023-01-02  0.851215  1.0  1.0    foo    cool\n",
       "2023-01-03 -1.498664  1.0  1.0    foo    cool"
      ]
     },
     "execution_count": 96,
     "metadata": {},
     "output_type": "execute_result"
    }
   ],
   "source": [
    "# getting creative\n",
    "store.select('df_dc', \"B > 0 & C > 0 & string==foo\")"
   ]
  },
  {
   "cell_type": "code",
   "execution_count": 97,
   "metadata": {},
   "outputs": [
    {
     "data": {
      "text/html": [
       "<div>\n",
       "<style scoped>\n",
       "    .dataframe tbody tr th:only-of-type {\n",
       "        vertical-align: middle;\n",
       "    }\n",
       "\n",
       "    .dataframe tbody tr th {\n",
       "        vertical-align: top;\n",
       "    }\n",
       "\n",
       "    .dataframe thead th {\n",
       "        text-align: right;\n",
       "    }\n",
       "</style>\n",
       "<table border=\"1\" class=\"dataframe\">\n",
       "  <thead>\n",
       "    <tr style=\"text-align: right;\">\n",
       "      <th></th>\n",
       "      <th>A</th>\n",
       "      <th>B</th>\n",
       "      <th>C</th>\n",
       "      <th>string</th>\n",
       "      <th>string2</th>\n",
       "    </tr>\n",
       "  </thead>\n",
       "  <tbody>\n",
       "    <tr>\n",
       "      <th>2023-01-02</th>\n",
       "      <td>0.851215</td>\n",
       "      <td>1.0</td>\n",
       "      <td>1.0</td>\n",
       "      <td>foo</td>\n",
       "      <td>cool</td>\n",
       "    </tr>\n",
       "    <tr>\n",
       "      <th>2023-01-03</th>\n",
       "      <td>-1.498664</td>\n",
       "      <td>1.0</td>\n",
       "      <td>1.0</td>\n",
       "      <td>foo</td>\n",
       "      <td>cool</td>\n",
       "    </tr>\n",
       "  </tbody>\n",
       "</table>\n",
       "</div>"
      ],
      "text/plain": [
       "                   A    B    C string string2\n",
       "2023-01-02  0.851215  1.0  1.0    foo    cool\n",
       "2023-01-03 -1.498664  1.0  1.0    foo    cool"
      ]
     },
     "execution_count": 97,
     "metadata": {},
     "output_type": "execute_result"
    }
   ],
   "source": [
    "# in-memory version\n",
    "df_dc[(df_dc.B > 0) & (df_dc.C > 0) & (df_dc.string == 'foo')]"
   ]
  },
  {
   "cell_type": "code",
   "execution_count": 98,
   "metadata": {},
   "outputs": [
    {
     "data": {
      "text/plain": [
       "/df_dc/table (Table(8,)) ''\n",
       "  description := {\n",
       "  \"index\": Int64Col(shape=(), dflt=0, pos=0),\n",
       "  \"values_block_0\": Float64Col(shape=(1,), dflt=0.0, pos=1),\n",
       "  \"B\": Float64Col(shape=(), dflt=0.0, pos=2),\n",
       "  \"C\": Float64Col(shape=(), dflt=0.0, pos=3),\n",
       "  \"string\": StringCol(itemsize=3, shape=(), dflt=b'', pos=4),\n",
       "  \"string2\": StringCol(itemsize=4, shape=(), dflt=b'', pos=5)}\n",
       "  byteorder := 'little'\n",
       "  chunkshape := (1680,)\n",
       "  autoindex := True\n",
       "  colindexes := {\n",
       "    \"index\": Index(6, mediumshuffle, zlib(1)).is_csi=False,\n",
       "    \"B\": Index(6, mediumshuffle, zlib(1)).is_csi=False,\n",
       "    \"C\": Index(6, mediumshuffle, zlib(1)).is_csi=False,\n",
       "    \"string\": Index(6, mediumshuffle, zlib(1)).is_csi=False,\n",
       "    \"string2\": Index(6, mediumshuffle, zlib(1)).is_csi=False}"
      ]
     },
     "execution_count": 98,
     "metadata": {},
     "output_type": "execute_result"
    }
   ],
   "source": [
    "store.root.df_dc.table"
   ]
  },
  {
   "cell_type": "code",
   "execution_count": 99,
   "metadata": {},
   "outputs": [
    {
     "data": {
      "text/html": [
       "<div>\n",
       "<style scoped>\n",
       "    .dataframe tbody tr th:only-of-type {\n",
       "        vertical-align: middle;\n",
       "    }\n",
       "\n",
       "    .dataframe tbody tr th {\n",
       "        vertical-align: top;\n",
       "    }\n",
       "\n",
       "    .dataframe thead th {\n",
       "        text-align: right;\n",
       "    }\n",
       "</style>\n",
       "<table border=\"1\" class=\"dataframe\">\n",
       "  <thead>\n",
       "    <tr style=\"text-align: right;\">\n",
       "      <th></th>\n",
       "      <th>A</th>\n",
       "      <th>B</th>\n",
       "      <th>C</th>\n",
       "      <th>string</th>\n",
       "      <th>string2</th>\n",
       "    </tr>\n",
       "  </thead>\n",
       "  <tbody>\n",
       "    <tr>\n",
       "      <th>2023-01-01</th>\n",
       "      <td>1.702872</td>\n",
       "      <td>0.308839</td>\n",
       "      <td>-0.365917</td>\n",
       "      <td>foo</td>\n",
       "      <td>cool</td>\n",
       "    </tr>\n",
       "    <tr>\n",
       "      <th>2023-01-02</th>\n",
       "      <td>0.851215</td>\n",
       "      <td>1.000000</td>\n",
       "      <td>1.000000</td>\n",
       "      <td>foo</td>\n",
       "      <td>cool</td>\n",
       "    </tr>\n",
       "    <tr>\n",
       "      <th>2023-01-03</th>\n",
       "      <td>-1.498664</td>\n",
       "      <td>1.000000</td>\n",
       "      <td>1.000000</td>\n",
       "      <td>foo</td>\n",
       "      <td>cool</td>\n",
       "    </tr>\n",
       "    <tr>\n",
       "      <th>2023-01-04</th>\n",
       "      <td>-0.259856</td>\n",
       "      <td>1.271397</td>\n",
       "      <td>-0.256739</td>\n",
       "      <td>foo</td>\n",
       "      <td>cool</td>\n",
       "    </tr>\n",
       "    <tr>\n",
       "      <th>2023-01-05</th>\n",
       "      <td>-1.474300</td>\n",
       "      <td>1.368424</td>\n",
       "      <td>-0.037265</td>\n",
       "      <td>NaN</td>\n",
       "      <td>cool</td>\n",
       "    </tr>\n",
       "    <tr>\n",
       "      <th>2023-01-06</th>\n",
       "      <td>-0.054277</td>\n",
       "      <td>1.684516</td>\n",
       "      <td>1.270398</td>\n",
       "      <td>NaN</td>\n",
       "      <td>cool</td>\n",
       "    </tr>\n",
       "    <tr>\n",
       "      <th>2023-01-07</th>\n",
       "      <td>-0.274158</td>\n",
       "      <td>0.875411</td>\n",
       "      <td>-0.446735</td>\n",
       "      <td>foo</td>\n",
       "      <td>cool</td>\n",
       "    </tr>\n",
       "    <tr>\n",
       "      <th>2023-01-08</th>\n",
       "      <td>-1.383003</td>\n",
       "      <td>1.533008</td>\n",
       "      <td>-2.200317</td>\n",
       "      <td>bar</td>\n",
       "      <td>cool</td>\n",
       "    </tr>\n",
       "  </tbody>\n",
       "</table>\n",
       "</div>"
      ],
      "text/plain": [
       "                   A         B         C string string2\n",
       "2023-01-01  1.702872  0.308839 -0.365917    foo    cool\n",
       "2023-01-02  0.851215  1.000000  1.000000    foo    cool\n",
       "2023-01-03 -1.498664  1.000000  1.000000    foo    cool\n",
       "2023-01-04 -0.259856  1.271397 -0.256739    foo    cool\n",
       "2023-01-05 -1.474300  1.368424 -0.037265    NaN    cool\n",
       "2023-01-06 -0.054277  1.684516  1.270398    NaN    cool\n",
       "2023-01-07 -0.274158  0.875411 -0.446735    foo    cool\n",
       "2023-01-08 -1.383003  1.533008 -2.200317    bar    cool"
      ]
     },
     "execution_count": 99,
     "metadata": {},
     "output_type": "execute_result"
    }
   ],
   "source": [
    "store['df_dc']"
   ]
  },
  {
   "cell_type": "code",
   "execution_count": 100,
   "metadata": {},
   "outputs": [
    {
     "name": "stdout",
     "output_type": "stream",
     "text": [
      "                   A         B         C\n",
      "2023-01-01  1.702872  0.308839 -0.365917\n",
      "2023-01-02  0.851215  0.448810  0.165340\n",
      "2023-01-03 -1.498664 -0.233697 -0.462251\n",
      "                   A         B         C\n",
      "2023-01-04 -0.259856  1.271397 -0.256739\n",
      "2023-01-05 -1.474300  1.368424 -0.037265\n",
      "2023-01-06 -0.054277  1.684516  1.270398\n",
      "                   A         B         C\n",
      "2023-01-07 -0.274158  0.875411 -0.446735\n",
      "2023-01-08 -1.383003  1.533008 -2.200317\n"
     ]
    }
   ],
   "source": [
    "# Iterator\n",
    "for df in store.select('df', chunksize=3):\n",
    "    print(df)"
   ]
  },
  {
   "cell_type": "code",
   "execution_count": 101,
   "metadata": {},
   "outputs": [],
   "source": [
    "store.close()"
   ]
  },
  {
   "cell_type": "code",
   "execution_count": 103,
   "metadata": {},
   "outputs": [
    {
     "ename": "ValueError",
     "evalue": "The file 'hdf.h5' is already opened, but not in read-only mode (as requested).",
     "output_type": "error",
     "traceback": [
      "\u001b[0;31m---------------------------------------------------------------------------\u001b[0m",
      "\u001b[0;31mValueError\u001b[0m                                Traceback (most recent call last)",
      "Cell \u001b[0;32mIn[103], line 3\u001b[0m\n\u001b[1;32m      1\u001b[0m \u001b[39m# You can also use the iterator with read_hdf which will open, \u001b[39;00m\n\u001b[1;32m      2\u001b[0m \u001b[39m# then \"automatically close\" the store when finished iterating.\u001b[39;00m\n\u001b[0;32m----> 3\u001b[0m \u001b[39mfor\u001b[39;00m df \u001b[39min\u001b[39;00m pd\u001b[39m.\u001b[39;49mread_hdf(\u001b[39m'\u001b[39;49m\u001b[39mhdf.h5\u001b[39;49m\u001b[39m'\u001b[39;49m, \u001b[39m'\u001b[39;49m\u001b[39mdf\u001b[39;49m\u001b[39m'\u001b[39;49m, chunksize\u001b[39m=\u001b[39;49m\u001b[39m3\u001b[39;49m):\n\u001b[1;32m      4\u001b[0m     \u001b[39mprint\u001b[39m(df)\n",
      "File \u001b[0;32m~/.local/lib/python3.10/site-packages/pandas/io/pytables.py:420\u001b[0m, in \u001b[0;36mread_hdf\u001b[0;34m(path_or_buf, key, mode, errors, where, start, stop, columns, iterator, chunksize, **kwargs)\u001b[0m\n\u001b[1;32m    417\u001b[0m \u001b[39mif\u001b[39;00m \u001b[39mnot\u001b[39;00m exists:\n\u001b[1;32m    418\u001b[0m     \u001b[39mraise\u001b[39;00m \u001b[39mFileNotFoundError\u001b[39;00m(\u001b[39mf\u001b[39m\u001b[39m\"\u001b[39m\u001b[39mFile \u001b[39m\u001b[39m{\u001b[39;00mpath_or_buf\u001b[39m}\u001b[39;00m\u001b[39m does not exist\u001b[39m\u001b[39m\"\u001b[39m)\n\u001b[0;32m--> 420\u001b[0m store \u001b[39m=\u001b[39m HDFStore(path_or_buf, mode\u001b[39m=\u001b[39;49mmode, errors\u001b[39m=\u001b[39;49merrors, \u001b[39m*\u001b[39;49m\u001b[39m*\u001b[39;49mkwargs)\n\u001b[1;32m    421\u001b[0m \u001b[39m# can't auto open/close if we are using an iterator\u001b[39;00m\n\u001b[1;32m    422\u001b[0m \u001b[39m# so delegate to the iterator\u001b[39;00m\n\u001b[1;32m    423\u001b[0m auto_close \u001b[39m=\u001b[39m \u001b[39mTrue\u001b[39;00m\n",
      "File \u001b[0;32m~/.local/lib/python3.10/site-packages/pandas/io/pytables.py:579\u001b[0m, in \u001b[0;36mHDFStore.__init__\u001b[0;34m(self, path, mode, complevel, complib, fletcher32, **kwargs)\u001b[0m\n\u001b[1;32m    577\u001b[0m \u001b[39mself\u001b[39m\u001b[39m.\u001b[39m_fletcher32 \u001b[39m=\u001b[39m fletcher32\n\u001b[1;32m    578\u001b[0m \u001b[39mself\u001b[39m\u001b[39m.\u001b[39m_filters \u001b[39m=\u001b[39m \u001b[39mNone\u001b[39;00m\n\u001b[0;32m--> 579\u001b[0m \u001b[39mself\u001b[39;49m\u001b[39m.\u001b[39;49mopen(mode\u001b[39m=\u001b[39;49mmode, \u001b[39m*\u001b[39;49m\u001b[39m*\u001b[39;49mkwargs)\n",
      "File \u001b[0;32m~/.local/lib/python3.10/site-packages/pandas/io/pytables.py:731\u001b[0m, in \u001b[0;36mHDFStore.open\u001b[0;34m(self, mode, **kwargs)\u001b[0m\n\u001b[1;32m    725\u001b[0m     msg \u001b[39m=\u001b[39m (\n\u001b[1;32m    726\u001b[0m         \u001b[39m\"\u001b[39m\u001b[39mCannot open HDF5 file, which is already opened, \u001b[39m\u001b[39m\"\u001b[39m\n\u001b[1;32m    727\u001b[0m         \u001b[39m\"\u001b[39m\u001b[39meven in read-only mode.\u001b[39m\u001b[39m\"\u001b[39m\n\u001b[1;32m    728\u001b[0m     )\n\u001b[1;32m    729\u001b[0m     \u001b[39mraise\u001b[39;00m \u001b[39mValueError\u001b[39;00m(msg)\n\u001b[0;32m--> 731\u001b[0m \u001b[39mself\u001b[39m\u001b[39m.\u001b[39m_handle \u001b[39m=\u001b[39m tables\u001b[39m.\u001b[39;49mopen_file(\u001b[39mself\u001b[39;49m\u001b[39m.\u001b[39;49m_path, \u001b[39mself\u001b[39;49m\u001b[39m.\u001b[39;49m_mode, \u001b[39m*\u001b[39;49m\u001b[39m*\u001b[39;49mkwargs)\n",
      "File \u001b[0;32m~/.local/lib/python3.10/site-packages/tables/file.py:284\u001b[0m, in \u001b[0;36mopen_file\u001b[0;34m(filename, mode, title, root_uep, filters, **kwargs)\u001b[0m\n\u001b[1;32m    282\u001b[0m \u001b[39m# 'r' is incompatible with everything except 'r' itself\u001b[39;00m\n\u001b[1;32m    283\u001b[0m \u001b[39mif\u001b[39;00m mode \u001b[39m==\u001b[39m \u001b[39m'\u001b[39m\u001b[39mr\u001b[39m\u001b[39m'\u001b[39m \u001b[39mand\u001b[39;00m omode \u001b[39m!=\u001b[39m \u001b[39m'\u001b[39m\u001b[39mr\u001b[39m\u001b[39m'\u001b[39m:\n\u001b[0;32m--> 284\u001b[0m     \u001b[39mraise\u001b[39;00m \u001b[39mValueError\u001b[39;00m(\n\u001b[1;32m    285\u001b[0m         \u001b[39m\"\u001b[39m\u001b[39mThe file \u001b[39m\u001b[39m'\u001b[39m\u001b[39m%s\u001b[39;00m\u001b[39m'\u001b[39m\u001b[39m is already opened, but \u001b[39m\u001b[39m\"\u001b[39m\n\u001b[1;32m    286\u001b[0m         \u001b[39m\"\u001b[39m\u001b[39mnot in read-only mode (as requested).\u001b[39m\u001b[39m\"\u001b[39m \u001b[39m%\u001b[39m filename)\n\u001b[1;32m    287\u001b[0m \u001b[39m# 'a' and 'r+' are compatible with everything except 'r'\u001b[39;00m\n\u001b[1;32m    288\u001b[0m \u001b[39melif\u001b[39;00m mode \u001b[39min\u001b[39;00m (\u001b[39m'\u001b[39m\u001b[39ma\u001b[39m\u001b[39m'\u001b[39m, \u001b[39m'\u001b[39m\u001b[39mr+\u001b[39m\u001b[39m'\u001b[39m) \u001b[39mand\u001b[39;00m omode \u001b[39m==\u001b[39m \u001b[39m'\u001b[39m\u001b[39mr\u001b[39m\u001b[39m'\u001b[39m:\n",
      "\u001b[0;31mValueError\u001b[0m: The file 'hdf.h5' is already opened, but not in read-only mode (as requested)."
     ]
    }
   ],
   "source": [
    "# You can also use the iterator with read_hdf which will open, \n",
    "# then \"automatically close\" the store when finished iterating.\n",
    "for df in pd.read_hdf('hdf.h5', 'df', chunksize=3):\n",
    "    print(df)\n"
   ]
  },
  {
   "cell_type": "code",
   "execution_count": 104,
   "metadata": {},
   "outputs": [
    {
     "data": {
      "text/html": [
       "<div>\n",
       "<style scoped>\n",
       "    .dataframe tbody tr th:only-of-type {\n",
       "        vertical-align: middle;\n",
       "    }\n",
       "\n",
       "    .dataframe tbody tr th {\n",
       "        vertical-align: top;\n",
       "    }\n",
       "\n",
       "    .dataframe thead th {\n",
       "        text-align: right;\n",
       "    }\n",
       "</style>\n",
       "<table border=\"1\" class=\"dataframe\">\n",
       "  <thead>\n",
       "    <tr style=\"text-align: right;\">\n",
       "      <th></th>\n",
       "      <th>number</th>\n",
       "    </tr>\n",
       "  </thead>\n",
       "  <tbody>\n",
       "    <tr>\n",
       "      <th>0</th>\n",
       "      <td>1</td>\n",
       "    </tr>\n",
       "    <tr>\n",
       "      <th>1</th>\n",
       "      <td>2</td>\n",
       "    </tr>\n",
       "    <tr>\n",
       "      <th>2</th>\n",
       "      <td>3</td>\n",
       "    </tr>\n",
       "    <tr>\n",
       "      <th>3</th>\n",
       "      <td>4</td>\n",
       "    </tr>\n",
       "    <tr>\n",
       "      <th>4</th>\n",
       "      <td>5</td>\n",
       "    </tr>\n",
       "    <tr>\n",
       "      <th>5</th>\n",
       "      <td>6</td>\n",
       "    </tr>\n",
       "    <tr>\n",
       "      <th>6</th>\n",
       "      <td>7</td>\n",
       "    </tr>\n",
       "    <tr>\n",
       "      <th>7</th>\n",
       "      <td>8</td>\n",
       "    </tr>\n",
       "    <tr>\n",
       "      <th>8</th>\n",
       "      <td>9</td>\n",
       "    </tr>\n",
       "    <tr>\n",
       "      <th>9</th>\n",
       "      <td>10</td>\n",
       "    </tr>\n",
       "  </tbody>\n",
       "</table>\n",
       "</div>"
      ],
      "text/plain": [
       "   number\n",
       "0       1\n",
       "1       2\n",
       "2       3\n",
       "3       4\n",
       "4       5\n",
       "5       6\n",
       "6       7\n",
       "7       8\n",
       "8       9\n",
       "9      10"
      ]
     },
     "execution_count": 104,
     "metadata": {},
     "output_type": "execute_result"
    }
   ],
   "source": [
    "dfeq = pd.DataFrame({'number': np.arange(1, 11)})\n",
    "dfeq"
   ]
  },
  {
   "cell_type": "code",
   "execution_count": 105,
   "metadata": {},
   "outputs": [],
   "source": [
    "store.open()\n",
    "store.append('dfeq', dfeq, data_columns=['number'])"
   ]
  },
  {
   "cell_type": "code",
   "execution_count": 106,
   "metadata": {},
   "outputs": [],
   "source": [
    "# list를 argument로 받아서, 일부를 slicing하고 이것들로 list를 만든다.   🌺㊙️ \n",
    "def chunks(l, n):\n",
    "    return[l[i:i+n] for i in range(0, len(l), n)]"
   ]
  },
  {
   "cell_type": "code",
   "execution_count": 107,
   "metadata": {},
   "outputs": [
    {
     "name": "stdout",
     "output_type": "stream",
     "text": [
      "   number\n",
      "1       2\n",
      "3       4\n",
      "   number\n",
      "5       6\n",
      "7       8\n",
      "   number\n",
      "9      10\n"
     ]
    }
   ],
   "source": [
    "evens = [2, 4, 6, 8, 10]\n",
    "coordinates = store.select_as_coordinates('dfeq', 'number=evens')\n",
    "# 😵‍💫\n",
    "\n",
    "for c in chunks(coordinates, 2):\n",
    "    print(store.select('dfeq', where=c))"
   ]
  },
  {
   "cell_type": "code",
   "execution_count": 108,
   "metadata": {},
   "outputs": [
    {
     "data": {
      "text/plain": [
       "0   2023-01-01\n",
       "1   2023-01-02\n",
       "2   2023-01-03\n",
       "3   2023-01-04\n",
       "4   2023-01-05\n",
       "5   2023-01-06\n",
       "6   2023-01-07\n",
       "7   2023-01-08\n",
       "Name: index, dtype: datetime64[ns]"
      ]
     },
     "execution_count": 108,
     "metadata": {},
     "output_type": "execute_result"
    }
   ],
   "source": [
    "# Advanced queries\n",
    "store.select_column('df_dc', 'index')\n"
   ]
  },
  {
   "cell_type": "code",
   "execution_count": 109,
   "metadata": {},
   "outputs": [
    {
     "data": {
      "text/plain": [
       "0    foo\n",
       "1    foo\n",
       "2    foo\n",
       "3    foo\n",
       "4    NaN\n",
       "5    NaN\n",
       "6    foo\n",
       "7    bar\n",
       "Name: string, dtype: object"
      ]
     },
     "execution_count": 109,
     "metadata": {},
     "output_type": "execute_result"
    }
   ],
   "source": [
    "store.select_column('df_dc', 'string')"
   ]
  },
  {
   "cell_type": "code",
   "execution_count": 110,
   "metadata": {},
   "outputs": [],
   "source": [
    "df_coord = pd.DataFrame(\n",
    "    np.random.randn(1000, 2), index=pd.date_range(\"20000101\", periods=1000)\n",
    ")"
   ]
  },
  {
   "cell_type": "code",
   "execution_count": 111,
   "metadata": {},
   "outputs": [
    {
     "data": {
      "text/plain": [
       "Index([732, 733, 734, 735, 736, 737, 738, 739, 740, 741,\n",
       "       ...\n",
       "       990, 991, 992, 993, 994, 995, 996, 997, 998, 999],\n",
       "      dtype='int64', length=268)"
      ]
     },
     "execution_count": 111,
     "metadata": {},
     "output_type": "execute_result"
    }
   ],
   "source": [
    "store.append('df_coord', df_coord)\n",
    "c = store.select_as_coordinates('df_coord', 'index > 20020101')\n",
    "c"
   ]
  },
  {
   "cell_type": "code",
   "execution_count": 112,
   "metadata": {},
   "outputs": [
    {
     "data": {
      "text/html": [
       "<div>\n",
       "<style scoped>\n",
       "    .dataframe tbody tr th:only-of-type {\n",
       "        vertical-align: middle;\n",
       "    }\n",
       "\n",
       "    .dataframe tbody tr th {\n",
       "        vertical-align: top;\n",
       "    }\n",
       "\n",
       "    .dataframe thead th {\n",
       "        text-align: right;\n",
       "    }\n",
       "</style>\n",
       "<table border=\"1\" class=\"dataframe\">\n",
       "  <thead>\n",
       "    <tr style=\"text-align: right;\">\n",
       "      <th></th>\n",
       "      <th>0</th>\n",
       "      <th>1</th>\n",
       "    </tr>\n",
       "  </thead>\n",
       "  <tbody>\n",
       "    <tr>\n",
       "      <th>2002-01-02</th>\n",
       "      <td>-1.428768</td>\n",
       "      <td>-0.690780</td>\n",
       "    </tr>\n",
       "    <tr>\n",
       "      <th>2002-01-03</th>\n",
       "      <td>0.622003</td>\n",
       "      <td>-0.307886</td>\n",
       "    </tr>\n",
       "    <tr>\n",
       "      <th>2002-01-04</th>\n",
       "      <td>1.250637</td>\n",
       "      <td>0.673392</td>\n",
       "    </tr>\n",
       "    <tr>\n",
       "      <th>2002-01-05</th>\n",
       "      <td>0.759347</td>\n",
       "      <td>0.207316</td>\n",
       "    </tr>\n",
       "    <tr>\n",
       "      <th>2002-01-06</th>\n",
       "      <td>-1.016900</td>\n",
       "      <td>1.504435</td>\n",
       "    </tr>\n",
       "    <tr>\n",
       "      <th>...</th>\n",
       "      <td>...</td>\n",
       "      <td>...</td>\n",
       "    </tr>\n",
       "    <tr>\n",
       "      <th>2002-09-22</th>\n",
       "      <td>1.173989</td>\n",
       "      <td>2.830376</td>\n",
       "    </tr>\n",
       "    <tr>\n",
       "      <th>2002-09-23</th>\n",
       "      <td>1.538382</td>\n",
       "      <td>1.382405</td>\n",
       "    </tr>\n",
       "    <tr>\n",
       "      <th>2002-09-24</th>\n",
       "      <td>1.351019</td>\n",
       "      <td>-0.429503</td>\n",
       "    </tr>\n",
       "    <tr>\n",
       "      <th>2002-09-25</th>\n",
       "      <td>0.543693</td>\n",
       "      <td>-0.062825</td>\n",
       "    </tr>\n",
       "    <tr>\n",
       "      <th>2002-09-26</th>\n",
       "      <td>1.760856</td>\n",
       "      <td>0.592736</td>\n",
       "    </tr>\n",
       "  </tbody>\n",
       "</table>\n",
       "<p>268 rows × 2 columns</p>\n",
       "</div>"
      ],
      "text/plain": [
       "                   0         1\n",
       "2002-01-02 -1.428768 -0.690780\n",
       "2002-01-03  0.622003 -0.307886\n",
       "2002-01-04  1.250637  0.673392\n",
       "2002-01-05  0.759347  0.207316\n",
       "2002-01-06 -1.016900  1.504435\n",
       "...              ...       ...\n",
       "2002-09-22  1.173989  2.830376\n",
       "2002-09-23  1.538382  1.382405\n",
       "2002-09-24  1.351019 -0.429503\n",
       "2002-09-25  0.543693 -0.062825\n",
       "2002-09-26  1.760856  0.592736\n",
       "\n",
       "[268 rows x 2 columns]"
      ]
     },
     "execution_count": 112,
     "metadata": {},
     "output_type": "execute_result"
    }
   ],
   "source": [
    "store.select('df_coord', where=c)"
   ]
  },
  {
   "cell_type": "code",
   "execution_count": 115,
   "metadata": {},
   "outputs": [
    {
     "data": {
      "text/html": [
       "<div>\n",
       "<style scoped>\n",
       "    .dataframe tbody tr th:only-of-type {\n",
       "        vertical-align: middle;\n",
       "    }\n",
       "\n",
       "    .dataframe tbody tr th {\n",
       "        vertical-align: top;\n",
       "    }\n",
       "\n",
       "    .dataframe thead th {\n",
       "        text-align: right;\n",
       "    }\n",
       "</style>\n",
       "<table border=\"1\" class=\"dataframe\">\n",
       "  <thead>\n",
       "    <tr style=\"text-align: right;\">\n",
       "      <th></th>\n",
       "      <th>0</th>\n",
       "      <th>1</th>\n",
       "    </tr>\n",
       "  </thead>\n",
       "  <tbody>\n",
       "    <tr>\n",
       "      <th>2023-05-01</th>\n",
       "      <td>-1.346260</td>\n",
       "      <td>0.221828</td>\n",
       "    </tr>\n",
       "    <tr>\n",
       "      <th>2023-05-02</th>\n",
       "      <td>0.753195</td>\n",
       "      <td>-0.593957</td>\n",
       "    </tr>\n",
       "    <tr>\n",
       "      <th>2023-05-03</th>\n",
       "      <td>0.710422</td>\n",
       "      <td>0.341018</td>\n",
       "    </tr>\n",
       "    <tr>\n",
       "      <th>2023-05-04</th>\n",
       "      <td>1.628852</td>\n",
       "      <td>0.667433</td>\n",
       "    </tr>\n",
       "    <tr>\n",
       "      <th>2023-05-05</th>\n",
       "      <td>-0.240896</td>\n",
       "      <td>-2.300389</td>\n",
       "    </tr>\n",
       "    <tr>\n",
       "      <th>...</th>\n",
       "      <td>...</td>\n",
       "      <td>...</td>\n",
       "    </tr>\n",
       "    <tr>\n",
       "      <th>2025-05-27</th>\n",
       "      <td>-2.508820</td>\n",
       "      <td>-1.811162</td>\n",
       "    </tr>\n",
       "    <tr>\n",
       "      <th>2025-05-28</th>\n",
       "      <td>1.005386</td>\n",
       "      <td>-0.019249</td>\n",
       "    </tr>\n",
       "    <tr>\n",
       "      <th>2025-05-29</th>\n",
       "      <td>-1.221461</td>\n",
       "      <td>0.491445</td>\n",
       "    </tr>\n",
       "    <tr>\n",
       "      <th>2025-05-30</th>\n",
       "      <td>0.163551</td>\n",
       "      <td>0.532799</td>\n",
       "    </tr>\n",
       "    <tr>\n",
       "      <th>2025-05-31</th>\n",
       "      <td>-0.527190</td>\n",
       "      <td>-0.327373</td>\n",
       "    </tr>\n",
       "  </tbody>\n",
       "</table>\n",
       "<p>93 rows × 2 columns</p>\n",
       "</div>"
      ],
      "text/plain": [
       "                   0         1\n",
       "2023-05-01 -1.346260  0.221828\n",
       "2023-05-02  0.753195 -0.593957\n",
       "2023-05-03  0.710422  0.341018\n",
       "2023-05-04  1.628852  0.667433\n",
       "2023-05-05 -0.240896 -2.300389\n",
       "...              ...       ...\n",
       "2025-05-27 -2.508820 -1.811162\n",
       "2025-05-28  1.005386 -0.019249\n",
       "2025-05-29 -1.221461  0.491445\n",
       "2025-05-30  0.163551  0.532799\n",
       "2025-05-31 -0.527190 -0.327373\n",
       "\n",
       "[93 rows x 2 columns]"
      ]
     },
     "execution_count": 115,
     "metadata": {},
     "output_type": "execute_result"
    }
   ],
   "source": [
    "# Selecting using a where mask   😵‍💫\n",
    "df_mask = pd.DataFrame(\n",
    "    np.random.randn(1000,2), index = pd.date_range('20230101', periods=1000)\n",
    ")\n",
    "\n",
    "store.append('df_mask', df_mask)\n",
    "c = store.select_column('df_mask', 'index')\n",
    "where = c[pd.DatetimeIndex(c).month == 5].index\n",
    "store.select(\"df_mask\", where = where)"
   ]
  },
  {
   "cell_type": "code",
   "execution_count": 116,
   "metadata": {},
   "outputs": [
    {
     "data": {
      "text/plain": [
       "8"
      ]
     },
     "execution_count": 116,
     "metadata": {},
     "output_type": "execute_result"
    }
   ],
   "source": [
    "# Storer object\n",
    "# If you want to inspect the stored object, retrieve via get_storer. \n",
    "# You could use this programmatically to say get the number of rows in an object.\n",
    "store.get_storer(\"df_dc\").nrows"
   ]
  },
  {
   "cell_type": "code",
   "execution_count": 123,
   "metadata": {},
   "outputs": [],
   "source": [
    "# Multiple table queries\n",
    "# .append_to_multiple()\n",
    "# .select_as_multiple()\n",
    "df_mt = pd.DataFrame(\n",
    "    np.random.randn(8,6),\n",
    "    index=pd.date_range(\"1/1/2023\", periods=8),\n",
    "    columns=['A', 'B', 'C', 'D', 'E', 'F'],\n",
    ")\n",
    "df_mt['foo'] = 'bar'\n",
    "df_mt.loc[df_mt.index[1], [\"A\", \"B\"]] = np.nan"
   ]
  },
  {
   "cell_type": "code",
   "execution_count": 124,
   "metadata": {},
   "outputs": [
    {
     "data": {
      "text/html": [
       "<div>\n",
       "<style scoped>\n",
       "    .dataframe tbody tr th:only-of-type {\n",
       "        vertical-align: middle;\n",
       "    }\n",
       "\n",
       "    .dataframe tbody tr th {\n",
       "        vertical-align: top;\n",
       "    }\n",
       "\n",
       "    .dataframe thead th {\n",
       "        text-align: right;\n",
       "    }\n",
       "</style>\n",
       "<table border=\"1\" class=\"dataframe\">\n",
       "  <thead>\n",
       "    <tr style=\"text-align: right;\">\n",
       "      <th></th>\n",
       "      <th>A</th>\n",
       "      <th>B</th>\n",
       "      <th>C</th>\n",
       "      <th>D</th>\n",
       "      <th>E</th>\n",
       "      <th>F</th>\n",
       "      <th>foo</th>\n",
       "    </tr>\n",
       "  </thead>\n",
       "  <tbody>\n",
       "    <tr>\n",
       "      <th>2023-01-01</th>\n",
       "      <td>-0.699808</td>\n",
       "      <td>0.403539</td>\n",
       "      <td>1.896242</td>\n",
       "      <td>0.094363</td>\n",
       "      <td>-0.417406</td>\n",
       "      <td>-1.876460</td>\n",
       "      <td>bar</td>\n",
       "    </tr>\n",
       "    <tr>\n",
       "      <th>2023-01-02</th>\n",
       "      <td>NaN</td>\n",
       "      <td>NaN</td>\n",
       "      <td>-0.487058</td>\n",
       "      <td>-0.147007</td>\n",
       "      <td>1.270127</td>\n",
       "      <td>-0.718027</td>\n",
       "      <td>bar</td>\n",
       "    </tr>\n",
       "    <tr>\n",
       "      <th>2023-01-03</th>\n",
       "      <td>2.003796</td>\n",
       "      <td>-1.712992</td>\n",
       "      <td>-1.963351</td>\n",
       "      <td>0.183264</td>\n",
       "      <td>-0.934968</td>\n",
       "      <td>0.192752</td>\n",
       "      <td>bar</td>\n",
       "    </tr>\n",
       "    <tr>\n",
       "      <th>2023-01-04</th>\n",
       "      <td>0.971725</td>\n",
       "      <td>0.473517</td>\n",
       "      <td>-0.300583</td>\n",
       "      <td>1.309548</td>\n",
       "      <td>-1.862831</td>\n",
       "      <td>1.177397</td>\n",
       "      <td>bar</td>\n",
       "    </tr>\n",
       "    <tr>\n",
       "      <th>2023-01-05</th>\n",
       "      <td>-0.372445</td>\n",
       "      <td>-0.878931</td>\n",
       "      <td>-0.546347</td>\n",
       "      <td>0.511440</td>\n",
       "      <td>0.574112</td>\n",
       "      <td>0.917205</td>\n",
       "      <td>bar</td>\n",
       "    </tr>\n",
       "    <tr>\n",
       "      <th>2023-01-06</th>\n",
       "      <td>0.259749</td>\n",
       "      <td>1.084430</td>\n",
       "      <td>0.975621</td>\n",
       "      <td>1.368922</td>\n",
       "      <td>0.608446</td>\n",
       "      <td>-0.604480</td>\n",
       "      <td>bar</td>\n",
       "    </tr>\n",
       "    <tr>\n",
       "      <th>2023-01-07</th>\n",
       "      <td>0.799187</td>\n",
       "      <td>2.388504</td>\n",
       "      <td>-1.023292</td>\n",
       "      <td>-0.324905</td>\n",
       "      <td>0.767470</td>\n",
       "      <td>0.062319</td>\n",
       "      <td>bar</td>\n",
       "    </tr>\n",
       "    <tr>\n",
       "      <th>2023-01-08</th>\n",
       "      <td>0.383035</td>\n",
       "      <td>0.044912</td>\n",
       "      <td>0.566036</td>\n",
       "      <td>-0.509358</td>\n",
       "      <td>-0.279289</td>\n",
       "      <td>-1.870118</td>\n",
       "      <td>bar</td>\n",
       "    </tr>\n",
       "  </tbody>\n",
       "</table>\n",
       "</div>"
      ],
      "text/plain": [
       "                   A         B         C         D         E         F  foo\n",
       "2023-01-01 -0.699808  0.403539  1.896242  0.094363 -0.417406 -1.876460  bar\n",
       "2023-01-02       NaN       NaN -0.487058 -0.147007  1.270127 -0.718027  bar\n",
       "2023-01-03  2.003796 -1.712992 -1.963351  0.183264 -0.934968  0.192752  bar\n",
       "2023-01-04  0.971725  0.473517 -0.300583  1.309548 -1.862831  1.177397  bar\n",
       "2023-01-05 -0.372445 -0.878931 -0.546347  0.511440  0.574112  0.917205  bar\n",
       "2023-01-06  0.259749  1.084430  0.975621  1.368922  0.608446 -0.604480  bar\n",
       "2023-01-07  0.799187  2.388504 -1.023292 -0.324905  0.767470  0.062319  bar\n",
       "2023-01-08  0.383035  0.044912  0.566036 -0.509358 -0.279289 -1.870118  bar"
      ]
     },
     "execution_count": 124,
     "metadata": {},
     "output_type": "execute_result"
    }
   ],
   "source": [
    "df_mt"
   ]
  },
  {
   "cell_type": "code",
   "execution_count": 134,
   "metadata": {},
   "outputs": [
    {
     "data": {
      "text/plain": [
       "<class 'pandas.io.pytables.HDFStore'>\n",
       "File path: hdf.h5"
      ]
     },
     "execution_count": 134,
     "metadata": {},
     "output_type": "execute_result"
    }
   ],
   "source": [
    "# You can also create the tables individually\n",
    "# selector & None ㊙️\n",
    "store.append_to_multiple(\n",
    "    {\"df1_mt\":[\"A\", \"B\"], \"df2_mt\":None}, df_mt, selector = \"df1_mt\"\n",
    ")\n",
    "store"
   ]
  },
  {
   "cell_type": "code",
   "execution_count": 135,
   "metadata": {},
   "outputs": [
    {
     "data": {
      "text/html": [
       "<div>\n",
       "<style scoped>\n",
       "    .dataframe tbody tr th:only-of-type {\n",
       "        vertical-align: middle;\n",
       "    }\n",
       "\n",
       "    .dataframe tbody tr th {\n",
       "        vertical-align: top;\n",
       "    }\n",
       "\n",
       "    .dataframe thead th {\n",
       "        text-align: right;\n",
       "    }\n",
       "</style>\n",
       "<table border=\"1\" class=\"dataframe\">\n",
       "  <thead>\n",
       "    <tr style=\"text-align: right;\">\n",
       "      <th></th>\n",
       "      <th>A</th>\n",
       "      <th>B</th>\n",
       "    </tr>\n",
       "  </thead>\n",
       "  <tbody>\n",
       "    <tr>\n",
       "      <th>2023-01-01</th>\n",
       "      <td>-0.699808</td>\n",
       "      <td>0.403539</td>\n",
       "    </tr>\n",
       "    <tr>\n",
       "      <th>2023-01-02</th>\n",
       "      <td>NaN</td>\n",
       "      <td>NaN</td>\n",
       "    </tr>\n",
       "    <tr>\n",
       "      <th>2023-01-03</th>\n",
       "      <td>2.003796</td>\n",
       "      <td>-1.712992</td>\n",
       "    </tr>\n",
       "    <tr>\n",
       "      <th>2023-01-04</th>\n",
       "      <td>0.971725</td>\n",
       "      <td>0.473517</td>\n",
       "    </tr>\n",
       "    <tr>\n",
       "      <th>2023-01-05</th>\n",
       "      <td>-0.372445</td>\n",
       "      <td>-0.878931</td>\n",
       "    </tr>\n",
       "    <tr>\n",
       "      <th>2023-01-06</th>\n",
       "      <td>0.259749</td>\n",
       "      <td>1.084430</td>\n",
       "    </tr>\n",
       "    <tr>\n",
       "      <th>2023-01-07</th>\n",
       "      <td>0.799187</td>\n",
       "      <td>2.388504</td>\n",
       "    </tr>\n",
       "    <tr>\n",
       "      <th>2023-01-08</th>\n",
       "      <td>0.383035</td>\n",
       "      <td>0.044912</td>\n",
       "    </tr>\n",
       "  </tbody>\n",
       "</table>\n",
       "</div>"
      ],
      "text/plain": [
       "                   A         B\n",
       "2023-01-01 -0.699808  0.403539\n",
       "2023-01-02       NaN       NaN\n",
       "2023-01-03  2.003796 -1.712992\n",
       "2023-01-04  0.971725  0.473517\n",
       "2023-01-05 -0.372445 -0.878931\n",
       "2023-01-06  0.259749  1.084430\n",
       "2023-01-07  0.799187  2.388504\n",
       "2023-01-08  0.383035  0.044912"
      ]
     },
     "execution_count": 135,
     "metadata": {},
     "output_type": "execute_result"
    }
   ],
   "source": [
    "# Individual tables were created\n",
    "store.select(\"df1_mt\")"
   ]
  },
  {
   "cell_type": "code",
   "execution_count": 136,
   "metadata": {},
   "outputs": [
    {
     "data": {
      "text/html": [
       "<div>\n",
       "<style scoped>\n",
       "    .dataframe tbody tr th:only-of-type {\n",
       "        vertical-align: middle;\n",
       "    }\n",
       "\n",
       "    .dataframe tbody tr th {\n",
       "        vertical-align: top;\n",
       "    }\n",
       "\n",
       "    .dataframe thead th {\n",
       "        text-align: right;\n",
       "    }\n",
       "</style>\n",
       "<table border=\"1\" class=\"dataframe\">\n",
       "  <thead>\n",
       "    <tr style=\"text-align: right;\">\n",
       "      <th></th>\n",
       "      <th>C</th>\n",
       "      <th>D</th>\n",
       "      <th>E</th>\n",
       "      <th>F</th>\n",
       "      <th>foo</th>\n",
       "    </tr>\n",
       "  </thead>\n",
       "  <tbody>\n",
       "    <tr>\n",
       "      <th>2023-01-01</th>\n",
       "      <td>1.896242</td>\n",
       "      <td>0.094363</td>\n",
       "      <td>-0.417406</td>\n",
       "      <td>-1.876460</td>\n",
       "      <td>bar</td>\n",
       "    </tr>\n",
       "    <tr>\n",
       "      <th>2023-01-02</th>\n",
       "      <td>-0.487058</td>\n",
       "      <td>-0.147007</td>\n",
       "      <td>1.270127</td>\n",
       "      <td>-0.718027</td>\n",
       "      <td>bar</td>\n",
       "    </tr>\n",
       "    <tr>\n",
       "      <th>2023-01-03</th>\n",
       "      <td>-1.963351</td>\n",
       "      <td>0.183264</td>\n",
       "      <td>-0.934968</td>\n",
       "      <td>0.192752</td>\n",
       "      <td>bar</td>\n",
       "    </tr>\n",
       "    <tr>\n",
       "      <th>2023-01-04</th>\n",
       "      <td>-0.300583</td>\n",
       "      <td>1.309548</td>\n",
       "      <td>-1.862831</td>\n",
       "      <td>1.177397</td>\n",
       "      <td>bar</td>\n",
       "    </tr>\n",
       "    <tr>\n",
       "      <th>2023-01-05</th>\n",
       "      <td>-0.546347</td>\n",
       "      <td>0.511440</td>\n",
       "      <td>0.574112</td>\n",
       "      <td>0.917205</td>\n",
       "      <td>bar</td>\n",
       "    </tr>\n",
       "    <tr>\n",
       "      <th>2023-01-06</th>\n",
       "      <td>0.975621</td>\n",
       "      <td>1.368922</td>\n",
       "      <td>0.608446</td>\n",
       "      <td>-0.604480</td>\n",
       "      <td>bar</td>\n",
       "    </tr>\n",
       "    <tr>\n",
       "      <th>2023-01-07</th>\n",
       "      <td>-1.023292</td>\n",
       "      <td>-0.324905</td>\n",
       "      <td>0.767470</td>\n",
       "      <td>0.062319</td>\n",
       "      <td>bar</td>\n",
       "    </tr>\n",
       "    <tr>\n",
       "      <th>2023-01-08</th>\n",
       "      <td>0.566036</td>\n",
       "      <td>-0.509358</td>\n",
       "      <td>-0.279289</td>\n",
       "      <td>-1.870118</td>\n",
       "      <td>bar</td>\n",
       "    </tr>\n",
       "  </tbody>\n",
       "</table>\n",
       "</div>"
      ],
      "text/plain": [
       "                   C         D         E         F  foo\n",
       "2023-01-01  1.896242  0.094363 -0.417406 -1.876460  bar\n",
       "2023-01-02 -0.487058 -0.147007  1.270127 -0.718027  bar\n",
       "2023-01-03 -1.963351  0.183264 -0.934968  0.192752  bar\n",
       "2023-01-04 -0.300583  1.309548 -1.862831  1.177397  bar\n",
       "2023-01-05 -0.546347  0.511440  0.574112  0.917205  bar\n",
       "2023-01-06  0.975621  1.368922  0.608446 -0.604480  bar\n",
       "2023-01-07 -1.023292 -0.324905  0.767470  0.062319  bar\n",
       "2023-01-08  0.566036 -0.509358 -0.279289 -1.870118  bar"
      ]
     },
     "execution_count": 136,
     "metadata": {},
     "output_type": "execute_result"
    }
   ],
   "source": [
    "store.select(\"df2_mt\")"
   ]
  },
  {
   "cell_type": "code",
   "execution_count": 138,
   "metadata": {},
   "outputs": [
    {
     "data": {
      "text/html": [
       "<div>\n",
       "<style scoped>\n",
       "    .dataframe tbody tr th:only-of-type {\n",
       "        vertical-align: middle;\n",
       "    }\n",
       "\n",
       "    .dataframe tbody tr th {\n",
       "        vertical-align: top;\n",
       "    }\n",
       "\n",
       "    .dataframe thead th {\n",
       "        text-align: right;\n",
       "    }\n",
       "</style>\n",
       "<table border=\"1\" class=\"dataframe\">\n",
       "  <thead>\n",
       "    <tr style=\"text-align: right;\">\n",
       "      <th></th>\n",
       "      <th>A</th>\n",
       "      <th>B</th>\n",
       "      <th>C</th>\n",
       "      <th>D</th>\n",
       "      <th>E</th>\n",
       "      <th>F</th>\n",
       "      <th>foo</th>\n",
       "    </tr>\n",
       "  </thead>\n",
       "  <tbody>\n",
       "    <tr>\n",
       "      <th>2023-01-04</th>\n",
       "      <td>0.971725</td>\n",
       "      <td>0.473517</td>\n",
       "      <td>-0.300583</td>\n",
       "      <td>1.309548</td>\n",
       "      <td>-1.862831</td>\n",
       "      <td>1.177397</td>\n",
       "      <td>bar</td>\n",
       "    </tr>\n",
       "    <tr>\n",
       "      <th>2023-01-06</th>\n",
       "      <td>0.259749</td>\n",
       "      <td>1.084430</td>\n",
       "      <td>0.975621</td>\n",
       "      <td>1.368922</td>\n",
       "      <td>0.608446</td>\n",
       "      <td>-0.604480</td>\n",
       "      <td>bar</td>\n",
       "    </tr>\n",
       "    <tr>\n",
       "      <th>2023-01-07</th>\n",
       "      <td>0.799187</td>\n",
       "      <td>2.388504</td>\n",
       "      <td>-1.023292</td>\n",
       "      <td>-0.324905</td>\n",
       "      <td>0.767470</td>\n",
       "      <td>0.062319</td>\n",
       "      <td>bar</td>\n",
       "    </tr>\n",
       "    <tr>\n",
       "      <th>2023-01-08</th>\n",
       "      <td>0.383035</td>\n",
       "      <td>0.044912</td>\n",
       "      <td>0.566036</td>\n",
       "      <td>-0.509358</td>\n",
       "      <td>-0.279289</td>\n",
       "      <td>-1.870118</td>\n",
       "      <td>bar</td>\n",
       "    </tr>\n",
       "  </tbody>\n",
       "</table>\n",
       "</div>"
      ],
      "text/plain": [
       "                   A         B         C         D         E         F  foo\n",
       "2023-01-04  0.971725  0.473517 -0.300583  1.309548 -1.862831  1.177397  bar\n",
       "2023-01-06  0.259749  1.084430  0.975621  1.368922  0.608446 -0.604480  bar\n",
       "2023-01-07  0.799187  2.388504 -1.023292 -0.324905  0.767470  0.062319  bar\n",
       "2023-01-08  0.383035  0.044912  0.566036 -0.509358 -0.279289 -1.870118  bar"
      ]
     },
     "execution_count": 138,
     "metadata": {},
     "output_type": "execute_result"
    }
   ],
   "source": [
    "store.select_as_multiple(\n",
    "    [\"df1_mt\", \"df2_mt\"],\n",
    "    where= [\"A>0\", \"B>0\"],\n",
    "    selector=\"df1_mt\",\n",
    ")"
   ]
  },
  {
   "cell_type": "code",
   "execution_count": null,
   "metadata": {},
   "outputs": [],
   "source": [
    "# Delete from a table\n"
   ]
  },
  {
   "cell_type": "code",
   "execution_count": null,
   "metadata": {},
   "outputs": [],
   "source": [
    "# Notes & Caveats\n",
    "# compression\n",
    "# Enable compression for all objects within the fiel:\n",
    "store_compresstion = pd.HDFStore(\n",
    "    \"store_compression.h5\", complevel=9, complib=\"blosc:blosclz\"\n",
    ")"
   ]
  },
  {
   "cell_type": "code",
   "execution_count": 140,
   "metadata": {},
   "outputs": [
    {
     "data": {
      "text/html": [
       "<div>\n",
       "<style scoped>\n",
       "    .dataframe tbody tr th:only-of-type {\n",
       "        vertical-align: middle;\n",
       "    }\n",
       "\n",
       "    .dataframe tbody tr th {\n",
       "        vertical-align: top;\n",
       "    }\n",
       "\n",
       "    .dataframe thead th {\n",
       "        text-align: right;\n",
       "    }\n",
       "</style>\n",
       "<table border=\"1\" class=\"dataframe\">\n",
       "  <thead>\n",
       "    <tr style=\"text-align: right;\">\n",
       "      <th></th>\n",
       "      <th>A</th>\n",
       "      <th>B</th>\n",
       "    </tr>\n",
       "  </thead>\n",
       "  <tbody>\n",
       "    <tr>\n",
       "      <th>0</th>\n",
       "      <td>a</td>\n",
       "      <td>-1.389342</td>\n",
       "    </tr>\n",
       "    <tr>\n",
       "      <th>1</th>\n",
       "      <td>a</td>\n",
       "      <td>-0.830936</td>\n",
       "    </tr>\n",
       "    <tr>\n",
       "      <th>2</th>\n",
       "      <td>b</td>\n",
       "      <td>0.068541</td>\n",
       "    </tr>\n",
       "    <tr>\n",
       "      <th>3</th>\n",
       "      <td>b</td>\n",
       "      <td>1.299523</td>\n",
       "    </tr>\n",
       "    <tr>\n",
       "      <th>4</th>\n",
       "      <td>c</td>\n",
       "      <td>-1.174021</td>\n",
       "    </tr>\n",
       "    <tr>\n",
       "      <th>5</th>\n",
       "      <td>d</td>\n",
       "      <td>-0.330031</td>\n",
       "    </tr>\n",
       "    <tr>\n",
       "      <th>6</th>\n",
       "      <td>b</td>\n",
       "      <td>-0.394783</td>\n",
       "    </tr>\n",
       "    <tr>\n",
       "      <th>7</th>\n",
       "      <td>a</td>\n",
       "      <td>-0.172721</td>\n",
       "    </tr>\n",
       "  </tbody>\n",
       "</table>\n",
       "</div>"
      ],
      "text/plain": [
       "   A         B\n",
       "0  a -1.389342\n",
       "1  a -0.830936\n",
       "2  b  0.068541\n",
       "3  b  1.299523\n",
       "4  c -1.174021\n",
       "5  d -0.330031\n",
       "6  b -0.394783\n",
       "7  a -0.172721"
      ]
     },
     "execution_count": 140,
     "metadata": {},
     "output_type": "execute_result"
    }
   ],
   "source": [
    "# Categorical data\n",
    "dfcat = pd.DataFrame(\n",
    "    {\"A\":pd.Series(list(\"aabbcdba\")).astype(\"category\"), \"B\":np.random.randn(8)}\n",
    ")\n",
    "dfcat"
   ]
  },
  {
   "cell_type": "code",
   "execution_count": 141,
   "metadata": {},
   "outputs": [
    {
     "data": {
      "text/plain": [
       "A    category\n",
       "B     float64\n",
       "dtype: object"
      ]
     },
     "execution_count": 141,
     "metadata": {},
     "output_type": "execute_result"
    }
   ],
   "source": [
    "dfcat.dtypes"
   ]
  },
  {
   "cell_type": "code",
   "execution_count": 142,
   "metadata": {},
   "outputs": [],
   "source": [
    "cstore = pd.HDFStore('cats.h5', mode='w')\n",
    "cstore.append(\"dfcat\", dfcat, format=\"table\", data_columns=[\"A\"])"
   ]
  },
  {
   "cell_type": "code",
   "execution_count": 143,
   "metadata": {},
   "outputs": [
    {
     "data": {
      "text/html": [
       "<div>\n",
       "<style scoped>\n",
       "    .dataframe tbody tr th:only-of-type {\n",
       "        vertical-align: middle;\n",
       "    }\n",
       "\n",
       "    .dataframe tbody tr th {\n",
       "        vertical-align: top;\n",
       "    }\n",
       "\n",
       "    .dataframe thead th {\n",
       "        text-align: right;\n",
       "    }\n",
       "</style>\n",
       "<table border=\"1\" class=\"dataframe\">\n",
       "  <thead>\n",
       "    <tr style=\"text-align: right;\">\n",
       "      <th></th>\n",
       "      <th>A</th>\n",
       "      <th>B</th>\n",
       "    </tr>\n",
       "  </thead>\n",
       "  <tbody>\n",
       "    <tr>\n",
       "      <th>2</th>\n",
       "      <td>b</td>\n",
       "      <td>0.068541</td>\n",
       "    </tr>\n",
       "    <tr>\n",
       "      <th>3</th>\n",
       "      <td>b</td>\n",
       "      <td>1.299523</td>\n",
       "    </tr>\n",
       "    <tr>\n",
       "      <th>4</th>\n",
       "      <td>c</td>\n",
       "      <td>-1.174021</td>\n",
       "    </tr>\n",
       "    <tr>\n",
       "      <th>6</th>\n",
       "      <td>b</td>\n",
       "      <td>-0.394783</td>\n",
       "    </tr>\n",
       "  </tbody>\n",
       "</table>\n",
       "</div>"
      ],
      "text/plain": [
       "   A         B\n",
       "2  b  0.068541\n",
       "3  b  1.299523\n",
       "4  c -1.174021\n",
       "6  b -0.394783"
      ]
     },
     "execution_count": 143,
     "metadata": {},
     "output_type": "execute_result"
    }
   ],
   "source": [
    "result = cstore.select(\"dfcat\", where=\"A in ['b', 'c']\")\n",
    "result"
   ]
  },
  {
   "cell_type": "code",
   "execution_count": 144,
   "metadata": {},
   "outputs": [
    {
     "data": {
      "text/html": [
       "<div>\n",
       "<style scoped>\n",
       "    .dataframe tbody tr th:only-of-type {\n",
       "        vertical-align: middle;\n",
       "    }\n",
       "\n",
       "    .dataframe tbody tr th {\n",
       "        vertical-align: top;\n",
       "    }\n",
       "\n",
       "    .dataframe thead th {\n",
       "        text-align: right;\n",
       "    }\n",
       "</style>\n",
       "<table border=\"1\" class=\"dataframe\">\n",
       "  <thead>\n",
       "    <tr style=\"text-align: right;\">\n",
       "      <th></th>\n",
       "      <th>A</th>\n",
       "      <th>B</th>\n",
       "    </tr>\n",
       "  </thead>\n",
       "  <tbody>\n",
       "    <tr>\n",
       "      <th>0</th>\n",
       "      <td>food</td>\n",
       "      <td>bar</td>\n",
       "    </tr>\n",
       "    <tr>\n",
       "      <th>1</th>\n",
       "      <td>food</td>\n",
       "      <td>bar</td>\n",
       "    </tr>\n",
       "    <tr>\n",
       "      <th>2</th>\n",
       "      <td>food</td>\n",
       "      <td>bar</td>\n",
       "    </tr>\n",
       "    <tr>\n",
       "      <th>3</th>\n",
       "      <td>food</td>\n",
       "      <td>bar</td>\n",
       "    </tr>\n",
       "    <tr>\n",
       "      <th>4</th>\n",
       "      <td>food</td>\n",
       "      <td>bar</td>\n",
       "    </tr>\n",
       "  </tbody>\n",
       "</table>\n",
       "</div>"
      ],
      "text/plain": [
       "      A    B\n",
       "0  food  bar\n",
       "1  food  bar\n",
       "2  food  bar\n",
       "3  food  bar\n",
       "4  food  bar"
      ]
     },
     "execution_count": 144,
     "metadata": {},
     "output_type": "execute_result"
    }
   ],
   "source": [
    "# String columns\n",
    "dfs = pd.DataFrame({\"A\":\"food\", \"B\":\"bar\"}, index=list(range(5)))\n",
    "dfs"
   ]
  },
  {
   "cell_type": "code",
   "execution_count": 146,
   "metadata": {},
   "outputs": [
    {
     "data": {
      "text/plain": [
       "/dfs/table (Table(5,)) ''\n",
       "  description := {\n",
       "  \"index\": Int64Col(shape=(), dflt=0, pos=0),\n",
       "  \"values_block_0\": StringCol(itemsize=30, shape=(2,), dflt=b'', pos=1)}\n",
       "  byteorder := 'little'\n",
       "  chunkshape := (963,)\n",
       "  autoindex := True\n",
       "  colindexes := {\n",
       "    \"index\": Index(6, mediumshuffle, zlib(1)).is_csi=False}"
      ]
     },
     "execution_count": 146,
     "metadata": {},
     "output_type": "execute_result"
    }
   ],
   "source": [
    "# A and B have a size of 30\n",
    "store.append(\"dfs\", dfs, min_itemsize=30)\n",
    "store.get_storer(\"dfs\").table"
   ]
  },
  {
   "cell_type": "code",
   "execution_count": 147,
   "metadata": {},
   "outputs": [
    {
     "data": {
      "text/plain": [
       "/dfs2/table (Table(5,)) ''\n",
       "  description := {\n",
       "  \"index\": Int64Col(shape=(), dflt=0, pos=0),\n",
       "  \"values_block_0\": StringCol(itemsize=3, shape=(1,), dflt=b'', pos=1),\n",
       "  \"A\": StringCol(itemsize=30, shape=(), dflt=b'', pos=2)}\n",
       "  byteorder := 'little'\n",
       "  chunkshape := (1598,)\n",
       "  autoindex := True\n",
       "  colindexes := {\n",
       "    \"index\": Index(6, mediumshuffle, zlib(1)).is_csi=False,\n",
       "    \"A\": Index(6, mediumshuffle, zlib(1)).is_csi=False}"
      ]
     },
     "execution_count": 147,
     "metadata": {},
     "output_type": "execute_result"
    }
   ],
   "source": [
    "store.append(\"dfs2\", dfs, min_itemsize={\"A\":30})\n",
    "store.get_storer(\"dfs2\").table"
   ]
  },
  {
   "cell_type": "code",
   "execution_count": 148,
   "metadata": {},
   "outputs": [
    {
     "data": {
      "text/html": [
       "<div>\n",
       "<style scoped>\n",
       "    .dataframe tbody tr th:only-of-type {\n",
       "        vertical-align: middle;\n",
       "    }\n",
       "\n",
       "    .dataframe tbody tr th {\n",
       "        vertical-align: top;\n",
       "    }\n",
       "\n",
       "    .dataframe thead th {\n",
       "        text-align: right;\n",
       "    }\n",
       "</style>\n",
       "<table border=\"1\" class=\"dataframe\">\n",
       "  <thead>\n",
       "    <tr style=\"text-align: right;\">\n",
       "      <th></th>\n",
       "      <th>A</th>\n",
       "    </tr>\n",
       "  </thead>\n",
       "  <tbody>\n",
       "    <tr>\n",
       "      <th>0</th>\n",
       "      <td>foo</td>\n",
       "    </tr>\n",
       "    <tr>\n",
       "      <th>1</th>\n",
       "      <td>bar</td>\n",
       "    </tr>\n",
       "    <tr>\n",
       "      <th>2</th>\n",
       "      <td>nan</td>\n",
       "    </tr>\n",
       "  </tbody>\n",
       "</table>\n",
       "</div>"
      ],
      "text/plain": [
       "     A\n",
       "0  foo\n",
       "1  bar\n",
       "2  nan"
      ]
     },
     "execution_count": 148,
     "metadata": {},
     "output_type": "execute_result"
    }
   ],
   "source": [
    "# nan_rep\n",
    "dfss = pd.DataFrame({\"A\":[\"foo\", \"bar\", \"nan\"]})\n",
    "dfss"
   ]
  },
  {
   "cell_type": "code",
   "execution_count": 149,
   "metadata": {},
   "outputs": [
    {
     "data": {
      "text/html": [
       "<div>\n",
       "<style scoped>\n",
       "    .dataframe tbody tr th:only-of-type {\n",
       "        vertical-align: middle;\n",
       "    }\n",
       "\n",
       "    .dataframe tbody tr th {\n",
       "        vertical-align: top;\n",
       "    }\n",
       "\n",
       "    .dataframe thead th {\n",
       "        text-align: right;\n",
       "    }\n",
       "</style>\n",
       "<table border=\"1\" class=\"dataframe\">\n",
       "  <thead>\n",
       "    <tr style=\"text-align: right;\">\n",
       "      <th></th>\n",
       "      <th>A</th>\n",
       "    </tr>\n",
       "  </thead>\n",
       "  <tbody>\n",
       "    <tr>\n",
       "      <th>0</th>\n",
       "      <td>foo</td>\n",
       "    </tr>\n",
       "    <tr>\n",
       "      <th>1</th>\n",
       "      <td>bar</td>\n",
       "    </tr>\n",
       "    <tr>\n",
       "      <th>2</th>\n",
       "      <td>NaN</td>\n",
       "    </tr>\n",
       "  </tbody>\n",
       "</table>\n",
       "</div>"
      ],
      "text/plain": [
       "     A\n",
       "0  foo\n",
       "1  bar\n",
       "2  NaN"
      ]
     },
     "execution_count": 149,
     "metadata": {},
     "output_type": "execute_result"
    }
   ],
   "source": [
    "store.append(\"dfss\", dfss)\n",
    "store.select(\"dfss\")"
   ]
  },
  {
   "cell_type": "code",
   "execution_count": 151,
   "metadata": {},
   "outputs": [
    {
     "data": {
      "text/html": [
       "<div>\n",
       "<style scoped>\n",
       "    .dataframe tbody tr th:only-of-type {\n",
       "        vertical-align: middle;\n",
       "    }\n",
       "\n",
       "    .dataframe tbody tr th {\n",
       "        vertical-align: top;\n",
       "    }\n",
       "\n",
       "    .dataframe thead th {\n",
       "        text-align: right;\n",
       "    }\n",
       "</style>\n",
       "<table border=\"1\" class=\"dataframe\">\n",
       "  <thead>\n",
       "    <tr style=\"text-align: right;\">\n",
       "      <th></th>\n",
       "      <th>A</th>\n",
       "    </tr>\n",
       "  </thead>\n",
       "  <tbody>\n",
       "    <tr>\n",
       "      <th>0</th>\n",
       "      <td>foo</td>\n",
       "    </tr>\n",
       "    <tr>\n",
       "      <th>1</th>\n",
       "      <td>bar</td>\n",
       "    </tr>\n",
       "    <tr>\n",
       "      <th>2</th>\n",
       "      <td>nan</td>\n",
       "    </tr>\n",
       "  </tbody>\n",
       "</table>\n",
       "</div>"
      ],
      "text/plain": [
       "     A\n",
       "0  foo\n",
       "1  bar\n",
       "2  nan"
      ]
     },
     "execution_count": 151,
     "metadata": {},
     "output_type": "execute_result"
    }
   ],
   "source": [
    "store.append(\"dfss2\", dfss, nan_rep=\"_nan_\")\n",
    "store.select(\"dfss2\")"
   ]
  },
  {
   "cell_type": "code",
   "execution_count": 155,
   "metadata": {},
   "outputs": [
    {
     "data": {
      "text/html": [
       "<div>\n",
       "<style scoped>\n",
       "    .dataframe tbody tr th:only-of-type {\n",
       "        vertical-align: middle;\n",
       "    }\n",
       "\n",
       "    .dataframe tbody tr th {\n",
       "        vertical-align: top;\n",
       "    }\n",
       "\n",
       "    .dataframe thead th {\n",
       "        text-align: right;\n",
       "    }\n",
       "</style>\n",
       "<table border=\"1\" class=\"dataframe\">\n",
       "  <thead>\n",
       "    <tr style=\"text-align: right;\">\n",
       "      <th></th>\n",
       "      <th>A</th>\n",
       "    </tr>\n",
       "  </thead>\n",
       "  <tbody>\n",
       "    <tr>\n",
       "      <th>0</th>\n",
       "      <td>foo</td>\n",
       "    </tr>\n",
       "    <tr>\n",
       "      <th>1</th>\n",
       "      <td>bar</td>\n",
       "    </tr>\n",
       "    <tr>\n",
       "      <th>2</th>\n",
       "      <td>NaN</td>\n",
       "    </tr>\n",
       "  </tbody>\n",
       "</table>\n",
       "</div>"
      ],
      "text/plain": [
       "     A\n",
       "0  foo\n",
       "1  bar\n",
       "2  NaN"
      ]
     },
     "execution_count": 155,
     "metadata": {},
     "output_type": "execute_result"
    }
   ],
   "source": [
    "dfss5 = pd.DataFrame({\"A\":[\"foo\", \"bar\", \"_nan_\"]})\n",
    "store.append(\"dfss5\", dfss5, nan_rep=\"_nan_\")\n",
    "store.select(\"dfss5\")"
   ]
  }
 ],
 "metadata": {
  "kernelspec": {
   "display_name": "Python 3",
   "language": "python",
   "name": "python3"
  },
  "language_info": {
   "codemirror_mode": {
    "name": "ipython",
    "version": 3
   },
   "file_extension": ".py",
   "mimetype": "text/x-python",
   "name": "python",
   "nbconvert_exporter": "python",
   "pygments_lexer": "ipython3",
   "version": "3.10.12"
  },
  "orig_nbformat": 4
 },
 "nbformat": 4,
 "nbformat_minor": 2
}
