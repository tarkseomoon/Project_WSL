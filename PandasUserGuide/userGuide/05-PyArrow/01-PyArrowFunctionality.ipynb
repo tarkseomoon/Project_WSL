{
 "cells": [
  {
   "cell_type": "code",
   "execution_count": 1,
   "metadata": {},
   "outputs": [],
   "source": [
    "import pandas as pd\n",
    "import numpy as np"
   ]
  },
  {
   "cell_type": "markdown",
   "metadata": {},
   "source": [
    "PyArrow는 Apache Arrow의 Python 바인딩으로, 대량의 데이터를 효율적이고 고속으로 처리하기 위한 도구입니다. PyArrow는 메모리 내 데이터 구조와 이를 디스크에 저장하는 방법을 제공하며, 다양한 데이터 유형을 처리하고 다른 시스템과의 상호 운용성을 제공합니다.\n",
    "\n",
    "PyArrow의 주요 기능은 다음과 같습니다:\n",
    "\n",
    "1. 데이터 변환: PyArrow는 Pandas, NumPy, Python의 내장 데이터 구조와의 상호 변환을 제공합니다. 이를 통해 데이터를 효율적으로 전송하고 다른 시스템과의 상호 운용성을 개선할 수 있습니다.\n",
    "\n",
    "2. 메모리 내 데이터 구조: PyArrow는 메모리 내에서 데이터를 저장하고 조작하기 위한 다양한 데이터 구조를 제공합니다. 예를 들어, `Array`는 메모리 내에서 컬럼 기반 데이터를 저장하고, `Table`은 여러 컬럼을 포함하는 테이블 형식의 데이터를 나타냅니다.\n",
    "\n",
    "3. 파일 형식: PyArrow는 Arrow 형식으로 데이터를 디스크에 저장하는 기능을 제공합니다. Arrow 형식은 데이터를 압축하고 직렬화하여 효율적인 I/O 및 데이터 교환을 가능하게 합니다. PyArrow는 Parquet, CSV, JSON 등의 다양한 파일 형식을 지원합니다.\n",
    "\n",
    "4. 분산 처리: PyArrow는 Apache Arrow와 함께 사용하여 분산 시스템과의 통합을 지원합니다. 예를 들어, PySpark와 함께 사용하여 대규모 데이터 처리를 수행할 수 있습니다.\n",
    "\n",
    "5. 확장성: PyArrow는 다양한 플랫폼과 언어에서 사용할 수 있으며, 다른 프로그래밍 언어와의 상호 운용성을 제공합니다. 또한, PyArrow는 다른 데이터 처리 도구 및 라이브러리와 통합하여 사용할 수 있습니다.\n",
    "\n",
    "이러한 기능들을 통해 PyArrow는 대용량 데이터 처리 작업을 효율적이고 고속으로 수행할 수 있게 해주며, 다른 시스템과의 상호 운용성을 향상시킵니다."
   ]
  },
  {
   "cell_type": "markdown",
   "metadata": {},
   "source": [
    "Apache Arrow는 대규모 데이터 처리를 위한 열 지향 메모리 포맷입니다. Arrow는 다양한 프로그래밍 언어에서 사용할 수 있는 공통 데이터 모델과 효율적인 데이터 구조를 제공하여 데이터 공유 및 교환을 용이하게 합니다.\n",
    "\n",
    "Apache Arrow의 주요 특징은 다음과 같습니다:\n",
    "\n",
    "1. 효율적인 메모리 사용: Arrow는 컬럼 기반 메모리 레이아웃을 사용하여 데이터를 저장합니다. 이는 데이터 압축, 직렬화, 병렬 처리 등을 효율적으로 수행할 수 있도록 합니다. 또한, Arrow는 다양한 데이터 유형을 지원하며, 메모리에서 데이터를 조작하고 처리하는 데 최적화되어 있습니다.\n",
    "\n",
    "2. 상호 운용성: Arrow는 다양한 프로그래밍 언어에서 사용할 수 있는 공통 데이터 모델을 제공합니다. 이를 통해 데이터를 메모리에 저장하고 다른 시스템 및 언어 간에 효율적으로 공유할 수 있습니다. Arrow는 C++, Java, Python, R, JavaScript 등 다양한 언어에서 사용할 수 있습니다.\n",
    "\n",
    "3. 빠른 데이터 교환: Arrow는 데이터를 메모리에 저장하고 직렬화하여 다른 시스템 간에 효율적으로 교환할 수 있도록 합니다. 이를 통해 데이터 전송 속도를 향상시키고 데이터 처리 작업을 가속화할 수 있습니다. Arrow는 다양한 파일 형식 (예: Parquet, CSV, JSON) 및 분산 시스템 (예: Apache Spark)과 통합될 수 있습니다.\n",
    "\n",
    "4. 확장성: Arrow는 대규모 데이터 처리 작업을 위해 설계되었으며, 다양한 플랫폼과 환경에서 사용할 수 있습니다. Arrow는 메모리 내 데이터 구조, 파일 형식, 분산 시스템과의 통합 등 다양한 기능을 제공하여 다양한 데이터 처리 요구에 대응할 수 있습니다.\n",
    "\n",
    "Apache Arrow는 데이터 엔지니어링 및 데이터 과학 분야에서 널리 사용되는 도구로, 대용량 데이터 처리 및 상호 운용성을 위한 효율적인 솔루션을 제공합니다.\n",
    "\n",
    "<https://www.sqler.com/board_CSharp/1102709>\n",
    "\n",
    "Apache Arrow Tutorial for Beginners - Tutorial And Example \n",
    "<https://www.tutorialandexample.com/apache-arrow-tutorial>\n",
    "\n",
    "Serialization, Zero-Copy, <https://realsalmon.tistory.com/21>😵‍💫"
   ]
  },
  {
   "cell_type": "code",
   "execution_count": 2,
   "metadata": {},
   "outputs": [],
   "source": [
    "# Data Structure Integration: pyarrow.ChunkedArray,  ...[pyarrow] dtypes, \n",
    "ser = pd.Series([-1.5, 0.2, None], dtype=\"float32[pyarrow]\")"
   ]
  },
  {
   "cell_type": "code",
   "execution_count": 3,
   "metadata": {},
   "outputs": [
    {
     "data": {
      "text/plain": [
       "0    -1.5\n",
       "1     0.2\n",
       "2    <NA>\n",
       "dtype: float[pyarrow]"
      ]
     },
     "execution_count": 3,
     "metadata": {},
     "output_type": "execute_result"
    }
   ],
   "source": [
    "ser"
   ]
  },
  {
   "cell_type": "code",
   "execution_count": 4,
   "metadata": {},
   "outputs": [
    {
     "data": {
      "text/plain": [
       "Index([True, <NA>], dtype='bool[pyarrow]')"
      ]
     },
     "execution_count": 4,
     "metadata": {},
     "output_type": "execute_result"
    }
   ],
   "source": [
    "idx = pd.Index([True, None], dtype=\"bool[pyarrow]\")\n",
    "idx"
   ]
  },
  {
   "cell_type": "code",
   "execution_count": 5,
   "metadata": {},
   "outputs": [
    {
     "data": {
      "text/html": [
       "<div>\n",
       "<style scoped>\n",
       "    .dataframe tbody tr th:only-of-type {\n",
       "        vertical-align: middle;\n",
       "    }\n",
       "\n",
       "    .dataframe tbody tr th {\n",
       "        vertical-align: top;\n",
       "    }\n",
       "\n",
       "    .dataframe thead th {\n",
       "        text-align: right;\n",
       "    }\n",
       "</style>\n",
       "<table border=\"1\" class=\"dataframe\">\n",
       "  <thead>\n",
       "    <tr style=\"text-align: right;\">\n",
       "      <th></th>\n",
       "      <th>0</th>\n",
       "      <th>1</th>\n",
       "    </tr>\n",
       "  </thead>\n",
       "  <tbody>\n",
       "    <tr>\n",
       "      <th>0</th>\n",
       "      <td>1</td>\n",
       "      <td>2</td>\n",
       "    </tr>\n",
       "    <tr>\n",
       "      <th>1</th>\n",
       "      <td>3</td>\n",
       "      <td>4</td>\n",
       "    </tr>\n",
       "  </tbody>\n",
       "</table>\n",
       "</div>"
      ],
      "text/plain": [
       "   0  1\n",
       "0  1  2\n",
       "1  3  4"
      ]
     },
     "execution_count": 5,
     "metadata": {},
     "output_type": "execute_result"
    }
   ],
   "source": [
    "df = pd.DataFrame([[1, 2], [3, 4]], dtype=\"uint64[pyarrow]\")\n",
    "df"
   ]
  },
  {
   "cell_type": "code",
   "execution_count": 6,
   "metadata": {},
   "outputs": [
    {
     "data": {
      "text/plain": [
       "False"
      ]
     },
     "execution_count": 6,
     "metadata": {},
     "output_type": "execute_result"
    }
   ],
   "source": [
    "import pyarrow as pa\n",
    "\n",
    "data = list(\"abc\")\n",
    "ser_sd = pd.Series(data, dtype = \"string[pyarrow]\")\n",
    "ser_ad = pd.Series(data, dtype=pd.ArrowDtype(pa.string()))\n",
    "ser_sd.dtype == ser_ad.dtype\n"
   ]
  },
  {
   "cell_type": "code",
   "execution_count": 7,
   "metadata": {},
   "outputs": [
    {
     "data": {
      "text/plain": [
       "0     True\n",
       "1    False\n",
       "2    False\n",
       "dtype: boolean"
      ]
     },
     "execution_count": 7,
     "metadata": {},
     "output_type": "execute_result"
    }
   ],
   "source": [
    "ser_sd.str.contains(\"a\")"
   ]
  },
  {
   "cell_type": "code",
   "execution_count": 8,
   "metadata": {},
   "outputs": [
    {
     "data": {
      "text/plain": [
       "0     True\n",
       "1    False\n",
       "2    False\n",
       "dtype: bool[pyarrow]"
      ]
     },
     "execution_count": 8,
     "metadata": {},
     "output_type": "execute_result"
    }
   ],
   "source": [
    "ser_ad.str.contains(\"a\")"
   ]
  },
  {
   "cell_type": "code",
   "execution_count": 9,
   "metadata": {},
   "outputs": [
    {
     "data": {
      "text/plain": [
       "0    ['hello']\n",
       "1    ['there']\n",
       "dtype: list<item: string>[pyarrow]"
      ]
     },
     "execution_count": 9,
     "metadata": {},
     "output_type": "execute_result"
    }
   ],
   "source": [
    "import pyarrow as pa\n",
    "list_str_type = pa.list_(pa.string())\n",
    "ser = pd.Series([[\"hello\"], [\"there\"]], dtype=pd.ArrowDtype(list_str_type))\n",
    "ser"
   ]
  },
  {
   "cell_type": "code",
   "execution_count": 10,
   "metadata": {},
   "outputs": [
    {
     "data": {
      "text/plain": [
       "Index([12:30:00, <NA>], dtype='time64[us][pyarrow]')"
      ]
     },
     "execution_count": 10,
     "metadata": {},
     "output_type": "execute_result"
    }
   ],
   "source": [
    "from datetime import time\n",
    "idx = pd.Index([time(12, 30), None], dtype= pd.ArrowDtype(pa.time64(\"us\")))\n",
    "idx"
   ]
  },
  {
   "cell_type": "code",
   "execution_count": 11,
   "metadata": {},
   "outputs": [
    {
     "data": {
      "text/html": [
       "<div>\n",
       "<style scoped>\n",
       "    .dataframe tbody tr th:only-of-type {\n",
       "        vertical-align: middle;\n",
       "    }\n",
       "\n",
       "    .dataframe tbody tr th {\n",
       "        vertical-align: top;\n",
       "    }\n",
       "\n",
       "    .dataframe thead th {\n",
       "        text-align: right;\n",
       "    }\n",
       "</style>\n",
       "<table border=\"1\" class=\"dataframe\">\n",
       "  <thead>\n",
       "    <tr style=\"text-align: right;\">\n",
       "      <th></th>\n",
       "      <th>0</th>\n",
       "      <th>1</th>\n",
       "    </tr>\n",
       "  </thead>\n",
       "  <tbody>\n",
       "    <tr>\n",
       "      <th>0</th>\n",
       "      <td>3.19</td>\n",
       "      <td>&lt;NA&gt;</td>\n",
       "    </tr>\n",
       "    <tr>\n",
       "      <th>1</th>\n",
       "      <td>&lt;NA&gt;</td>\n",
       "      <td>-1.23</td>\n",
       "    </tr>\n",
       "  </tbody>\n",
       "</table>\n",
       "</div>"
      ],
      "text/plain": [
       "      0      1\n",
       "0  3.19   <NA>\n",
       "1  <NA>  -1.23"
      ]
     },
     "execution_count": 11,
     "metadata": {},
     "output_type": "execute_result"
    }
   ],
   "source": [
    "from decimal import Decimal\n",
    "decimal_type = pd.ArrowDtype(pa.decimal128(3, scale=2))\n",
    "data = [[Decimal(\"3.19\"), None], [None, Decimal(\"-1.23\")]]\n",
    "df = pd.DataFrame(data, dtype=decimal_type)\n",
    "df"
   ]
  },
  {
   "cell_type": "code",
   "execution_count": 12,
   "metadata": {},
   "outputs": [
    {
     "data": {
      "text/plain": [
       "0      [('1', '2')]\n",
       "1    [('10', '20')]\n",
       "2              <NA>\n",
       "dtype: map<string, string>[pyarrow]"
      ]
     },
     "execution_count": 12,
     "metadata": {},
     "output_type": "execute_result"
    }
   ],
   "source": [
    "pa_array = pa.array(\n",
    "    [{\"1\":\"2\"}, {\"10\":\"20\"}, None],\n",
    "    type = pa.map_(pa.string(), pa.string()),\n",
    ")\n",
    "\n",
    "ser = pd.Series(pd.arrays.ArrowExtensionArray(pa_array))\n",
    "ser"
   ]
  },
  {
   "cell_type": "code",
   "execution_count": 13,
   "metadata": {},
   "outputs": [
    {
     "data": {
      "text/plain": [
       "<pyarrow.lib.UInt8Array object at 0x7f7c1566cf40>\n",
       "[\n",
       "  1,\n",
       "  2,\n",
       "  null\n",
       "]"
      ]
     },
     "execution_count": 13,
     "metadata": {},
     "output_type": "execute_result"
    }
   ],
   "source": [
    "ser = pd.Series([1, 2, None], dtype=\"uint8[pyarrow]\")\n",
    "pa.array(ser)"
   ]
  },
  {
   "cell_type": "code",
   "execution_count": 14,
   "metadata": {},
   "outputs": [
    {
     "data": {
      "text/plain": [
       "<pyarrow.lib.UInt8Array object at 0x7f7c1566c5e0>\n",
       "[\n",
       "  1,\n",
       "  2,\n",
       "  null\n",
       "]"
      ]
     },
     "execution_count": 14,
     "metadata": {},
     "output_type": "execute_result"
    }
   ],
   "source": [
    "idx = pd.Index(ser)\n",
    "pa.array(idx)"
   ]
  },
  {
   "cell_type": "code",
   "execution_count": 15,
   "metadata": {},
   "outputs": [
    {
     "data": {
      "text/html": [
       "<div>\n",
       "<style scoped>\n",
       "    .dataframe tbody tr th:only-of-type {\n",
       "        vertical-align: middle;\n",
       "    }\n",
       "\n",
       "    .dataframe tbody tr th {\n",
       "        vertical-align: top;\n",
       "    }\n",
       "\n",
       "    .dataframe thead th {\n",
       "        text-align: right;\n",
       "    }\n",
       "</style>\n",
       "<table border=\"1\" class=\"dataframe\">\n",
       "  <thead>\n",
       "    <tr style=\"text-align: right;\">\n",
       "      <th></th>\n",
       "      <th>a</th>\n",
       "    </tr>\n",
       "  </thead>\n",
       "  <tbody>\n",
       "    <tr>\n",
       "      <th>0</th>\n",
       "      <td>1</td>\n",
       "    </tr>\n",
       "    <tr>\n",
       "      <th>1</th>\n",
       "      <td>2</td>\n",
       "    </tr>\n",
       "    <tr>\n",
       "      <th>2</th>\n",
       "      <td>3</td>\n",
       "    </tr>\n",
       "  </tbody>\n",
       "</table>\n",
       "</div>"
      ],
      "text/plain": [
       "   a\n",
       "0  1\n",
       "1  2\n",
       "2  3"
      ]
     },
     "execution_count": 15,
     "metadata": {},
     "output_type": "execute_result"
    }
   ],
   "source": [
    "# to convert a pyarrow.Table to a DataFrame, \n",
    "# you can call the pyarrow.Table.to_pandas() method with types_mapper=pd.ArrowDtype.\n",
    "\n",
    "table = pa.table([pa.array([1, 2, 3], type=pa.int64())], names=[\"a\"])\n",
    "df = table.to_pandas(types_mapper=pd.ArrowDtype)\n",
    "df\n"
   ]
  },
  {
   "cell_type": "code",
   "execution_count": 16,
   "metadata": {},
   "outputs": [
    {
     "data": {
      "text/plain": [
       "a    int64[pyarrow]\n",
       "dtype: object"
      ]
     },
     "execution_count": 16,
     "metadata": {},
     "output_type": "execute_result"
    }
   ],
   "source": [
    "df.dtypes"
   ]
  },
  {
   "cell_type": "code",
   "execution_count": null,
   "metadata": {},
   "outputs": [],
   "source": [
    "# PyArrow Operations\n",
    "# <기본 정의/주요 아이디어>: \"PyArrow 데이터 구조 통합은 pandas의 ExtensionArray 인터페이스를 통해 구현되며, \n",
    "# 따라서 이 인터페이스가 pandas API 내에 통합된 경우 지원되는 기능이 존재합니다.\"\n",
    "# pandas의  ExtensionArray Interface  + pandas API"
   ]
  },
  {
   "cell_type": "code",
   "execution_count": 17,
   "metadata": {},
   "outputs": [
    {
     "data": {
      "text/plain": [
       "-0.6669999808073044"
      ]
     },
     "execution_count": 17,
     "metadata": {},
     "output_type": "execute_result"
    }
   ],
   "source": [
    "import pyarrow as pa\n",
    "ser = pd.Series([-1.545, 0.211, None], dtype=\"float32[pyarrow]\")\n",
    "ser.mean()"
   ]
  },
  {
   "cell_type": "code",
   "execution_count": 18,
   "metadata": {},
   "outputs": [
    {
     "data": {
      "text/plain": [
       "0    -3.09\n",
       "1    0.422\n",
       "2     <NA>\n",
       "dtype: float[pyarrow]"
      ]
     },
     "execution_count": 18,
     "metadata": {},
     "output_type": "execute_result"
    }
   ],
   "source": [
    "ser + ser"
   ]
  },
  {
   "cell_type": "code",
   "execution_count": 19,
   "metadata": {},
   "outputs": [
    {
     "data": {
      "text/plain": [
       "0    False\n",
       "1    False\n",
       "2     <NA>\n",
       "dtype: bool[pyarrow]"
      ]
     },
     "execution_count": 19,
     "metadata": {},
     "output_type": "execute_result"
    }
   ],
   "source": [
    "ser > (ser +1)"
   ]
  },
  {
   "cell_type": "code",
   "execution_count": 20,
   "metadata": {},
   "outputs": [
    {
     "data": {
      "text/plain": [
       "0   -1.545\n",
       "1    0.211\n",
       "dtype: float[pyarrow]"
      ]
     },
     "execution_count": 20,
     "metadata": {},
     "output_type": "execute_result"
    }
   ],
   "source": [
    "ser.dropna()"
   ]
  },
  {
   "cell_type": "code",
   "execution_count": 21,
   "metadata": {},
   "outputs": [
    {
     "data": {
      "text/plain": [
       "0    False\n",
       "1    False\n",
       "2     True\n",
       "dtype: bool"
      ]
     },
     "execution_count": 21,
     "metadata": {},
     "output_type": "execute_result"
    }
   ],
   "source": [
    "ser.isna()"
   ]
  },
  {
   "cell_type": "code",
   "execution_count": 22,
   "metadata": {},
   "outputs": [
    {
     "data": {
      "text/plain": [
       "0   -1.545\n",
       "1    0.211\n",
       "2    0.000\n",
       "dtype: float[pyarrow]"
      ]
     },
     "execution_count": 22,
     "metadata": {},
     "output_type": "execute_result"
    }
   ],
   "source": [
    "ser.fillna(0)"
   ]
  },
  {
   "cell_type": "markdown",
   "metadata": {},
   "source": [
    "* 'Types with parameters` must be constructed with ArrowDtype()   ㊙️"
   ]
  },
  {
   "cell_type": "code",
   "execution_count": 23,
   "metadata": {},
   "outputs": [
    {
     "data": {
      "text/plain": [
       "timestamp[s, tz=America/New York][pyarrow]"
      ]
     },
     "execution_count": 23,
     "metadata": {},
     "output_type": "execute_result"
    }
   ],
   "source": [
    "pd.ArrowDtype(pa.timestamp(\"s\", tz=\"America/New York\"))"
   ]
  },
  {
   "cell_type": "code",
   "execution_count": 24,
   "metadata": {},
   "outputs": [
    {
     "data": {
      "text/plain": [
       "list<item: int64>[pyarrow]"
      ]
     },
     "execution_count": 24,
     "metadata": {},
     "output_type": "execute_result"
    }
   ],
   "source": [
    "pd.ArrowDtype(pa.list_(pa.int64()))"
   ]
  },
  {
   "cell_type": "code",
   "execution_count": 27,
   "metadata": {},
   "outputs": [
    {
     "data": {
      "text/plain": [
       "0    2023-01\n",
       "1       <NA>\n",
       "dtype: string[pyarrow]"
      ]
     },
     "execution_count": 27,
     "metadata": {},
     "output_type": "execute_result"
    }
   ],
   "source": [
    "from datetime import datetime\n",
    "pa_type = pd.ArrowDtype(pa.timestamp(\"ns\"))\n",
    "# ser_dt = pd.Series([datetime(2023, 01, 01), None], dtype = pa_type)\n",
    "# leading zeros in decimal integer literals are not permitted\n",
    "\n",
    "ser_dt = pd.Series([datetime(2023, 1, 1), None], dtype = pa_type)\n",
    "ser_dt.dt.strftime(\"%Y-%m\")\n"
   ]
  },
  {
   "cell_type": "code",
   "execution_count": null,
   "metadata": {},
   "outputs": [],
   "source": [
    "# I/O Reading\n",
    "# read_csv(), read_json(), read_orc(), read_feather() only for now."
   ]
  },
  {
   "cell_type": "code",
   "execution_count": 32,
   "metadata": {},
   "outputs": [
    {
     "data": {
      "text/html": [
       "<div>\n",
       "<style scoped>\n",
       "    .dataframe tbody tr th:only-of-type {\n",
       "        vertical-align: middle;\n",
       "    }\n",
       "\n",
       "    .dataframe tbody tr th {\n",
       "        vertical-align: top;\n",
       "    }\n",
       "\n",
       "    .dataframe thead th {\n",
       "        text-align: right;\n",
       "    }\n",
       "</style>\n",
       "<table border=\"1\" class=\"dataframe\">\n",
       "  <thead>\n",
       "    <tr style=\"text-align: right;\">\n",
       "      <th></th>\n",
       "      <th>a</th>\n",
       "      <th>b</th>\n",
       "      <th>c</th>\n",
       "    </tr>\n",
       "  </thead>\n",
       "  <tbody>\n",
       "    <tr>\n",
       "      <th>0</th>\n",
       "      <td>1</td>\n",
       "      <td>2.5</td>\n",
       "      <td>True</td>\n",
       "    </tr>\n",
       "    <tr>\n",
       "      <th>1</th>\n",
       "      <td>3</td>\n",
       "      <td>4.5</td>\n",
       "      <td>False</td>\n",
       "    </tr>\n",
       "  </tbody>\n",
       "</table>\n",
       "</div>"
      ],
      "text/plain": [
       "   a    b       c\n",
       "0  1  2.5    True\n",
       "1  3  4.5   False"
      ]
     },
     "execution_count": 32,
     "metadata": {},
     "output_type": "execute_result"
    }
   ],
   "source": [
    "# engine, dytpe_backend parameters\n",
    "import io\n",
    "# data = io.StringIO(\"\"\"a, b, c\n",
    "#                    1, 2.5, True\n",
    "#                    3, 4.5, False\n",
    "#                   \"\"\")\n",
    "#작동하지 않음   😵‍💫\n",
    "\n",
    "# data = io.StringIO(\"\"\"a, b, c\n",
    "#                    1, 2.5, True\n",
    "#                    3, 4.5, False\n",
    "# \"\"\")\n",
    "# 작동\n",
    "\n",
    "\n",
    "data = io.StringIO(\"\"\"a,b,c\n",
    "   1,2.5,True\n",
    "   3,4.5,False\n",
    "\"\"\")\n",
    "# 작동\n",
    "\n",
    "df = pd.read_csv(data, engine=\"pyarrow\")\n",
    "df"
   ]
  },
  {
   "cell_type": "code",
   "execution_count": 33,
   "metadata": {},
   "outputs": [
    {
     "data": {
      "text/plain": [
       "a     int64[pyarrow]\n",
       "b    double[pyarrow]\n",
       "c      bool[pyarrow]\n",
       "d    string[pyarrow]\n",
       "e     int64[pyarrow]\n",
       "f    double[pyarrow]\n",
       "g      bool[pyarrow]\n",
       "h    string[pyarrow]\n",
       "i      null[pyarrow]\n",
       "dtype: object"
      ]
     },
     "execution_count": 33,
     "metadata": {},
     "output_type": "execute_result"
    }
   ],
   "source": [
    "\n",
    "import io\n",
    "\n",
    "data = io.StringIO(\"\"\"a,b,c,d,e,f,g,h,i\n",
    "    1,2.5,True,a,,,,,\n",
    "    3,4.5,False,b,6,7.5,True,a,\n",
    "\"\"\")\n",
    "                   \n",
    "df_pyarrow = pd.read_csv(data, dtype_backend=\"pyarrow\")\n",
    "df_pyarrow.dtypes"
   ]
  }
 ],
 "metadata": {
  "kernelspec": {
   "display_name": "Python 3",
   "language": "python",
   "name": "python3"
  },
  "language_info": {
   "codemirror_mode": {
    "name": "ipython",
    "version": 3
   },
   "file_extension": ".py",
   "mimetype": "text/x-python",
   "name": "python",
   "nbconvert_exporter": "python",
   "pygments_lexer": "ipython3",
   "version": "3.10.12"
  },
  "orig_nbformat": 4
 },
 "nbformat": 4,
 "nbformat_minor": 2
}
