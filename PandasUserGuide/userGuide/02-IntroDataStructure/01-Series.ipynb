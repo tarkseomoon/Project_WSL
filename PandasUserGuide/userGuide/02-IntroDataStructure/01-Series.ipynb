{
 "cells": [
  {
   "cell_type": "code",
   "execution_count": null,
   "metadata": {},
   "outputs": [],
   "source": [
    "import numpy as np\n",
    "import pandas as pd"
   ]
  },
  {
   "cell_type": "code",
   "execution_count": null,
   "metadata": {},
   "outputs": [],
   "source": [
    "# From scalar value   🔰\n",
    "# If data is a scalar value, an index must be provided\n",
    "# The value will be repeated to match the \"length of index\".\n",
    "\n",
    "pd.Series(5, index = pd.RangeIndex(1, 6, 2))"
   ]
  },
  {
   "cell_type": "code",
   "execution_count": null,
   "metadata": {},
   "outputs": [],
   "source": [
    "s = pd.Series(np.random.randn(5), index = ['a', 'b', 'c', 'd', 'e'])"
   ]
  },
  {
   "cell_type": "code",
   "execution_count": null,
   "metadata": {},
   "outputs": [],
   "source": [
    "d = {'a': 0.0, 'b': 1.0, 'c': 2.0}\n",
    "pd.Series(d)"
   ]
  },
  {
   "cell_type": "code",
   "execution_count": null,
   "metadata": {},
   "outputs": [],
   "source": [
    "pd.Series(d, index = ['b', 'c', 'd', 'a'])"
   ]
  },
  {
   "cell_type": "code",
   "execution_count": null,
   "metadata": {},
   "outputs": [],
   "source": [
    "# Series is \"ndarray-like\"💥\n",
    "# 무슨 소리인가 하면 \"Series는 ndarray방식의 연산이 가능하다\"\n",
    "# 예를 들어 Indexing, Slicing, Boolean Indexing 뿐 아니라, 함수의 argument로도 쓴다.\n",
    "np.exp(s)"
   ]
  },
  {
   "cell_type": "code",
   "execution_count": null,
   "metadata": {},
   "outputs": [],
   "source": [
    "# pandas.Series.array\n",
    "pd.Series([1, 2, 3]).array\n",
    "# Returns ExtensionArray\n",
    "# PandasArray는 일반 Numpy type을 갖는다.\n"
   ]
  },
  {
   "cell_type": "code",
   "execution_count": null,
   "metadata": {},
   "outputs": [],
   "source": [
    "# numpy.ndarray의 dtype은 int, float등 한정되지만 \n",
    "# Series에서는 확장된 dtype을 사용한다.\n",
    "\n",
    "ser = pd.Series(pd.Categorical(['a', 'b', 'a']))\n",
    "ser.array"
   ]
  },
  {
   "cell_type": "code",
   "execution_count": null,
   "metadata": {},
   "outputs": [],
   "source": [
    "s"
   ]
  },
  {
   "cell_type": "code",
   "execution_count": null,
   "metadata": {},
   "outputs": [],
   "source": [
    "s. array"
   ]
  },
  {
   "cell_type": "code",
   "execution_count": null,
   "metadata": {},
   "outputs": [],
   "source": [
    "ns = s.to_numpy()\n",
    "ns\n",
    "# ns는 numpy.ndarray가 되어버린 거다. 더이상 pd.Series가 아니며, \n",
    "# pd.Series로 만들기 위해서 아래와 같이 작업을 해야한다.\n",
    "\n",
    "pd.Series(ns)"
   ]
  },
  {
   "cell_type": "code",
   "execution_count": null,
   "metadata": {},
   "outputs": [],
   "source": [
    "# Series is dict-like\n",
    "# A Series is also like a fixed-size dict in that you can get and set values by index label:\n",
    "\n",
    "s.get('f')\n",
    "s.get('f', np.nan)\n",
    "# Using the Series.get() method, \n",
    "# a missing label will return None or specified default:\n",
    "# return None이란 아무것도 return하지 않는다는 의미"
   ]
  },
  {
   "cell_type": "code",
   "execution_count": null,
   "metadata": {},
   "outputs": [],
   "source": [
    "# Vectorized operations and label alignment with Series\n",
    "# https://chat.openai.com/share/24cd782a-fdbd-468a-9662-b9520e3602ed"
   ]
  },
  {
   "cell_type": "code",
   "execution_count": null,
   "metadata": {},
   "outputs": [],
   "source": [
    "s[:-1]+s[1:]"
   ]
  }
 ],
 "metadata": {
  "kernelspec": {
   "display_name": "Python 3",
   "language": "python",
   "name": "python3"
  },
  "language_info": {
   "codemirror_mode": {
    "name": "ipython",
    "version": 3
   },
   "file_extension": ".py",
   "mimetype": "text/x-python",
   "name": "python",
   "nbconvert_exporter": "python",
   "pygments_lexer": "ipython3",
   "version": "3.10.6"
  },
  "orig_nbformat": 4
 },
 "nbformat": 4,
 "nbformat_minor": 2
}
