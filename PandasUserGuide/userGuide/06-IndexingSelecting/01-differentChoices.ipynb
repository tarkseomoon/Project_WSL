{
 "cells": [
  {
   "cell_type": "code",
   "execution_count": 45,
   "metadata": {},
   "outputs": [
    {
     "data": {
      "text/html": [
       "<div>\n",
       "<style scoped>\n",
       "    .dataframe tbody tr th:only-of-type {\n",
       "        vertical-align: middle;\n",
       "    }\n",
       "\n",
       "    .dataframe tbody tr th {\n",
       "        vertical-align: top;\n",
       "    }\n",
       "\n",
       "    .dataframe thead th {\n",
       "        text-align: right;\n",
       "    }\n",
       "</style>\n",
       "<table border=\"1\" class=\"dataframe\">\n",
       "  <thead>\n",
       "    <tr style=\"text-align: right;\">\n",
       "      <th></th>\n",
       "      <th>A</th>\n",
       "      <th>B</th>\n",
       "      <th>C</th>\n",
       "      <th>D</th>\n",
       "    </tr>\n",
       "  </thead>\n",
       "  <tbody>\n",
       "    <tr>\n",
       "      <th>2023-01-01</th>\n",
       "      <td>1.187569</td>\n",
       "      <td>-0.564931</td>\n",
       "      <td>1.207602</td>\n",
       "      <td>0.037394</td>\n",
       "    </tr>\n",
       "    <tr>\n",
       "      <th>2023-01-02</th>\n",
       "      <td>-0.253694</td>\n",
       "      <td>0.257730</td>\n",
       "      <td>0.240397</td>\n",
       "      <td>-1.279029</td>\n",
       "    </tr>\n",
       "    <tr>\n",
       "      <th>2023-01-03</th>\n",
       "      <td>0.146077</td>\n",
       "      <td>1.128171</td>\n",
       "      <td>0.218116</td>\n",
       "      <td>-1.171722</td>\n",
       "    </tr>\n",
       "    <tr>\n",
       "      <th>2023-01-04</th>\n",
       "      <td>-0.924897</td>\n",
       "      <td>0.218776</td>\n",
       "      <td>1.182334</td>\n",
       "      <td>-1.997600</td>\n",
       "    </tr>\n",
       "    <tr>\n",
       "      <th>2023-01-05</th>\n",
       "      <td>0.605353</td>\n",
       "      <td>1.105675</td>\n",
       "      <td>-0.653183</td>\n",
       "      <td>-0.167644</td>\n",
       "    </tr>\n",
       "    <tr>\n",
       "      <th>2023-01-06</th>\n",
       "      <td>-1.229910</td>\n",
       "      <td>0.024397</td>\n",
       "      <td>1.454701</td>\n",
       "      <td>-1.047088</td>\n",
       "    </tr>\n",
       "    <tr>\n",
       "      <th>2023-01-07</th>\n",
       "      <td>0.142517</td>\n",
       "      <td>-0.813970</td>\n",
       "      <td>-1.005585</td>\n",
       "      <td>0.694203</td>\n",
       "    </tr>\n",
       "    <tr>\n",
       "      <th>2023-01-08</th>\n",
       "      <td>-0.132447</td>\n",
       "      <td>1.166136</td>\n",
       "      <td>-0.574012</td>\n",
       "      <td>-0.036711</td>\n",
       "    </tr>\n",
       "  </tbody>\n",
       "</table>\n",
       "</div>"
      ],
      "text/plain": [
       "                   A         B         C         D\n",
       "2023-01-01  1.187569 -0.564931  1.207602  0.037394\n",
       "2023-01-02 -0.253694  0.257730  0.240397 -1.279029\n",
       "2023-01-03  0.146077  1.128171  0.218116 -1.171722\n",
       "2023-01-04 -0.924897  0.218776  1.182334 -1.997600\n",
       "2023-01-05  0.605353  1.105675 -0.653183 -0.167644\n",
       "2023-01-06 -1.229910  0.024397  1.454701 -1.047088\n",
       "2023-01-07  0.142517 -0.813970 -1.005585  0.694203\n",
       "2023-01-08 -0.132447  1.166136 -0.574012 -0.036711"
      ]
     },
     "execution_count": 45,
     "metadata": {},
     "output_type": "execute_result"
    }
   ],
   "source": [
    "import numpy as np\n",
    "import pandas as pd\n",
    "\n",
    "# Different Choices for Indexing.\n",
    "dates = pd.date_range('1/1/2023', periods= 8)\n",
    "\n",
    "df = pd.DataFrame(np.random.randn(8, 4), index=dates, columns=['A', 'B', 'C', 'D'])\n",
    "df"
   ]
  },
  {
   "cell_type": "code",
   "execution_count": 46,
   "metadata": {},
   "outputs": [
    {
     "data": {
      "text/plain": [
       "2023-01-01    1.187569\n",
       "2023-01-02   -0.253694\n",
       "2023-01-03    0.146077\n",
       "2023-01-04   -0.924897\n",
       "2023-01-05    0.605353\n",
       "2023-01-06   -1.229910\n",
       "2023-01-07    0.142517\n",
       "2023-01-08   -0.132447\n",
       "Freq: D, Name: A, dtype: float64"
      ]
     },
     "execution_count": 46,
     "metadata": {},
     "output_type": "execute_result"
    }
   ],
   "source": [
    "df['A']"
   ]
  },
  {
   "cell_type": "markdown",
   "metadata": {},
   "source": [
    "> * df.loc[...]는 row에 대한 indexing   \n",
    "> * index가 `별도의 name`을 갖고 있다면, 이를 하나의 Series로 보고 indexing하여, row를 명시한다.   ㊙️㊙️  "
   ]
  },
  {
   "cell_type": "code",
   "execution_count": 47,
   "metadata": {},
   "outputs": [
    {
     "data": {
      "text/plain": [
       "A   -0.924897\n",
       "B    0.218776\n",
       "C    1.182334\n",
       "D   -1.997600\n",
       "Name: 2023-01-04 00:00:00, dtype: float64"
      ]
     },
     "execution_count": 47,
     "metadata": {},
     "output_type": "execute_result"
    }
   ],
   "source": [
    "df.loc[dates[3]]"
   ]
  },
  {
   "cell_type": "code",
   "execution_count": 49,
   "metadata": {},
   "outputs": [],
   "source": [
    "# df[dates[5]]\n",
    "# It Doesn't work. df[...]는 column에 대한 indexing."
   ]
  },
  {
   "cell_type": "code",
   "execution_count": 3,
   "metadata": {},
   "outputs": [
    {
     "data": {
      "text/html": [
       "<div>\n",
       "<style scoped>\n",
       "    .dataframe tbody tr th:only-of-type {\n",
       "        vertical-align: middle;\n",
       "    }\n",
       "\n",
       "    .dataframe tbody tr th {\n",
       "        vertical-align: top;\n",
       "    }\n",
       "\n",
       "    .dataframe thead th {\n",
       "        text-align: right;\n",
       "    }\n",
       "</style>\n",
       "<table border=\"1\" class=\"dataframe\">\n",
       "  <thead>\n",
       "    <tr style=\"text-align: right;\">\n",
       "      <th></th>\n",
       "      <th>A</th>\n",
       "      <th>B</th>\n",
       "      <th>C</th>\n",
       "      <th>D</th>\n",
       "    </tr>\n",
       "  </thead>\n",
       "  <tbody>\n",
       "    <tr>\n",
       "      <th>2023-01-01</th>\n",
       "      <td>2.738060</td>\n",
       "      <td>-0.582577</td>\n",
       "      <td>-0.052241</td>\n",
       "      <td>0.878912</td>\n",
       "    </tr>\n",
       "    <tr>\n",
       "      <th>2023-01-02</th>\n",
       "      <td>-0.067055</td>\n",
       "      <td>-0.174403</td>\n",
       "      <td>-0.209351</td>\n",
       "      <td>-0.456515</td>\n",
       "    </tr>\n",
       "    <tr>\n",
       "      <th>2023-01-03</th>\n",
       "      <td>-1.104771</td>\n",
       "      <td>-2.183292</td>\n",
       "      <td>0.752805</td>\n",
       "      <td>-0.404331</td>\n",
       "    </tr>\n",
       "    <tr>\n",
       "      <th>2023-01-04</th>\n",
       "      <td>-0.828653</td>\n",
       "      <td>0.352372</td>\n",
       "      <td>-0.562476</td>\n",
       "      <td>1.104729</td>\n",
       "    </tr>\n",
       "    <tr>\n",
       "      <th>2023-01-05</th>\n",
       "      <td>1.810223</td>\n",
       "      <td>-1.991367</td>\n",
       "      <td>0.396920</td>\n",
       "      <td>-1.091852</td>\n",
       "    </tr>\n",
       "    <tr>\n",
       "      <th>2023-01-06</th>\n",
       "      <td>0.217394</td>\n",
       "      <td>-1.382665</td>\n",
       "      <td>-1.289925</td>\n",
       "      <td>-0.611896</td>\n",
       "    </tr>\n",
       "    <tr>\n",
       "      <th>2023-01-07</th>\n",
       "      <td>1.269375</td>\n",
       "      <td>-0.208270</td>\n",
       "      <td>2.022008</td>\n",
       "      <td>0.423413</td>\n",
       "    </tr>\n",
       "    <tr>\n",
       "      <th>2023-01-08</th>\n",
       "      <td>0.947019</td>\n",
       "      <td>1.304217</td>\n",
       "      <td>0.878158</td>\n",
       "      <td>-1.007074</td>\n",
       "    </tr>\n",
       "  </tbody>\n",
       "</table>\n",
       "</div>"
      ],
      "text/plain": [
       "                   A         B         C         D\n",
       "2023-01-01  2.738060 -0.582577 -0.052241  0.878912\n",
       "2023-01-02 -0.067055 -0.174403 -0.209351 -0.456515\n",
       "2023-01-03 -1.104771 -2.183292  0.752805 -0.404331\n",
       "2023-01-04 -0.828653  0.352372 -0.562476  1.104729\n",
       "2023-01-05  1.810223 -1.991367  0.396920 -1.091852\n",
       "2023-01-06  0.217394 -1.382665 -1.289925 -0.611896\n",
       "2023-01-07  1.269375 -0.208270  2.022008  0.423413\n",
       "2023-01-08  0.947019  1.304217  0.878158 -1.007074"
      ]
     },
     "execution_count": 3,
     "metadata": {},
     "output_type": "execute_result"
    }
   ],
   "source": [
    "# column 바꿔치기\n",
    "df[['A', 'B']] = df[['B', 'A']]\n",
    "df"
   ]
  },
  {
   "cell_type": "code",
   "execution_count": 4,
   "metadata": {},
   "outputs": [
    {
     "data": {
      "text/html": [
       "<div>\n",
       "<style scoped>\n",
       "    .dataframe tbody tr th:only-of-type {\n",
       "        vertical-align: middle;\n",
       "    }\n",
       "\n",
       "    .dataframe tbody tr th {\n",
       "        vertical-align: top;\n",
       "    }\n",
       "\n",
       "    .dataframe thead th {\n",
       "        text-align: right;\n",
       "    }\n",
       "</style>\n",
       "<table border=\"1\" class=\"dataframe\">\n",
       "  <thead>\n",
       "    <tr style=\"text-align: right;\">\n",
       "      <th></th>\n",
       "      <th>A</th>\n",
       "      <th>B</th>\n",
       "    </tr>\n",
       "  </thead>\n",
       "  <tbody>\n",
       "    <tr>\n",
       "      <th>2023-01-01</th>\n",
       "      <td>2.738060</td>\n",
       "      <td>-0.582577</td>\n",
       "    </tr>\n",
       "    <tr>\n",
       "      <th>2023-01-02</th>\n",
       "      <td>-0.067055</td>\n",
       "      <td>-0.174403</td>\n",
       "    </tr>\n",
       "    <tr>\n",
       "      <th>2023-01-03</th>\n",
       "      <td>-1.104771</td>\n",
       "      <td>-2.183292</td>\n",
       "    </tr>\n",
       "    <tr>\n",
       "      <th>2023-01-04</th>\n",
       "      <td>-0.828653</td>\n",
       "      <td>0.352372</td>\n",
       "    </tr>\n",
       "    <tr>\n",
       "      <th>2023-01-05</th>\n",
       "      <td>1.810223</td>\n",
       "      <td>-1.991367</td>\n",
       "    </tr>\n",
       "    <tr>\n",
       "      <th>2023-01-06</th>\n",
       "      <td>0.217394</td>\n",
       "      <td>-1.382665</td>\n",
       "    </tr>\n",
       "    <tr>\n",
       "      <th>2023-01-07</th>\n",
       "      <td>1.269375</td>\n",
       "      <td>-0.208270</td>\n",
       "    </tr>\n",
       "    <tr>\n",
       "      <th>2023-01-08</th>\n",
       "      <td>0.947019</td>\n",
       "      <td>1.304217</td>\n",
       "    </tr>\n",
       "  </tbody>\n",
       "</table>\n",
       "</div>"
      ],
      "text/plain": [
       "                   A         B\n",
       "2023-01-01  2.738060 -0.582577\n",
       "2023-01-02 -0.067055 -0.174403\n",
       "2023-01-03 -1.104771 -2.183292\n",
       "2023-01-04 -0.828653  0.352372\n",
       "2023-01-05  1.810223 -1.991367\n",
       "2023-01-06  0.217394 -1.382665\n",
       "2023-01-07  1.269375 -0.208270\n",
       "2023-01-08  0.947019  1.304217"
      ]
     },
     "execution_count": 4,
     "metadata": {},
     "output_type": "execute_result"
    }
   ],
   "source": [
    "df[['A', 'B']]"
   ]
  },
  {
   "cell_type": "code",
   "execution_count": 5,
   "metadata": {},
   "outputs": [
    {
     "data": {
      "text/html": [
       "<div>\n",
       "<style scoped>\n",
       "    .dataframe tbody tr th:only-of-type {\n",
       "        vertical-align: middle;\n",
       "    }\n",
       "\n",
       "    .dataframe tbody tr th {\n",
       "        vertical-align: top;\n",
       "    }\n",
       "\n",
       "    .dataframe thead th {\n",
       "        text-align: right;\n",
       "    }\n",
       "</style>\n",
       "<table border=\"1\" class=\"dataframe\">\n",
       "  <thead>\n",
       "    <tr style=\"text-align: right;\">\n",
       "      <th></th>\n",
       "      <th>A</th>\n",
       "      <th>B</th>\n",
       "      <th>C</th>\n",
       "      <th>D</th>\n",
       "    </tr>\n",
       "  </thead>\n",
       "  <tbody>\n",
       "    <tr>\n",
       "      <th>2023-01-01</th>\n",
       "      <td>2.738060</td>\n",
       "      <td>-0.582577</td>\n",
       "      <td>-0.052241</td>\n",
       "      <td>0.878912</td>\n",
       "    </tr>\n",
       "    <tr>\n",
       "      <th>2023-01-02</th>\n",
       "      <td>-0.067055</td>\n",
       "      <td>-0.174403</td>\n",
       "      <td>-0.209351</td>\n",
       "      <td>-0.456515</td>\n",
       "    </tr>\n",
       "    <tr>\n",
       "      <th>2023-01-03</th>\n",
       "      <td>-1.104771</td>\n",
       "      <td>-2.183292</td>\n",
       "      <td>0.752805</td>\n",
       "      <td>-0.404331</td>\n",
       "    </tr>\n",
       "    <tr>\n",
       "      <th>2023-01-04</th>\n",
       "      <td>-0.828653</td>\n",
       "      <td>0.352372</td>\n",
       "      <td>-0.562476</td>\n",
       "      <td>1.104729</td>\n",
       "    </tr>\n",
       "    <tr>\n",
       "      <th>2023-01-05</th>\n",
       "      <td>1.810223</td>\n",
       "      <td>-1.991367</td>\n",
       "      <td>0.396920</td>\n",
       "      <td>-1.091852</td>\n",
       "    </tr>\n",
       "    <tr>\n",
       "      <th>2023-01-06</th>\n",
       "      <td>0.217394</td>\n",
       "      <td>-1.382665</td>\n",
       "      <td>-1.289925</td>\n",
       "      <td>-0.611896</td>\n",
       "    </tr>\n",
       "    <tr>\n",
       "      <th>2023-01-07</th>\n",
       "      <td>1.269375</td>\n",
       "      <td>-0.208270</td>\n",
       "      <td>2.022008</td>\n",
       "      <td>0.423413</td>\n",
       "    </tr>\n",
       "    <tr>\n",
       "      <th>2023-01-08</th>\n",
       "      <td>0.947019</td>\n",
       "      <td>1.304217</td>\n",
       "      <td>0.878158</td>\n",
       "      <td>-1.007074</td>\n",
       "    </tr>\n",
       "  </tbody>\n",
       "</table>\n",
       "</div>"
      ],
      "text/plain": [
       "                   A         B         C         D\n",
       "2023-01-01  2.738060 -0.582577 -0.052241  0.878912\n",
       "2023-01-02 -0.067055 -0.174403 -0.209351 -0.456515\n",
       "2023-01-03 -1.104771 -2.183292  0.752805 -0.404331\n",
       "2023-01-04 -0.828653  0.352372 -0.562476  1.104729\n",
       "2023-01-05  1.810223 -1.991367  0.396920 -1.091852\n",
       "2023-01-06  0.217394 -1.382665 -1.289925 -0.611896\n",
       "2023-01-07  1.269375 -0.208270  2.022008  0.423413\n",
       "2023-01-08  0.947019  1.304217  0.878158 -1.007074"
      ]
     },
     "execution_count": 5,
     "metadata": {},
     "output_type": "execute_result"
    }
   ],
   "source": [
    "# left는 column alignment, right는 value assignment(?)\n",
    "df.loc[:, ['B', 'A']] = df[['A', 'B']]\n",
    "df\n",
    "# df.loc[:, ['B', 'A']]"
   ]
  },
  {
   "cell_type": "code",
   "execution_count": 6,
   "metadata": {},
   "outputs": [],
   "source": [
    "# to_numpy()는 DataFrame을 numpy array로 변환한다. i.e. index label이 의미가 없어진다.   ㊙️\n",
    "df.loc[:, ['B', 'A']] = df[['A', 'B']].to_numpy()"
   ]
  },
  {
   "cell_type": "code",
   "execution_count": 7,
   "metadata": {},
   "outputs": [
    {
     "data": {
      "text/html": [
       "<div>\n",
       "<style scoped>\n",
       "    .dataframe tbody tr th:only-of-type {\n",
       "        vertical-align: middle;\n",
       "    }\n",
       "\n",
       "    .dataframe tbody tr th {\n",
       "        vertical-align: top;\n",
       "    }\n",
       "\n",
       "    .dataframe thead th {\n",
       "        text-align: right;\n",
       "    }\n",
       "</style>\n",
       "<table border=\"1\" class=\"dataframe\">\n",
       "  <thead>\n",
       "    <tr style=\"text-align: right;\">\n",
       "      <th></th>\n",
       "      <th>A</th>\n",
       "      <th>B</th>\n",
       "      <th>C</th>\n",
       "      <th>D</th>\n",
       "    </tr>\n",
       "  </thead>\n",
       "  <tbody>\n",
       "    <tr>\n",
       "      <th>2023-01-01</th>\n",
       "      <td>-0.582577</td>\n",
       "      <td>2.738060</td>\n",
       "      <td>-0.052241</td>\n",
       "      <td>0.878912</td>\n",
       "    </tr>\n",
       "    <tr>\n",
       "      <th>2023-01-02</th>\n",
       "      <td>-0.174403</td>\n",
       "      <td>-0.067055</td>\n",
       "      <td>-0.209351</td>\n",
       "      <td>-0.456515</td>\n",
       "    </tr>\n",
       "    <tr>\n",
       "      <th>2023-01-03</th>\n",
       "      <td>-2.183292</td>\n",
       "      <td>-1.104771</td>\n",
       "      <td>0.752805</td>\n",
       "      <td>-0.404331</td>\n",
       "    </tr>\n",
       "    <tr>\n",
       "      <th>2023-01-04</th>\n",
       "      <td>0.352372</td>\n",
       "      <td>-0.828653</td>\n",
       "      <td>-0.562476</td>\n",
       "      <td>1.104729</td>\n",
       "    </tr>\n",
       "    <tr>\n",
       "      <th>2023-01-05</th>\n",
       "      <td>-1.991367</td>\n",
       "      <td>1.810223</td>\n",
       "      <td>0.396920</td>\n",
       "      <td>-1.091852</td>\n",
       "    </tr>\n",
       "    <tr>\n",
       "      <th>2023-01-06</th>\n",
       "      <td>-1.382665</td>\n",
       "      <td>0.217394</td>\n",
       "      <td>-1.289925</td>\n",
       "      <td>-0.611896</td>\n",
       "    </tr>\n",
       "    <tr>\n",
       "      <th>2023-01-07</th>\n",
       "      <td>-0.208270</td>\n",
       "      <td>1.269375</td>\n",
       "      <td>2.022008</td>\n",
       "      <td>0.423413</td>\n",
       "    </tr>\n",
       "    <tr>\n",
       "      <th>2023-01-08</th>\n",
       "      <td>1.304217</td>\n",
       "      <td>0.947019</td>\n",
       "      <td>0.878158</td>\n",
       "      <td>-1.007074</td>\n",
       "    </tr>\n",
       "  </tbody>\n",
       "</table>\n",
       "</div>"
      ],
      "text/plain": [
       "                   A         B         C         D\n",
       "2023-01-01 -0.582577  2.738060 -0.052241  0.878912\n",
       "2023-01-02 -0.174403 -0.067055 -0.209351 -0.456515\n",
       "2023-01-03 -2.183292 -1.104771  0.752805 -0.404331\n",
       "2023-01-04  0.352372 -0.828653 -0.562476  1.104729\n",
       "2023-01-05 -1.991367  1.810223  0.396920 -1.091852\n",
       "2023-01-06 -1.382665  0.217394 -1.289925 -0.611896\n",
       "2023-01-07 -0.208270  1.269375  2.022008  0.423413\n",
       "2023-01-08  1.304217  0.947019  0.878158 -1.007074"
      ]
     },
     "execution_count": 7,
     "metadata": {},
     "output_type": "execute_result"
    }
   ],
   "source": [
    "df"
   ]
  },
  {
   "cell_type": "code",
   "execution_count": 8,
   "metadata": {},
   "outputs": [],
   "source": [
    "# Attribute access(.)\n",
    "# You may access an index on a Series or column on a DataFrame directly as an attribute.\n",
    "\n",
    "sa = pd.Series([1, 2, 3], index=list('abc'))\n",
    "dfa = df.copy()\n"
   ]
  },
  {
   "cell_type": "code",
   "execution_count": 9,
   "metadata": {},
   "outputs": [
    {
     "data": {
      "text/plain": [
       "2"
      ]
     },
     "execution_count": 9,
     "metadata": {},
     "output_type": "execute_result"
    }
   ],
   "source": [
    "sa.b"
   ]
  },
  {
   "cell_type": "code",
   "execution_count": 10,
   "metadata": {},
   "outputs": [
    {
     "data": {
      "text/plain": [
       "2023-01-01   -0.582577\n",
       "2023-01-02   -0.174403\n",
       "2023-01-03   -2.183292\n",
       "2023-01-04    0.352372\n",
       "2023-01-05   -1.991367\n",
       "2023-01-06   -1.382665\n",
       "2023-01-07   -0.208270\n",
       "2023-01-08    1.304217\n",
       "Freq: D, Name: A, dtype: float64"
      ]
     },
     "execution_count": 10,
     "metadata": {},
     "output_type": "execute_result"
    }
   ],
   "source": [
    "dfa.A"
   ]
  },
  {
   "cell_type": "code",
   "execution_count": 11,
   "metadata": {},
   "outputs": [
    {
     "data": {
      "text/plain": [
       "a    5\n",
       "b    2\n",
       "c    3\n",
       "dtype: int64"
      ]
     },
     "execution_count": 11,
     "metadata": {},
     "output_type": "execute_result"
    }
   ],
   "source": [
    "sa.a = 5\n",
    "sa"
   ]
  },
  {
   "cell_type": "code",
   "execution_count": 12,
   "metadata": {},
   "outputs": [
    {
     "data": {
      "text/plain": [
       "[0, 1, 2, 3, 4, 5, 6, 7]"
      ]
     },
     "execution_count": 12,
     "metadata": {},
     "output_type": "execute_result"
    }
   ],
   "source": [
    "list(range(len(dfa.index)))"
   ]
  },
  {
   "cell_type": "code",
   "execution_count": 13,
   "metadata": {},
   "outputs": [],
   "source": [
    "dfa.A = list(range(1, len(dfa.index)+1))\n",
    "# Series에 list를 대입한다.   ㊙️\n"
   ]
  },
  {
   "cell_type": "code",
   "execution_count": 14,
   "metadata": {},
   "outputs": [
    {
     "data": {
      "text/html": [
       "<div>\n",
       "<style scoped>\n",
       "    .dataframe tbody tr th:only-of-type {\n",
       "        vertical-align: middle;\n",
       "    }\n",
       "\n",
       "    .dataframe tbody tr th {\n",
       "        vertical-align: top;\n",
       "    }\n",
       "\n",
       "    .dataframe thead th {\n",
       "        text-align: right;\n",
       "    }\n",
       "</style>\n",
       "<table border=\"1\" class=\"dataframe\">\n",
       "  <thead>\n",
       "    <tr style=\"text-align: right;\">\n",
       "      <th></th>\n",
       "      <th>A</th>\n",
       "      <th>B</th>\n",
       "      <th>C</th>\n",
       "      <th>D</th>\n",
       "    </tr>\n",
       "  </thead>\n",
       "  <tbody>\n",
       "    <tr>\n",
       "      <th>2023-01-01</th>\n",
       "      <td>1</td>\n",
       "      <td>2.738060</td>\n",
       "      <td>-0.052241</td>\n",
       "      <td>0.878912</td>\n",
       "    </tr>\n",
       "    <tr>\n",
       "      <th>2023-01-02</th>\n",
       "      <td>2</td>\n",
       "      <td>-0.067055</td>\n",
       "      <td>-0.209351</td>\n",
       "      <td>-0.456515</td>\n",
       "    </tr>\n",
       "    <tr>\n",
       "      <th>2023-01-03</th>\n",
       "      <td>3</td>\n",
       "      <td>-1.104771</td>\n",
       "      <td>0.752805</td>\n",
       "      <td>-0.404331</td>\n",
       "    </tr>\n",
       "    <tr>\n",
       "      <th>2023-01-04</th>\n",
       "      <td>4</td>\n",
       "      <td>-0.828653</td>\n",
       "      <td>-0.562476</td>\n",
       "      <td>1.104729</td>\n",
       "    </tr>\n",
       "    <tr>\n",
       "      <th>2023-01-05</th>\n",
       "      <td>5</td>\n",
       "      <td>1.810223</td>\n",
       "      <td>0.396920</td>\n",
       "      <td>-1.091852</td>\n",
       "    </tr>\n",
       "    <tr>\n",
       "      <th>2023-01-06</th>\n",
       "      <td>6</td>\n",
       "      <td>0.217394</td>\n",
       "      <td>-1.289925</td>\n",
       "      <td>-0.611896</td>\n",
       "    </tr>\n",
       "    <tr>\n",
       "      <th>2023-01-07</th>\n",
       "      <td>7</td>\n",
       "      <td>1.269375</td>\n",
       "      <td>2.022008</td>\n",
       "      <td>0.423413</td>\n",
       "    </tr>\n",
       "    <tr>\n",
       "      <th>2023-01-08</th>\n",
       "      <td>8</td>\n",
       "      <td>0.947019</td>\n",
       "      <td>0.878158</td>\n",
       "      <td>-1.007074</td>\n",
       "    </tr>\n",
       "  </tbody>\n",
       "</table>\n",
       "</div>"
      ],
      "text/plain": [
       "            A         B         C         D\n",
       "2023-01-01  1  2.738060 -0.052241  0.878912\n",
       "2023-01-02  2 -0.067055 -0.209351 -0.456515\n",
       "2023-01-03  3 -1.104771  0.752805 -0.404331\n",
       "2023-01-04  4 -0.828653 -0.562476  1.104729\n",
       "2023-01-05  5  1.810223  0.396920 -1.091852\n",
       "2023-01-06  6  0.217394 -1.289925 -0.611896\n",
       "2023-01-07  7  1.269375  2.022008  0.423413\n",
       "2023-01-08  8  0.947019  0.878158 -1.007074"
      ]
     },
     "execution_count": 14,
     "metadata": {},
     "output_type": "execute_result"
    }
   ],
   "source": [
    "dfa"
   ]
  },
  {
   "cell_type": "code",
   "execution_count": 15,
   "metadata": {},
   "outputs": [
    {
     "data": {
      "text/html": [
       "<div>\n",
       "<style scoped>\n",
       "    .dataframe tbody tr th:only-of-type {\n",
       "        vertical-align: middle;\n",
       "    }\n",
       "\n",
       "    .dataframe tbody tr th {\n",
       "        vertical-align: top;\n",
       "    }\n",
       "\n",
       "    .dataframe thead th {\n",
       "        text-align: right;\n",
       "    }\n",
       "</style>\n",
       "<table border=\"1\" class=\"dataframe\">\n",
       "  <thead>\n",
       "    <tr style=\"text-align: right;\">\n",
       "      <th></th>\n",
       "      <th>A</th>\n",
       "      <th>B</th>\n",
       "      <th>C</th>\n",
       "      <th>D</th>\n",
       "      <th>E</th>\n",
       "    </tr>\n",
       "  </thead>\n",
       "  <tbody>\n",
       "    <tr>\n",
       "      <th>2023-01-01</th>\n",
       "      <td>1</td>\n",
       "      <td>2.738060</td>\n",
       "      <td>-0.052241</td>\n",
       "      <td>0.878912</td>\n",
       "      <td>0</td>\n",
       "    </tr>\n",
       "    <tr>\n",
       "      <th>2023-01-02</th>\n",
       "      <td>2</td>\n",
       "      <td>-0.067055</td>\n",
       "      <td>-0.209351</td>\n",
       "      <td>-0.456515</td>\n",
       "      <td>1</td>\n",
       "    </tr>\n",
       "    <tr>\n",
       "      <th>2023-01-03</th>\n",
       "      <td>3</td>\n",
       "      <td>-1.104771</td>\n",
       "      <td>0.752805</td>\n",
       "      <td>-0.404331</td>\n",
       "      <td>2</td>\n",
       "    </tr>\n",
       "    <tr>\n",
       "      <th>2023-01-04</th>\n",
       "      <td>4</td>\n",
       "      <td>-0.828653</td>\n",
       "      <td>-0.562476</td>\n",
       "      <td>1.104729</td>\n",
       "      <td>3</td>\n",
       "    </tr>\n",
       "    <tr>\n",
       "      <th>2023-01-05</th>\n",
       "      <td>5</td>\n",
       "      <td>1.810223</td>\n",
       "      <td>0.396920</td>\n",
       "      <td>-1.091852</td>\n",
       "      <td>4</td>\n",
       "    </tr>\n",
       "    <tr>\n",
       "      <th>2023-01-06</th>\n",
       "      <td>6</td>\n",
       "      <td>0.217394</td>\n",
       "      <td>-1.289925</td>\n",
       "      <td>-0.611896</td>\n",
       "      <td>5</td>\n",
       "    </tr>\n",
       "    <tr>\n",
       "      <th>2023-01-07</th>\n",
       "      <td>7</td>\n",
       "      <td>1.269375</td>\n",
       "      <td>2.022008</td>\n",
       "      <td>0.423413</td>\n",
       "      <td>6</td>\n",
       "    </tr>\n",
       "    <tr>\n",
       "      <th>2023-01-08</th>\n",
       "      <td>8</td>\n",
       "      <td>0.947019</td>\n",
       "      <td>0.878158</td>\n",
       "      <td>-1.007074</td>\n",
       "      <td>7</td>\n",
       "    </tr>\n",
       "  </tbody>\n",
       "</table>\n",
       "</div>"
      ],
      "text/plain": [
       "            A         B         C         D  E\n",
       "2023-01-01  1  2.738060 -0.052241  0.878912  0\n",
       "2023-01-02  2 -0.067055 -0.209351 -0.456515  1\n",
       "2023-01-03  3 -1.104771  0.752805 -0.404331  2\n",
       "2023-01-04  4 -0.828653 -0.562476  1.104729  3\n",
       "2023-01-05  5  1.810223  0.396920 -1.091852  4\n",
       "2023-01-06  6  0.217394 -1.289925 -0.611896  5\n",
       "2023-01-07  7  1.269375  2.022008  0.423413  6\n",
       "2023-01-08  8  0.947019  0.878158 -1.007074  7"
      ]
     },
     "execution_count": 15,
     "metadata": {},
     "output_type": "execute_result"
    }
   ],
   "source": [
    "# When Creating a new column, Don't use DataFrame.column\n",
    "dfa[\"E\"] = list(range(len(dfa.index)))\n",
    "dfa"
   ]
  },
  {
   "cell_type": "code",
   "execution_count": 16,
   "metadata": {},
   "outputs": [],
   "source": [
    "# Identifiers 命名 규칙<https://docs.python.org/3/reference/lexical_analysis.html>\n",
    "# 숫자가 제일 앞에 와서는 않된다.\n",
    "\n",
    "# The attribute will not be available if it conflicts with an existing method name, \n",
    "# e.g. s.min is not allowed, but s['min'] is possible.\n",
    "# method를 호출하는 경우도 s['method']로 가능하다.   ㊙️"
   ]
  },
  {
   "cell_type": "markdown",
   "metadata": {},
   "source": [
    "##### [Warning: Valid Identifier](https://pandas.pydata.org/docs/user_guide/indexing.html#:~:text=You%20can%20use,element%20or%20column)\n",
    "* You can use this access only if the index element is a valid Python identifier, e.g. s.1 is not allowed. See here for an explanation of valid identifiers.\n",
    "\n",
    "* The attribute will not be available if it conflicts with an existing method name, e.g. s.min is not allowed, but s['min'] is possible.\n",
    "\n",
    "* Similarly, the attribute will not be available if it conflicts with any of the following list: index, major_axis, minor_axis, items.\n",
    "\n",
    "* In any of these cases, standard indexing will still work, e.g. s['1'], s['min'], and s['index'] will access the corresponding element or column. (?)🤔"
   ]
  },
  {
   "cell_type": "code",
   "execution_count": 17,
   "metadata": {},
   "outputs": [
    {
     "data": {
      "text/html": [
       "<div>\n",
       "<style scoped>\n",
       "    .dataframe tbody tr th:only-of-type {\n",
       "        vertical-align: middle;\n",
       "    }\n",
       "\n",
       "    .dataframe tbody tr th {\n",
       "        vertical-align: top;\n",
       "    }\n",
       "\n",
       "    .dataframe thead th {\n",
       "        text-align: right;\n",
       "    }\n",
       "</style>\n",
       "<table border=\"1\" class=\"dataframe\">\n",
       "  <thead>\n",
       "    <tr style=\"text-align: right;\">\n",
       "      <th></th>\n",
       "      <th>x</th>\n",
       "      <th>y</th>\n",
       "    </tr>\n",
       "  </thead>\n",
       "  <tbody>\n",
       "    <tr>\n",
       "      <th>0</th>\n",
       "      <td>1</td>\n",
       "      <td>3</td>\n",
       "    </tr>\n",
       "    <tr>\n",
       "      <th>1</th>\n",
       "      <td>9</td>\n",
       "      <td>99</td>\n",
       "    </tr>\n",
       "    <tr>\n",
       "      <th>2</th>\n",
       "      <td>3</td>\n",
       "      <td>5</td>\n",
       "    </tr>\n",
       "  </tbody>\n",
       "</table>\n",
       "</div>"
      ],
      "text/plain": [
       "   x   y\n",
       "0  1   3\n",
       "1  9  99\n",
       "2  3   5"
      ]
     },
     "execution_count": 17,
     "metadata": {},
     "output_type": "execute_result"
    }
   ],
   "source": [
    "x = pd.DataFrame({\"x\":[1, 2, 3], \"y\":[3, 4, 5]})\n",
    "x.iloc[1] = {\"x\":9, \"y\":99}\n",
    "x"
   ]
  },
  {
   "cell_type": "code",
   "execution_count": 18,
   "metadata": {},
   "outputs": [
    {
     "name": "stderr",
     "output_type": "stream",
     "text": [
      "/tmp/ipykernel_731/269534380.py:2: UserWarning: Pandas doesn't allow columns to be created via a new attribute name - see https://pandas.pydata.org/pandas-docs/stable/indexing.html#attribute-access\n",
      "  df.two = [4, 5, 6]\n"
     ]
    }
   ],
   "source": [
    "df = pd.DataFrame({'one': [1., 2., 3.]})\n",
    "df.two = [4, 5, 6]"
   ]
  },
  {
   "cell_type": "code",
   "execution_count": null,
   "metadata": {},
   "outputs": [],
   "source": [
    "# Slicing Ranges\n"
   ]
  },
  {
   "cell_type": "code",
   "execution_count": 75,
   "metadata": {},
   "outputs": [
    {
     "data": {
      "text/html": [
       "<div>\n",
       "<style scoped>\n",
       "    .dataframe tbody tr th:only-of-type {\n",
       "        vertical-align: middle;\n",
       "    }\n",
       "\n",
       "    .dataframe tbody tr th {\n",
       "        vertical-align: top;\n",
       "    }\n",
       "\n",
       "    .dataframe thead th {\n",
       "        text-align: right;\n",
       "    }\n",
       "</style>\n",
       "<table border=\"1\" class=\"dataframe\">\n",
       "  <thead>\n",
       "    <tr style=\"text-align: right;\">\n",
       "      <th></th>\n",
       "      <th>A</th>\n",
       "      <th>B</th>\n",
       "      <th>C</th>\n",
       "      <th>D</th>\n",
       "    </tr>\n",
       "    <tr>\n",
       "      <th>日付</th>\n",
       "      <th></th>\n",
       "      <th></th>\n",
       "      <th></th>\n",
       "      <th></th>\n",
       "    </tr>\n",
       "  </thead>\n",
       "  <tbody>\n",
       "    <tr>\n",
       "      <th>2013-01-01</th>\n",
       "      <td>0.896601</td>\n",
       "      <td>0.340204</td>\n",
       "      <td>-1.759166</td>\n",
       "      <td>0.467655</td>\n",
       "    </tr>\n",
       "    <tr>\n",
       "      <th>2013-01-02</th>\n",
       "      <td>1.007708</td>\n",
       "      <td>0.751419</td>\n",
       "      <td>1.699561</td>\n",
       "      <td>-1.120244</td>\n",
       "    </tr>\n",
       "    <tr>\n",
       "      <th>2013-01-03</th>\n",
       "      <td>-2.140343</td>\n",
       "      <td>-1.173291</td>\n",
       "      <td>0.036782</td>\n",
       "      <td>2.327997</td>\n",
       "    </tr>\n",
       "    <tr>\n",
       "      <th>2013-01-04</th>\n",
       "      <td>-0.153715</td>\n",
       "      <td>0.694500</td>\n",
       "      <td>-0.516761</td>\n",
       "      <td>-0.380956</td>\n",
       "    </tr>\n",
       "    <tr>\n",
       "      <th>2013-01-05</th>\n",
       "      <td>-0.442451</td>\n",
       "      <td>1.378753</td>\n",
       "      <td>1.187520</td>\n",
       "      <td>-0.425404</td>\n",
       "    </tr>\n",
       "  </tbody>\n",
       "</table>\n",
       "</div>"
      ],
      "text/plain": [
       "                   A         B         C         D\n",
       "日付                                                \n",
       "2013-01-01  0.896601  0.340204 -1.759166  0.467655\n",
       "2013-01-02  1.007708  0.751419  1.699561 -1.120244\n",
       "2013-01-03 -2.140343 -1.173291  0.036782  2.327997\n",
       "2013-01-04 -0.153715  0.694500 -0.516761 -0.380956\n",
       "2013-01-05 -0.442451  1.378753  1.187520 -0.425404"
      ]
     },
     "execution_count": 75,
     "metadata": {},
     "output_type": "execute_result"
    }
   ],
   "source": [
    "# Selection by label(df.loc[...])\n",
    "date = pd.date_range('20130101', periods=5, name='日付')\n",
    "dfl = pd.DataFrame(np.random.randn(5, 4),\n",
    "                   columns=list('ABCD'),\n",
    "                   index=date)\n",
    "dfl"
   ]
  },
  {
   "cell_type": "code",
   "execution_count": 76,
   "metadata": {},
   "outputs": [
    {
     "data": {
      "text/html": [
       "<div>\n",
       "<style scoped>\n",
       "    .dataframe tbody tr th:only-of-type {\n",
       "        vertical-align: middle;\n",
       "    }\n",
       "\n",
       "    .dataframe tbody tr th {\n",
       "        vertical-align: top;\n",
       "    }\n",
       "\n",
       "    .dataframe thead th {\n",
       "        text-align: right;\n",
       "    }\n",
       "</style>\n",
       "<table border=\"1\" class=\"dataframe\">\n",
       "  <thead>\n",
       "    <tr style=\"text-align: right;\">\n",
       "      <th></th>\n",
       "      <th>A</th>\n",
       "      <th>D</th>\n",
       "    </tr>\n",
       "    <tr>\n",
       "      <th>日付</th>\n",
       "      <th></th>\n",
       "      <th></th>\n",
       "    </tr>\n",
       "  </thead>\n",
       "  <tbody>\n",
       "    <tr>\n",
       "      <th>2013-01-02</th>\n",
       "      <td>1.007708</td>\n",
       "      <td>-1.120244</td>\n",
       "    </tr>\n",
       "    <tr>\n",
       "      <th>2013-01-03</th>\n",
       "      <td>-2.140343</td>\n",
       "      <td>2.327997</td>\n",
       "    </tr>\n",
       "    <tr>\n",
       "      <th>2013-01-04</th>\n",
       "      <td>-0.153715</td>\n",
       "      <td>-0.380956</td>\n",
       "    </tr>\n",
       "  </tbody>\n",
       "</table>\n",
       "</div>"
      ],
      "text/plain": [
       "                   A         D\n",
       "日付                            \n",
       "2013-01-02  1.007708 -1.120244\n",
       "2013-01-03 -2.140343  2.327997\n",
       "2013-01-04 -0.153715 -0.380956"
      ]
     },
     "execution_count": 76,
     "metadata": {},
     "output_type": "execute_result"
    }
   ],
   "source": [
    "# dfl.loc[2:3]   # interger slicing을 사용할 수 없다.   😵‍💫\n",
    "# When slicing, both the start bound AND the stop bound are included\n",
    "# dfl.loc[\"2013-01-02\":\"2013-01-04\"]   # 작동\n",
    "# dfl.loc[\"20130102\":\"20130104\"]   # 작동\n",
    "dfl.loc[date[1:4], [\"A\",\"D\"]]\n",
    "\n",
    "# date라는 Series를 별도로 생성하고 이를 dfl.loc[...]에 인자로 넘긴다. \n",
    "# dfl를 정의하기 이전에 date라는 Series를 별도로 정의한다.   ㊙️\n"
   ]
  },
  {
   "cell_type": "code",
   "execution_count": 78,
   "metadata": {},
   "outputs": [
    {
     "data": {
      "text/html": [
       "<div>\n",
       "<style scoped>\n",
       "    .dataframe tbody tr th:only-of-type {\n",
       "        vertical-align: middle;\n",
       "    }\n",
       "\n",
       "    .dataframe tbody tr th {\n",
       "        vertical-align: top;\n",
       "    }\n",
       "\n",
       "    .dataframe thead th {\n",
       "        text-align: right;\n",
       "    }\n",
       "</style>\n",
       "<table border=\"1\" class=\"dataframe\">\n",
       "  <thead>\n",
       "    <tr style=\"text-align: right;\">\n",
       "      <th></th>\n",
       "      <th>A</th>\n",
       "      <th>B</th>\n",
       "      <th>C</th>\n",
       "      <th>D</th>\n",
       "    </tr>\n",
       "    <tr>\n",
       "      <th>日付</th>\n",
       "      <th></th>\n",
       "      <th></th>\n",
       "      <th></th>\n",
       "      <th></th>\n",
       "    </tr>\n",
       "  </thead>\n",
       "  <tbody>\n",
       "    <tr>\n",
       "      <th>2013-01-01</th>\n",
       "      <td>0.896601</td>\n",
       "      <td>0.340204</td>\n",
       "      <td>-1.759166</td>\n",
       "      <td>0.467655</td>\n",
       "    </tr>\n",
       "    <tr>\n",
       "      <th>2013-01-03</th>\n",
       "      <td>-2.140343</td>\n",
       "      <td>-1.173291</td>\n",
       "      <td>0.036782</td>\n",
       "      <td>2.327997</td>\n",
       "    </tr>\n",
       "  </tbody>\n",
       "</table>\n",
       "</div>"
      ],
      "text/plain": [
       "                   A         B         C         D\n",
       "日付                                                \n",
       "2013-01-01  0.896601  0.340204 -1.759166  0.467655\n",
       "2013-01-03 -2.140343 -1.173291  0.036782  2.327997"
      ]
     },
     "execution_count": 78,
     "metadata": {},
     "output_type": "execute_result"
    }
   ],
   "source": [
    "dfl.loc[[True, False, True, False, False]]\n",
    "# Boolean array(e.g. True, False list)을 이용한다.\n",
    "# Boolean array를 return하는 conditionals도 쓸 수 있다."
   ]
  },
  {
   "cell_type": "code",
   "execution_count": 79,
   "metadata": {},
   "outputs": [
    {
     "data": {
      "text/plain": [
       "a    1.615941\n",
       "b    1.456952\n",
       "c    0.506330\n",
       "d   -0.946885\n",
       "e    1.011785\n",
       "f   -0.717335\n",
       "dtype: float64"
      ]
     },
     "execution_count": 79,
     "metadata": {},
     "output_type": "execute_result"
    }
   ],
   "source": [
    "s1 = pd.Series(np.random.randn(6), index=list(\"abcdef\"))\n",
    "s1"
   ]
  },
  {
   "cell_type": "code",
   "execution_count": 80,
   "metadata": {},
   "outputs": [
    {
     "data": {
      "text/plain": [
       "c    0.506330\n",
       "d   -0.946885\n",
       "e    1.011785\n",
       "f   -0.717335\n",
       "dtype: float64"
      ]
     },
     "execution_count": 80,
     "metadata": {},
     "output_type": "execute_result"
    }
   ],
   "source": [
    "s1.loc[\"c\":]"
   ]
  },
  {
   "cell_type": "code",
   "execution_count": 151,
   "metadata": {},
   "outputs": [
    {
     "data": {
      "text/html": [
       "<div>\n",
       "<style scoped>\n",
       "    .dataframe tbody tr th:only-of-type {\n",
       "        vertical-align: middle;\n",
       "    }\n",
       "\n",
       "    .dataframe tbody tr th {\n",
       "        vertical-align: top;\n",
       "    }\n",
       "\n",
       "    .dataframe thead th {\n",
       "        text-align: right;\n",
       "    }\n",
       "</style>\n",
       "<table border=\"1\" class=\"dataframe\">\n",
       "  <thead>\n",
       "    <tr style=\"text-align: right;\">\n",
       "      <th></th>\n",
       "      <th>A</th>\n",
       "      <th>B</th>\n",
       "      <th>C</th>\n",
       "      <th>D</th>\n",
       "    </tr>\n",
       "  </thead>\n",
       "  <tbody>\n",
       "    <tr>\n",
       "      <th>a</th>\n",
       "      <td>0.760100</td>\n",
       "      <td>0.992180</td>\n",
       "      <td>-0.900860</td>\n",
       "      <td>-0.563569</td>\n",
       "    </tr>\n",
       "    <tr>\n",
       "      <th>b</th>\n",
       "      <td>-0.523660</td>\n",
       "      <td>-0.911905</td>\n",
       "      <td>-1.170232</td>\n",
       "      <td>0.765346</td>\n",
       "    </tr>\n",
       "    <tr>\n",
       "      <th>c</th>\n",
       "      <td>-2.158469</td>\n",
       "      <td>-0.161224</td>\n",
       "      <td>0.124303</td>\n",
       "      <td>0.185376</td>\n",
       "    </tr>\n",
       "    <tr>\n",
       "      <th>d</th>\n",
       "      <td>-0.401261</td>\n",
       "      <td>0.428020</td>\n",
       "      <td>-0.220995</td>\n",
       "      <td>-0.668876</td>\n",
       "    </tr>\n",
       "    <tr>\n",
       "      <th>e</th>\n",
       "      <td>1.333502</td>\n",
       "      <td>0.425300</td>\n",
       "      <td>0.402161</td>\n",
       "      <td>1.457772</td>\n",
       "    </tr>\n",
       "    <tr>\n",
       "      <th>f</th>\n",
       "      <td>0.060663</td>\n",
       "      <td>-1.279536</td>\n",
       "      <td>0.495353</td>\n",
       "      <td>0.385579</td>\n",
       "    </tr>\n",
       "  </tbody>\n",
       "</table>\n",
       "</div>"
      ],
      "text/plain": [
       "          A         B         C         D\n",
       "a  0.760100  0.992180 -0.900860 -0.563569\n",
       "b -0.523660 -0.911905 -1.170232  0.765346\n",
       "c -2.158469 -0.161224  0.124303  0.185376\n",
       "d -0.401261  0.428020 -0.220995 -0.668876\n",
       "e  1.333502  0.425300  0.402161  1.457772\n",
       "f  0.060663 -1.279536  0.495353  0.385579"
      ]
     },
     "execution_count": 151,
     "metadata": {},
     "output_type": "execute_result"
    }
   ],
   "source": [
    "df1 = pd.DataFrame(np.random.randn(6, 4),\n",
    "                   index=list('abcdef'),\n",
    "                   columns=list('ABCD'))\n",
    "df1"
   ]
  },
  {
   "cell_type": "code",
   "execution_count": 83,
   "metadata": {},
   "outputs": [
    {
     "data": {
      "text/html": [
       "<div>\n",
       "<style scoped>\n",
       "    .dataframe tbody tr th:only-of-type {\n",
       "        vertical-align: middle;\n",
       "    }\n",
       "\n",
       "    .dataframe tbody tr th {\n",
       "        vertical-align: top;\n",
       "    }\n",
       "\n",
       "    .dataframe thead th {\n",
       "        text-align: right;\n",
       "    }\n",
       "</style>\n",
       "<table border=\"1\" class=\"dataframe\">\n",
       "  <thead>\n",
       "    <tr style=\"text-align: right;\">\n",
       "      <th></th>\n",
       "      <th>B</th>\n",
       "      <th>C</th>\n",
       "    </tr>\n",
       "  </thead>\n",
       "  <tbody>\n",
       "    <tr>\n",
       "      <th>a</th>\n",
       "      <td>2.007654</td>\n",
       "      <td>1.071816</td>\n",
       "    </tr>\n",
       "    <tr>\n",
       "      <th>b</th>\n",
       "      <td>-1.780610</td>\n",
       "      <td>0.698415</td>\n",
       "    </tr>\n",
       "    <tr>\n",
       "      <th>d</th>\n",
       "      <td>0.083834</td>\n",
       "      <td>-0.377288</td>\n",
       "    </tr>\n",
       "  </tbody>\n",
       "</table>\n",
       "</div>"
      ],
      "text/plain": [
       "          B         C\n",
       "a  2.007654  1.071816\n",
       "b -1.780610  0.698415\n",
       "d  0.083834 -0.377288"
      ]
     },
     "execution_count": 83,
     "metadata": {},
     "output_type": "execute_result"
    }
   ],
   "source": [
    "df1.loc[['a', 'b', 'd'], 'B':'C']"
   ]
  },
  {
   "cell_type": "code",
   "execution_count": 84,
   "metadata": {},
   "outputs": [
    {
     "data": {
      "text/plain": [
       "A   -1.040964\n",
       "B    2.007654\n",
       "C    1.071816\n",
       "D    0.745387\n",
       "Name: a, dtype: float64"
      ]
     },
     "execution_count": 84,
     "metadata": {},
     "output_type": "execute_result"
    }
   ],
   "source": [
    "df1.loc['a']"
   ]
  },
  {
   "cell_type": "code",
   "execution_count": 87,
   "metadata": {},
   "outputs": [
    {
     "data": {
      "text/plain": [
       "A    False\n",
       "B     True\n",
       "C     True\n",
       "D     True\n",
       "Name: a, dtype: bool"
      ]
     },
     "execution_count": 87,
     "metadata": {},
     "output_type": "execute_result"
    }
   ],
   "source": [
    "df1.loc['a'] > 0"
   ]
  },
  {
   "cell_type": "code",
   "execution_count": 96,
   "metadata": {},
   "outputs": [
    {
     "data": {
      "text/html": [
       "<div>\n",
       "<style scoped>\n",
       "    .dataframe tbody tr th:only-of-type {\n",
       "        vertical-align: middle;\n",
       "    }\n",
       "\n",
       "    .dataframe tbody tr th {\n",
       "        vertical-align: top;\n",
       "    }\n",
       "\n",
       "    .dataframe thead th {\n",
       "        text-align: right;\n",
       "    }\n",
       "</style>\n",
       "<table border=\"1\" class=\"dataframe\">\n",
       "  <thead>\n",
       "    <tr style=\"text-align: right;\">\n",
       "      <th></th>\n",
       "      <th>A</th>\n",
       "      <th>C</th>\n",
       "    </tr>\n",
       "  </thead>\n",
       "  <tbody>\n",
       "    <tr>\n",
       "      <th>a</th>\n",
       "      <td>-1.040964</td>\n",
       "      <td>1.071816</td>\n",
       "    </tr>\n",
       "    <tr>\n",
       "      <th>b</th>\n",
       "      <td>2.443265</td>\n",
       "      <td>0.698415</td>\n",
       "    </tr>\n",
       "    <tr>\n",
       "      <th>c</th>\n",
       "      <td>-0.720430</td>\n",
       "      <td>-1.244180</td>\n",
       "    </tr>\n",
       "    <tr>\n",
       "      <th>d</th>\n",
       "      <td>0.714732</td>\n",
       "      <td>-0.377288</td>\n",
       "    </tr>\n",
       "    <tr>\n",
       "      <th>e</th>\n",
       "      <td>-0.025356</td>\n",
       "      <td>-0.061255</td>\n",
       "    </tr>\n",
       "    <tr>\n",
       "      <th>f</th>\n",
       "      <td>-1.227753</td>\n",
       "      <td>-0.177213</td>\n",
       "    </tr>\n",
       "  </tbody>\n",
       "</table>\n",
       "</div>"
      ],
      "text/plain": [
       "          A         C\n",
       "a -1.040964  1.071816\n",
       "b  2.443265  0.698415\n",
       "c -0.720430 -1.244180\n",
       "d  0.714732 -0.377288\n",
       "e -0.025356 -0.061255\n",
       "f -1.227753 -0.177213"
      ]
     },
     "execution_count": 96,
     "metadata": {},
     "output_type": "execute_result"
    }
   ],
   "source": [
    "# row조건을 걸어 column을 추출   🪷\n",
    "df1.loc[:, df1.loc['b'] > 0]"
   ]
  },
  {
   "cell_type": "code",
   "execution_count": 100,
   "metadata": {},
   "outputs": [
    {
     "data": {
      "text/html": [
       "<div>\n",
       "<style scoped>\n",
       "    .dataframe tbody tr th:only-of-type {\n",
       "        vertical-align: middle;\n",
       "    }\n",
       "\n",
       "    .dataframe tbody tr th {\n",
       "        vertical-align: top;\n",
       "    }\n",
       "\n",
       "    .dataframe thead th {\n",
       "        text-align: right;\n",
       "    }\n",
       "</style>\n",
       "<table border=\"1\" class=\"dataframe\">\n",
       "  <thead>\n",
       "    <tr style=\"text-align: right;\">\n",
       "      <th></th>\n",
       "      <th>A</th>\n",
       "      <th>B</th>\n",
       "      <th>C</th>\n",
       "      <th>D</th>\n",
       "    </tr>\n",
       "  </thead>\n",
       "  <tbody>\n",
       "    <tr>\n",
       "      <th>b</th>\n",
       "      <td>2.443265</td>\n",
       "      <td>-1.780610</td>\n",
       "      <td>0.698415</td>\n",
       "      <td>-0.349839</td>\n",
       "    </tr>\n",
       "    <tr>\n",
       "      <th>d</th>\n",
       "      <td>0.714732</td>\n",
       "      <td>0.083834</td>\n",
       "      <td>-0.377288</td>\n",
       "      <td>-0.534243</td>\n",
       "    </tr>\n",
       "  </tbody>\n",
       "</table>\n",
       "</div>"
      ],
      "text/plain": [
       "          A         B         C         D\n",
       "b  2.443265 -1.780610  0.698415 -0.349839\n",
       "d  0.714732  0.083834 -0.377288 -0.534243"
      ]
     },
     "execution_count": 100,
     "metadata": {},
     "output_type": "execute_result"
    }
   ],
   "source": [
    "# column에 조건을 걸어 row를 추출   🪷\n",
    "df1.loc[df1[\"A\"] >0, :]"
   ]
  },
  {
   "cell_type": "code",
   "execution_count": 130,
   "metadata": {},
   "outputs": [
    {
     "data": {
      "text/html": [
       "<div>\n",
       "<style scoped>\n",
       "    .dataframe tbody tr th:only-of-type {\n",
       "        vertical-align: middle;\n",
       "    }\n",
       "\n",
       "    .dataframe tbody tr th {\n",
       "        vertical-align: top;\n",
       "    }\n",
       "\n",
       "    .dataframe thead th {\n",
       "        text-align: right;\n",
       "    }\n",
       "</style>\n",
       "<table border=\"1\" class=\"dataframe\">\n",
       "  <thead>\n",
       "    <tr style=\"text-align: right;\">\n",
       "      <th></th>\n",
       "      <th>A</th>\n",
       "      <th>B</th>\n",
       "    </tr>\n",
       "  </thead>\n",
       "  <tbody>\n",
       "    <tr>\n",
       "      <th>a</th>\n",
       "      <td>-1.040964</td>\n",
       "      <td>2.007654</td>\n",
       "    </tr>\n",
       "    <tr>\n",
       "      <th>b</th>\n",
       "      <td>2.443265</td>\n",
       "      <td>-1.780610</td>\n",
       "    </tr>\n",
       "  </tbody>\n",
       "</table>\n",
       "</div>"
      ],
      "text/plain": [
       "          A         B\n",
       "a -1.040964  2.007654\n",
       "b  2.443265 -1.780610"
      ]
     },
     "execution_count": 130,
     "metadata": {},
     "output_type": "execute_result"
    }
   ],
   "source": [
    "df1.loc[[\"a\", \"b\"], [\"A\", \"B\"]]"
   ]
  },
  {
   "cell_type": "code",
   "execution_count": 133,
   "metadata": {},
   "outputs": [
    {
     "data": {
      "text/html": [
       "<div>\n",
       "<style scoped>\n",
       "    .dataframe tbody tr th:only-of-type {\n",
       "        vertical-align: middle;\n",
       "    }\n",
       "\n",
       "    .dataframe tbody tr th {\n",
       "        vertical-align: top;\n",
       "    }\n",
       "\n",
       "    .dataframe thead th {\n",
       "        text-align: right;\n",
       "    }\n",
       "</style>\n",
       "<table border=\"1\" class=\"dataframe\">\n",
       "  <thead>\n",
       "    <tr style=\"text-align: right;\">\n",
       "      <th></th>\n",
       "      <th>A</th>\n",
       "      <th>B</th>\n",
       "      <th>C</th>\n",
       "      <th>D</th>\n",
       "    </tr>\n",
       "  </thead>\n",
       "  <tbody>\n",
       "    <tr>\n",
       "      <th>d</th>\n",
       "      <td>0.714732</td>\n",
       "      <td>0.083834</td>\n",
       "      <td>-0.377288</td>\n",
       "      <td>-0.534243</td>\n",
       "    </tr>\n",
       "  </tbody>\n",
       "</table>\n",
       "</div>"
      ],
      "text/plain": [
       "          A         B         C         D\n",
       "d  0.714732  0.083834 -0.377288 -0.534243"
      ]
     },
     "execution_count": 133,
     "metadata": {},
     "output_type": "execute_result"
    }
   ],
   "source": [
    "# condition을 중복하여 건다. 각 조건마다(..)를 사용한다.㊙️\n",
    "# 이를 해석해 보면, df.loc[...]안에 들어 가는 ...는 앞자리는 row, 뒷자리는 column에 대한 label 또는 boolean array이다.\n",
    "# boolean array를 만들 수 있는 것은 1.conditionals(조건식), isin([...])에 들어가는 2.list\n",
    "df1.loc[(df1[\"A\"] >0) & (df1[\"B\"] >0)]"
   ]
  },
  {
   "cell_type": "code",
   "execution_count": 127,
   "metadata": {},
   "outputs": [
    {
     "data": {
      "text/html": [
       "<div>\n",
       "<style scoped>\n",
       "    .dataframe tbody tr th:only-of-type {\n",
       "        vertical-align: middle;\n",
       "    }\n",
       "\n",
       "    .dataframe tbody tr th {\n",
       "        vertical-align: top;\n",
       "    }\n",
       "\n",
       "    .dataframe thead th {\n",
       "        text-align: right;\n",
       "    }\n",
       "</style>\n",
       "<table border=\"1\" class=\"dataframe\">\n",
       "  <thead>\n",
       "    <tr style=\"text-align: right;\">\n",
       "      <th></th>\n",
       "      <th>B</th>\n",
       "      <th>D</th>\n",
       "    </tr>\n",
       "  </thead>\n",
       "  <tbody>\n",
       "    <tr>\n",
       "      <th>a</th>\n",
       "      <td>2.007654</td>\n",
       "      <td>0.745387</td>\n",
       "    </tr>\n",
       "    <tr>\n",
       "      <th>c</th>\n",
       "      <td>0.146781</td>\n",
       "      <td>0.674421</td>\n",
       "    </tr>\n",
       "  </tbody>\n",
       "</table>\n",
       "</div>"
      ],
      "text/plain": [
       "          B         D\n",
       "a  2.007654  0.745387\n",
       "c  0.146781  0.674421"
      ]
     },
     "execution_count": 127,
     "metadata": {},
     "output_type": "execute_result"
    }
   ],
   "source": [
    "df1.loc[['a', 'c'], ['B', 'D']]"
   ]
  },
  {
   "cell_type": "code",
   "execution_count": 159,
   "metadata": {},
   "outputs": [],
   "source": [
    "# Boolean masking\n",
    "mask1 = pd.array([True, False, True, False, pd.NA, False], dtype=\"boolean\")\n",
    "mask2 = pd.array([False, True, False, True])"
   ]
  },
  {
   "cell_type": "code",
   "execution_count": 163,
   "metadata": {},
   "outputs": [
    {
     "data": {
      "text/html": [
       "<div>\n",
       "<style scoped>\n",
       "    .dataframe tbody tr th:only-of-type {\n",
       "        vertical-align: middle;\n",
       "    }\n",
       "\n",
       "    .dataframe tbody tr th {\n",
       "        vertical-align: top;\n",
       "    }\n",
       "\n",
       "    .dataframe thead th {\n",
       "        text-align: right;\n",
       "    }\n",
       "</style>\n",
       "<table border=\"1\" class=\"dataframe\">\n",
       "  <thead>\n",
       "    <tr style=\"text-align: right;\">\n",
       "      <th></th>\n",
       "      <th>A</th>\n",
       "      <th>B</th>\n",
       "      <th>C</th>\n",
       "      <th>D</th>\n",
       "    </tr>\n",
       "  </thead>\n",
       "  <tbody>\n",
       "    <tr>\n",
       "      <th>a</th>\n",
       "      <td>0.760100</td>\n",
       "      <td>0.992180</td>\n",
       "      <td>-0.900860</td>\n",
       "      <td>-0.563569</td>\n",
       "    </tr>\n",
       "    <tr>\n",
       "      <th>c</th>\n",
       "      <td>-2.158469</td>\n",
       "      <td>-0.161224</td>\n",
       "      <td>0.124303</td>\n",
       "      <td>0.185376</td>\n",
       "    </tr>\n",
       "  </tbody>\n",
       "</table>\n",
       "</div>"
      ],
      "text/plain": [
       "          A         B         C         D\n",
       "a  0.760100  0.992180 -0.900860 -0.563569\n",
       "c -2.158469 -0.161224  0.124303  0.185376"
      ]
     },
     "execution_count": 163,
     "metadata": {},
     "output_type": "execute_result"
    }
   ],
   "source": [
    "# 😵‍💫\n",
    "df1[mask1]"
   ]
  },
  {
   "cell_type": "code",
   "execution_count": 161,
   "metadata": {},
   "outputs": [
    {
     "data": {
      "text/html": [
       "<div>\n",
       "<style scoped>\n",
       "    .dataframe tbody tr th:only-of-type {\n",
       "        vertical-align: middle;\n",
       "    }\n",
       "\n",
       "    .dataframe tbody tr th {\n",
       "        vertical-align: top;\n",
       "    }\n",
       "\n",
       "    .dataframe thead th {\n",
       "        text-align: right;\n",
       "    }\n",
       "</style>\n",
       "<table border=\"1\" class=\"dataframe\">\n",
       "  <thead>\n",
       "    <tr style=\"text-align: right;\">\n",
       "      <th></th>\n",
       "      <th>A</th>\n",
       "      <th>B</th>\n",
       "      <th>C</th>\n",
       "      <th>D</th>\n",
       "    </tr>\n",
       "  </thead>\n",
       "  <tbody>\n",
       "    <tr>\n",
       "      <th>a</th>\n",
       "      <td>0.760100</td>\n",
       "      <td>0.992180</td>\n",
       "      <td>-0.900860</td>\n",
       "      <td>-0.563569</td>\n",
       "    </tr>\n",
       "    <tr>\n",
       "      <th>c</th>\n",
       "      <td>-2.158469</td>\n",
       "      <td>-0.161224</td>\n",
       "      <td>0.124303</td>\n",
       "      <td>0.185376</td>\n",
       "    </tr>\n",
       "  </tbody>\n",
       "</table>\n",
       "</div>"
      ],
      "text/plain": [
       "          A         B         C         D\n",
       "a  0.760100  0.992180 -0.900860 -0.563569\n",
       "c -2.158469 -0.161224  0.124303  0.185376"
      ]
     },
     "execution_count": 161,
     "metadata": {},
     "output_type": "execute_result"
    }
   ],
   "source": [
    "df1.loc[mask1]"
   ]
  },
  {
   "cell_type": "code",
   "execution_count": 160,
   "metadata": {},
   "outputs": [
    {
     "data": {
      "text/html": [
       "<div>\n",
       "<style scoped>\n",
       "    .dataframe tbody tr th:only-of-type {\n",
       "        vertical-align: middle;\n",
       "    }\n",
       "\n",
       "    .dataframe tbody tr th {\n",
       "        vertical-align: top;\n",
       "    }\n",
       "\n",
       "    .dataframe thead th {\n",
       "        text-align: right;\n",
       "    }\n",
       "</style>\n",
       "<table border=\"1\" class=\"dataframe\">\n",
       "  <thead>\n",
       "    <tr style=\"text-align: right;\">\n",
       "      <th></th>\n",
       "      <th>B</th>\n",
       "      <th>D</th>\n",
       "    </tr>\n",
       "  </thead>\n",
       "  <tbody>\n",
       "    <tr>\n",
       "      <th>a</th>\n",
       "      <td>0.992180</td>\n",
       "      <td>-0.563569</td>\n",
       "    </tr>\n",
       "    <tr>\n",
       "      <th>c</th>\n",
       "      <td>-0.161224</td>\n",
       "      <td>0.185376</td>\n",
       "    </tr>\n",
       "  </tbody>\n",
       "</table>\n",
       "</div>"
      ],
      "text/plain": [
       "          B         D\n",
       "a  0.992180 -0.563569\n",
       "c -0.161224  0.185376"
      ]
     },
     "execution_count": 160,
     "metadata": {},
     "output_type": "execute_result"
    }
   ],
   "source": [
    "df1.loc[mask1, mask2]"
   ]
  },
  {
   "cell_type": "markdown",
   "metadata": {},
   "source": [
    "* 왜 위 두개가 같은 결과를 낼까?🤔😵‍💫\n",
    "* In my opinion, df1[mask]에서 boolean array가 대입되는 경우는 index에만 masking한다.매우 특이한 경우😵‍💫\n",
    "* df1.lox[mask]에서 mask가 row자리에 있기 때문에 row를 masking하고 있고, column자리에 mask가 대입할 수 있다.\n"
   ]
  },
  {
   "cell_type": "code",
   "execution_count": 138,
   "metadata": {},
   "outputs": [
    {
     "data": {
      "text/plain": [
       "0    a\n",
       "3    b\n",
       "2    c\n",
       "5    d\n",
       "4    e\n",
       "dtype: object"
      ]
     },
     "execution_count": 138,
     "metadata": {},
     "output_type": "execute_result"
    }
   ],
   "source": [
    "# Slicing with labels\n",
    "s = pd.Series(list(\"abcde\"), index=[0, 3, 2, 5, 4])\n",
    "s"
   ]
  },
  {
   "cell_type": "markdown",
   "metadata": {},
   "source": [
    "<span style=\"font-size:13px;\">\n",
    "<summary><h3>Valid Inputs㊙️</h3></summary>\n",
    "<details>\n",
    "\n",
    "1. A <i>`single label`<i> , e.g. 5 or 'a' (Note that 5 is interpreted as a label of the index. This use is not an integer position along the index.).\n",
    "  \n",
    "2. A <i>`list or array of labels`<i> ['a', 'b', 'c'].\n",
    "\n",
    "3. A <i>`slice object`<i> with labels <i>`'a':'f'`<i> (Note that contrary to usual Python slices, both the start and the stop are included, when present in the index! See Slicing with labels.\n",
    "\n",
    "4. A <i>`boolean array`<i>.\n",
    "\n",
    "5. A <i>`callable`<i>, see Selection By Callable.\n",
    "\n",
    "</details>\n",
    "</span>"
   ]
  },
  {
   "cell_type": "code",
   "execution_count": 140,
   "metadata": {},
   "outputs": [
    {
     "data": {
      "text/plain": [
       "3    b\n",
       "2    c\n",
       "5    d\n",
       "dtype: object"
      ]
     },
     "execution_count": 140,
     "metadata": {},
     "output_type": "execute_result"
    }
   ],
   "source": [
    "s.loc[3:5]\n",
    "# label로 slicing하는 경우 숫자라도 문자로 인식한다."
   ]
  },
  {
   "cell_type": "code",
   "execution_count": 142,
   "metadata": {},
   "outputs": [],
   "source": [
    "# s.loc['3':'5']\n",
    "# 逆切れに（賊反荷杖）Errorが生じる。   😵‍💫"
   ]
  },
  {
   "cell_type": "code",
   "execution_count": 143,
   "metadata": {},
   "outputs": [
    {
     "data": {
      "text/plain": [
       "0    a\n",
       "2    c\n",
       "3    b\n",
       "4    e\n",
       "5    d\n",
       "dtype: object"
      ]
     },
     "execution_count": 143,
     "metadata": {},
     "output_type": "execute_result"
    }
   ],
   "source": [
    "s.sort_index()"
   ]
  },
  {
   "cell_type": "code",
   "execution_count": 144,
   "metadata": {},
   "outputs": [
    {
     "data": {
      "text/plain": [
       "2    c\n",
       "3    b\n",
       "4    e\n",
       "5    d\n",
       "dtype: object"
      ]
     },
     "execution_count": 144,
     "metadata": {},
     "output_type": "execute_result"
    }
   ],
   "source": [
    "s.sort_index().loc[1:6]\n",
    "# 없는 문자까지 포함하여 충실히 selection by label을 이행한다."
   ]
  },
  {
   "cell_type": "code",
   "execution_count": null,
   "metadata": {},
   "outputs": [],
   "source": [
    "# .loc[start:stop]에서 한개 이상의 index값이 없고, sorting되어 있지 않다면 an error will be raised.(sorting되어 있다면 OK란 뜻)\n",
    "# s.loc[1:6]은 Error.(Sorting 되어 있지 않아 NG)"
   ]
  },
  {
   "cell_type": "code",
   "execution_count": 145,
   "metadata": {},
   "outputs": [
    {
     "data": {
      "text/plain": [
       "3    b\n",
       "2    c\n",
       "5    d\n",
       "dtype: object"
      ]
     },
     "execution_count": 145,
     "metadata": {},
     "output_type": "execute_result"
    }
   ],
   "source": [
    "s.loc[3:5]\n",
    "# End points are inclusive."
   ]
  },
  {
   "cell_type": "markdown",
   "metadata": {},
   "source": [
    "<span style=\"font-size: 13px;\">\n",
    "<h3>Selection by position:</h3>\n",
    "\n",
    "> 0-based indexing\n",
    ">   \n",
    "> purely integer based indexing\n",
    "\n",
    "<details><summary>Valid Inputs</summary>\n",
    "\n",
    "   - **`An integer`** e.g. 5.\n",
    "\n",
    "   - **`A list or array of integers`** `[4, 3, 0]`.\n",
    "  \n",
    "   - **`A slice object`** with ints 1:7.\n",
    "  \n",
    "   - **`A boolean array`**.\n",
    "  \n",
    "   - **`A callable`**, see Selection By Callable.\n",
    "</detaila>\n",
    "</span>"
   ]
  },
  {
   "cell_type": "code",
   "execution_count": 146,
   "metadata": {},
   "outputs": [
    {
     "data": {
      "text/plain": [
       "0    1.370371\n",
       "2    0.329040\n",
       "4   -0.928459\n",
       "6    0.265704\n",
       "8    0.162912\n",
       "dtype: float64"
      ]
     },
     "execution_count": 146,
     "metadata": {},
     "output_type": "execute_result"
    }
   ],
   "source": [
    "s1 = pd.Series(np.random.randn(5), index=list(range(0,10,2)))\n",
    "s1"
   ]
  },
  {
   "cell_type": "code",
   "execution_count": 148,
   "metadata": {},
   "outputs": [
    {
     "data": {
      "text/plain": [
       "0    1.370371\n",
       "2    0.329040\n",
       "dtype: float64"
      ]
     },
     "execution_count": 148,
     "metadata": {},
     "output_type": "execute_result"
    }
   ],
   "source": [
    "# label slicing\n",
    "s1.loc[:3]"
   ]
  },
  {
   "cell_type": "code",
   "execution_count": 147,
   "metadata": {},
   "outputs": [
    {
     "data": {
      "text/plain": [
       "0    1.370371\n",
       "2    0.329040\n",
       "4   -0.928459\n",
       "dtype: float64"
      ]
     },
     "execution_count": 147,
     "metadata": {},
     "output_type": "execute_result"
    }
   ],
   "source": [
    "# Series에 대한 slicing\n",
    "s1[:3]"
   ]
  },
  {
   "cell_type": "code",
   "execution_count": 149,
   "metadata": {},
   "outputs": [
    {
     "data": {
      "text/plain": [
       "0    1.370371\n",
       "2    0.329040\n",
       "4   -0.928459\n",
       "dtype: float64"
      ]
     },
     "execution_count": 149,
     "metadata": {},
     "output_type": "execute_result"
    }
   ],
   "source": [
    "# Position slicing\n",
    "s1.iloc[:3]"
   ]
  }
 ],
 "metadata": {
  "kernelspec": {
   "display_name": "Python 3",
   "language": "python",
   "name": "python3"
  },
  "language_info": {
   "codemirror_mode": {
    "name": "ipython",
    "version": 3
   },
   "file_extension": ".py",
   "mimetype": "text/x-python",
   "name": "python",
   "nbconvert_exporter": "python",
   "pygments_lexer": "ipython3",
   "version": "3.10.12"
  },
  "orig_nbformat": 4
 },
 "nbformat": 4,
 "nbformat_minor": 2
}
