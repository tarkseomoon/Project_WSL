{
 "cells": [
  {
   "cell_type": "code",
   "execution_count": 2,
   "metadata": {},
   "outputs": [],
   "source": [
    "import numpy as np\n",
    "import pandas as pd"
   ]
  },
  {
   "cell_type": "code",
   "execution_count": 2,
   "metadata": {},
   "outputs": [],
   "source": [
    "index = pd.date_range(\"1/1/2000\", periods=8)\n",
    "\n",
    "s = pd.Series(np.random.randn(5), index=[\"a\", \"b\", \"c\", \"d\", \"e\"])\n",
    "\n",
    "df = pd.DataFrame(np.random.randn(8, 3), index=index, columns=[\"A\", \"B\", \"C\"])"
   ]
  },
  {
   "cell_type": "code",
   "execution_count": 3,
   "metadata": {},
   "outputs": [
    {
     "data": {
      "text/plain": [
       "0   -0.180662\n",
       "1    0.307145\n",
       "2   -1.524474\n",
       "3   -0.079836\n",
       "4    1.855903\n",
       "5    0.041340\n",
       "6    0.787260\n",
       "dtype: float64"
      ]
     },
     "execution_count": 3,
     "metadata": {},
     "output_type": "execute_result"
    }
   ],
   "source": [
    "long_series = pd.Series(np.random.randn(1000))\n",
    "long_series.head(7)"
   ]
  },
  {
   "cell_type": "code",
   "execution_count": 4,
   "metadata": {},
   "outputs": [
    {
     "data": {
      "text/html": [
       "<div>\n",
       "<style scoped>\n",
       "    .dataframe tbody tr th:only-of-type {\n",
       "        vertical-align: middle;\n",
       "    }\n",
       "\n",
       "    .dataframe tbody tr th {\n",
       "        vertical-align: top;\n",
       "    }\n",
       "\n",
       "    .dataframe thead th {\n",
       "        text-align: right;\n",
       "    }\n",
       "</style>\n",
       "<table border=\"1\" class=\"dataframe\">\n",
       "  <thead>\n",
       "    <tr style=\"text-align: right;\">\n",
       "      <th></th>\n",
       "      <th>A</th>\n",
       "      <th>B</th>\n",
       "      <th>C</th>\n",
       "    </tr>\n",
       "  </thead>\n",
       "  <tbody>\n",
       "    <tr>\n",
       "      <th>2000-01-01</th>\n",
       "      <td>-1.023766</td>\n",
       "      <td>0.370983</td>\n",
       "      <td>-1.455107</td>\n",
       "    </tr>\n",
       "    <tr>\n",
       "      <th>2000-01-02</th>\n",
       "      <td>0.499823</td>\n",
       "      <td>0.042873</td>\n",
       "      <td>0.669756</td>\n",
       "    </tr>\n",
       "    <tr>\n",
       "      <th>2000-01-03</th>\n",
       "      <td>-1.706272</td>\n",
       "      <td>0.580229</td>\n",
       "      <td>0.175385</td>\n",
       "    </tr>\n",
       "  </tbody>\n",
       "</table>\n",
       "</div>"
      ],
      "text/plain": [
       "                   A         B         C\n",
       "2000-01-01 -1.023766  0.370983 -1.455107\n",
       "2000-01-02  0.499823  0.042873  0.669756\n",
       "2000-01-03 -1.706272  0.580229  0.175385"
      ]
     },
     "execution_count": 4,
     "metadata": {},
     "output_type": "execute_result"
    }
   ],
   "source": [
    "df[:3]"
   ]
  },
  {
   "cell_type": "code",
   "execution_count": 5,
   "metadata": {},
   "outputs": [
    {
     "data": {
      "text/html": [
       "<div>\n",
       "<style scoped>\n",
       "    .dataframe tbody tr th:only-of-type {\n",
       "        vertical-align: middle;\n",
       "    }\n",
       "\n",
       "    .dataframe tbody tr th {\n",
       "        vertical-align: top;\n",
       "    }\n",
       "\n",
       "    .dataframe thead th {\n",
       "        text-align: right;\n",
       "    }\n",
       "</style>\n",
       "<table border=\"1\" class=\"dataframe\">\n",
       "  <thead>\n",
       "    <tr style=\"text-align: right;\">\n",
       "      <th></th>\n",
       "      <th>A</th>\n",
       "      <th>B</th>\n",
       "      <th>C</th>\n",
       "      <th>Average</th>\n",
       "    </tr>\n",
       "  </thead>\n",
       "  <tbody>\n",
       "    <tr>\n",
       "      <th>2000-01-01</th>\n",
       "      <td>-1.023766</td>\n",
       "      <td>0.370983</td>\n",
       "      <td>-1.455107</td>\n",
       "      <td>-0.702630</td>\n",
       "    </tr>\n",
       "    <tr>\n",
       "      <th>2000-01-02</th>\n",
       "      <td>0.499823</td>\n",
       "      <td>0.042873</td>\n",
       "      <td>0.669756</td>\n",
       "      <td>0.404150</td>\n",
       "    </tr>\n",
       "    <tr>\n",
       "      <th>2000-01-03</th>\n",
       "      <td>-1.706272</td>\n",
       "      <td>0.580229</td>\n",
       "      <td>0.175385</td>\n",
       "      <td>-0.316886</td>\n",
       "    </tr>\n",
       "    <tr>\n",
       "      <th>2000-01-04</th>\n",
       "      <td>-1.170397</td>\n",
       "      <td>0.489008</td>\n",
       "      <td>0.701909</td>\n",
       "      <td>0.006840</td>\n",
       "    </tr>\n",
       "    <tr>\n",
       "      <th>2000-01-05</th>\n",
       "      <td>-0.889084</td>\n",
       "      <td>-1.150840</td>\n",
       "      <td>-0.939320</td>\n",
       "      <td>-0.993081</td>\n",
       "    </tr>\n",
       "    <tr>\n",
       "      <th>2000-01-06</th>\n",
       "      <td>-0.488030</td>\n",
       "      <td>-1.220112</td>\n",
       "      <td>-0.200128</td>\n",
       "      <td>-0.636090</td>\n",
       "    </tr>\n",
       "    <tr>\n",
       "      <th>2000-01-07</th>\n",
       "      <td>-2.508433</td>\n",
       "      <td>-0.038128</td>\n",
       "      <td>-0.526866</td>\n",
       "      <td>-1.024476</td>\n",
       "    </tr>\n",
       "    <tr>\n",
       "      <th>2000-01-08</th>\n",
       "      <td>0.413220</td>\n",
       "      <td>0.716908</td>\n",
       "      <td>0.131425</td>\n",
       "      <td>0.420518</td>\n",
       "    </tr>\n",
       "  </tbody>\n",
       "</table>\n",
       "</div>"
      ],
      "text/plain": [
       "                   A         B         C   Average\n",
       "2000-01-01 -1.023766  0.370983 -1.455107 -0.702630\n",
       "2000-01-02  0.499823  0.042873  0.669756  0.404150\n",
       "2000-01-03 -1.706272  0.580229  0.175385 -0.316886\n",
       "2000-01-04 -1.170397  0.489008  0.701909  0.006840\n",
       "2000-01-05 -0.889084 -1.150840 -0.939320 -0.993081\n",
       "2000-01-06 -0.488030 -1.220112 -0.200128 -0.636090\n",
       "2000-01-07 -2.508433 -0.038128 -0.526866 -1.024476\n",
       "2000-01-08  0.413220  0.716908  0.131425  0.420518"
      ]
     },
     "execution_count": 5,
     "metadata": {},
     "output_type": "execute_result"
    }
   ],
   "source": [
    "# df.columns = [f\"{x.lower()}\" for x in df.columns]\n",
    "# lambda가 f-string을 return할 수 있다.\n",
    "# df.columns는 그냥 list에 불과하다\n",
    "NoTTL = len(df.columns)\n",
    "df = df.assign(Average = lambda x : (x.A + x.B + x.C) / NoTTL)\n",
    "df[['A','B', 'C', 'Average']]\n",
    "# df"
   ]
  },
  {
   "cell_type": "code",
   "execution_count": 6,
   "metadata": {},
   "outputs": [
    {
     "data": {
      "text/plain": [
       "(8, 4)"
      ]
     },
     "execution_count": 6,
     "metadata": {},
     "output_type": "execute_result"
    }
   ],
   "source": [
    "df.shape"
   ]
  },
  {
   "cell_type": "code",
   "execution_count": 7,
   "metadata": {},
   "outputs": [
    {
     "name": "stdout",
     "output_type": "stream",
     "text": [
      "<class 'pandas.core.series.Series'>\n",
      "<class 'pandas.core.arrays.numpy_.PandasArray'>\n"
     ]
    }
   ],
   "source": [
    "print(type(s))\n",
    "print(type(s.array))\n",
    "# 위는 Series로 표기 되지는 않는다.\n",
    "# s.array는 PandasArray라고 표기 되지만 np.ndarray와 거의 같은 것으로 볼 수 있다."
   ]
  },
  {
   "cell_type": "code",
   "execution_count": 8,
   "metadata": {},
   "outputs": [
    {
     "name": "stdout",
     "output_type": "stream",
     "text": [
      "<class 'list'>\n",
      "<class 'numpy.ndarray'>\n",
      "<class 'numpy.ndarray'>\n"
     ]
    }
   ],
   "source": [
    "print(type(s.to_list()))\n",
    "print(type(s.to_numpy()))\n",
    "print(type(np.array(s)))\n",
    "# Series를 np.array로 변환하는 2가지 방법"
   ]
  },
  {
   "cell_type": "markdown",
   "metadata": {},
   "source": [
    "* pandas objects (Index, Series, DataFrame) can be thought of as containers for arrays, which hold the actual data and do the actual computation. For many types, the underlying array is a numpy.ndarray. However, pandas and 3rd party libraries may extend NumPy’s type system to add support for custom arrays (see dtypes).\n",
    "* 기본적으로는 numpy.ndarray라는 얘기이고( &#x2234;  ndarray를 추출할 수 있다), 이를 확장하여 기능을 추가 했다는 의미이며\n",
    "* 따라서 numpy연산을 수행할 수 있다."
   ]
  },
  {
   "cell_type": "code",
   "execution_count": 9,
   "metadata": {},
   "outputs": [
    {
     "name": "stdout",
     "output_type": "stream",
     "text": [
      "∴ I love no matter what\n"
     ]
    }
   ],
   "source": [
    "# print문에 Unicode 출력하기  \n",
    "# markdownd은 &#x2234;\n",
    "print(\"\\u2234 I love no matter what\")"
   ]
  },
  {
   "cell_type": "code",
   "execution_count": 10,
   "metadata": {},
   "outputs": [
    {
     "data": {
      "text/plain": [
       "array([Timestamp('2000-01-01 00:00:00+0100', tz='CET'),\n",
       "       Timestamp('2000-01-02 00:00:00+0100', tz='CET')], dtype=object)"
      ]
     },
     "execution_count": 10,
     "metadata": {},
     "output_type": "execute_result"
    }
   ],
   "source": [
    "ser = pd.Series(pd.date_range(\"2000\", periods=2, tz=\"CET\"))\n",
    "ser.to_numpy(dtype=object)\n",
    "# namedTuple을 요소로 갖는 array로 변환된다."
   ]
  },
  {
   "cell_type": "code",
   "execution_count": 11,
   "metadata": {},
   "outputs": [
    {
     "data": {
      "text/plain": [
       "array(['1999-12-31T23:00:00.000000000', '2000-01-01T23:00:00.000000000'],\n",
       "      dtype='datetime64[ns]')"
      ]
     },
     "execution_count": 11,
     "metadata": {},
     "output_type": "execute_result"
    }
   ],
   "source": [
    "ser.to_numpy(dtype=\"datetime64[ns]\")\n",
    "# dtype='datetime64[ns]'는 UTC기준 시간으로 변화하며 ns(nano second)로 표시해 준다\n",
    "# '1999-12-31T23:00:00.000000000' UCT기준 현재 시간이고\n",
    "# Timestamp('2000-01-01 00:00:00+0100', tz='CET'는 CET 기준 현재 시간은 2000-01-01이며 이는 UTC보다 1시간 빠르단 얘기"
   ]
  }
 ],
 "metadata": {
  "kernelspec": {
   "display_name": "Python 3",
   "language": "python",
   "name": "python3"
  },
  "language_info": {
   "codemirror_mode": {
    "name": "ipython",
    "version": 3
   },
   "file_extension": ".py",
   "mimetype": "text/x-python",
   "name": "python",
   "nbconvert_exporter": "python",
   "pygments_lexer": "ipython3",
   "version": "3.10.6"
  },
  "orig_nbformat": 4
 },
 "nbformat": 4,
 "nbformat_minor": 2
}
