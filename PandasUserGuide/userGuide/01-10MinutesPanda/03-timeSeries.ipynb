{
 "cells": [
  {
   "cell_type": "code",
   "execution_count": 1,
   "metadata": {},
   "outputs": [],
   "source": [
    "# TimeSeries\n",
    "import numpy as np\n",
    "import pandas as pd\n",
    "import datetime"
   ]
  },
  {
   "cell_type": "code",
   "execution_count": 2,
   "metadata": {},
   "outputs": [
    {
     "data": {
      "text/plain": [
       "2023-01-01 00:00:00     3\n",
       "2023-01-01 00:03:00    12\n",
       "2023-01-01 00:06:00    21\n",
       "Freq: 3T, dtype: int64"
      ]
     },
     "execution_count": 2,
     "metadata": {},
     "output_type": "execute_result"
    }
   ],
   "source": [
    "rng = pd.date_range('1/1/2023', periods = 9, freq = 'T')\n",
    "ts = pd.Series(range(9), index = rng)\n",
    "# print(type(rng))\n",
    "# list(rng).\n",
    "ts. resample('3T').sum()"
   ]
  },
  {
   "cell_type": "code",
   "execution_count": 3,
   "metadata": {},
   "outputs": [
    {
     "data": {
      "text/plain": [
       "2023-01-01 00:00:00+00:00    0\n",
       "2023-01-01 00:01:00+00:00    1\n",
       "2023-01-01 00:02:00+00:00    2\n",
       "2023-01-01 00:03:00+00:00    3\n",
       "2023-01-01 00:04:00+00:00    4\n",
       "2023-01-01 00:05:00+00:00    5\n",
       "2023-01-01 00:06:00+00:00    6\n",
       "2023-01-01 00:07:00+00:00    7\n",
       "2023-01-01 00:08:00+00:00    8\n",
       "Freq: T, dtype: int64"
      ]
     },
     "execution_count": 3,
     "metadata": {},
     "output_type": "execute_result"
    }
   ],
   "source": [
    "ts_utc = ts.tz_localize('UTC')\n",
    "ts_utc"
   ]
  },
  {
   "cell_type": "code",
   "execution_count": 4,
   "metadata": {},
   "outputs": [
    {
     "data": {
      "text/plain": [
       "2023-01-01 00:00:00+09:00    0.582094\n",
       "2023-02-01 00:00:00+09:00    1.377676\n",
       "2023-03-01 00:00:00+09:00   -0.038620\n",
       "2023-04-01 00:00:00+09:00   -0.517073\n",
       "2023-05-01 00:00:00+09:00    0.112442\n",
       "Freq: MS, dtype: float64"
      ]
     },
     "execution_count": 4,
     "metadata": {},
     "output_type": "execute_result"
    }
   ],
   "source": [
    "rng = pd.date_range('01/01/2023', periods=5, freq='MS', tz='Asia/Seoul')\n",
    "#  a list of frequency aliases.<https://pandas.pydata.org/docs/user_guide/timeseries.html#timeseries-offset-aliases>\n",
    "ts = pd.Series(np.random.randn(len(rng)), index = rng)\n",
    "ts"
   ]
  },
  {
   "cell_type": "code",
   "execution_count": 5,
   "metadata": {},
   "outputs": [
    {
     "data": {
      "text/plain": [
       "2023-01-01 09:00    0.633716\n",
       "2023-04-01 09:00    0.765615\n",
       "2023-07-01 09:00   -0.820977\n",
       "2023-10-01 09:00    0.833337\n",
       "Freq: H, dtype: float64"
      ]
     },
     "execution_count": 5,
     "metadata": {},
     "output_type": "execute_result"
    }
   ],
   "source": [
    "# Period Range\n",
    "prng = pd.period_range('2023Q1', '2023Q4', freq='Q-DEC')\n",
    "# list(prng)\n",
    "ts = pd.Series(np.random.randn(len(prng)), prng)\n",
    "ts.index = (prng.asfreq('M', 's')).asfreq('H', 's') + 9\n",
    "ts"
   ]
  }
 ],
 "metadata": {
  "kernelspec": {
   "display_name": "Python 3",
   "language": "python",
   "name": "python3"
  },
  "language_info": {
   "codemirror_mode": {
    "name": "ipython",
    "version": 3
   },
   "file_extension": ".py",
   "mimetype": "text/x-python",
   "name": "python",
   "nbconvert_exporter": "python",
   "pygments_lexer": "ipython3",
   "version": "3.10.6"
  },
  "orig_nbformat": 4
 },
 "nbformat": 4,
 "nbformat_minor": 2
}
