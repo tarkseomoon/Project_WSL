{
 "cells": [
  {
   "cell_type": "code",
   "execution_count": 76,
   "metadata": {},
   "outputs": [],
   "source": [
    "import numpy as np\n",
    "import pandas as pd"
   ]
  },
  {
   "cell_type": "code",
   "execution_count": 77,
   "metadata": {},
   "outputs": [],
   "source": [
    "a1 = ['송중기', 92, 99, 69, 75]\n",
    "a2 = ['김나현', 88, 91, 87, 83]\n",
    "a3 = ['권보아', 72, 86, 71, 84]\n",
    "a4 = ['박효신', 81, 78, 77, 91]\n",
    "a5 = ['김범수', 88, 80, 94, 91]\n",
    "a6 = [\"noon\", \"mom\", \"dad\", \"level\", \"river\"]\n",
    "a7 = [\"서울\", \"서울\", \"대구\", \"부산\", \"부산\"]\n",
    "a8 = [\"대구\", \"서울\", \"부산\", \"서울\", \"부산\"]\n",
    "col1 = [\"이름\", \"국어\", \"영어\", \"수학\", \"과학\"]\n",
    "col2 = [\"서울\", \"대구\", \"부산\"]\n",
    "\n",
    "df1 = pd.DataFrame([a1, a2, a3, a4, a5], columns=col1)\n",
    "df2 = df1.copy()\n",
    "df3 = df1.copy()\n",
    "df3[\"과학\"] = df3[\"과학\"].astype(str)\n",
    "df4 = pd.DataFrame(df1[\"이름\"])\n",
    "df4[\"단어\"] = a6\n",
    "df5 = pd.DataFrame([[1,5,10], [5,1,5], [10,5,1]], index=col2, columns=col2)*1000\n",
    "df6 = pd.DataFrame([a7,a8], index=[\"보내는곳\", \"받는곳\"]).T\n",
    "df6 = pd.concat([df1[\"이름\"], df6], axis=1)"
   ]
  },
  {
   "cell_type": "code",
   "execution_count": 78,
   "metadata": {},
   "outputs": [
    {
     "data": {
      "text/plain": [
       "0    75\n",
       "1    83\n",
       "2    84\n",
       "3    91\n",
       "4    91\n",
       "Name: 과학, dtype: int64"
      ]
     },
     "execution_count": 78,
     "metadata": {},
     "output_type": "execute_result"
    }
   ],
   "source": [
    "df3['과학'].astype(int)\n",
    "# 현변환 함수.astype()"
   ]
  },
  {
   "cell_type": "code",
   "execution_count": 79,
   "metadata": {},
   "outputs": [
    {
     "data": {
      "text/plain": [
       "col1    int64\n",
       "col2    int64\n",
       "dtype: object"
      ]
     },
     "execution_count": 79,
     "metadata": {},
     "output_type": "execute_result"
    }
   ],
   "source": [
    "d = {'col1': [1, 2], 'col2': [3, 4]}\n",
    "df = pd.DataFrame(data=d)\n",
    "df.dtypes"
   ]
  },
  {
   "cell_type": "code",
   "execution_count": 80,
   "metadata": {},
   "outputs": [
    {
     "data": {
      "text/plain": [
       "col1    int32\n",
       "col2    int32\n",
       "dtype: object"
      ]
     },
     "execution_count": 80,
     "metadata": {},
     "output_type": "execute_result"
    }
   ],
   "source": [
    "df.astype('int32').dtypes"
   ]
  },
  {
   "cell_type": "code",
   "execution_count": 81,
   "metadata": {},
   "outputs": [
    {
     "data": {
      "text/plain": [
       "col1    int32\n",
       "col2    int64\n",
       "dtype: object"
      ]
     },
     "execution_count": 81,
     "metadata": {},
     "output_type": "execute_result"
    }
   ],
   "source": [
    "df.astype({'col1': 'int32', 'col2':'int64'}).dtypes"
   ]
  },
  {
   "cell_type": "code",
   "execution_count": 82,
   "metadata": {},
   "outputs": [
    {
     "data": {
      "text/plain": [
       "col1    Int8\n",
       "col2    Int8\n",
       "dtype: object"
      ]
     },
     "execution_count": 82,
     "metadata": {},
     "output_type": "execute_result"
    }
   ],
   "source": [
    "df.astype(dtype='Int8').dtypes"
   ]
  },
  {
   "cell_type": "code",
   "execution_count": 83,
   "metadata": {},
   "outputs": [
    {
     "data": {
      "text/html": [
       "<div>\n",
       "<style scoped>\n",
       "    .dataframe tbody tr th:only-of-type {\n",
       "        vertical-align: middle;\n",
       "    }\n",
       "\n",
       "    .dataframe tbody tr th {\n",
       "        vertical-align: top;\n",
       "    }\n",
       "\n",
       "    .dataframe thead th {\n",
       "        text-align: right;\n",
       "    }\n",
       "</style>\n",
       "<table border=\"1\" class=\"dataframe\">\n",
       "  <thead>\n",
       "    <tr style=\"text-align: right;\">\n",
       "      <th></th>\n",
       "      <th>col1</th>\n",
       "      <th>col2</th>\n",
       "    </tr>\n",
       "  </thead>\n",
       "  <tbody>\n",
       "    <tr>\n",
       "      <th>0</th>\n",
       "      <td>1</td>\n",
       "      <td>3</td>\n",
       "    </tr>\n",
       "    <tr>\n",
       "      <th>1</th>\n",
       "      <td>2</td>\n",
       "      <td>4</td>\n",
       "    </tr>\n",
       "  </tbody>\n",
       "</table>\n",
       "</div>"
      ],
      "text/plain": [
       "   col1  col2\n",
       "0     1     3\n",
       "1     2     4"
      ]
     },
     "execution_count": 83,
     "metadata": {},
     "output_type": "execute_result"
    }
   ],
   "source": [
    "df.astype('category').dtypes\n",
    "df"
   ]
  },
  {
   "cell_type": "code",
   "execution_count": 84,
   "metadata": {},
   "outputs": [
    {
     "data": {
      "text/plain": [
       "0    1\n",
       "1    2\n",
       "dtype: Int32"
      ]
     },
     "execution_count": 84,
     "metadata": {},
     "output_type": "execute_result"
    }
   ],
   "source": [
    "ser = pd.Series([1, 2], dtype='Int32')\n",
    "ser"
   ]
  },
  {
   "cell_type": "code",
   "execution_count": 85,
   "metadata": {},
   "outputs": [
    {
     "data": {
      "text/plain": [
       "0    1\n",
       "1    2\n",
       "dtype: Int64"
      ]
     },
     "execution_count": 85,
     "metadata": {},
     "output_type": "execute_result"
    }
   ],
   "source": [
    "ser.astype('Int64')"
   ]
  },
  {
   "cell_type": "code",
   "execution_count": 86,
   "metadata": {},
   "outputs": [
    {
     "data": {
      "text/plain": [
       "0    1\n",
       "1    2\n",
       "dtype: Int32"
      ]
     },
     "execution_count": 86,
     "metadata": {},
     "output_type": "execute_result"
    }
   ],
   "source": [
    "ser.astype(\"category\")\n",
    "ser"
   ]
  },
  {
   "cell_type": "code",
   "execution_count": 87,
   "metadata": {},
   "outputs": [
    {
     "data": {
      "text/plain": [
       "0    1\n",
       "1    2\n",
       "dtype: Int32"
      ]
     },
     "execution_count": 87,
     "metadata": {},
     "output_type": "execute_result"
    }
   ],
   "source": [
    "from pandas.api.types import CategoricalDtype\n",
    "cat_type = CategoricalDtype(\n",
    "    categories=[2, 1], ordered=True\n",
    ")\n",
    "\n",
    "ser.astype(cat_type).sort_values()\n",
    "ser"
   ]
  },
  {
   "cell_type": "code",
   "execution_count": 88,
   "metadata": {},
   "outputs": [
    {
     "data": {
      "text/plain": [
       "0   2020-01-01 00:00:00+01:00\n",
       "1   2020-01-02 00:00:00+01:00\n",
       "2   2020-01-03 00:00:00+01:00\n",
       "dtype: datetime64[ns, CET]"
      ]
     },
     "execution_count": 88,
     "metadata": {},
     "output_type": "execute_result"
    }
   ],
   "source": [
    "ser_date = pd.Series(pd.date_range('20200101', periods=3, tz='CET'))\n",
    "ser_date"
   ]
  },
  {
   "cell_type": "code",
   "execution_count": 89,
   "metadata": {},
   "outputs": [
    {
     "data": {
      "text/plain": [
       "Timestamp('2023-07-21 06:50:36.904060+0000', tz='UTC')"
      ]
     },
     "execution_count": 89,
     "metadata": {},
     "output_type": "execute_result"
    }
   ],
   "source": [
    "# 현지 시각을 알고 싶다면 tz설정\n",
    "now = pd.Timestamp.now(tz='UTC')\n",
    "now"
   ]
  },
  {
   "cell_type": "code",
   "execution_count": 90,
   "metadata": {},
   "outputs": [
    {
     "data": {
      "text/plain": [
       "0    4\n",
       "1    3\n",
       "2    3\n",
       "3    5\n",
       "4    5\n",
       "Name: 단어, dtype: int64"
      ]
     },
     "execution_count": 90,
     "metadata": {},
     "output_type": "execute_result"
    }
   ],
   "source": [
    "# apply(): Apply a function along an axis of the DataFrame.   🔰🌸💥   \n",
    "\n",
    "df4['단어'].apply(func=len)\n",
    "# elementwise\n",
    "# return -> Series"
   ]
  },
  {
   "cell_type": "code",
   "execution_count": 91,
   "metadata": {},
   "outputs": [
    {
     "data": {
      "text/html": [
       "<div>\n",
       "<style scoped>\n",
       "    .dataframe tbody tr th:only-of-type {\n",
       "        vertical-align: middle;\n",
       "    }\n",
       "\n",
       "    .dataframe tbody tr th {\n",
       "        vertical-align: top;\n",
       "    }\n",
       "\n",
       "    .dataframe thead th {\n",
       "        text-align: right;\n",
       "    }\n",
       "</style>\n",
       "<table border=\"1\" class=\"dataframe\">\n",
       "  <thead>\n",
       "    <tr style=\"text-align: right;\">\n",
       "      <th></th>\n",
       "      <th>국어</th>\n",
       "      <th>영어</th>\n",
       "      <th>수학</th>\n",
       "      <th>과학</th>\n",
       "      <th>평균</th>\n",
       "    </tr>\n",
       "    <tr>\n",
       "      <th>이름</th>\n",
       "      <th></th>\n",
       "      <th></th>\n",
       "      <th></th>\n",
       "      <th></th>\n",
       "      <th></th>\n",
       "    </tr>\n",
       "  </thead>\n",
       "  <tbody>\n",
       "    <tr>\n",
       "      <th>송중기</th>\n",
       "      <td>92</td>\n",
       "      <td>99</td>\n",
       "      <td>69</td>\n",
       "      <td>75</td>\n",
       "      <td>83.75</td>\n",
       "    </tr>\n",
       "    <tr>\n",
       "      <th>김나현</th>\n",
       "      <td>88</td>\n",
       "      <td>91</td>\n",
       "      <td>87</td>\n",
       "      <td>83</td>\n",
       "      <td>87.25</td>\n",
       "    </tr>\n",
       "    <tr>\n",
       "      <th>권보아</th>\n",
       "      <td>72</td>\n",
       "      <td>86</td>\n",
       "      <td>71</td>\n",
       "      <td>84</td>\n",
       "      <td>78.25</td>\n",
       "    </tr>\n",
       "    <tr>\n",
       "      <th>박효신</th>\n",
       "      <td>81</td>\n",
       "      <td>78</td>\n",
       "      <td>77</td>\n",
       "      <td>91</td>\n",
       "      <td>81.75</td>\n",
       "    </tr>\n",
       "    <tr>\n",
       "      <th>김범수</th>\n",
       "      <td>88</td>\n",
       "      <td>80</td>\n",
       "      <td>94</td>\n",
       "      <td>91</td>\n",
       "      <td>88.25</td>\n",
       "    </tr>\n",
       "  </tbody>\n",
       "</table>\n",
       "</div>"
      ],
      "text/plain": [
       "     국어  영어  수학  과학     평균\n",
       "이름                        \n",
       "송중기  92  99  69  75  83.75\n",
       "김나현  88  91  87  83  87.25\n",
       "권보아  72  86  71  84  78.25\n",
       "박효신  81  78  77  91  81.75\n",
       "김범수  88  80  94  91  88.25"
      ]
     },
     "execution_count": 91,
     "metadata": {},
     "output_type": "execute_result"
    }
   ],
   "source": [
    "# df2 반석차표 만들기\n",
    "\n",
    "df2 = df2.set_index('이름')\n",
    "ser1 = pd.Series(df2.apply('mean', axis=1), name='평균')   # 🔰\n",
    "df2 = pd.concat([df2, ser1], axis=1)\n",
    "df2"
   ]
  },
  {
   "cell_type": "code",
   "execution_count": 92,
   "metadata": {},
   "outputs": [
    {
     "data": {
      "text/html": [
       "<div>\n",
       "<style scoped>\n",
       "    .dataframe tbody tr th:only-of-type {\n",
       "        vertical-align: middle;\n",
       "    }\n",
       "\n",
       "    .dataframe tbody tr th {\n",
       "        vertical-align: top;\n",
       "    }\n",
       "\n",
       "    .dataframe thead th {\n",
       "        text-align: right;\n",
       "    }\n",
       "</style>\n",
       "<table border=\"1\" class=\"dataframe\">\n",
       "  <thead>\n",
       "    <tr style=\"text-align: right;\">\n",
       "      <th></th>\n",
       "      <th>국어</th>\n",
       "      <th>영어</th>\n",
       "      <th>수학</th>\n",
       "      <th>과학</th>\n",
       "      <th>평균</th>\n",
       "      <th>평점</th>\n",
       "      <th>석차</th>\n",
       "    </tr>\n",
       "    <tr>\n",
       "      <th>이름</th>\n",
       "      <th></th>\n",
       "      <th></th>\n",
       "      <th></th>\n",
       "      <th></th>\n",
       "      <th></th>\n",
       "      <th></th>\n",
       "      <th></th>\n",
       "    </tr>\n",
       "  </thead>\n",
       "  <tbody>\n",
       "    <tr>\n",
       "      <th>송중기</th>\n",
       "      <td>92</td>\n",
       "      <td>99</td>\n",
       "      <td>69</td>\n",
       "      <td>75</td>\n",
       "      <td>83.75</td>\n",
       "      <td>B</td>\n",
       "      <td>3.0</td>\n",
       "    </tr>\n",
       "    <tr>\n",
       "      <th>김나현</th>\n",
       "      <td>88</td>\n",
       "      <td>91</td>\n",
       "      <td>87</td>\n",
       "      <td>83</td>\n",
       "      <td>87.25</td>\n",
       "      <td>B</td>\n",
       "      <td>2.0</td>\n",
       "    </tr>\n",
       "    <tr>\n",
       "      <th>권보아</th>\n",
       "      <td>72</td>\n",
       "      <td>86</td>\n",
       "      <td>71</td>\n",
       "      <td>84</td>\n",
       "      <td>78.25</td>\n",
       "      <td>C</td>\n",
       "      <td>5.0</td>\n",
       "    </tr>\n",
       "    <tr>\n",
       "      <th>박효신</th>\n",
       "      <td>81</td>\n",
       "      <td>78</td>\n",
       "      <td>77</td>\n",
       "      <td>91</td>\n",
       "      <td>81.75</td>\n",
       "      <td>B</td>\n",
       "      <td>4.0</td>\n",
       "    </tr>\n",
       "    <tr>\n",
       "      <th>김범수</th>\n",
       "      <td>88</td>\n",
       "      <td>80</td>\n",
       "      <td>94</td>\n",
       "      <td>91</td>\n",
       "      <td>88.25</td>\n",
       "      <td>B</td>\n",
       "      <td>1.0</td>\n",
       "    </tr>\n",
       "  </tbody>\n",
       "</table>\n",
       "</div>"
      ],
      "text/plain": [
       "     국어  영어  수학  과학     평균 평점   석차\n",
       "이름                                \n",
       "송중기  92  99  69  75  83.75  B  3.0\n",
       "김나현  88  91  87  83  87.25  B  2.0\n",
       "권보아  72  86  71  84  78.25  C  5.0\n",
       "박효신  81  78  77  91  81.75  B  4.0\n",
       "김범수  88  80  94  91  88.25  B  1.0"
      ]
     },
     "execution_count": 92,
     "metadata": {},
     "output_type": "execute_result"
    }
   ],
   "source": [
    "df2['평점'] = df2.apply(lambda x: 'A' if x.평균 > 90 else 'B'\\\n",
    "                       if x.평균 > 80 else 'C', axis=1)\n",
    "ttl = len(df2['국어'])\n",
    "df2['석차'] = df2.평균.rank(ascending=False)\n",
    "df2"
   ]
  },
  {
   "cell_type": "code",
   "execution_count": 93,
   "metadata": {},
   "outputs": [
    {
     "data": {
      "text/html": [
       "<div>\n",
       "<style scoped>\n",
       "    .dataframe tbody tr th:only-of-type {\n",
       "        vertical-align: middle;\n",
       "    }\n",
       "\n",
       "    .dataframe tbody tr th {\n",
       "        vertical-align: top;\n",
       "    }\n",
       "\n",
       "    .dataframe thead th {\n",
       "        text-align: right;\n",
       "    }\n",
       "</style>\n",
       "<table border=\"1\" class=\"dataframe\">\n",
       "  <thead>\n",
       "    <tr style=\"text-align: right;\">\n",
       "      <th></th>\n",
       "      <th>국어</th>\n",
       "      <th>영어</th>\n",
       "      <th>수학</th>\n",
       "      <th>과학</th>\n",
       "      <th>평균</th>\n",
       "      <th>평점</th>\n",
       "      <th>반석차</th>\n",
       "    </tr>\n",
       "    <tr>\n",
       "      <th>이름</th>\n",
       "      <th></th>\n",
       "      <th></th>\n",
       "      <th></th>\n",
       "      <th></th>\n",
       "      <th></th>\n",
       "      <th></th>\n",
       "      <th></th>\n",
       "    </tr>\n",
       "  </thead>\n",
       "  <tbody>\n",
       "    <tr>\n",
       "      <th>송중기</th>\n",
       "      <td>92</td>\n",
       "      <td>99</td>\n",
       "      <td>69</td>\n",
       "      <td>75</td>\n",
       "      <td>83.75</td>\n",
       "      <td>B</td>\n",
       "      <td>3/5</td>\n",
       "    </tr>\n",
       "    <tr>\n",
       "      <th>김나현</th>\n",
       "      <td>88</td>\n",
       "      <td>91</td>\n",
       "      <td>87</td>\n",
       "      <td>83</td>\n",
       "      <td>87.25</td>\n",
       "      <td>B</td>\n",
       "      <td>2/5</td>\n",
       "    </tr>\n",
       "    <tr>\n",
       "      <th>권보아</th>\n",
       "      <td>72</td>\n",
       "      <td>86</td>\n",
       "      <td>71</td>\n",
       "      <td>84</td>\n",
       "      <td>78.25</td>\n",
       "      <td>C</td>\n",
       "      <td>5/5</td>\n",
       "    </tr>\n",
       "    <tr>\n",
       "      <th>박효신</th>\n",
       "      <td>81</td>\n",
       "      <td>78</td>\n",
       "      <td>77</td>\n",
       "      <td>91</td>\n",
       "      <td>81.75</td>\n",
       "      <td>B</td>\n",
       "      <td>4/5</td>\n",
       "    </tr>\n",
       "    <tr>\n",
       "      <th>김범수</th>\n",
       "      <td>88</td>\n",
       "      <td>80</td>\n",
       "      <td>94</td>\n",
       "      <td>91</td>\n",
       "      <td>88.25</td>\n",
       "      <td>B</td>\n",
       "      <td>1/5</td>\n",
       "    </tr>\n",
       "  </tbody>\n",
       "</table>\n",
       "</div>"
      ],
      "text/plain": [
       "     국어  영어  수학  과학     평균 평점  반석차\n",
       "이름                                \n",
       "송중기  92  99  69  75  83.75  B  3/5\n",
       "김나현  88  91  87  83  87.25  B  2/5\n",
       "권보아  72  86  71  84  78.25  C  5/5\n",
       "박효신  81  78  77  91  81.75  B  4/5\n",
       "김범수  88  80  94  91  88.25  B  1/5"
      ]
     },
     "execution_count": 93,
     "metadata": {},
     "output_type": "execute_result"
    }
   ],
   "source": [
    "# df2['반석차'] = df2.apply(lambda x: f\"{int(x.loc['석차'])}/{ttl}\", axis=1)\n",
    "df2['반석차'] = df2.apply(lambda x: f\"{int(x['석차'])}/{ttl}\", axis=1)\n",
    "\n",
    "list_remaining = list(df2.columns)\n",
    "list_remaining.pop(-2)\n",
    "df2 = df2[list_remaining]\n",
    "df2\n",
    "# print(type(df2.columns)) -> <class 'pandas.core.indexes.base.Index'> list로 변환이 필요   🔰\n",
    "# DataFrame.drop()을 쓰면 그 column을 참조한 다른 column에 영향을 준다."
   ]
  },
  {
   "cell_type": "code",
   "execution_count": 100,
   "metadata": {},
   "outputs": [
    {
     "data": {
      "text/html": [
       "<div>\n",
       "<style scoped>\n",
       "    .dataframe tbody tr th:only-of-type {\n",
       "        vertical-align: middle;\n",
       "    }\n",
       "\n",
       "    .dataframe tbody tr th {\n",
       "        vertical-align: top;\n",
       "    }\n",
       "\n",
       "    .dataframe thead th {\n",
       "        text-align: right;\n",
       "    }\n",
       "</style>\n",
       "<table border=\"1\" class=\"dataframe\">\n",
       "  <thead>\n",
       "    <tr style=\"text-align: right;\">\n",
       "      <th></th>\n",
       "      <th></th>\n",
       "      <th>국어</th>\n",
       "      <th>영어</th>\n",
       "      <th>수학</th>\n",
       "      <th>과학</th>\n",
       "      <th>평균</th>\n",
       "      <th>평점</th>\n",
       "      <th>반석차</th>\n",
       "    </tr>\n",
       "  </thead>\n",
       "  <tbody>\n",
       "    <tr>\n",
       "      <th rowspan=\"5\" valign=\"top\">개인별 성적</th>\n",
       "      <th>송중기</th>\n",
       "      <td>92.0</td>\n",
       "      <td>99.0</td>\n",
       "      <td>69.0</td>\n",
       "      <td>75.0</td>\n",
       "      <td>83.75</td>\n",
       "      <td>B</td>\n",
       "      <td>3/5</td>\n",
       "    </tr>\n",
       "    <tr>\n",
       "      <th>김나현</th>\n",
       "      <td>88.0</td>\n",
       "      <td>91.0</td>\n",
       "      <td>87.0</td>\n",
       "      <td>83.0</td>\n",
       "      <td>87.25</td>\n",
       "      <td>B</td>\n",
       "      <td>2/5</td>\n",
       "    </tr>\n",
       "    <tr>\n",
       "      <th>권보아</th>\n",
       "      <td>72.0</td>\n",
       "      <td>86.0</td>\n",
       "      <td>71.0</td>\n",
       "      <td>84.0</td>\n",
       "      <td>78.25</td>\n",
       "      <td>C</td>\n",
       "      <td>5/5</td>\n",
       "    </tr>\n",
       "    <tr>\n",
       "      <th>박효신</th>\n",
       "      <td>81.0</td>\n",
       "      <td>78.0</td>\n",
       "      <td>77.0</td>\n",
       "      <td>91.0</td>\n",
       "      <td>81.75</td>\n",
       "      <td>B</td>\n",
       "      <td>4/5</td>\n",
       "    </tr>\n",
       "    <tr>\n",
       "      <th>김범수</th>\n",
       "      <td>88.0</td>\n",
       "      <td>80.0</td>\n",
       "      <td>94.0</td>\n",
       "      <td>91.0</td>\n",
       "      <td>88.25</td>\n",
       "      <td>B</td>\n",
       "      <td>1/5</td>\n",
       "    </tr>\n",
       "    <tr>\n",
       "      <th>과목별 평균</th>\n",
       "      <th></th>\n",
       "      <td>84.2</td>\n",
       "      <td>86.8</td>\n",
       "      <td>79.6</td>\n",
       "      <td>84.8</td>\n",
       "      <td>83.85</td>\n",
       "      <td></td>\n",
       "      <td></td>\n",
       "    </tr>\n",
       "  </tbody>\n",
       "</table>\n",
       "</div>"
      ],
      "text/plain": [
       "              국어    영어    수학    과학     평균 평점  반석차\n",
       "개인별 성적 송중기  92.0  99.0  69.0  75.0  83.75  B  3/5\n",
       "       김나현  88.0  91.0  87.0  83.0  87.25  B  2/5\n",
       "       권보아  72.0  86.0  71.0  84.0  78.25  C  5/5\n",
       "       박효신  81.0  78.0  77.0  91.0  81.75  B  4/5\n",
       "       김범수  88.0  80.0  94.0  91.0  88.25  B  1/5\n",
       "과목별 평균      84.2  86.8  79.6  84.8  83.85        "
      ]
     },
     "execution_count": 100,
     "metadata": {},
     "output_type": "execute_result"
    }
   ],
   "source": [
    "ser2 = df2[['국어', '영어', '수학', '과학', '평균']].apply(lambda x : sum(x) / len(x), axis = 0)\n",
    "ser = pd.DataFrame(ser2)\n",
    "idx = pd.MultiIndex.from_tuples([('개인별 성적', '송중기'),\n",
    "            ('개인별 성적', '김나현'),\n",
    "            ('개인별 성적', '권보아'),\n",
    "            ('개인별 성적', '박효신'),\n",
    "            ('개인별 성적', '김범수'),\n",
    "            ('과목별 평균',     '')],\n",
    "           )\n",
    "df22 = pd.concat([df2, ser.T], keys = ['개인별 성적', '과목별 평균'])\n",
    "df22.index = idx\n",
    "df22.fillna('')"
   ]
  },
  {
   "cell_type": "code",
   "execution_count": null,
   "metadata": {},
   "outputs": [],
   "source": [
    "df5"
   ]
  },
  {
   "cell_type": "code",
   "execution_count": null,
   "metadata": {},
   "outputs": [],
   "source": [
    "df6"
   ]
  },
  {
   "cell_type": "code",
   "execution_count": null,
   "metadata": {},
   "outputs": [],
   "source": [
    "# df6['운임'] = df6.apply(lambda x : df5.loc[x.보내는곳, x.받는곳], axis=1)\n",
    "df6['운임'] = df6.apply(lambda x : df5.loc[x['보내는곳'], x['받는곳']], axis=1)\n",
    "df6"
   ]
  }
 ],
 "metadata": {
  "kernelspec": {
   "display_name": "Python 3",
   "language": "python",
   "name": "python3"
  },
  "language_info": {
   "codemirror_mode": {
    "name": "ipython",
    "version": 3
   },
   "file_extension": ".py",
   "mimetype": "text/x-python",
   "name": "python",
   "nbconvert_exporter": "python",
   "pygments_lexer": "ipython3",
   "version": "3.10.6"
  },
  "orig_nbformat": 4
 },
 "nbformat": 4,
 "nbformat_minor": 2
}
