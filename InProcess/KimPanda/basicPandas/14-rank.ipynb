{
 "cells": [
  {
   "cell_type": "code",
   "execution_count": 114,
   "metadata": {},
   "outputs": [],
   "source": [
    "import numpy as np\n",
    "import pandas as pd"
   ]
  },
  {
   "cell_type": "code",
   "execution_count": 115,
   "metadata": {},
   "outputs": [],
   "source": [
    "a1 = ['송중기', 1, 92, 82, 17]\n",
    "a2 = ['권보아', 1, 89, 97, 17]\n",
    "a3 = ['김나형', 1, 71, 91, 18]\n",
    "a4 = ['박효신', 1, 90, 78, 18]\n",
    "a5 = ['김선미', 1, 83, 78, 19]\n",
    "a6 = ['강민경', 1, 81, 91, 19]\n",
    "col = ['이름', '반', '영어', '국어', '나이']\n",
    "\n",
    "df1 = pd.DataFrame([a1, a2, a3, a4, a5, a6], columns=col)\n",
    "df2 = df1.copy()\n",
    "df3 = df1.copy()\n",
    "df4 = df1.copy()"
   ]
  },
  {
   "cell_type": "code",
   "execution_count": 116,
   "metadata": {},
   "outputs": [
    {
     "data": {
      "text/html": [
       "<div>\n",
       "<style scoped>\n",
       "    .dataframe tbody tr th:only-of-type {\n",
       "        vertical-align: middle;\n",
       "    }\n",
       "\n",
       "    .dataframe tbody tr th {\n",
       "        vertical-align: top;\n",
       "    }\n",
       "\n",
       "    .dataframe thead th {\n",
       "        text-align: right;\n",
       "    }\n",
       "</style>\n",
       "<table border=\"1\" class=\"dataframe\">\n",
       "  <thead>\n",
       "    <tr style=\"text-align: right;\">\n",
       "      <th></th>\n",
       "      <th>이름</th>\n",
       "      <th>반</th>\n",
       "      <th>영어</th>\n",
       "      <th>국어</th>\n",
       "      <th>나이</th>\n",
       "    </tr>\n",
       "  </thead>\n",
       "  <tbody>\n",
       "    <tr>\n",
       "      <th>0</th>\n",
       "      <td>송중기</td>\n",
       "      <td>1</td>\n",
       "      <td>92</td>\n",
       "      <td>82</td>\n",
       "      <td>17</td>\n",
       "    </tr>\n",
       "    <tr>\n",
       "      <th>1</th>\n",
       "      <td>권보아</td>\n",
       "      <td>1</td>\n",
       "      <td>89</td>\n",
       "      <td>97</td>\n",
       "      <td>17</td>\n",
       "    </tr>\n",
       "    <tr>\n",
       "      <th>2</th>\n",
       "      <td>김나형</td>\n",
       "      <td>1</td>\n",
       "      <td>71</td>\n",
       "      <td>91</td>\n",
       "      <td>18</td>\n",
       "    </tr>\n",
       "    <tr>\n",
       "      <th>3</th>\n",
       "      <td>박효신</td>\n",
       "      <td>1</td>\n",
       "      <td>90</td>\n",
       "      <td>78</td>\n",
       "      <td>18</td>\n",
       "    </tr>\n",
       "    <tr>\n",
       "      <th>4</th>\n",
       "      <td>김선미</td>\n",
       "      <td>1</td>\n",
       "      <td>83</td>\n",
       "      <td>78</td>\n",
       "      <td>19</td>\n",
       "    </tr>\n",
       "    <tr>\n",
       "      <th>5</th>\n",
       "      <td>강민경</td>\n",
       "      <td>1</td>\n",
       "      <td>81</td>\n",
       "      <td>91</td>\n",
       "      <td>19</td>\n",
       "    </tr>\n",
       "  </tbody>\n",
       "</table>\n",
       "</div>"
      ],
      "text/plain": [
       "    이름  반  영어  국어  나이\n",
       "0  송중기  1  92  82  17\n",
       "1  권보아  1  89  97  17\n",
       "2  김나형  1  71  91  18\n",
       "3  박효신  1  90  78  18\n",
       "4  김선미  1  83  78  19\n",
       "5  강민경  1  81  91  19"
      ]
     },
     "execution_count": 116,
     "metadata": {},
     "output_type": "execute_result"
    }
   ],
   "source": [
    "df1"
   ]
  },
  {
   "cell_type": "code",
   "execution_count": 117,
   "metadata": {},
   "outputs": [
    {
     "data": {
      "text/html": [
       "<div>\n",
       "<style scoped>\n",
       "    .dataframe tbody tr th:only-of-type {\n",
       "        vertical-align: middle;\n",
       "    }\n",
       "\n",
       "    .dataframe tbody tr th {\n",
       "        vertical-align: top;\n",
       "    }\n",
       "\n",
       "    .dataframe thead th {\n",
       "        text-align: right;\n",
       "    }\n",
       "</style>\n",
       "<table border=\"1\" class=\"dataframe\">\n",
       "  <thead>\n",
       "    <tr style=\"text-align: right;\">\n",
       "      <th></th>\n",
       "      <th></th>\n",
       "      <th>영어</th>\n",
       "      <th>국어</th>\n",
       "      <th>나이</th>\n",
       "    </tr>\n",
       "    <tr>\n",
       "      <th>반</th>\n",
       "      <th>이름</th>\n",
       "      <th></th>\n",
       "      <th></th>\n",
       "      <th></th>\n",
       "    </tr>\n",
       "  </thead>\n",
       "  <tbody>\n",
       "    <tr>\n",
       "      <th rowspan=\"6\" valign=\"top\">1</th>\n",
       "      <th>송중기</th>\n",
       "      <td>92</td>\n",
       "      <td>82</td>\n",
       "      <td>17</td>\n",
       "    </tr>\n",
       "    <tr>\n",
       "      <th>권보아</th>\n",
       "      <td>89</td>\n",
       "      <td>97</td>\n",
       "      <td>17</td>\n",
       "    </tr>\n",
       "    <tr>\n",
       "      <th>김나형</th>\n",
       "      <td>71</td>\n",
       "      <td>91</td>\n",
       "      <td>18</td>\n",
       "    </tr>\n",
       "    <tr>\n",
       "      <th>박효신</th>\n",
       "      <td>90</td>\n",
       "      <td>78</td>\n",
       "      <td>18</td>\n",
       "    </tr>\n",
       "    <tr>\n",
       "      <th>김선미</th>\n",
       "      <td>83</td>\n",
       "      <td>78</td>\n",
       "      <td>19</td>\n",
       "    </tr>\n",
       "    <tr>\n",
       "      <th>강민경</th>\n",
       "      <td>81</td>\n",
       "      <td>91</td>\n",
       "      <td>19</td>\n",
       "    </tr>\n",
       "  </tbody>\n",
       "</table>\n",
       "</div>"
      ],
      "text/plain": [
       "       영어  국어  나이\n",
       "반 이름             \n",
       "1 송중기  92  82  17\n",
       "  권보아  89  97  17\n",
       "  김나형  71  91  18\n",
       "  박효신  90  78  18\n",
       "  김선미  83  78  19\n",
       "  강민경  81  91  19"
      ]
     },
     "execution_count": 117,
     "metadata": {},
     "output_type": "execute_result"
    }
   ],
   "source": [
    "df1 = df1.set_index(['반','이름'])\n",
    "df1"
   ]
  },
  {
   "cell_type": "code",
   "execution_count": 118,
   "metadata": {},
   "outputs": [],
   "source": [
    "ser1 = pd.Series(df1[['국어','영어']].mean(axis=1), name='평균')\n",
    "df1 = pd.concat([df1, ser1], axis=1)"
   ]
  },
  {
   "cell_type": "code",
   "execution_count": 119,
   "metadata": {},
   "outputs": [
    {
     "data": {
      "text/html": [
       "<div>\n",
       "<style scoped>\n",
       "    .dataframe tbody tr th:only-of-type {\n",
       "        vertical-align: middle;\n",
       "    }\n",
       "\n",
       "    .dataframe tbody tr th {\n",
       "        vertical-align: top;\n",
       "    }\n",
       "\n",
       "    .dataframe thead th {\n",
       "        text-align: right;\n",
       "    }\n",
       "</style>\n",
       "<table border=\"1\" class=\"dataframe\">\n",
       "  <thead>\n",
       "    <tr style=\"text-align: right;\">\n",
       "      <th></th>\n",
       "      <th></th>\n",
       "      <th>영어</th>\n",
       "      <th>국어</th>\n",
       "      <th>나이</th>\n",
       "      <th>평균</th>\n",
       "    </tr>\n",
       "    <tr>\n",
       "      <th>반</th>\n",
       "      <th>이름</th>\n",
       "      <th></th>\n",
       "      <th></th>\n",
       "      <th></th>\n",
       "      <th></th>\n",
       "    </tr>\n",
       "  </thead>\n",
       "  <tbody>\n",
       "    <tr>\n",
       "      <th rowspan=\"6\" valign=\"top\">1</th>\n",
       "      <th>송중기</th>\n",
       "      <td>92</td>\n",
       "      <td>82</td>\n",
       "      <td>17</td>\n",
       "      <td>87.0</td>\n",
       "    </tr>\n",
       "    <tr>\n",
       "      <th>권보아</th>\n",
       "      <td>89</td>\n",
       "      <td>97</td>\n",
       "      <td>17</td>\n",
       "      <td>93.0</td>\n",
       "    </tr>\n",
       "    <tr>\n",
       "      <th>김나형</th>\n",
       "      <td>71</td>\n",
       "      <td>91</td>\n",
       "      <td>18</td>\n",
       "      <td>81.0</td>\n",
       "    </tr>\n",
       "    <tr>\n",
       "      <th>박효신</th>\n",
       "      <td>90</td>\n",
       "      <td>78</td>\n",
       "      <td>18</td>\n",
       "      <td>84.0</td>\n",
       "    </tr>\n",
       "    <tr>\n",
       "      <th>김선미</th>\n",
       "      <td>83</td>\n",
       "      <td>78</td>\n",
       "      <td>19</td>\n",
       "      <td>80.5</td>\n",
       "    </tr>\n",
       "    <tr>\n",
       "      <th>강민경</th>\n",
       "      <td>81</td>\n",
       "      <td>91</td>\n",
       "      <td>19</td>\n",
       "      <td>86.0</td>\n",
       "    </tr>\n",
       "  </tbody>\n",
       "</table>\n",
       "</div>"
      ],
      "text/plain": [
       "       영어  국어  나이    평균\n",
       "반 이름                   \n",
       "1 송중기  92  82  17  87.0\n",
       "  권보아  89  97  17  93.0\n",
       "  김나형  71  91  18  81.0\n",
       "  박효신  90  78  18  84.0\n",
       "  김선미  83  78  19  80.5\n",
       "  강민경  81  91  19  86.0"
      ]
     },
     "execution_count": 119,
     "metadata": {},
     "output_type": "execute_result"
    }
   ],
   "source": [
    "df1"
   ]
  },
  {
   "cell_type": "code",
   "execution_count": 120,
   "metadata": {},
   "outputs": [
    {
     "data": {
      "text/html": [
       "<div>\n",
       "<style scoped>\n",
       "    .dataframe tbody tr th:only-of-type {\n",
       "        vertical-align: middle;\n",
       "    }\n",
       "\n",
       "    .dataframe tbody tr th {\n",
       "        vertical-align: top;\n",
       "    }\n",
       "\n",
       "    .dataframe thead th {\n",
       "        text-align: right;\n",
       "    }\n",
       "</style>\n",
       "<table border=\"1\" class=\"dataframe\">\n",
       "  <thead>\n",
       "    <tr style=\"text-align: right;\">\n",
       "      <th></th>\n",
       "      <th></th>\n",
       "      <th>영어</th>\n",
       "      <th>국어</th>\n",
       "      <th>나이</th>\n",
       "      <th>평균</th>\n",
       "      <th>평점</th>\n",
       "    </tr>\n",
       "    <tr>\n",
       "      <th>반</th>\n",
       "      <th>이름</th>\n",
       "      <th></th>\n",
       "      <th></th>\n",
       "      <th></th>\n",
       "      <th></th>\n",
       "      <th></th>\n",
       "    </tr>\n",
       "  </thead>\n",
       "  <tbody>\n",
       "    <tr>\n",
       "      <th rowspan=\"6\" valign=\"top\">1</th>\n",
       "      <th>송중기</th>\n",
       "      <td>92</td>\n",
       "      <td>82</td>\n",
       "      <td>17</td>\n",
       "      <td>87.0</td>\n",
       "      <td>B</td>\n",
       "    </tr>\n",
       "    <tr>\n",
       "      <th>권보아</th>\n",
       "      <td>89</td>\n",
       "      <td>97</td>\n",
       "      <td>17</td>\n",
       "      <td>93.0</td>\n",
       "      <td>A</td>\n",
       "    </tr>\n",
       "    <tr>\n",
       "      <th>김나형</th>\n",
       "      <td>71</td>\n",
       "      <td>91</td>\n",
       "      <td>18</td>\n",
       "      <td>81.0</td>\n",
       "      <td>B</td>\n",
       "    </tr>\n",
       "    <tr>\n",
       "      <th>박효신</th>\n",
       "      <td>90</td>\n",
       "      <td>78</td>\n",
       "      <td>18</td>\n",
       "      <td>84.0</td>\n",
       "      <td>B</td>\n",
       "    </tr>\n",
       "    <tr>\n",
       "      <th>김선미</th>\n",
       "      <td>83</td>\n",
       "      <td>78</td>\n",
       "      <td>19</td>\n",
       "      <td>80.5</td>\n",
       "      <td>B</td>\n",
       "    </tr>\n",
       "    <tr>\n",
       "      <th>강민경</th>\n",
       "      <td>81</td>\n",
       "      <td>91</td>\n",
       "      <td>19</td>\n",
       "      <td>86.0</td>\n",
       "      <td>B</td>\n",
       "    </tr>\n",
       "  </tbody>\n",
       "</table>\n",
       "</div>"
      ],
      "text/plain": [
       "       영어  국어  나이    평균 평점\n",
       "반 이름                      \n",
       "1 송중기  92  82  17  87.0  B\n",
       "  권보아  89  97  17  93.0  A\n",
       "  김나형  71  91  18  81.0  B\n",
       "  박효신  90  78  18  84.0  B\n",
       "  김선미  83  78  19  80.5  B\n",
       "  강민경  81  91  19  86.0  B"
      ]
     },
     "execution_count": 120,
     "metadata": {},
     "output_type": "execute_result"
    }
   ],
   "source": [
    "df1['평점'] = df1.apply(lambda x: 'A' if x.평균 > 90 else 'B'\\\n",
    "                      if x.평균 > 80 else 'C', axis=1)\n",
    "df1"
   ]
  },
  {
   "cell_type": "code",
   "execution_count": 121,
   "metadata": {},
   "outputs": [
    {
     "data": {
      "text/html": [
       "<div>\n",
       "<style scoped>\n",
       "    .dataframe tbody tr th:only-of-type {\n",
       "        vertical-align: middle;\n",
       "    }\n",
       "\n",
       "    .dataframe tbody tr th {\n",
       "        vertical-align: top;\n",
       "    }\n",
       "\n",
       "    .dataframe thead th {\n",
       "        text-align: right;\n",
       "    }\n",
       "</style>\n",
       "<table border=\"1\" class=\"dataframe\">\n",
       "  <thead>\n",
       "    <tr style=\"text-align: right;\">\n",
       "      <th></th>\n",
       "      <th></th>\n",
       "      <th>영어</th>\n",
       "      <th>국어</th>\n",
       "      <th>나이</th>\n",
       "      <th>평균</th>\n",
       "      <th>평점</th>\n",
       "      <th>rank</th>\n",
       "    </tr>\n",
       "    <tr>\n",
       "      <th>반</th>\n",
       "      <th>이름</th>\n",
       "      <th></th>\n",
       "      <th></th>\n",
       "      <th></th>\n",
       "      <th></th>\n",
       "      <th></th>\n",
       "      <th></th>\n",
       "    </tr>\n",
       "  </thead>\n",
       "  <tbody>\n",
       "    <tr>\n",
       "      <th rowspan=\"6\" valign=\"top\">1</th>\n",
       "      <th>송중기</th>\n",
       "      <td>92</td>\n",
       "      <td>82</td>\n",
       "      <td>17</td>\n",
       "      <td>87.0</td>\n",
       "      <td>B</td>\n",
       "      <td>2.0</td>\n",
       "    </tr>\n",
       "    <tr>\n",
       "      <th>권보아</th>\n",
       "      <td>89</td>\n",
       "      <td>97</td>\n",
       "      <td>17</td>\n",
       "      <td>93.0</td>\n",
       "      <td>A</td>\n",
       "      <td>1.0</td>\n",
       "    </tr>\n",
       "    <tr>\n",
       "      <th>김나형</th>\n",
       "      <td>71</td>\n",
       "      <td>91</td>\n",
       "      <td>18</td>\n",
       "      <td>81.0</td>\n",
       "      <td>B</td>\n",
       "      <td>5.0</td>\n",
       "    </tr>\n",
       "    <tr>\n",
       "      <th>박효신</th>\n",
       "      <td>90</td>\n",
       "      <td>78</td>\n",
       "      <td>18</td>\n",
       "      <td>84.0</td>\n",
       "      <td>B</td>\n",
       "      <td>4.0</td>\n",
       "    </tr>\n",
       "    <tr>\n",
       "      <th>김선미</th>\n",
       "      <td>83</td>\n",
       "      <td>78</td>\n",
       "      <td>19</td>\n",
       "      <td>80.5</td>\n",
       "      <td>B</td>\n",
       "      <td>6.0</td>\n",
       "    </tr>\n",
       "    <tr>\n",
       "      <th>강민경</th>\n",
       "      <td>81</td>\n",
       "      <td>91</td>\n",
       "      <td>19</td>\n",
       "      <td>86.0</td>\n",
       "      <td>B</td>\n",
       "      <td>3.0</td>\n",
       "    </tr>\n",
       "  </tbody>\n",
       "</table>\n",
       "</div>"
      ],
      "text/plain": [
       "       영어  국어  나이    평균 평점  rank\n",
       "반 이름                            \n",
       "1 송중기  92  82  17  87.0  B   2.0\n",
       "  권보아  89  97  17  93.0  A   1.0\n",
       "  김나형  71  91  18  81.0  B   5.0\n",
       "  박효신  90  78  18  84.0  B   4.0\n",
       "  김선미  83  78  19  80.5  B   6.0\n",
       "  강민경  81  91  19  86.0  B   3.0"
      ]
     },
     "execution_count": 121,
     "metadata": {},
     "output_type": "execute_result"
    }
   ],
   "source": [
    "df1['rank'] = df1.평균.rank(ascending=False )\n",
    "df1"
   ]
  },
  {
   "cell_type": "code",
   "execution_count": 122,
   "metadata": {},
   "outputs": [
    {
     "name": "stdout",
     "output_type": "stream",
     "text": [
      "<class 'pandas.core.frame.DataFrame'>\n",
      "MultiIndex: 6 entries, (1, '송중기') to (1, '강민경')\n",
      "Data columns (total 6 columns):\n",
      " #   Column  Non-Null Count  Dtype  \n",
      "---  ------  --------------  -----  \n",
      " 0   영어      6 non-null      int64  \n",
      " 1   국어      6 non-null      int64  \n",
      " 2   나이      6 non-null      int64  \n",
      " 3   평균      6 non-null      float64\n",
      " 4   평점      6 non-null      object \n",
      " 5   rank    6 non-null      float64\n",
      "dtypes: float64(2), int64(3), object(1)\n",
      "memory usage: 790.0+ bytes\n"
     ]
    }
   ],
   "source": [
    "df1.info()\n",
    "\n"
   ]
  },
  {
   "cell_type": "code",
   "execution_count": 123,
   "metadata": {},
   "outputs": [
    {
     "name": "stdout",
     "output_type": "stream",
     "text": [
      "<class 'function'>\n",
      "<class 'function'>\n",
      "<class 'function'>\n"
     ]
    }
   ],
   "source": [
    "import numpy as np\n",
    "import pandas as pd\n",
    "# Example functions\n",
    "a = np.add\n",
    "b = np.sin\n",
    "c = np.multiply\n",
    "\n",
    "f = pd.Series.rank\n",
    "g = pd.DataFrame.mean\n",
    "h = pd.DataFrame.assign\n",
    "\n",
    "# Check the type of the functions\n",
    "print(type(f))  # <class 'numpy.ufunc'>\n",
    "print(type(g))  # <class 'numpy.ufunc'>\n",
    "print(type(h))  # <class 'numpy.ufunc'>"
   ]
  },
  {
   "cell_type": "code",
   "execution_count": 124,
   "metadata": {},
   "outputs": [
    {
     "data": {
      "text/plain": [
       "반  이름 \n",
       "1  송중기    B\n",
       "   권보아    A\n",
       "   김나형    B\n",
       "   박효신    B\n",
       "   김선미    B\n",
       "   강민경    B\n",
       "dtype: object"
      ]
     },
     "execution_count": 124,
     "metadata": {},
     "output_type": "execute_result"
    }
   ],
   "source": [
    "df1.apply(lambda x: x.평점, axis=1)"
   ]
  },
  {
   "cell_type": "code",
   "execution_count": 126,
   "metadata": {},
   "outputs": [
    {
     "data": {
      "text/plain": [
       "반  이름 \n",
       "1  송중기    B\n",
       "   권보아    A\n",
       "   김나형    B\n",
       "   박효신    B\n",
       "   김선미    B\n",
       "   강민경    B\n",
       "dtype: object"
      ]
     },
     "execution_count": 126,
     "metadata": {},
     "output_type": "execute_result"
    }
   ],
   "source": [
    "df1.apply(lambda x: x['평점'], axis=1)"
   ]
  },
  {
   "cell_type": "code",
   "execution_count": 127,
   "metadata": {},
   "outputs": [
    {
     "data": {
      "text/plain": [
       "반  이름 \n",
       "1  송중기    B\n",
       "   권보아    A\n",
       "   김나형    B\n",
       "   박효신    B\n",
       "   김선미    B\n",
       "   강민경    B\n",
       "dtype: object"
      ]
     },
     "execution_count": 127,
     "metadata": {},
     "output_type": "execute_result"
    }
   ],
   "source": [
    "df1.apply(lambda x: f\"{x.평점}\", axis=1)"
   ]
  },
  {
   "cell_type": "code",
   "execution_count": 128,
   "metadata": {},
   "outputs": [
    {
     "data": {
      "text/plain": [
       "반  이름 \n",
       "1  송중기    <bound method NDFrame.rank of 영어        81\\n국어...\n",
       "   권보아    <bound method NDFrame.rank of 영어        81\\n국어...\n",
       "   김나형    <bound method NDFrame.rank of 영어        81\\n국어...\n",
       "   박효신    <bound method NDFrame.rank of 영어        81\\n국어...\n",
       "   김선미    <bound method NDFrame.rank of 영어        81\\n국어...\n",
       "   강민경    <bound method NDFrame.rank of 영어        81\\n국어...\n",
       "dtype: object"
      ]
     },
     "execution_count": 128,
     "metadata": {},
     "output_type": "execute_result"
    }
   ],
   "source": [
    "df1.apply(lambda x: x.rank, axis=1)"
   ]
  },
  {
   "cell_type": "code",
   "execution_count": 129,
   "metadata": {},
   "outputs": [
    {
     "data": {
      "text/plain": [
       "반  이름 \n",
       "1  송중기    <bound method NDFrame.rank of 영어        92\\n국어...\n",
       "   권보아    <bound method NDFrame.rank of 영어        89\\n국어...\n",
       "   김나형    <bound method NDFrame.rank of 영어        71\\n국어...\n",
       "   박효신    <bound method NDFrame.rank of 영어        90\\n국어...\n",
       "   김선미    <bound method NDFrame.rank of 영어        83\\n국어...\n",
       "   강민경    <bound method NDFrame.rank of 영어        81\\n국어...\n",
       "dtype: object"
      ]
     },
     "execution_count": 129,
     "metadata": {},
     "output_type": "execute_result"
    }
   ],
   "source": [
    "df1.apply(lambda x: f\"{x.rank}\", axis=1)"
   ]
  },
  {
   "cell_type": "code",
   "execution_count": 130,
   "metadata": {},
   "outputs": [
    {
     "data": {
      "text/plain": [
       "반  이름 \n",
       "1  송중기    2.0\n",
       "   권보아    1.0\n",
       "   김나형    5.0\n",
       "   박효신    4.0\n",
       "   김선미    6.0\n",
       "   강민경    3.0\n",
       "dtype: object"
      ]
     },
     "execution_count": 130,
     "metadata": {},
     "output_type": "execute_result"
    }
   ],
   "source": [
    "# df1.apply(lambda x: f\"{x.loc['rank']}\", axis=1)   🔰🌸💢🍀  이유는 모른다.\n",
    "df1.apply(lambda x: f\"{x['rank']}\", axis=1)"
   ]
  },
  {
   "cell_type": "code",
   "execution_count": null,
   "metadata": {},
   "outputs": [],
   "source": [
    "ttl = len(df1['영어'])"
   ]
  },
  {
   "cell_type": "code",
   "execution_count": null,
   "metadata": {},
   "outputs": [],
   "source": [
    "print(type(df1.iloc[0]))"
   ]
  },
  {
   "cell_type": "code",
   "execution_count": null,
   "metadata": {},
   "outputs": [],
   "source": [
    "df1.iloc[0]"
   ]
  },
  {
   "cell_type": "code",
   "execution_count": null,
   "metadata": {},
   "outputs": [],
   "source": [
    "int(df1.iloc[0].loc['rank'])"
   ]
  },
  {
   "cell_type": "code",
   "execution_count": null,
   "metadata": {},
   "outputs": [],
   "source": [
    "df1['반석차'] = df1.apply(lambda x: f\"{int(x['rank'])} / {ttl}\", axis=1)\n",
    "\n",
    "list_remaining = list(df1.columns)\n",
    "list_remaining.pop(-2)\n",
    "df1 = df1[list_remaining]\n",
    "df1\n",
    "\n",
    "# 왠지는 정확히 알 수 없으나 lambda x: x.rank\n"
   ]
  }
 ],
 "metadata": {
  "kernelspec": {
   "display_name": "Python 3",
   "language": "python",
   "name": "python3"
  },
  "language_info": {
   "codemirror_mode": {
    "name": "ipython",
    "version": 3
   },
   "file_extension": ".py",
   "mimetype": "text/x-python",
   "name": "python",
   "nbconvert_exporter": "python",
   "pygments_lexer": "ipython3",
   "version": "3.10.6"
  },
  "orig_nbformat": 4
 },
 "nbformat": 4,
 "nbformat_minor": 2
}
