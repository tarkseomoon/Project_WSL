{
 "cells": [
  {
   "cell_type": "code",
   "execution_count": null,
   "metadata": {},
   "outputs": [],
   "source": [
    "import numpy as np\n",
    "import pandas as pd \n",
    "\n",
    "pd.options.display.float_format = '{:,.2f}'.format\n",
    "pd.options.display.max_rows = 20\n",
    "\n",
    "pd.set_option('expand_frame_repr', \"True\")\n",
    "# pd.reset_option(\"expand_frame_repr\")\n",
    "# pd.set_option('larger_repr', 'truncate')\n",
    "# pd.reset_option('larger_repr')\n",
    "# pd.set_option('larger_repr', 'info')"
   ]
  },
  {
   "cell_type": "code",
   "execution_count": null,
   "metadata": {},
   "outputs": [],
   "source": [
    "a1 = ['송중기', '남', 1, 79, 93]\n",
    "a2 = ['김나현', '여', 1, 85, 85]\n",
    "a3 = ['권보아', '여', 1, 91, 78]\n",
    "a4 = ['김범수', '남', 1, 97, 98]\n",
    "a5 = ['이효리', '여', 2, 93, 79]\n",
    "a6 = ['박효신', '남', 2, 78, 90]\n",
    "a7 = ['한예슬', '여', 2, 87, 74]\n",
    "a8 = ['민경훈', '남', 2, 99, 89]\n",
    "col1 = [\"이름\", \"성별\", \"반\", \"국어\", \"영어\"] \n",
    "df1 = pd.DataFrame([a1, a2, a3, a4, a5, a6, a7, a8], columns=col1)\n",
    "df1"
   ]
  },
  {
   "cell_type": "code",
   "execution_count": null,
   "metadata": {},
   "outputs": [],
   "source": [
    "df1.groupby(by = ['성별', '반'])[['국어', '영어']].agg('mean')"
   ]
  },
  {
   "cell_type": "code",
   "execution_count": null,
   "metadata": {},
   "outputs": [],
   "source": [
    "l = [[1, 2, 3], [1, None, 4], [2, 1, 3], [1, 2, 2]]\n",
    "df = pd.DataFrame(l, columns=[\"a\", \"b\", \"c\"])\n",
    "df"
   ]
  },
  {
   "cell_type": "code",
   "execution_count": null,
   "metadata": {},
   "outputs": [],
   "source": [
    "df.groupby(by=[\"a\"]).sum()\n"
   ]
  },
  {
   "cell_type": "code",
   "execution_count": null,
   "metadata": {},
   "outputs": [],
   "source": [
    "df2 = pd.DataFrame({'Animal': ['Falcon', 'Falcon',\n",
    "                              'Parrot', 'Parrot'],\n",
    "                   'Max Speed': [380., 370., 24., 26.]})\n",
    "df2\n",
    "df2.groupby(\"Animal\", group_keys=True).apply(lambda x : x-1)"
   ]
  }
 ],
 "metadata": {
  "kernelspec": {
   "display_name": "Python 3",
   "language": "python",
   "name": "python3"
  },
  "language_info": {
   "codemirror_mode": {
    "name": "ipython",
    "version": 3
   },
   "file_extension": ".py",
   "mimetype": "text/x-python",
   "name": "python",
   "nbconvert_exporter": "python",
   "pygments_lexer": "ipython3",
   "version": "3.11.4"
  },
  "orig_nbformat": 4
 },
 "nbformat": 4,
 "nbformat_minor": 2
}
