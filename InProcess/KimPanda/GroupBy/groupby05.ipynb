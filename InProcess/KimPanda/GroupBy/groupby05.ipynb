{
 "cells": [
  {
   "cell_type": "code",
   "execution_count": 2,
   "metadata": {},
   "outputs": [],
   "source": [
    "import pandas as pd\n",
    "pd.options.display.float_format = '{:.2f}'.format\n",
    "a1 = ['송중기', '국어', 89]\n",
    "a2 = ['김나현', '영어', 42]\n",
    "a3 = ['박효신', '국어', 78]\n",
    "a4 = ['김범수', '영어', 61]\n",
    "a5 = ['권보아', '국어', 91]\n",
    "a6 = ['한동근', '영어', 38]\n",
    "df1 = pd.DataFrame([a1, a2, a3, a4, a5, a6], columns=[\"이름\", \"과목\", \"점수\"])\n",
    "df2 = df1.copy()\n",
    "df3 = df1.copy()\n",
    "s1 = pd.DataFrame([1, 2, 3, 4, 5, 6], columns=[\"s1\"])"
   ]
  },
  {
   "cell_type": "code",
   "execution_count": 8,
   "metadata": {},
   "outputs": [
    {
     "data": {
      "text/html": [
       "<div>\n",
       "<style scoped>\n",
       "    .dataframe tbody tr th:only-of-type {\n",
       "        vertical-align: middle;\n",
       "    }\n",
       "\n",
       "    .dataframe tbody tr th {\n",
       "        vertical-align: top;\n",
       "    }\n",
       "\n",
       "    .dataframe thead th {\n",
       "        text-align: right;\n",
       "    }\n",
       "</style>\n",
       "<table border=\"1\" class=\"dataframe\">\n",
       "  <thead>\n",
       "    <tr style=\"text-align: right;\">\n",
       "      <th></th>\n",
       "      <th>이름</th>\n",
       "      <th>과목</th>\n",
       "      <th>점수</th>\n",
       "      <th>과목평균</th>\n",
       "    </tr>\n",
       "  </thead>\n",
       "  <tbody>\n",
       "    <tr>\n",
       "      <th>0</th>\n",
       "      <td>송중기</td>\n",
       "      <td>국어</td>\n",
       "      <td>89</td>\n",
       "      <td>86.00</td>\n",
       "    </tr>\n",
       "    <tr>\n",
       "      <th>3</th>\n",
       "      <td>김범수</td>\n",
       "      <td>영어</td>\n",
       "      <td>61</td>\n",
       "      <td>47.00</td>\n",
       "    </tr>\n",
       "    <tr>\n",
       "      <th>4</th>\n",
       "      <td>권보아</td>\n",
       "      <td>국어</td>\n",
       "      <td>91</td>\n",
       "      <td>86.00</td>\n",
       "    </tr>\n",
       "  </tbody>\n",
       "</table>\n",
       "</div>"
      ],
      "text/plain": [
       "    이름  과목  점수  과목평균\n",
       "0  송중기  국어  89 86.00\n",
       "3  김범수  영어  61 47.00\n",
       "4  권보아  국어  91 86.00"
      ]
     },
     "execution_count": 8,
     "metadata": {},
     "output_type": "execute_result"
    }
   ],
   "source": [
    "df1.loc[df1.groupby(by= '과목')['점수'].transform(lambda x: x > x.mean())]"
   ]
  }
 ],
 "metadata": {
  "kernelspec": {
   "display_name": "Python 3",
   "language": "python",
   "name": "python3"
  },
  "language_info": {
   "codemirror_mode": {
    "name": "ipython",
    "version": 3
   },
   "file_extension": ".py",
   "mimetype": "text/x-python",
   "name": "python",
   "nbconvert_exporter": "python",
   "pygments_lexer": "ipython3",
   "version": "3.10.2"
  },
  "orig_nbformat": 4
 },
 "nbformat": 4,
 "nbformat_minor": 2
}
