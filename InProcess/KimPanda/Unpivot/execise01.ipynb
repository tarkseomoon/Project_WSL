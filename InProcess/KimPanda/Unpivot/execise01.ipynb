{
 "cells": [
  {
   "cell_type": "code",
   "execution_count": null,
   "metadata": {},
   "outputs": [],
   "source": [
    "import numpy as np\n",
    "import pandas as pd\n",
    "pd.options.display.max_rows=20\n",
    "pd.options.display.float_format='{:.2f}'.format\n",
    "\n",
    "df1 = pd.read_excel('D00EXAMPLE.xlsx')\n",
    "df1"
   ]
  },
  {
   "attachments": {},
   "cell_type": "markdown",
   "metadata": {},
   "source": [
    "df1 = df1.set_index('노래')\n",
    "\n",
    "upv1 =  df1.stack().reset_index()\n",
    "\n",
    "upv1"
   ]
  },
  {
   "cell_type": "code",
   "execution_count": null,
   "metadata": {},
   "outputs": [],
   "source": [
    "upv1 = df1.melt(id_vars='노래', value_vars=('A', 'B', 'C', 'D', 'E'))\n",
    "upv1.columns = ['심사자', '참가자', '점수']"
   ]
  },
  {
   "cell_type": "code",
   "execution_count": null,
   "metadata": {},
   "outputs": [],
   "source": [
    "df2 = pd.read_excel('D00EXAMPLE.xlsx', sheet_name=3)"
   ]
  },
  {
   "cell_type": "code",
   "execution_count": null,
   "metadata": {},
   "outputs": [],
   "source": [
    "upv1 = upv1.merge(df2, how='left')"
   ]
  },
  {
   "cell_type": "code",
   "execution_count": null,
   "metadata": {},
   "outputs": [],
   "source": [
    "pvt1 = upv1.pivot_table('점수', index='성별', columns='참가자', aggfunc=['median', 'std'])\n",
    "pvt1"
   ]
  },
  {
   "cell_type": "code",
   "execution_count": null,
   "metadata": {},
   "outputs": [],
   "source": [
    "df_single_level_cols = pd.DataFrame([[0, 1], [2, 3]],\n",
    "                                     index=['cat', 'dog'],\n",
    "                                     columns=['weight', 'height'])\n",
    "# df_single_level_cols = pd.DataFrame({'Cat':[0, 1], 'Dog':[2, 3]}, index=['weight', 'hight'])\n",
    "df_single_level_cols"
   ]
  },
  {
   "cell_type": "code",
   "execution_count": null,
   "metadata": {},
   "outputs": [],
   "source": [
    "df_single_level_cols.stack()"
   ]
  },
  {
   "cell_type": "code",
   "execution_count": null,
   "metadata": {},
   "outputs": [],
   "source": [
    "arrays = [[1, 1, 2, 2], ['red', 'blue', 'red', 'blue']]\n",
    "pd.MultiIndex.from_arrays(arrays, names=('number', 'color'))"
   ]
  },
  {
   "cell_type": "code",
   "execution_count": null,
   "metadata": {},
   "outputs": [],
   "source": [
    "tuples = [(1, 'red'), (1, 'blue'),\n",
    "          (2, 'red'), (2, 'blue')]\n",
    "pd.MultiIndex.from_tuples(tuples, names=('number', 'color'))"
   ]
  },
  {
   "cell_type": "code",
   "execution_count": null,
   "metadata": {},
   "outputs": [],
   "source": [
    "df = pd.DataFrame([['HI', 'Temp'], ['HI', 'Precip'],\n",
    "                   ['NJ', 'Temp'], ['NJ', 'Precip']],\n",
    "                  columns=['a', 'b'])\n",
    "pd.MultiIndex.from_frame(df, names=['state', 'observation'])"
   ]
  },
  {
   "cell_type": "code",
   "execution_count": null,
   "metadata": {},
   "outputs": [],
   "source": [
    "multicol1 = pd.MultiIndex.from_tuples([('weight', 'kg'),\n",
    "                                       ('weight', 'pounds')])\n",
    "df_multi_level_cols1 = pd.DataFrame([[1, 2], [2, 4]],\n",
    "                                    index=['cat', 'dog'],\n",
    "                                    columns=multicol1)\n",
    "df_multi_level_cols1"
   ]
  },
  {
   "cell_type": "code",
   "execution_count": null,
   "metadata": {},
   "outputs": [],
   "source": [
    "df_multi_level_cols1.stack()"
   ]
  },
  {
   "cell_type": "code",
   "execution_count": null,
   "metadata": {},
   "outputs": [],
   "source": [
    "df_multi_level_cols1.stack().reset_index()"
   ]
  },
  {
   "cell_type": "code",
   "execution_count": null,
   "metadata": {},
   "outputs": [],
   "source": [
    "multicol2 = pd.MultiIndex.from_tuples([('weight', 'kg'),\n",
    "                                       ('height', 'm')])\n",
    "df_multi_level_cols2 = pd.DataFrame([[1.0, 2.0], [3.0, 4.0]],\n",
    "                                    index=['cat', 'dog'],\n",
    "                                    columns=multicol2)\n",
    "df_multi_level_cols2"
   ]
  },
  {
   "cell_type": "code",
   "execution_count": null,
   "metadata": {},
   "outputs": [],
   "source": [
    "df_multi_level_cols2.stack()"
   ]
  },
  {
   "cell_type": "code",
   "execution_count": null,
   "metadata": {},
   "outputs": [],
   "source": [
    "df_multi_level_cols2.stack().reset_index()"
   ]
  },
  {
   "cell_type": "code",
   "execution_count": null,
   "metadata": {},
   "outputs": [],
   "source": [
    "df_multi_level_cols2.stack(0)"
   ]
  },
  {
   "cell_type": "code",
   "execution_count": null,
   "metadata": {},
   "outputs": [],
   "source": [
    "df_multi_level_cols2.stack([0,1])  ## 💮default는 level은 -1, 순서에 주의 "
   ]
  },
  {
   "cell_type": "code",
   "execution_count": null,
   "metadata": {},
   "outputs": [],
   "source": [
    "s1 = pd.Series({'A':[]})\n",
    "s1.empty"
   ]
  },
  {
   "cell_type": "code",
   "execution_count": null,
   "metadata": {},
   "outputs": [],
   "source": [
    "s2 = pd.Series()\n",
    "s2.empty"
   ]
  },
  {
   "cell_type": "code",
   "execution_count": null,
   "metadata": {},
   "outputs": [],
   "source": [
    "ani_df = pd.DataFrame([('bird', 389.0),\n",
    "                   ('bird', 24.0),\n",
    "                   ('mammal', 80.5),\n",
    "                   ('mammal', np.nan)],\n",
    "                  index=('falcon', 'parrot', 'lion', 'monkey'),\n",
    "                  columns=('class', 'max_speed'))\n",
    "ani_df"
   ]
  },
  {
   "cell_type": "code",
   "execution_count": null,
   "metadata": {},
   "outputs": [],
   "source": [
    "ani_df.reset_index()"
   ]
  },
  {
   "cell_type": "code",
   "execution_count": null,
   "metadata": {},
   "outputs": [],
   "source": [
    "index = pd.MultiIndex.from_tuples([('bird', 'falcon'),\n",
    "                                   ('bird', 'parrot'),\n",
    "                                   ('mammal', 'lion'),\n",
    "                                   ('mammal', 'monkey')],\n",
    "                                  names=['class', 'name'])\n",
    "columns = pd.MultiIndex.from_tuples([('speed', 'max'),\n",
    "                                     ('species', 'type')])\n",
    "ani2_df = pd.DataFrame([(389.0, 'fly'),\n",
    "                   (24.0, 'fly'),\n",
    "                   (80.5, 'run'),\n",
    "                   (np.nan, 'jump')],\n",
    "                  index=index,\n",
    "                  columns=columns)\n",
    "ani2_df"
   ]
  },
  {
   "cell_type": "code",
   "execution_count": null,
   "metadata": {},
   "outputs": [],
   "source": [
    "ani2_df.reset_index(names=['class', 'name'] , col_level=1, col_fill=None, inplace=True)\n",
    "ani2_df"
   ]
  },
  {
   "cell_type": "code",
   "execution_count": null,
   "metadata": {},
   "outputs": [],
   "source": [
    "upv = ani2_df.melt(col_level=1, id_vars=['class', 'name'], value_vars=['max', 'type'])\n",
    "upv"
   ]
  },
  {
   "cell_type": "code",
   "execution_count": 96,
   "metadata": {},
   "outputs": [
    {
     "data": {
      "text/plain": [
       "[('bar', 'one', 1),\n",
       " ('bar', 'two', 1),\n",
       " ('baz', 'one', 1),\n",
       " ('baz', 'two', 2),\n",
       " ('foo', 'one', 2),\n",
       " ('foo', 'two', 3),\n",
       " ('qux', 'one', 3),\n",
       " ('qux', 'two', 4)]"
      ]
     },
     "execution_count": 96,
     "metadata": {},
     "output_type": "execute_result"
    }
   ],
   "source": [
    "arrays = [\n",
    "    [\"bar\", \"bar\", \"baz\", \"baz\", \"foo\", \"foo\", \"qux\", \"qux\"],\n",
    "    [\"one\", \"two\", \"one\", \"two\", \"one\", \"two\", \"one\", \"two\"],\n",
    "    [1, 1, 1, 2, 2, 3, 3, 4]\n",
    "]\n",
    "\n",
    "tuples = list(zip(*arrays))\n",
    "tuples"
   ]
  },
  {
   "cell_type": "code",
   "execution_count": 97,
   "metadata": {},
   "outputs": [
    {
     "data": {
      "text/plain": [
       "MultiIndex([('bar', 'one', 1),\n",
       "            ('bar', 'two', 1),\n",
       "            ('baz', 'one', 1),\n",
       "            ('baz', 'two', 2),\n",
       "            ('foo', 'one', 2),\n",
       "            ('foo', 'two', 3),\n",
       "            ('qux', 'one', 3),\n",
       "            ('qux', 'two', 4)],\n",
       "           names=['first', 'second', 'third'])"
      ]
     },
     "execution_count": 97,
     "metadata": {},
     "output_type": "execute_result"
    }
   ],
   "source": [
    "index = pd.MultiIndex.from_tuples(tuples, names=['first', 'second', 'third'])\n",
    "index"
   ]
  },
  {
   "cell_type": "code",
   "execution_count": 109,
   "metadata": {},
   "outputs": [
    {
     "data": {
      "text/html": [
       "<div>\n",
       "<style scoped>\n",
       "    .dataframe tbody tr th:only-of-type {\n",
       "        vertical-align: middle;\n",
       "    }\n",
       "\n",
       "    .dataframe tbody tr th {\n",
       "        vertical-align: top;\n",
       "    }\n",
       "\n",
       "    .dataframe thead tr th {\n",
       "        text-align: left;\n",
       "    }\n",
       "</style>\n",
       "<table border=\"1\" class=\"dataframe\">\n",
       "  <thead>\n",
       "    <tr>\n",
       "      <th></th>\n",
       "      <th>A</th>\n",
       "      <th>B</th>\n",
       "      <th>C</th>\n",
       "    </tr>\n",
       "    <tr>\n",
       "      <th></th>\n",
       "      <th>D</th>\n",
       "      <th>E</th>\n",
       "      <th>F</th>\n",
       "    </tr>\n",
       "  </thead>\n",
       "  <tbody>\n",
       "    <tr>\n",
       "      <th>0</th>\n",
       "      <td>0.478738</td>\n",
       "      <td>0.046127</td>\n",
       "      <td>0.203034</td>\n",
       "    </tr>\n",
       "    <tr>\n",
       "      <th>1</th>\n",
       "      <td>0.735385</td>\n",
       "      <td>0.271698</td>\n",
       "      <td>0.792312</td>\n",
       "    </tr>\n",
       "    <tr>\n",
       "      <th>2</th>\n",
       "      <td>0.847943</td>\n",
       "      <td>0.261444</td>\n",
       "      <td>0.160507</td>\n",
       "    </tr>\n",
       "    <tr>\n",
       "      <th>3</th>\n",
       "      <td>0.583416</td>\n",
       "      <td>0.784941</td>\n",
       "      <td>0.410960</td>\n",
       "    </tr>\n",
       "  </tbody>\n",
       "</table>\n",
       "</div>"
      ],
      "text/plain": [
       "          A         B         C\n",
       "          D         E         F\n",
       "0  0.478738  0.046127  0.203034\n",
       "1  0.735385  0.271698  0.792312\n",
       "2  0.847943  0.261444  0.160507\n",
       "3  0.583416  0.784941  0.410960"
      ]
     },
     "execution_count": 109,
     "metadata": {},
     "output_type": "execute_result"
    }
   ],
   "source": [
    "rand_df = pd.DataFrame(np.random.rand(4,3))\n",
    "pd.set_option('display.max_rows', 4)\n",
    "rand_df.columns = [list('ABC'), list('DEF') ]\n",
    "rand_df\n"
   ]
  },
  {
   "cell_type": "code",
   "execution_count": 106,
   "metadata": {},
   "outputs": [
    {
     "name": "stdout",
     "output_type": "stream",
     "text": [
      "['A', 'B', 'C']\n"
     ]
    }
   ],
   "source": [
    "print(list('ABC'))"
   ]
  }
 ],
 "metadata": {
  "kernelspec": {
   "display_name": "Python 3",
   "language": "python",
   "name": "python3"
  },
  "language_info": {
   "codemirror_mode": {
    "name": "ipython",
    "version": 3
   },
   "file_extension": ".py",
   "mimetype": "text/x-python",
   "name": "python",
   "nbconvert_exporter": "python",
   "pygments_lexer": "ipython3",
   "version": "3.10.2"
  },
  "orig_nbformat": 4
 },
 "nbformat": 4,
 "nbformat_minor": 2
}
