{
 "cells": [
  {
   "cell_type": "code",
   "execution_count": 1,
   "metadata": {},
   "outputs": [],
   "source": [
    "import pandas as pd\n",
    "import numpy as np\n",
    "pd.options.display.float_format='{:.2f}'.format\n",
    "pd.options.display.max_rows=15\n",
    "\n",
    "vocal_df = pd.read_excel('D00EXAMPLE.xlsx', sheet_name=0)\n",
    "dance_df = pd.read_excel('D00EXAMPLE.xlsx', sheet_name=1)\n",
    "entertaining_df = pd.read_excel('D00EXAMPLE.xlsx', sheet_name=2)"
   ]
  },
  {
   "cell_type": "code",
   "execution_count": 2,
   "metadata": {},
   "outputs": [],
   "source": [
    "upv_vocal_df = pd.melt(vocal_df, id_vars='노래', value_vars=['A', 'B', 'C', 'D', 'E'])\n",
    "upv_vocal_df['종목'] = '노래'\n",
    "upv_vocal_df.columns=['심사자', '참가자', '점수', '종목']\n",
    "\n",
    "upv_dance_df = pd.melt(dance_df, id_vars='댄스', value_vars=['A', 'B', 'C', 'D', 'E'])\n",
    "upv_dance_df['종목'] = '댄스'\n",
    "upv_dance_df.columns=['심사자', '참가자', '점수', '종목']\n",
    "upv_entertaining_df = pd.melt(entertaining_df, id_vars='스타성', value_vars=['A', 'B', 'C', 'D', 'E'])\n",
    "upv_entertaining_df['종목'] = '스타성'\n",
    "upv_entertaining_df.columns=['심사자', '참가자', '점수', '종목']"
   ]
  },
  {
   "cell_type": "code",
   "execution_count": 3,
   "metadata": {},
   "outputs": [],
   "source": [
    "upv_df = pd.concat([upv_vocal_df, upv_dance_df, upv_entertaining_df])"
   ]
  },
  {
   "cell_type": "code",
   "execution_count": 4,
   "metadata": {},
   "outputs": [
    {
     "data": {
      "text/html": [
       "<div>\n",
       "<style scoped>\n",
       "    .dataframe tbody tr th:only-of-type {\n",
       "        vertical-align: middle;\n",
       "    }\n",
       "\n",
       "    .dataframe tbody tr th {\n",
       "        vertical-align: top;\n",
       "    }\n",
       "\n",
       "    .dataframe thead th {\n",
       "        text-align: right;\n",
       "    }\n",
       "</style>\n",
       "<table border=\"1\" class=\"dataframe\">\n",
       "  <thead>\n",
       "    <tr style=\"text-align: right;\">\n",
       "      <th>종목</th>\n",
       "      <th>노래</th>\n",
       "      <th>댄스</th>\n",
       "      <th>스타성</th>\n",
       "    </tr>\n",
       "    <tr>\n",
       "      <th>참가자</th>\n",
       "      <th></th>\n",
       "      <th></th>\n",
       "      <th></th>\n",
       "    </tr>\n",
       "  </thead>\n",
       "  <tbody>\n",
       "    <tr>\n",
       "      <th>A</th>\n",
       "      <td>8.40</td>\n",
       "      <td>8.40</td>\n",
       "      <td>8.60</td>\n",
       "    </tr>\n",
       "    <tr>\n",
       "      <th>B</th>\n",
       "      <td>8.80</td>\n",
       "      <td>7.20</td>\n",
       "      <td>8.80</td>\n",
       "    </tr>\n",
       "    <tr>\n",
       "      <th>C</th>\n",
       "      <td>7.60</td>\n",
       "      <td>7.60</td>\n",
       "      <td>7.80</td>\n",
       "    </tr>\n",
       "    <tr>\n",
       "      <th>D</th>\n",
       "      <td>8.20</td>\n",
       "      <td>7.80</td>\n",
       "      <td>8.60</td>\n",
       "    </tr>\n",
       "    <tr>\n",
       "      <th>E</th>\n",
       "      <td>7.80</td>\n",
       "      <td>8.60</td>\n",
       "      <td>8.60</td>\n",
       "    </tr>\n",
       "  </tbody>\n",
       "</table>\n",
       "</div>"
      ],
      "text/plain": [
       "종목    노래   댄스  스타성\n",
       "참가자               \n",
       "A   8.40 8.40 8.60\n",
       "B   8.80 7.20 8.80\n",
       "C   7.60 7.60 7.80\n",
       "D   8.20 7.80 8.60\n",
       "E   7.80 8.60 8.60"
      ]
     },
     "execution_count": 4,
     "metadata": {},
     "output_type": "execute_result"
    }
   ],
   "source": [
    "pvt_df = pd.pivot_table(upv_df, index='참가자', columns='종목', values='점수', aggfunc='mean' )\n",
    "pvt_df"
   ]
  }
 ],
 "metadata": {
  "kernelspec": {
   "display_name": "Python 3",
   "language": "python",
   "name": "python3"
  },
  "language_info": {
   "codemirror_mode": {
    "name": "ipython",
    "version": 3
   },
   "file_extension": ".py",
   "mimetype": "text/x-python",
   "name": "python",
   "nbconvert_exporter": "python",
   "pygments_lexer": "ipython3",
   "version": "3.10.2"
  },
  "orig_nbformat": 4
 },
 "nbformat": 4,
 "nbformat_minor": 2
}
