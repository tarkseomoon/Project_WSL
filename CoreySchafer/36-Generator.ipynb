{
 "cells": [
  {
   "cell_type": "code",
   "execution_count": 64,
   "metadata": {},
   "outputs": [],
   "source": [
    "import numpy as np\n",
    "import pandas as pd"
   ]
  },
  {
   "cell_type": "code",
   "execution_count": 65,
   "metadata": {},
   "outputs": [
    {
     "name": "stdout",
     "output_type": "stream",
     "text": [
      "[1, 4, 9, 16]\n"
     ]
    }
   ],
   "source": [
    "def square_numbers(nums):\n",
    "    result = []\n",
    "    for i in nums:\n",
    "        result.append(i * i)\n",
    "    return result\n",
    "\n",
    "my_nums = square_numbers([1, 2, 3, 4])\n",
    "# mapping   🔰\n",
    "\n",
    "print (my_nums)"
   ]
  },
  {
   "cell_type": "code",
   "execution_count": 66,
   "metadata": {},
   "outputs": [
    {
     "name": "stdout",
     "output_type": "stream",
     "text": [
      "<function squares at 0x7f559af67eb0>\n",
      "<function squares at 0x7f559af67eb0>\n",
      "<class 'generator'>\n"
     ]
    }
   ],
   "source": [
    "def squares(nums):\n",
    "    for i in nums:\n",
    "        yield (i * i)\n",
    "\n",
    "numList = squares\n",
    "\n",
    "\n",
    "print(numList)\n",
    "print(squares)\n",
    "print(type(squares([1, 2, 3, 4])))"
   ]
  },
  {
   "cell_type": "code",
   "execution_count": 67,
   "metadata": {},
   "outputs": [
    {
     "name": "stdout",
     "output_type": "stream",
     "text": [
      "1\n",
      "4\n",
      "9\n",
      "16\n"
     ]
    }
   ],
   "source": [
    "for i in squares([1, 2, 3, 4]):\n",
    "    print(i)"
   ]
  },
  {
   "cell_type": "code",
   "execution_count": 71,
   "metadata": {},
   "outputs": [
    {
     "name": "stdout",
     "output_type": "stream",
     "text": [
      "1\n",
      "4\n",
      "9\n",
      "16\n"
     ]
    }
   ],
   "source": [
    "for i in numList([1, 2, 3, 4]):\n",
    "    print(i)\n",
    "\n",
    "# generator는 for loop를 탈 수 있지만, genrator object는 for loop를 탈 수 없다.\n",
    "# list로 만들어도 마찬가지, 이유를 알 수없다.   💢"
   ]
  },
  {
   "cell_type": "code",
   "execution_count": 108,
   "metadata": {},
   "outputs": [
    {
     "name": "stdout",
     "output_type": "stream",
     "text": [
      "Took 1.2607921000 Seconds\n",
      "Took 1.0522767999999871 Seconds\n"
     ]
    }
   ],
   "source": [
    "import time\n",
    "# list Comprehension에서 괄호를 square bracket[대괄호]에서 parenthesis(소괄호)로 변경하면 그대로 Generator가 된다.\n",
    "# 참고로 curly bracket{중괄호}, angle bracket<>로 등으로 분류한다.\n",
    "# 자세한 분류는 https://en.wikipedia.org/wiki/Bracket#Angle_brackets\n",
    "\n",
    "def listComp(n):\n",
    "    return (i * i for i in range(n))\n",
    "\n",
    "\n",
    "t1 = time.process_time()\n",
    "empty = []\n",
    "for i in listComp(10000000):\n",
    "    pass\n",
    "t2 = time.process_time()\n",
    "print(f'Took {t2-t1:.10f} Seconds')\n",
    "\n",
    "t1 = time.process_time()\n",
    "empty = []\n",
    "for i in range(10000000):\n",
    "    i * i\n",
    "    pass\n",
    "t2 = time.process_time()\n",
    "print(f'Took {t2-t1} Seconds')\n",
    "\n",
    "# generator를 생성하는 함수를 정의 한다.\n",
    "# 그 generator를 for loop에 태운다."
   ]
  },
  {
   "cell_type": "code",
   "execution_count": 107,
   "metadata": {},
   "outputs": [
    {
     "name": "stdout",
     "output_type": "stream",
     "text": [
      "Took 1.7841604999999845 Seconds\n",
      "Took 0.08142170000002125 Seconds\n"
     ]
    }
   ],
   "source": [
    "import random\n",
    "import time\n",
    "\n",
    "names = ['John', 'Corey', 'Adam', 'Steve', 'Rick', 'Thomas']\n",
    "majors = ['Math', 'Engineering', 'CompSci', 'Arts', 'Business']\n",
    "\n",
    "\n",
    "def people_list(num_people):\n",
    "    result = []\n",
    "    for i in range(num_people):\n",
    "        person = {\n",
    "                    'id': i,\n",
    "                    'name': random.choice(names),\n",
    "                    'major': random.choice(majors)\n",
    "                }\n",
    "        result.append(person)\n",
    "    return result\n",
    "# 우선 list는 담을 수 있는 empty list를 먼저 선언하고, process를 마친후, list.append()로 모아준다.\n",
    "\n",
    "\n",
    "\n",
    "def people_generator(num_people):\n",
    "    for i in range(num_people):\n",
    "        person = {\n",
    "                    'id': i,\n",
    "                    'name': random.choice(names),\n",
    "                    'major': random.choice(majors)\n",
    "                }\n",
    "        yield person\n",
    "# generator는 호출될 때에 하나씩의 전달하기(yield)에 모아둘 list가 필요없다. \n",
    "# 이런 기제로 작동하기에, list와는 달리 memory할당이 비교 불가 할 정도가 적고, \n",
    "# 이로 인해 performance가 월등하다(용량이 큰 data를 다룰 경우, 더욱더)\n",
    "\n",
    "\n",
    "\n",
    "t1 = time.process_time()\n",
    "people = people_list(1000000)\n",
    "t2 = time.process_time()\n",
    "print ('Took {} Seconds'.format(t2-t1))\n",
    "\n",
    "t1 = time.process_time()\n",
    "people = people_generator(1000000)\n",
    "t2 = time.process_time()\n",
    "\n",
    "print ('Took {} Seconds'.format(t2-t1))"
   ]
  },
  {
   "cell_type": "code",
   "execution_count": 14,
   "metadata": {},
   "outputs": [
    {
     "name": "stdout",
     "output_type": "stream",
     "text": [
      "[6.283185307179586, 25.132741228718345, 56.548667764616276, 100.53096491487338, 157.07963267948966, 226.1946710584651, 307.8760800517997, 402.1238596594935, 508.93800988154646, 628.3185307179587]\n"
     ]
    }
   ],
   "source": [
    "# generator comprehension\n",
    "import numpy as np\n",
    "\n",
    "def my_range(n):\n",
    "    return (i for i in range(1, n+1, 1))\n",
    "# generator를 생성해주는 함수를 정의 한다.   🔰\n",
    "# 여기서 argument n으로 generator의 크기를 정할 수 있다.\n",
    "\n",
    "listA = []\n",
    "for i in my_range(10):\n",
    "    a = 2 * np.pi * i**2\n",
    "    listA.append(a)\n",
    "\n",
    "print(listA)\n",
    "\n",
    "# Not Subscriptable\n",
    "# https://chat.openai.com/share/3ab1a6f7-617e-4386-b772-ef8da0b2ca9c\n"
   ]
  }
 ],
 "metadata": {
  "kernelspec": {
   "display_name": "Python 3",
   "language": "python",
   "name": "python3"
  },
  "language_info": {
   "codemirror_mode": {
    "name": "ipython",
    "version": 3
   },
   "file_extension": ".py",
   "mimetype": "text/x-python",
   "name": "python",
   "nbconvert_exporter": "python",
   "pygments_lexer": "ipython3",
   "version": "3.10.6"
  },
  "orig_nbformat": 4
 },
 "nbformat": 4,
 "nbformat_minor": 2
}
