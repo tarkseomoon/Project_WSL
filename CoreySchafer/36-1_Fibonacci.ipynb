{
 "cells": [
  {
   "cell_type": "code",
   "execution_count": 1,
   "metadata": {},
   "outputs": [],
   "source": [
    "import numpy as np\n",
    "import pandas as pd\n",
    "\n",
    "# Fibonacci\n",
    "# https://richwind.co.kr/152"
   ]
  },
  {
   "cell_type": "code",
   "execution_count": 2,
   "metadata": {},
   "outputs": [
    {
     "data": {
      "text/plain": [
       "[1, 1, 2, 3, 5, 8, 13, 21, 34, 55]"
      ]
     },
     "execution_count": 2,
     "metadata": {},
     "output_type": "execute_result"
    }
   ],
   "source": [
    "\n",
    "def fib(n):\n",
    "    a, b = 1, 1\n",
    "    if n ==1 or n ==2:\n",
    "        return 1\n",
    "    \n",
    "    for i in range(1, n):\n",
    "        a, b = b, a+b\n",
    "    return a\n",
    "\n",
    "# fib(3)\n",
    "\n",
    "[fib(i) for i in range(1,11)]"
   ]
  },
  {
   "cell_type": "code",
   "execution_count": 3,
   "metadata": {},
   "outputs": [
    {
     "data": {
      "text/plain": [
       "1"
      ]
     },
     "execution_count": 3,
     "metadata": {},
     "output_type": "execute_result"
    }
   ],
   "source": [
    "# 재귀함수   💢\n",
    "def fib(n):\n",
    "    if n ==1 or n ==2:\n",
    "        return 1\n",
    "    else:\n",
    "        return fib(n-1) + fib(n-2)\n",
    "\n",
    "fib(2)\n",
    "\n"
   ]
  },
  {
   "cell_type": "code",
   "execution_count": 4,
   "metadata": {},
   "outputs": [
    {
     "data": {
      "text/plain": [
       "1"
      ]
     },
     "execution_count": 4,
     "metadata": {},
     "output_type": "execute_result"
    }
   ],
   "source": [
    "# Memoization Method\n",
    "def fib(n):\n",
    "    fibList = [1, 1]\n",
    "    if n ==1 or n ==2:\n",
    "        return 1\n",
    "    # return이 여기에 걸리면 list를 반환하지 않는다. 결국 3 이상은 되어야 list를 반환한다.\n",
    "    \n",
    "    for i in range(2, n):\n",
    "        fibList.append(fibList[i-1]+ fibList[i-2])\n",
    "        return fibList\n",
    "\n",
    "fib(2)"
   ]
  },
  {
   "cell_type": "code",
   "execution_count": 5,
   "metadata": {},
   "outputs": [
    {
     "data": {
      "text/plain": [
       "[1]"
      ]
     },
     "execution_count": 5,
     "metadata": {},
     "output_type": "execute_result"
    }
   ],
   "source": [
    "# 재귀함수를 이용한 lambda   🔰💢\n",
    "fib = lambda n : 1 if n <= 2 else fib(n-1) + fib(n-2)\n",
    "def fibList(n):\n",
    "    return [fib(i) for i in range(1, n +1)]\n",
    "\n",
    "fibList(1)\n",
    "\n",
    "# func = lambda x, y, z : ==> def func(x, y, z)  :: 🔰🌸 방식이 상이하다. 💢"
   ]
  }
 ],
 "metadata": {
  "kernelspec": {
   "display_name": "Python 3",
   "language": "python",
   "name": "python3"
  },
  "language_info": {
   "codemirror_mode": {
    "name": "ipython",
    "version": 3
   },
   "file_extension": ".py",
   "mimetype": "text/x-python",
   "name": "python",
   "nbconvert_exporter": "python",
   "pygments_lexer": "ipython3",
   "version": "3.10.6"
  },
  "orig_nbformat": 4
 },
 "nbformat": 4,
 "nbformat_minor": 2
}
